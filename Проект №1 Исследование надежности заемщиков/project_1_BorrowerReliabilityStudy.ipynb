{
 "cells": [
  {
   "cell_type": "markdown",
   "id": "c81daeeb",
   "metadata": {
    "deletable": false,
    "id": "c81daeeb"
   },
   "source": [
    "# Исследование надежности заемщиков\n"
   ]
  },
  {
   "cell_type": "markdown",
   "id": "744d7639",
   "metadata": {
    "deletable": false,
    "id": "744d7639"
   },
   "source": [
    "## Откройте таблицу и изучите общую информацию о данных"
   ]
  },
  {
   "cell_type": "markdown",
   "id": "e7a14c31",
   "metadata": {
    "deletable": false,
    "id": "e7a14c31"
   },
   "source": [
    "**Задание 1. Импортируйте библиотеку pandas. Считайте данные из csv-файла в датафрейм и сохраните в переменную `data`. Путь к файлу:**\n",
    "\n",
    "`/datasets/data.csv`"
   ]
  },
  {
   "cell_type": "code",
   "execution_count": 1,
   "id": "7bcf75c9",
   "metadata": {
    "deletable": false,
    "id": "7bcf75c9"
   },
   "outputs": [],
   "source": [
    "import pandas as pd\n",
    "\n",
    "try:\n",
    "    data = pd.read_csv('/datasets/data.csv')\n",
    "except:\n",
    "    data = pd.read_csv('https://code.s3.yandex.net/datasets/data.csv')"
   ]
  },
  {
   "cell_type": "markdown",
   "id": "b8038fe3",
   "metadata": {
    "deletable": false,
    "id": "b8038fe3"
   },
   "source": [
    "**Задание 2. Выведите первые 20 строчек датафрейма `data` на экран.**"
   ]
  },
  {
   "cell_type": "code",
   "execution_count": 2,
   "id": "2a7cab99",
   "metadata": {
    "deletable": false,
    "id": "2a7cab99",
    "outputId": "1a8f3ef2-d323-4ec2-ddf7-89670b5944c4"
   },
   "outputs": [
    {
     "data": {
      "text/html": [
       "<div>\n",
       "<style scoped>\n",
       "    .dataframe tbody tr th:only-of-type {\n",
       "        vertical-align: middle;\n",
       "    }\n",
       "\n",
       "    .dataframe tbody tr th {\n",
       "        vertical-align: top;\n",
       "    }\n",
       "\n",
       "    .dataframe thead th {\n",
       "        text-align: right;\n",
       "    }\n",
       "</style>\n",
       "<table border=\"1\" class=\"dataframe\">\n",
       "  <thead>\n",
       "    <tr style=\"text-align: right;\">\n",
       "      <th></th>\n",
       "      <th>children</th>\n",
       "      <th>days_employed</th>\n",
       "      <th>dob_years</th>\n",
       "      <th>education</th>\n",
       "      <th>education_id</th>\n",
       "      <th>family_status</th>\n",
       "      <th>family_status_id</th>\n",
       "      <th>gender</th>\n",
       "      <th>income_type</th>\n",
       "      <th>debt</th>\n",
       "      <th>total_income</th>\n",
       "      <th>purpose</th>\n",
       "    </tr>\n",
       "  </thead>\n",
       "  <tbody>\n",
       "    <tr>\n",
       "      <th>0</th>\n",
       "      <td>1</td>\n",
       "      <td>-8437.673028</td>\n",
       "      <td>42</td>\n",
       "      <td>высшее</td>\n",
       "      <td>0</td>\n",
       "      <td>женат / замужем</td>\n",
       "      <td>0</td>\n",
       "      <td>F</td>\n",
       "      <td>сотрудник</td>\n",
       "      <td>0</td>\n",
       "      <td>253875.639453</td>\n",
       "      <td>покупка жилья</td>\n",
       "    </tr>\n",
       "    <tr>\n",
       "      <th>1</th>\n",
       "      <td>1</td>\n",
       "      <td>-4024.803754</td>\n",
       "      <td>36</td>\n",
       "      <td>среднее</td>\n",
       "      <td>1</td>\n",
       "      <td>женат / замужем</td>\n",
       "      <td>0</td>\n",
       "      <td>F</td>\n",
       "      <td>сотрудник</td>\n",
       "      <td>0</td>\n",
       "      <td>112080.014102</td>\n",
       "      <td>приобретение автомобиля</td>\n",
       "    </tr>\n",
       "    <tr>\n",
       "      <th>2</th>\n",
       "      <td>0</td>\n",
       "      <td>-5623.422610</td>\n",
       "      <td>33</td>\n",
       "      <td>Среднее</td>\n",
       "      <td>1</td>\n",
       "      <td>женат / замужем</td>\n",
       "      <td>0</td>\n",
       "      <td>M</td>\n",
       "      <td>сотрудник</td>\n",
       "      <td>0</td>\n",
       "      <td>145885.952297</td>\n",
       "      <td>покупка жилья</td>\n",
       "    </tr>\n",
       "    <tr>\n",
       "      <th>3</th>\n",
       "      <td>3</td>\n",
       "      <td>-4124.747207</td>\n",
       "      <td>32</td>\n",
       "      <td>среднее</td>\n",
       "      <td>1</td>\n",
       "      <td>женат / замужем</td>\n",
       "      <td>0</td>\n",
       "      <td>M</td>\n",
       "      <td>сотрудник</td>\n",
       "      <td>0</td>\n",
       "      <td>267628.550329</td>\n",
       "      <td>дополнительное образование</td>\n",
       "    </tr>\n",
       "    <tr>\n",
       "      <th>4</th>\n",
       "      <td>0</td>\n",
       "      <td>340266.072047</td>\n",
       "      <td>53</td>\n",
       "      <td>среднее</td>\n",
       "      <td>1</td>\n",
       "      <td>гражданский брак</td>\n",
       "      <td>1</td>\n",
       "      <td>F</td>\n",
       "      <td>пенсионер</td>\n",
       "      <td>0</td>\n",
       "      <td>158616.077870</td>\n",
       "      <td>сыграть свадьбу</td>\n",
       "    </tr>\n",
       "    <tr>\n",
       "      <th>5</th>\n",
       "      <td>0</td>\n",
       "      <td>-926.185831</td>\n",
       "      <td>27</td>\n",
       "      <td>высшее</td>\n",
       "      <td>0</td>\n",
       "      <td>гражданский брак</td>\n",
       "      <td>1</td>\n",
       "      <td>M</td>\n",
       "      <td>компаньон</td>\n",
       "      <td>0</td>\n",
       "      <td>255763.565419</td>\n",
       "      <td>покупка жилья</td>\n",
       "    </tr>\n",
       "    <tr>\n",
       "      <th>6</th>\n",
       "      <td>0</td>\n",
       "      <td>-2879.202052</td>\n",
       "      <td>43</td>\n",
       "      <td>высшее</td>\n",
       "      <td>0</td>\n",
       "      <td>женат / замужем</td>\n",
       "      <td>0</td>\n",
       "      <td>F</td>\n",
       "      <td>компаньон</td>\n",
       "      <td>0</td>\n",
       "      <td>240525.971920</td>\n",
       "      <td>операции с жильем</td>\n",
       "    </tr>\n",
       "    <tr>\n",
       "      <th>7</th>\n",
       "      <td>0</td>\n",
       "      <td>-152.779569</td>\n",
       "      <td>50</td>\n",
       "      <td>СРЕДНЕЕ</td>\n",
       "      <td>1</td>\n",
       "      <td>женат / замужем</td>\n",
       "      <td>0</td>\n",
       "      <td>M</td>\n",
       "      <td>сотрудник</td>\n",
       "      <td>0</td>\n",
       "      <td>135823.934197</td>\n",
       "      <td>образование</td>\n",
       "    </tr>\n",
       "    <tr>\n",
       "      <th>8</th>\n",
       "      <td>2</td>\n",
       "      <td>-6929.865299</td>\n",
       "      <td>35</td>\n",
       "      <td>ВЫСШЕЕ</td>\n",
       "      <td>0</td>\n",
       "      <td>гражданский брак</td>\n",
       "      <td>1</td>\n",
       "      <td>F</td>\n",
       "      <td>сотрудник</td>\n",
       "      <td>0</td>\n",
       "      <td>95856.832424</td>\n",
       "      <td>на проведение свадьбы</td>\n",
       "    </tr>\n",
       "    <tr>\n",
       "      <th>9</th>\n",
       "      <td>0</td>\n",
       "      <td>-2188.756445</td>\n",
       "      <td>41</td>\n",
       "      <td>среднее</td>\n",
       "      <td>1</td>\n",
       "      <td>женат / замужем</td>\n",
       "      <td>0</td>\n",
       "      <td>M</td>\n",
       "      <td>сотрудник</td>\n",
       "      <td>0</td>\n",
       "      <td>144425.938277</td>\n",
       "      <td>покупка жилья для семьи</td>\n",
       "    </tr>\n",
       "    <tr>\n",
       "      <th>10</th>\n",
       "      <td>2</td>\n",
       "      <td>-4171.483647</td>\n",
       "      <td>36</td>\n",
       "      <td>высшее</td>\n",
       "      <td>0</td>\n",
       "      <td>женат / замужем</td>\n",
       "      <td>0</td>\n",
       "      <td>M</td>\n",
       "      <td>компаньон</td>\n",
       "      <td>0</td>\n",
       "      <td>113943.491460</td>\n",
       "      <td>покупка недвижимости</td>\n",
       "    </tr>\n",
       "    <tr>\n",
       "      <th>11</th>\n",
       "      <td>0</td>\n",
       "      <td>-792.701887</td>\n",
       "      <td>40</td>\n",
       "      <td>среднее</td>\n",
       "      <td>1</td>\n",
       "      <td>женат / замужем</td>\n",
       "      <td>0</td>\n",
       "      <td>F</td>\n",
       "      <td>сотрудник</td>\n",
       "      <td>0</td>\n",
       "      <td>77069.234271</td>\n",
       "      <td>покупка коммерческой недвижимости</td>\n",
       "    </tr>\n",
       "    <tr>\n",
       "      <th>12</th>\n",
       "      <td>0</td>\n",
       "      <td>NaN</td>\n",
       "      <td>65</td>\n",
       "      <td>среднее</td>\n",
       "      <td>1</td>\n",
       "      <td>гражданский брак</td>\n",
       "      <td>1</td>\n",
       "      <td>M</td>\n",
       "      <td>пенсионер</td>\n",
       "      <td>0</td>\n",
       "      <td>NaN</td>\n",
       "      <td>сыграть свадьбу</td>\n",
       "    </tr>\n",
       "    <tr>\n",
       "      <th>13</th>\n",
       "      <td>0</td>\n",
       "      <td>-1846.641941</td>\n",
       "      <td>54</td>\n",
       "      <td>неоконченное высшее</td>\n",
       "      <td>2</td>\n",
       "      <td>женат / замужем</td>\n",
       "      <td>0</td>\n",
       "      <td>F</td>\n",
       "      <td>сотрудник</td>\n",
       "      <td>0</td>\n",
       "      <td>130458.228857</td>\n",
       "      <td>приобретение автомобиля</td>\n",
       "    </tr>\n",
       "    <tr>\n",
       "      <th>14</th>\n",
       "      <td>0</td>\n",
       "      <td>-1844.956182</td>\n",
       "      <td>56</td>\n",
       "      <td>высшее</td>\n",
       "      <td>0</td>\n",
       "      <td>гражданский брак</td>\n",
       "      <td>1</td>\n",
       "      <td>F</td>\n",
       "      <td>компаньон</td>\n",
       "      <td>1</td>\n",
       "      <td>165127.911772</td>\n",
       "      <td>покупка жилой недвижимости</td>\n",
       "    </tr>\n",
       "    <tr>\n",
       "      <th>15</th>\n",
       "      <td>1</td>\n",
       "      <td>-972.364419</td>\n",
       "      <td>26</td>\n",
       "      <td>среднее</td>\n",
       "      <td>1</td>\n",
       "      <td>женат / замужем</td>\n",
       "      <td>0</td>\n",
       "      <td>F</td>\n",
       "      <td>сотрудник</td>\n",
       "      <td>0</td>\n",
       "      <td>116820.904450</td>\n",
       "      <td>строительство собственной недвижимости</td>\n",
       "    </tr>\n",
       "    <tr>\n",
       "      <th>16</th>\n",
       "      <td>0</td>\n",
       "      <td>-1719.934226</td>\n",
       "      <td>35</td>\n",
       "      <td>среднее</td>\n",
       "      <td>1</td>\n",
       "      <td>женат / замужем</td>\n",
       "      <td>0</td>\n",
       "      <td>F</td>\n",
       "      <td>сотрудник</td>\n",
       "      <td>0</td>\n",
       "      <td>289202.704229</td>\n",
       "      <td>недвижимость</td>\n",
       "    </tr>\n",
       "    <tr>\n",
       "      <th>17</th>\n",
       "      <td>0</td>\n",
       "      <td>-2369.999720</td>\n",
       "      <td>33</td>\n",
       "      <td>высшее</td>\n",
       "      <td>0</td>\n",
       "      <td>гражданский брак</td>\n",
       "      <td>1</td>\n",
       "      <td>M</td>\n",
       "      <td>сотрудник</td>\n",
       "      <td>0</td>\n",
       "      <td>90410.586745</td>\n",
       "      <td>строительство недвижимости</td>\n",
       "    </tr>\n",
       "    <tr>\n",
       "      <th>18</th>\n",
       "      <td>0</td>\n",
       "      <td>400281.136913</td>\n",
       "      <td>53</td>\n",
       "      <td>среднее</td>\n",
       "      <td>1</td>\n",
       "      <td>вдовец / вдова</td>\n",
       "      <td>2</td>\n",
       "      <td>F</td>\n",
       "      <td>пенсионер</td>\n",
       "      <td>0</td>\n",
       "      <td>56823.777243</td>\n",
       "      <td>на покупку подержанного автомобиля</td>\n",
       "    </tr>\n",
       "    <tr>\n",
       "      <th>19</th>\n",
       "      <td>0</td>\n",
       "      <td>-10038.818549</td>\n",
       "      <td>48</td>\n",
       "      <td>СРЕДНЕЕ</td>\n",
       "      <td>1</td>\n",
       "      <td>в разводе</td>\n",
       "      <td>3</td>\n",
       "      <td>F</td>\n",
       "      <td>сотрудник</td>\n",
       "      <td>0</td>\n",
       "      <td>242831.107982</td>\n",
       "      <td>на покупку своего автомобиля</td>\n",
       "    </tr>\n",
       "  </tbody>\n",
       "</table>\n",
       "</div>"
      ],
      "text/plain": [
       "    children  days_employed  dob_years            education  education_id  \\\n",
       "0          1   -8437.673028         42               высшее             0   \n",
       "1          1   -4024.803754         36              среднее             1   \n",
       "2          0   -5623.422610         33              Среднее             1   \n",
       "3          3   -4124.747207         32              среднее             1   \n",
       "4          0  340266.072047         53              среднее             1   \n",
       "5          0    -926.185831         27               высшее             0   \n",
       "6          0   -2879.202052         43               высшее             0   \n",
       "7          0    -152.779569         50              СРЕДНЕЕ             1   \n",
       "8          2   -6929.865299         35               ВЫСШЕЕ             0   \n",
       "9          0   -2188.756445         41              среднее             1   \n",
       "10         2   -4171.483647         36               высшее             0   \n",
       "11         0    -792.701887         40              среднее             1   \n",
       "12         0            NaN         65              среднее             1   \n",
       "13         0   -1846.641941         54  неоконченное высшее             2   \n",
       "14         0   -1844.956182         56               высшее             0   \n",
       "15         1    -972.364419         26              среднее             1   \n",
       "16         0   -1719.934226         35              среднее             1   \n",
       "17         0   -2369.999720         33               высшее             0   \n",
       "18         0  400281.136913         53              среднее             1   \n",
       "19         0  -10038.818549         48              СРЕДНЕЕ             1   \n",
       "\n",
       "       family_status  family_status_id gender income_type  debt  \\\n",
       "0    женат / замужем                 0      F   сотрудник     0   \n",
       "1    женат / замужем                 0      F   сотрудник     0   \n",
       "2    женат / замужем                 0      M   сотрудник     0   \n",
       "3    женат / замужем                 0      M   сотрудник     0   \n",
       "4   гражданский брак                 1      F   пенсионер     0   \n",
       "5   гражданский брак                 1      M   компаньон     0   \n",
       "6    женат / замужем                 0      F   компаньон     0   \n",
       "7    женат / замужем                 0      M   сотрудник     0   \n",
       "8   гражданский брак                 1      F   сотрудник     0   \n",
       "9    женат / замужем                 0      M   сотрудник     0   \n",
       "10   женат / замужем                 0      M   компаньон     0   \n",
       "11   женат / замужем                 0      F   сотрудник     0   \n",
       "12  гражданский брак                 1      M   пенсионер     0   \n",
       "13   женат / замужем                 0      F   сотрудник     0   \n",
       "14  гражданский брак                 1      F   компаньон     1   \n",
       "15   женат / замужем                 0      F   сотрудник     0   \n",
       "16   женат / замужем                 0      F   сотрудник     0   \n",
       "17  гражданский брак                 1      M   сотрудник     0   \n",
       "18    вдовец / вдова                 2      F   пенсионер     0   \n",
       "19         в разводе                 3      F   сотрудник     0   \n",
       "\n",
       "     total_income                                 purpose  \n",
       "0   253875.639453                           покупка жилья  \n",
       "1   112080.014102                 приобретение автомобиля  \n",
       "2   145885.952297                           покупка жилья  \n",
       "3   267628.550329              дополнительное образование  \n",
       "4   158616.077870                         сыграть свадьбу  \n",
       "5   255763.565419                           покупка жилья  \n",
       "6   240525.971920                       операции с жильем  \n",
       "7   135823.934197                             образование  \n",
       "8    95856.832424                   на проведение свадьбы  \n",
       "9   144425.938277                 покупка жилья для семьи  \n",
       "10  113943.491460                    покупка недвижимости  \n",
       "11   77069.234271       покупка коммерческой недвижимости  \n",
       "12            NaN                         сыграть свадьбу  \n",
       "13  130458.228857                 приобретение автомобиля  \n",
       "14  165127.911772              покупка жилой недвижимости  \n",
       "15  116820.904450  строительство собственной недвижимости  \n",
       "16  289202.704229                            недвижимость  \n",
       "17   90410.586745              строительство недвижимости  \n",
       "18   56823.777243      на покупку подержанного автомобиля  \n",
       "19  242831.107982            на покупку своего автомобиля  "
      ]
     },
     "execution_count": 2,
     "metadata": {},
     "output_type": "execute_result"
    }
   ],
   "source": [
    "data.head(20)"
   ]
  },
  {
   "cell_type": "markdown",
   "id": "1c12e233",
   "metadata": {
    "deletable": false,
    "id": "1c12e233"
   },
   "source": [
    "**Задание 3. Выведите основную информацию о датафрейме с помощью метода `info()`.**"
   ]
  },
  {
   "cell_type": "code",
   "execution_count": 3,
   "id": "2b757bca",
   "metadata": {
    "deletable": false,
    "id": "2b757bca",
    "outputId": "15376089-8dad-46c9-b520-c05248d43158"
   },
   "outputs": [
    {
     "name": "stdout",
     "output_type": "stream",
     "text": [
      "<class 'pandas.core.frame.DataFrame'>\n",
      "RangeIndex: 21525 entries, 0 to 21524\n",
      "Data columns (total 12 columns):\n",
      " #   Column            Non-Null Count  Dtype  \n",
      "---  ------            --------------  -----  \n",
      " 0   children          21525 non-null  int64  \n",
      " 1   days_employed     19351 non-null  float64\n",
      " 2   dob_years         21525 non-null  int64  \n",
      " 3   education         21525 non-null  object \n",
      " 4   education_id      21525 non-null  int64  \n",
      " 5   family_status     21525 non-null  object \n",
      " 6   family_status_id  21525 non-null  int64  \n",
      " 7   gender            21525 non-null  object \n",
      " 8   income_type       21525 non-null  object \n",
      " 9   debt              21525 non-null  int64  \n",
      " 10  total_income      19351 non-null  float64\n",
      " 11  purpose           21525 non-null  object \n",
      "dtypes: float64(2), int64(5), object(5)\n",
      "memory usage: 2.0+ MB\n"
     ]
    }
   ],
   "source": [
    "data.info()"
   ]
  },
  {
   "cell_type": "markdown",
   "id": "333ec665",
   "metadata": {
    "deletable": false,
    "id": "333ec665"
   },
   "source": [
    "## Предобработка данных"
   ]
  },
  {
   "cell_type": "markdown",
   "id": "02d92d53",
   "metadata": {
    "deletable": false,
    "id": "02d92d53"
   },
   "source": [
    "### Удаление пропусков"
   ]
  },
  {
   "cell_type": "markdown",
   "id": "cd84967c",
   "metadata": {
    "deletable": false,
    "id": "cd84967c"
   },
   "source": [
    "**Задание 4. Выведите количество пропущенных значений для каждого столбца. Используйте комбинацию двух методов.**"
   ]
  },
  {
   "cell_type": "code",
   "execution_count": 4,
   "id": "7f9b2309",
   "metadata": {
    "deletable": false,
    "id": "7f9b2309",
    "outputId": "81f4d817-781c-465c-ed15-91ce4446810d"
   },
   "outputs": [
    {
     "data": {
      "text/plain": [
       "children               0\n",
       "days_employed       2174\n",
       "dob_years              0\n",
       "education              0\n",
       "education_id           0\n",
       "family_status          0\n",
       "family_status_id       0\n",
       "gender                 0\n",
       "income_type            0\n",
       "debt                   0\n",
       "total_income        2174\n",
       "purpose                0\n",
       "dtype: int64"
      ]
     },
     "execution_count": 4,
     "metadata": {},
     "output_type": "execute_result"
    }
   ],
   "source": [
    "data.isna().sum()"
   ]
  },
  {
   "cell_type": "markdown",
   "id": "db86e27b",
   "metadata": {
    "deletable": false,
    "id": "db86e27b"
   },
   "source": [
    "**Задание 5. В двух столбцах есть пропущенные значения. Один из них — `days_employed`. Пропуски в этом столбце вы обработаете на следующем этапе. Другой столбец с пропущенными значениями — `total_income` — хранит данные о доходах. На сумму дохода сильнее всего влияет тип занятости, поэтому заполнить пропуски в этом столбце нужно медианным значением по каждому типу из столбца `income_type`. Например, у человека с типом занятости `сотрудник` пропуск в столбце `total_income` должен быть заполнен медианным доходом среди всех записей с тем же типом.**"
   ]
  },
  {
   "cell_type": "code",
   "execution_count": 5,
   "id": "42006a93",
   "metadata": {
    "deletable": false,
    "id": "42006a93"
   },
   "outputs": [],
   "source": [
    "for t in data['income_type'].unique():\n",
    "    data.loc[(data['income_type'] == t) & (data['total_income'].isna()), 'total_income'] = \\\n",
    "    data.loc[(data['income_type'] == t), 'total_income'].median()"
   ]
  },
  {
   "cell_type": "markdown",
   "id": "89da5ece",
   "metadata": {
    "deletable": false,
    "id": "89da5ece"
   },
   "source": [
    "### Обработка аномальных значений"
   ]
  },
  {
   "cell_type": "markdown",
   "id": "57964554",
   "metadata": {
    "deletable": false,
    "id": "57964554"
   },
   "source": [
    "**Задание 6. В данных могут встречаться артефакты (аномалии) — значения, которые не отражают действительность и появились по какой-то ошибке. таким артефактом будет отрицательное количество дней трудового стажа в столбце `days_employed`. Для реальных данных это нормально. Обработайте значения в этом столбце: замените все отрицательные значения положительными с помощью метода `abs()`.**"
   ]
  },
  {
   "cell_type": "code",
   "execution_count": 6,
   "id": "f6f055bf",
   "metadata": {
    "deletable": false,
    "id": "f6f055bf"
   },
   "outputs": [],
   "source": [
    "data['days_employed'] = data['days_employed'].abs()"
   ]
  },
  {
   "cell_type": "markdown",
   "id": "6107dd2f",
   "metadata": {
    "deletable": false,
    "id": "6107dd2f"
   },
   "source": [
    "**Задание 7. Для каждого типа занятости выведите медианное значение трудового стажа `days_employed` в днях.**"
   ]
  },
  {
   "cell_type": "code",
   "execution_count": 7,
   "id": "85a5faf6",
   "metadata": {
    "deletable": false,
    "id": "85a5faf6",
    "outputId": "801ef80e-522b-4668-f34e-565af7432bcf"
   },
   "outputs": [
    {
     "data": {
      "text/plain": [
       "income_type\n",
       "безработный        366413.652744\n",
       "в декрете            3296.759962\n",
       "госслужащий          2689.368353\n",
       "компаньон            1547.382223\n",
       "пенсионер          365213.306266\n",
       "предприниматель       520.848083\n",
       "сотрудник            1574.202821\n",
       "студент               578.751554\n",
       "Name: days_employed, dtype: float64"
      ]
     },
     "execution_count": 7,
     "metadata": {},
     "output_type": "execute_result"
    }
   ],
   "source": [
    "data.groupby('income_type')['days_employed'].agg('median')"
   ]
  },
  {
   "cell_type": "markdown",
   "id": "38d1a030",
   "metadata": {
    "deletable": false,
    "id": "38d1a030"
   },
   "source": [
    "У двух типов (безработные и пенсионеры) получатся аномально большие значения. Исправить такие значения сложно, поэтому оставьте их как есть. Тем более этот столбец не понадобится вам для исследования."
   ]
  },
  {
   "cell_type": "markdown",
   "id": "d8a9f147",
   "metadata": {
    "deletable": false,
    "id": "d8a9f147"
   },
   "source": [
    "**Задание 8. Выведите перечень уникальных значений столбца `children`.**"
   ]
  },
  {
   "cell_type": "code",
   "execution_count": 8,
   "id": "ef5056eb",
   "metadata": {
    "deletable": false,
    "id": "ef5056eb",
    "outputId": "6975b15c-7f95-4697-d16d-a0c79b657b03"
   },
   "outputs": [
    {
     "data": {
      "text/plain": [
       "array([ 1,  0,  3,  2, -1,  4, 20,  5])"
      ]
     },
     "execution_count": 8,
     "metadata": {},
     "output_type": "execute_result"
    }
   ],
   "source": [
    "data['children'].unique()"
   ]
  },
  {
   "cell_type": "markdown",
   "id": "40b9ebf2",
   "metadata": {
    "deletable": false,
    "id": "40b9ebf2"
   },
   "source": [
    "**Задание 9. В столбце `children` есть два аномальных значения. Удалите строки, в которых встречаются такие аномальные значения из датафрейма `data`.**"
   ]
  },
  {
   "cell_type": "code",
   "execution_count": 9,
   "id": "3ff9801d",
   "metadata": {
    "deletable": false,
    "id": "3ff9801d"
   },
   "outputs": [],
   "source": [
    "data = data[(data['children'] != -1) & (data['children'] != 20)]"
   ]
  },
  {
   "cell_type": "markdown",
   "id": "bbc4d0ce",
   "metadata": {
    "deletable": false,
    "id": "bbc4d0ce"
   },
   "source": [
    "**Задание 10. Ещё раз выведите перечень уникальных значений столбца `children`, чтобы убедиться, что артефакты удалены.**"
   ]
  },
  {
   "cell_type": "code",
   "execution_count": 10,
   "id": "ad4fa8b7",
   "metadata": {
    "deletable": false,
    "id": "ad4fa8b7",
    "outputId": "b2097101-d49d-44d9-901b-32a65c9463d1"
   },
   "outputs": [
    {
     "data": {
      "text/plain": [
       "array([1, 0, 3, 2, 4, 5])"
      ]
     },
     "execution_count": 10,
     "metadata": {},
     "output_type": "execute_result"
    }
   ],
   "source": [
    "data['children'].unique()"
   ]
  },
  {
   "cell_type": "markdown",
   "id": "75440b63",
   "metadata": {
    "deletable": false,
    "id": "75440b63"
   },
   "source": [
    "### Удаление пропусков (продолжение)"
   ]
  },
  {
   "cell_type": "markdown",
   "id": "f4ea573f",
   "metadata": {
    "deletable": false,
    "id": "f4ea573f"
   },
   "source": [
    "**Задание 11. Заполните пропуски в столбце `days_employed` медианными значениями по каждого типа занятости `income_type`.**"
   ]
  },
  {
   "cell_type": "code",
   "execution_count": 11,
   "id": "af6b1a7e",
   "metadata": {
    "deletable": false,
    "id": "af6b1a7e"
   },
   "outputs": [],
   "source": [
    "for t in data['income_type'].unique():\n",
    "    data.loc[(data['income_type'] == t) & (data['days_employed'].isna()), 'days_employed'] = \\\n",
    "    data.loc[(data['income_type'] == t), 'days_employed'].median()"
   ]
  },
  {
   "cell_type": "markdown",
   "id": "2753f40d",
   "metadata": {
    "deletable": false,
    "id": "2753f40d"
   },
   "source": [
    "**Задание 12. Убедитесь, что все пропуски заполнены. Проверьте себя и ещё раз выведите количество пропущенных значений для каждого столбца с помощью двух методов.**"
   ]
  },
  {
   "cell_type": "code",
   "execution_count": 12,
   "id": "55f78bc2",
   "metadata": {
    "deletable": false,
    "id": "55f78bc2",
    "outputId": "8da1e4e1-358e-4e87-98c9-f261bce0a7b2"
   },
   "outputs": [
    {
     "data": {
      "text/plain": [
       "children            0\n",
       "days_employed       0\n",
       "dob_years           0\n",
       "education           0\n",
       "education_id        0\n",
       "family_status       0\n",
       "family_status_id    0\n",
       "gender              0\n",
       "income_type         0\n",
       "debt                0\n",
       "total_income        0\n",
       "purpose             0\n",
       "dtype: int64"
      ]
     },
     "execution_count": 12,
     "metadata": {},
     "output_type": "execute_result"
    }
   ],
   "source": [
    "data.isna().sum()"
   ]
  },
  {
   "cell_type": "markdown",
   "id": "ddc81e43",
   "metadata": {
    "deletable": false,
    "id": "ddc81e43"
   },
   "source": [
    "### Изменение типов данных"
   ]
  },
  {
   "cell_type": "markdown",
   "id": "42d19d24",
   "metadata": {
    "deletable": false,
    "id": "42d19d24"
   },
   "source": [
    "**Задание 13. Замените вещественный тип данных в столбце `total_income` на целочисленный с помощью метода `astype()`.**"
   ]
  },
  {
   "cell_type": "code",
   "execution_count": 13,
   "id": "920b65ad",
   "metadata": {
    "deletable": false,
    "id": "920b65ad"
   },
   "outputs": [],
   "source": [
    "data['total_income'] = data['total_income'].astype(int)"
   ]
  },
  {
   "cell_type": "markdown",
   "id": "80c420ba",
   "metadata": {
    "deletable": false,
    "id": "80c420ba"
   },
   "source": [
    "### Обработка дубликатов"
   ]
  },
  {
   "cell_type": "markdown",
   "id": "dc587695",
   "metadata": {
    "deletable": false,
    "id": "dc587695"
   },
   "source": [
    "**Задание 14. Выведите на экран количество строк-дубликатов в данных. Если такие строки присутствуют, удалите их.**"
   ]
  },
  {
   "cell_type": "code",
   "execution_count": 14,
   "id": "3ee445e4",
   "metadata": {
    "deletable": false,
    "id": "3ee445e4",
    "outputId": "9684deba-1934-42d1-99e1-cda61740f822"
   },
   "outputs": [
    {
     "data": {
      "text/plain": [
       "54"
      ]
     },
     "execution_count": 14,
     "metadata": {},
     "output_type": "execute_result"
    }
   ],
   "source": [
    "data.duplicated().sum()"
   ]
  },
  {
   "cell_type": "code",
   "execution_count": 15,
   "id": "8575fe05",
   "metadata": {
    "deletable": false,
    "id": "8575fe05"
   },
   "outputs": [],
   "source": [
    "data = data.drop_duplicates()"
   ]
  },
  {
   "cell_type": "markdown",
   "id": "9771a76c",
   "metadata": {
    "deletable": false,
    "id": "9771a76c"
   },
   "source": [
    "**Задание 15. Обработайте неявные дубликаты в столбце `education`. В этом столбце есть одни и те же значения, но записанные по-разному: с использованием заглавных и строчных букв. Приведите их к нижнему регистру. Проверьте остальные столбцы.**"
   ]
  },
  {
   "cell_type": "code",
   "execution_count": 16,
   "id": "a9f8e2bf",
   "metadata": {
    "deletable": false,
    "id": "a9f8e2bf"
   },
   "outputs": [],
   "source": [
    "data['education'] = data['education'].str.lower()"
   ]
  },
  {
   "cell_type": "markdown",
   "id": "9904cf55",
   "metadata": {
    "deletable": false,
    "id": "9904cf55"
   },
   "source": [
    "### Категоризация данных"
   ]
  },
  {
   "cell_type": "markdown",
   "id": "72fcc8a2",
   "metadata": {
    "deletable": false,
    "id": "72fcc8a2"
   },
   "source": [
    "**Задание 16. На основании диапазонов, указанных ниже, создайте в датафрейме `data` столбец `total_income_category` с категориями:**\n",
    "\n",
    "- 0–30000 — `'E'`;\n",
    "- 30001–50000 — `'D'`;\n",
    "- 50001–200000 — `'C'`;\n",
    "- 200001–1000000 — `'B'`;\n",
    "- 1000001 и выше — `'A'`.\n",
    "\n",
    "\n",
    "**Например, кредитополучателю с доходом 25000 нужно назначить категорию `'E'`, а клиенту, получающему 235000, — `'B'`. Используйте собственную функцию с именем `categorize_income()` и метод `apply()`.**"
   ]
  },
  {
   "cell_type": "code",
   "execution_count": 17,
   "id": "e1771346",
   "metadata": {
    "deletable": false,
    "id": "e1771346"
   },
   "outputs": [],
   "source": [
    "def categorize_income(income):\n",
    "    try:\n",
    "        if 0 <= income <= 30000:\n",
    "            return 'E'\n",
    "        elif 30001 <= income <= 50000:\n",
    "            return 'D'\n",
    "        elif 50001 <= income <= 200000:\n",
    "            return 'C'\n",
    "        elif 200001 <= income <= 1000000:\n",
    "            return 'B'\n",
    "        elif income >= 1000001:\n",
    "            return 'A'\n",
    "    except:\n",
    "        pass"
   ]
  },
  {
   "cell_type": "code",
   "execution_count": 18,
   "id": "d5f3586d",
   "metadata": {
    "deletable": false,
    "id": "d5f3586d"
   },
   "outputs": [],
   "source": [
    "data['total_income_category'] = data['total_income'].apply(categorize_income)"
   ]
  },
  {
   "cell_type": "markdown",
   "id": "dde49b5c",
   "metadata": {
    "deletable": false,
    "id": "dde49b5c"
   },
   "source": [
    "**Задание 17. Выведите на экран перечень уникальных целей взятия кредита из столбца `purpose`.**"
   ]
  },
  {
   "cell_type": "code",
   "execution_count": 19,
   "id": "f67ce9b3",
   "metadata": {
    "deletable": false,
    "id": "f67ce9b3",
    "outputId": "673c12d9-7d7e-4ae0-9812-c622c89dd244"
   },
   "outputs": [
    {
     "data": {
      "text/plain": [
       "array(['покупка жилья', 'приобретение автомобиля',\n",
       "       'дополнительное образование', 'сыграть свадьбу',\n",
       "       'операции с жильем', 'образование', 'на проведение свадьбы',\n",
       "       'покупка жилья для семьи', 'покупка недвижимости',\n",
       "       'покупка коммерческой недвижимости', 'покупка жилой недвижимости',\n",
       "       'строительство собственной недвижимости', 'недвижимость',\n",
       "       'строительство недвижимости', 'на покупку подержанного автомобиля',\n",
       "       'на покупку своего автомобиля',\n",
       "       'операции с коммерческой недвижимостью',\n",
       "       'строительство жилой недвижимости', 'жилье',\n",
       "       'операции со своей недвижимостью', 'автомобили',\n",
       "       'заняться образованием', 'сделка с подержанным автомобилем',\n",
       "       'получение образования', 'автомобиль', 'свадьба',\n",
       "       'получение дополнительного образования', 'покупка своего жилья',\n",
       "       'операции с недвижимостью', 'получение высшего образования',\n",
       "       'свой автомобиль', 'сделка с автомобилем',\n",
       "       'профильное образование', 'высшее образование',\n",
       "       'покупка жилья для сдачи', 'на покупку автомобиля', 'ремонт жилью',\n",
       "       'заняться высшим образованием'], dtype=object)"
      ]
     },
     "execution_count": 19,
     "metadata": {},
     "output_type": "execute_result"
    }
   ],
   "source": [
    "data['purpose'].unique()"
   ]
  },
  {
   "cell_type": "markdown",
   "id": "85d0aef0",
   "metadata": {
    "deletable": false,
    "id": "85d0aef0"
   },
   "source": [
    "**Задание 18. Создайте функцию, которая на основании данных из столбца `purpose` сформирует новый столбец `purpose_category`, в который войдут следующие категории:**\n",
    "\n",
    "- `'операции с автомобилем'`,\n",
    "- `'операции с недвижимостью'`,\n",
    "- `'проведение свадьбы'`,\n",
    "- `'получение образования'`.\n",
    "\n",
    "**Например, если в столбце `purpose` находится подстрока `'на покупку автомобиля'`, то в столбце `purpose_category` должна появиться строка `'операции с автомобилем'`.**\n",
    "\n",
    "**Используйте собственную функцию с именем `categorize_purpose()` и метод `apply()`. Изучите данные в столбце `purpose` и определите, какие подстроки помогут вам правильно определить категорию.**"
   ]
  },
  {
   "cell_type": "code",
   "execution_count": 20,
   "id": "e149fab4",
   "metadata": {
    "deletable": false,
    "id": "e149fab4"
   },
   "outputs": [],
   "source": [
    "def categorize_purpose(row):\n",
    "    try:\n",
    "        if 'автом' in row:\n",
    "            return 'операции с автомобилем'\n",
    "        elif 'жил' in row or 'недвиж' in row:\n",
    "            return 'операции с недвижимостью'\n",
    "        elif 'свад' in row:\n",
    "            return 'проведение свадьбы'\n",
    "        elif 'образов' in row:\n",
    "            return 'получение образования'\n",
    "    except:\n",
    "        return 'нет категории'"
   ]
  },
  {
   "cell_type": "code",
   "execution_count": 21,
   "id": "bf36e69b",
   "metadata": {
    "deletable": false,
    "id": "bf36e69b"
   },
   "outputs": [],
   "source": [
    "data['purpose_category'] = data['purpose'].apply(categorize_purpose)"
   ]
  },
  {
   "cell_type": "markdown",
   "id": "09b242bf",
   "metadata": {
    "deletable": false,
    "editable": false,
    "id": "09b242bf"
   },
   "source": [
    "## Исследуйте данные и ответьте на вопросы"
   ]
  },
  {
   "cell_type": "markdown",
   "id": "c5d66278",
   "metadata": {
    "deletable": false,
    "editable": false,
    "id": "c5d66278"
   },
   "source": [
    "**Задание 19. Есть ли зависимость между количеством детей и возвратом кредита в срок?**"
   ]
  },
  {
   "cell_type": "code",
   "execution_count": 22,
   "id": "2cacfc4a",
   "metadata": {
    "id": "2cacfc4a",
    "scrolled": true
   },
   "outputs": [
    {
     "data": {
      "text/plain": [
       "нет детей            14107\n",
       "малодетная семья      6861\n",
       "многодетная семья      380\n",
       "Name: family_child_category, dtype: int64"
      ]
     },
     "execution_count": 22,
     "metadata": {},
     "output_type": "execute_result"
    }
   ],
   "source": [
    "#создадим функцию которая на основании данных столбца children сформирует новый столбец \n",
    "#с категориями по количеству детей в семье.\n",
    "\n",
    "def children_group(amount):\n",
    "    try:    \n",
    "        if amount == 0:\n",
    "            return 'нет детей'\n",
    "        elif amount <= 2:\n",
    "            return 'малодетная семья'\n",
    "        return 'многодетная семья' \n",
    "    except:\n",
    "        return 'нет категории'\n",
    "data['family_child_category'] = data['children'].apply(children_group) \n",
    "\n",
    "#выведем статистику по количеству детей в семье\n",
    " \n",
    "data['family_child_category'].value_counts() "
   ]
  },
  {
   "cell_type": "code",
   "execution_count": 23,
   "id": "ff80aad3",
   "metadata": {},
   "outputs": [
    {
     "data": {
      "text/plain": [
       "family_child_category\n",
       "малодетная семья      638\n",
       "многодетная семья      31\n",
       "нет детей            1063\n",
       "Name: debt, dtype: int64"
      ]
     },
     "execution_count": 23,
     "metadata": {},
     "output_type": "execute_result"
    }
   ],
   "source": [
    "#посчитаем количество семей имевших задолженность по возврату кредита, \n",
    "#исходя из количества детей в семье\n",
    "\n",
    "data.groupby('family_child_category')['debt'].sum() "
   ]
  },
  {
   "cell_type": "code",
   "execution_count": 24,
   "id": "b96b6a2a",
   "metadata": {},
   "outputs": [
    {
     "data": {
      "text/html": [
       "<div>\n",
       "<style scoped>\n",
       "    .dataframe tbody tr th:only-of-type {\n",
       "        vertical-align: middle;\n",
       "    }\n",
       "\n",
       "    .dataframe tbody tr th {\n",
       "        vertical-align: top;\n",
       "    }\n",
       "\n",
       "    .dataframe thead tr th {\n",
       "        text-align: left;\n",
       "    }\n",
       "\n",
       "    .dataframe thead tr:last-of-type th {\n",
       "        text-align: right;\n",
       "    }\n",
       "</style>\n",
       "<table border=\"1\" class=\"dataframe\">\n",
       "  <thead>\n",
       "    <tr>\n",
       "      <th></th>\n",
       "      <th>sum</th>\n",
       "      <th>count</th>\n",
       "      <th>share</th>\n",
       "    </tr>\n",
       "    <tr>\n",
       "      <th></th>\n",
       "      <th>debt</th>\n",
       "      <th>debt</th>\n",
       "      <th></th>\n",
       "    </tr>\n",
       "    <tr>\n",
       "      <th>family_child_category</th>\n",
       "      <th></th>\n",
       "      <th></th>\n",
       "      <th></th>\n",
       "    </tr>\n",
       "  </thead>\n",
       "  <tbody>\n",
       "    <tr>\n",
       "      <th>малодетная семья</th>\n",
       "      <td>638</td>\n",
       "      <td>6861</td>\n",
       "      <td>9.298936</td>\n",
       "    </tr>\n",
       "    <tr>\n",
       "      <th>многодетная семья</th>\n",
       "      <td>31</td>\n",
       "      <td>380</td>\n",
       "      <td>8.157895</td>\n",
       "    </tr>\n",
       "    <tr>\n",
       "      <th>нет детей</th>\n",
       "      <td>1063</td>\n",
       "      <td>14107</td>\n",
       "      <td>7.535266</td>\n",
       "    </tr>\n",
       "  </tbody>\n",
       "</table>\n",
       "</div>"
      ],
      "text/plain": [
       "                        sum  count     share\n",
       "                       debt   debt          \n",
       "family_child_category                       \n",
       "малодетная семья        638   6861  9.298936\n",
       "многодетная семья        31    380  8.157895\n",
       "нет детей              1063  14107  7.535266"
      ]
     },
     "execution_count": 24,
     "metadata": {},
     "output_type": "execute_result"
    }
   ],
   "source": [
    "#сгруппируем столбец с категориями по количеству детей и столбец возврата кредита в срок\n",
    "\n",
    "data_group = data.pivot_table(index='family_child_category', values='debt', aggfunc=['sum', 'count'])\n",
    "\n",
    "#посчитаем долю должников по количеству детей в семье\n",
    "\n",
    "data_group['share'] = data_group['sum'] / data_group['count'] * 100 \n",
    "data_group"
   ]
  },
  {
   "cell_type": "markdown",
   "id": "3a6b99ec",
   "metadata": {
    "deletable": false,
    "id": "3a6b99ec"
   },
   "source": [
    "**Вывод:** На основании результатов можем сделать вывод: зависимость между количеством детей и возвратом кредита в срок имеется, семьи у которых 1-2 ребенка чаще не вохвращают средства в утановленный срок."
   ]
  },
  {
   "cell_type": "markdown",
   "id": "97be82ca",
   "metadata": {
    "deletable": false,
    "editable": false,
    "id": "97be82ca"
   },
   "source": [
    "**Задание 20. Есть ли зависимость между семейным положением и возвратом кредита в срок?**"
   ]
  },
  {
   "cell_type": "code",
   "execution_count": 25,
   "id": "dc3f7ee8",
   "metadata": {
    "id": "dc3f7ee8"
   },
   "outputs": [
    {
     "data": {
      "text/html": [
       "<div>\n",
       "<style scoped>\n",
       "    .dataframe tbody tr th:only-of-type {\n",
       "        vertical-align: middle;\n",
       "    }\n",
       "\n",
       "    .dataframe tbody tr th {\n",
       "        vertical-align: top;\n",
       "    }\n",
       "\n",
       "    .dataframe thead tr th {\n",
       "        text-align: left;\n",
       "    }\n",
       "\n",
       "    .dataframe thead tr:last-of-type th {\n",
       "        text-align: right;\n",
       "    }\n",
       "</style>\n",
       "<table border=\"1\" class=\"dataframe\">\n",
       "  <thead>\n",
       "    <tr>\n",
       "      <th></th>\n",
       "      <th>sum</th>\n",
       "      <th>count</th>\n",
       "      <th>share_debt</th>\n",
       "    </tr>\n",
       "    <tr>\n",
       "      <th></th>\n",
       "      <th>debt</th>\n",
       "      <th>debt</th>\n",
       "      <th></th>\n",
       "    </tr>\n",
       "    <tr>\n",
       "      <th>family_status</th>\n",
       "      <th></th>\n",
       "      <th></th>\n",
       "      <th></th>\n",
       "    </tr>\n",
       "  </thead>\n",
       "  <tbody>\n",
       "    <tr>\n",
       "      <th>Не женат / не замужем</th>\n",
       "      <td>273</td>\n",
       "      <td>2796</td>\n",
       "      <td>9.763948</td>\n",
       "    </tr>\n",
       "    <tr>\n",
       "      <th>в разводе</th>\n",
       "      <td>84</td>\n",
       "      <td>1189</td>\n",
       "      <td>7.064760</td>\n",
       "    </tr>\n",
       "    <tr>\n",
       "      <th>вдовец / вдова</th>\n",
       "      <td>63</td>\n",
       "      <td>951</td>\n",
       "      <td>6.624606</td>\n",
       "    </tr>\n",
       "    <tr>\n",
       "      <th>гражданский брак</th>\n",
       "      <td>385</td>\n",
       "      <td>4146</td>\n",
       "      <td>9.286059</td>\n",
       "    </tr>\n",
       "    <tr>\n",
       "      <th>женат / замужем</th>\n",
       "      <td>927</td>\n",
       "      <td>12266</td>\n",
       "      <td>7.557476</td>\n",
       "    </tr>\n",
       "  </tbody>\n",
       "</table>\n",
       "</div>"
      ],
      "text/plain": [
       "                       sum  count share_debt\n",
       "                      debt   debt           \n",
       "family_status                               \n",
       "Не женат / не замужем  273   2796   9.763948\n",
       "в разводе               84   1189   7.064760\n",
       "вдовец / вдова          63    951   6.624606\n",
       "гражданский брак       385   4146   9.286059\n",
       "женат / замужем        927  12266   7.557476"
      ]
     },
     "execution_count": 25,
     "metadata": {},
     "output_type": "execute_result"
    }
   ],
   "source": [
    "#сгруппируем данные по семейному положению и столбцом возврата кредита в срок \n",
    "#посчитаем количество должников и общее количество кредиторов в категориях по семейному статусу\n",
    "\n",
    "data_group_1 = data.pivot_table(index='family_status', values='debt', aggfunc=['sum', 'count']) \n",
    "\n",
    "#посчитаем долю должников по семейному статусу\n",
    "\n",
    "data_group_1['share_debt'] = data_group_1['sum'] / data_group_1['count'] * 100 \n",
    "data_group_1\n"
   ]
  },
  {
   "cell_type": "markdown",
   "id": "1cef7837",
   "metadata": {
    "deletable": false,
    "id": "1cef7837"
   },
   "source": [
    "**Вывод:** По результатам исследования можем сделать вывод: зависимость между семейным положением и возвратом кредита в срок имеется, не женатые/не замужние группы людей чаще не вовзращают средства в срок."
   ]
  },
  {
   "cell_type": "markdown",
   "id": "1e8b2fca",
   "metadata": {
    "deletable": false,
    "editable": false,
    "id": "1e8b2fca"
   },
   "source": [
    "**Задание 21. Есть ли зависимость между уровнем дохода и возвратом кредита в срок?**"
   ]
  },
  {
   "cell_type": "code",
   "execution_count": 26,
   "id": "cd7e3720",
   "metadata": {
    "id": "cd7e3720"
   },
   "outputs": [
    {
     "data": {
      "text/html": [
       "<div>\n",
       "<style scoped>\n",
       "    .dataframe tbody tr th:only-of-type {\n",
       "        vertical-align: middle;\n",
       "    }\n",
       "\n",
       "    .dataframe tbody tr th {\n",
       "        vertical-align: top;\n",
       "    }\n",
       "\n",
       "    .dataframe thead tr th {\n",
       "        text-align: left;\n",
       "    }\n",
       "\n",
       "    .dataframe thead tr:last-of-type th {\n",
       "        text-align: right;\n",
       "    }\n",
       "</style>\n",
       "<table border=\"1\" class=\"dataframe\">\n",
       "  <thead>\n",
       "    <tr>\n",
       "      <th></th>\n",
       "      <th>sum</th>\n",
       "      <th>count</th>\n",
       "      <th>share</th>\n",
       "    </tr>\n",
       "    <tr>\n",
       "      <th></th>\n",
       "      <th>debt</th>\n",
       "      <th>debt</th>\n",
       "      <th></th>\n",
       "    </tr>\n",
       "    <tr>\n",
       "      <th>total_income_category</th>\n",
       "      <th></th>\n",
       "      <th></th>\n",
       "      <th></th>\n",
       "    </tr>\n",
       "  </thead>\n",
       "  <tbody>\n",
       "    <tr>\n",
       "      <th>A</th>\n",
       "      <td>2</td>\n",
       "      <td>25</td>\n",
       "      <td>8.000000</td>\n",
       "    </tr>\n",
       "    <tr>\n",
       "      <th>B</th>\n",
       "      <td>354</td>\n",
       "      <td>5014</td>\n",
       "      <td>7.060231</td>\n",
       "    </tr>\n",
       "    <tr>\n",
       "      <th>C</th>\n",
       "      <td>1353</td>\n",
       "      <td>15938</td>\n",
       "      <td>8.489145</td>\n",
       "    </tr>\n",
       "    <tr>\n",
       "      <th>D</th>\n",
       "      <td>21</td>\n",
       "      <td>349</td>\n",
       "      <td>6.017192</td>\n",
       "    </tr>\n",
       "    <tr>\n",
       "      <th>E</th>\n",
       "      <td>2</td>\n",
       "      <td>22</td>\n",
       "      <td>9.090909</td>\n",
       "    </tr>\n",
       "  </tbody>\n",
       "</table>\n",
       "</div>"
      ],
      "text/plain": [
       "                        sum  count     share\n",
       "                       debt   debt          \n",
       "total_income_category                       \n",
       "A                         2     25  8.000000\n",
       "B                       354   5014  7.060231\n",
       "C                      1353  15938  8.489145\n",
       "D                        21    349  6.017192\n",
       "E                         2     22  9.090909"
      ]
     },
     "execution_count": 26,
     "metadata": {},
     "output_type": "execute_result"
    }
   ],
   "source": [
    "#сгруппируем данные по категориям с уровнем дохода и столбцом возврата кредита в срок\n",
    "#посчитаем количество должников и общее количество кредиторов по уровню дохода\n",
    "\n",
    "data_group_2 = data.pivot_table(index='total_income_category', values='debt', aggfunc=['sum', 'count'])\n",
    "\n",
    "#посчитаем долю должников по уровню дохода\n",
    "\n",
    "data_group_2['share'] = data_group_2['sum'] / data_group_2['count'] * 100 \n",
    "data_group_2"
   ]
  },
  {
   "cell_type": "markdown",
   "id": "e8593def",
   "metadata": {
    "deletable": false,
    "id": "e8593def"
   },
   "source": [
    "**Вывод:** По результатам исследования можем сделать вывод: зависимость между уровнем дохода и возвратом кредита в срок имеется, категория людей с доходом менее 30000 чаще не возвращают средства в срок."
   ]
  },
  {
   "cell_type": "markdown",
   "id": "99ecbd1f",
   "metadata": {
    "deletable": false,
    "editable": false,
    "id": "99ecbd1f"
   },
   "source": [
    "**Задание 22. Как разные цели кредита влияют на его возврат в срок?**"
   ]
  },
  {
   "cell_type": "code",
   "execution_count": 27,
   "id": "2b687290",
   "metadata": {
    "id": "2b687290"
   },
   "outputs": [
    {
     "data": {
      "text/html": [
       "<div>\n",
       "<style scoped>\n",
       "    .dataframe tbody tr th:only-of-type {\n",
       "        vertical-align: middle;\n",
       "    }\n",
       "\n",
       "    .dataframe tbody tr th {\n",
       "        vertical-align: top;\n",
       "    }\n",
       "\n",
       "    .dataframe thead tr th {\n",
       "        text-align: left;\n",
       "    }\n",
       "\n",
       "    .dataframe thead tr:last-of-type th {\n",
       "        text-align: right;\n",
       "    }\n",
       "</style>\n",
       "<table border=\"1\" class=\"dataframe\">\n",
       "  <thead>\n",
       "    <tr>\n",
       "      <th></th>\n",
       "      <th>sum</th>\n",
       "      <th>count</th>\n",
       "      <th>share</th>\n",
       "    </tr>\n",
       "    <tr>\n",
       "      <th></th>\n",
       "      <th>debt</th>\n",
       "      <th>debt</th>\n",
       "      <th></th>\n",
       "    </tr>\n",
       "    <tr>\n",
       "      <th>purpose_category</th>\n",
       "      <th></th>\n",
       "      <th></th>\n",
       "      <th></th>\n",
       "    </tr>\n",
       "  </thead>\n",
       "  <tbody>\n",
       "    <tr>\n",
       "      <th>операции с автомобилем</th>\n",
       "      <td>400</td>\n",
       "      <td>4281</td>\n",
       "      <td>9.343611</td>\n",
       "    </tr>\n",
       "    <tr>\n",
       "      <th>операции с недвижимостью</th>\n",
       "      <td>780</td>\n",
       "      <td>10754</td>\n",
       "      <td>7.253115</td>\n",
       "    </tr>\n",
       "    <tr>\n",
       "      <th>получение образования</th>\n",
       "      <td>369</td>\n",
       "      <td>3989</td>\n",
       "      <td>9.250439</td>\n",
       "    </tr>\n",
       "    <tr>\n",
       "      <th>проведение свадьбы</th>\n",
       "      <td>183</td>\n",
       "      <td>2324</td>\n",
       "      <td>7.874355</td>\n",
       "    </tr>\n",
       "  </tbody>\n",
       "</table>\n",
       "</div>"
      ],
      "text/plain": [
       "                          sum  count     share\n",
       "                         debt   debt          \n",
       "purpose_category                              \n",
       "операции с автомобилем    400   4281  9.343611\n",
       "операции с недвижимостью  780  10754  7.253115\n",
       "получение образования     369   3989  9.250439\n",
       "проведение свадьбы        183   2324  7.874355"
      ]
     },
     "execution_count": 27,
     "metadata": {},
     "output_type": "execute_result"
    }
   ],
   "source": [
    "#сгруппируем данные по категориям целей кредита и столбцом возврата кредита в срок\n",
    "#посчитаем количество должников и общее количество кредиторов по кредиторским целям\n",
    "\n",
    "data_group_3 = data.pivot_table(index='purpose_category', values='debt', aggfunc=['sum', 'count'])\n",
    "\n",
    "#посчитаем долю должников по кредиторским целям\n",
    "\n",
    "data_group_3['share'] = data_group_3['sum'] / data_group_3['count'] * 100  \n",
    "data_group_3"
   ]
  },
  {
   "cell_type": "markdown",
   "id": "b4bb2ce6",
   "metadata": {
    "deletable": false,
    "id": "b4bb2ce6"
   },
   "source": [
    "**Вывод:** По результатам исследования можем сделать вывод: чаще всего не могут вернуть в сроки средства люди, цель заема \n",
    "у которых была связана с получением образования и операциями с автомобилем. У людей которые занимают средства на операции \n",
    "с недвижимостью и проведение свадьбы показатель возврата средств выше предыдущих. "
   ]
  },
  {
   "cell_type": "markdown",
   "id": "09c3ac4c",
   "metadata": {
    "deletable": false,
    "editable": false,
    "id": "09c3ac4c"
   },
   "source": [
    "**Задание 23. Приведите возможные причины появления пропусков в исходных данных.**"
   ]
  },
  {
   "cell_type": "markdown",
   "id": "9da2ceda",
   "metadata": {
    "deletable": false,
    "id": "9da2ceda"
   },
   "source": [
    "*Ответ:* Пропуски в столбце трудового стажа возможны по причине неверного подсчета дней, если данные считались по формуле, \n",
    "то ошибка в написании даты трудовой деятельности могла привести к некорректному заполнению. Также данные выводятся в днях, возможно, предоставили информацию в другом формате. \n",
    "Пропуски в столбце ежемесячного дохода возможны по причине того, что кредитор не указал данные о своем доходе. Также возможной причиной пропусков в данных является сбой в системах сбора информации у банка."
   ]
  },
  {
   "cell_type": "markdown",
   "id": "7b0487d6",
   "metadata": {
    "deletable": false,
    "editable": false,
    "id": "7b0487d6"
   },
   "source": [
    "**Задание 24. Объясните, почему заполнить пропуски медианным значением — лучшее решение для количественных переменных.**"
   ]
  },
  {
   "cell_type": "markdown",
   "id": "7ecf2b8e",
   "metadata": {
    "deletable": false,
    "id": "7ecf2b8e"
   },
   "source": [
    "*Ответ:* В количественных переменных могут быть значения, которые будут сильно выделяться среди большинства, что при подсчете \n",
    "среднего арифметического выдаст не совсем корректные и достоверные данные, в отличие от медианы, которая выберет средний элемент в отсортированной выборке. При таком варианте данные приобретут более достоверную информацию, игнорируя и сглаживая сильно выделяющиееся значения среди большинства."
   ]
  },
  {
   "cell_type": "markdown",
   "id": "6db5255a",
   "metadata": {
    "deletable": false,
    "editable": false,
    "id": "6db5255a"
   },
   "source": [
    "## Общий вывод."
   ]
  },
  {
   "cell_type": "markdown",
   "id": "6044f0bc",
   "metadata": {},
   "source": [
    "**Общий вывод:** \n",
    "\n",
    "Было проведено исследование чтобы выявить влияет ли семейное положение, количество детей и цели заема клиента на факт погашения кредита в срок. Входные данные от банка — статистика о платёжеспособности клиентов. Результаты исследования будут учтены при построении модели кредитного скоринга — специальной системы, которая оценивает способность потенциального заёмщика вернуть кредит банку.\n",
    "\n",
    "В ходе исследования было проверено несколько гипотез:\n",
    "\n",
    "1. Количество детей в семье влияет на факт погашения кредита в срок;\n",
    "2. Статус семейного положения влияет на факт погашения кредита в срок; \n",
    "3. Уровень дохода кредитора влияет на факт погашения кредита в срок;\n",
    "4. Цель кредита влияет на факт погашения кредита в срок;\n",
    "\n",
    "Результаты проверки гипотез:\n",
    "\n",
    "**1. Количество детей в семье влияет на факт погашения кредита в срок.** гипотеза подтверждена: кредитополучатели без детей являются более ответственными, чем клиенты, у которых есть дети.\n",
    "\n",
    "* 7,5% доля просроченных выплат кредитов у заемщиков не имеющих детей;\n",
    "* 9,2% доля просроченных выплат кредитов у заемщиков имеющих 1-2 детей;\n",
    "* 8,1% доля просроченных выплат кредитов у многодетных заемщиков, имеющих 3-х и более детей;\n",
    "\n",
    "\n",
    "**2. Статус семейного положения влияет на факт погашения кредита в срок.** гипотеза продтверждена: клиенты которые не состоят в браке менее ответственные в обязательствах погашения кредита в срок.\n",
    "\n",
    "* Клиенты которые не женаты/не замужем (9,7%) или состоят в гражданском браке (9,2%) имеют выше вероятность не погасить кредит в срок; \n",
    "* Клиенты которые женаты/замужем (7,5%), разведены (7%) или стали вдовцами/вдовами (6,6%) менее вероятно становятся должниками;\n",
    "\n",
    "**3. Уровень дохода кредитора влияет на факт погашения кредита в срок.** гипотеза подтверждена: чаще всего должниками становятся люди с небольшим доходом, которым финансовые проблемы не позволяют вовремя осуществлять платежи.\n",
    "\n",
    "* 9% доля просроченных выплат по кредиту у заемщиков имеющих доход от 0 до 30000;\n",
    "* 6% доля просроченных выплат по кредиту у заемщиков с доходом от 30000 до 50000;\n",
    "* 8,4% доля просроченных выплат по кредиту у заемщиков с доходом от 50000 до 200000;\n",
    "* 7% доля просроченных выплат по крелиту у заемщиков имеющих доход от 200000 до 1000000;\n",
    "* 8% доля просроченных выплат по кредиту у заемщиков с доходом свыше 1000000; \n",
    "\n",
    "**4. Цель кредита влияет на факт погашения кредита в срок.** гипотеза подтверждена: \n",
    "\n",
    "* Операции с автомобилем (9,3%) и получение образования (9,2%) такие цели у клиентов которые чаще имеют проблемы с оплатой по кредиту вовремя;\n",
    "* Операции с недвижимостью (7,2%) и займ на проведение свадьбы (7,8%) клиенты с данными целями по кредиту менее часто испытывают проблемы с оплатой в срок; \n",
    "\n",
    "**Рекомендации:** \n",
    "\n",
    "Собрать более полную выборку для повторной проверки всех гипотез, с целью получения более точных результатов исследования данных "
   ]
  }
 ],
 "metadata": {
  "ExecuteTimeLog": [
   {
    "duration": 546,
    "start_time": "2022-07-19T08:07:04.114Z"
   },
   {
    "duration": 23,
    "start_time": "2022-07-19T08:07:06.224Z"
   },
   {
    "duration": 17,
    "start_time": "2022-07-19T08:07:11.742Z"
   },
   {
    "duration": 11,
    "start_time": "2022-07-19T08:07:14.825Z"
   },
   {
    "duration": 36,
    "start_time": "2022-07-19T08:07:23.814Z"
   },
   {
    "duration": 3,
    "start_time": "2022-07-19T08:07:31.169Z"
   },
   {
    "duration": 8,
    "start_time": "2022-07-19T08:07:39.844Z"
   },
   {
    "duration": 4,
    "start_time": "2022-07-19T08:07:44.518Z"
   },
   {
    "duration": 7,
    "start_time": "2022-07-19T08:07:47.072Z"
   },
   {
    "duration": 5,
    "start_time": "2022-07-19T08:07:49.217Z"
   },
   {
    "duration": 35,
    "start_time": "2022-07-19T08:07:51.043Z"
   },
   {
    "duration": 13,
    "start_time": "2022-07-19T08:07:58.724Z"
   },
   {
    "duration": 4,
    "start_time": "2022-07-19T08:08:00.344Z"
   },
   {
    "duration": 24,
    "start_time": "2022-07-19T08:08:01.870Z"
   },
   {
    "duration": 19,
    "start_time": "2022-07-19T08:08:03.217Z"
   },
   {
    "duration": 13,
    "start_time": "2022-07-19T08:08:04.544Z"
   },
   {
    "duration": 3,
    "start_time": "2022-07-19T08:08:13.682Z"
   },
   {
    "duration": 12,
    "start_time": "2022-07-19T08:08:15.272Z"
   },
   {
    "duration": 7,
    "start_time": "2022-07-19T08:08:16.782Z"
   },
   {
    "duration": 4,
    "start_time": "2022-07-19T08:08:30.945Z"
   },
   {
    "duration": 9,
    "start_time": "2022-07-19T08:08:32.217Z"
   },
   {
    "duration": 17,
    "start_time": "2022-07-19T08:18:28.565Z"
   },
   {
    "duration": 5,
    "start_time": "2022-07-19T08:19:35.866Z"
   },
   {
    "duration": 6,
    "start_time": "2022-07-19T08:20:06.198Z"
   },
   {
    "duration": 19,
    "start_time": "2022-07-19T08:20:31.723Z"
   },
   {
    "duration": 25,
    "start_time": "2022-07-19T08:34:05.047Z"
   },
   {
    "duration": 78,
    "start_time": "2022-07-19T08:40:14.548Z"
   },
   {
    "duration": 14,
    "start_time": "2022-07-19T08:40:30.726Z"
   },
   {
    "duration": 11,
    "start_time": "2022-07-19T08:41:23.143Z"
   },
   {
    "duration": 12,
    "start_time": "2022-07-19T08:41:28.687Z"
   },
   {
    "duration": 16,
    "start_time": "2022-07-19T08:43:08.746Z"
   },
   {
    "duration": 13,
    "start_time": "2022-07-19T08:43:17.298Z"
   },
   {
    "duration": 10,
    "start_time": "2022-07-19T08:43:26.274Z"
   },
   {
    "duration": 11,
    "start_time": "2022-07-19T08:45:44.548Z"
   },
   {
    "duration": 13,
    "start_time": "2022-07-19T08:46:00.957Z"
   },
   {
    "duration": 13,
    "start_time": "2022-07-19T08:48:04.136Z"
   },
   {
    "duration": 30,
    "start_time": "2022-07-19T08:49:34.858Z"
   },
   {
    "duration": 27,
    "start_time": "2022-07-19T08:49:53.642Z"
   },
   {
    "duration": 30,
    "start_time": "2022-07-19T08:50:02.203Z"
   },
   {
    "duration": 14,
    "start_time": "2022-07-19T08:50:16.130Z"
   },
   {
    "duration": 16,
    "start_time": "2022-07-19T08:50:21.934Z"
   },
   {
    "duration": 12,
    "start_time": "2022-07-19T08:50:27.251Z"
   },
   {
    "duration": 17,
    "start_time": "2022-07-19T08:50:38.667Z"
   },
   {
    "duration": 14,
    "start_time": "2022-07-19T08:51:13.676Z"
   },
   {
    "duration": 20,
    "start_time": "2022-07-19T08:51:16.691Z"
   },
   {
    "duration": 16,
    "start_time": "2022-07-19T08:52:35.826Z"
   },
   {
    "duration": 24,
    "start_time": "2022-07-19T08:52:43.510Z"
   },
   {
    "duration": 18,
    "start_time": "2022-07-19T08:53:45.823Z"
   },
   {
    "duration": 18,
    "start_time": "2022-07-19T08:53:47.958Z"
   },
   {
    "duration": 12,
    "start_time": "2022-07-19T08:54:31.561Z"
   },
   {
    "duration": 9,
    "start_time": "2022-07-19T08:54:35.432Z"
   },
   {
    "duration": 7,
    "start_time": "2022-07-19T09:06:46.753Z"
   },
   {
    "duration": 3,
    "start_time": "2022-07-19T09:07:18.995Z"
   },
   {
    "duration": 3,
    "start_time": "2022-07-19T09:08:33.222Z"
   },
   {
    "duration": 4,
    "start_time": "2022-07-19T09:08:56.654Z"
   },
   {
    "duration": 4,
    "start_time": "2022-07-19T09:09:07.068Z"
   },
   {
    "duration": 4,
    "start_time": "2022-07-19T09:09:14.478Z"
   },
   {
    "duration": 4,
    "start_time": "2022-07-19T09:10:18.656Z"
   },
   {
    "duration": 5,
    "start_time": "2022-07-19T09:11:46.726Z"
   },
   {
    "duration": 4,
    "start_time": "2022-07-19T09:11:55.770Z"
   },
   {
    "duration": 5,
    "start_time": "2022-07-19T09:12:09.455Z"
   },
   {
    "duration": 10,
    "start_time": "2022-07-19T09:12:15.410Z"
   },
   {
    "duration": 4,
    "start_time": "2022-07-19T09:12:19.474Z"
   },
   {
    "duration": 3,
    "start_time": "2022-07-19T09:12:38.653Z"
   },
   {
    "duration": 6,
    "start_time": "2022-07-19T09:13:27.708Z"
   },
   {
    "duration": 7,
    "start_time": "2022-07-19T09:13:56.921Z"
   },
   {
    "duration": 6,
    "start_time": "2022-07-19T09:14:09.971Z"
   },
   {
    "duration": 51,
    "start_time": "2022-07-20T09:19:28.699Z"
   },
   {
    "duration": 526,
    "start_time": "2022-07-20T09:19:46.954Z"
   },
   {
    "duration": 34,
    "start_time": "2022-07-20T09:19:47.482Z"
   },
   {
    "duration": 17,
    "start_time": "2022-07-20T09:19:47.519Z"
   },
   {
    "duration": 9,
    "start_time": "2022-07-20T09:19:47.539Z"
   },
   {
    "duration": 38,
    "start_time": "2022-07-20T09:19:47.550Z"
   },
   {
    "duration": 18,
    "start_time": "2022-07-20T09:19:47.590Z"
   },
   {
    "duration": 15,
    "start_time": "2022-07-20T09:19:47.612Z"
   },
   {
    "duration": 4,
    "start_time": "2022-07-20T09:19:47.629Z"
   },
   {
    "duration": 12,
    "start_time": "2022-07-20T09:19:47.635Z"
   },
   {
    "duration": 7,
    "start_time": "2022-07-20T09:19:47.650Z"
   },
   {
    "duration": 50,
    "start_time": "2022-07-20T09:19:47.658Z"
   },
   {
    "duration": 14,
    "start_time": "2022-07-20T09:19:47.710Z"
   },
   {
    "duration": 6,
    "start_time": "2022-07-20T09:19:47.726Z"
   },
   {
    "duration": 21,
    "start_time": "2022-07-20T09:19:47.733Z"
   },
   {
    "duration": 18,
    "start_time": "2022-07-20T09:19:47.755Z"
   },
   {
    "duration": 42,
    "start_time": "2022-07-20T09:19:47.775Z"
   },
   {
    "duration": 5,
    "start_time": "2022-07-20T09:19:47.819Z"
   },
   {
    "duration": 12,
    "start_time": "2022-07-20T09:19:47.826Z"
   },
   {
    "duration": 9,
    "start_time": "2022-07-20T09:19:47.840Z"
   },
   {
    "duration": 4,
    "start_time": "2022-07-20T09:19:47.850Z"
   },
   {
    "duration": 15,
    "start_time": "2022-07-20T09:19:47.855Z"
   },
   {
    "duration": 39,
    "start_time": "2022-07-20T09:19:47.872Z"
   },
   {
    "duration": 12,
    "start_time": "2022-07-20T09:19:47.912Z"
   },
   {
    "duration": 5,
    "start_time": "2022-07-20T09:19:47.926Z"
   },
   {
    "duration": 18,
    "start_time": "2022-07-20T09:19:47.933Z"
   },
   {
    "duration": 6,
    "start_time": "2022-07-20T09:19:47.953Z"
   },
   {
    "duration": 8,
    "start_time": "2022-07-20T09:19:47.960Z"
   },
   {
    "duration": 23,
    "start_time": "2022-07-20T09:20:50.482Z"
   },
   {
    "duration": 11,
    "start_time": "2022-07-20T09:22:04.755Z"
   },
   {
    "duration": 7,
    "start_time": "2022-07-20T09:25:08.216Z"
   },
   {
    "duration": 9,
    "start_time": "2022-07-20T09:25:09.661Z"
   },
   {
    "duration": 15,
    "start_time": "2022-07-20T09:25:24.983Z"
   },
   {
    "duration": 22,
    "start_time": "2022-07-20T09:25:28.551Z"
   },
   {
    "duration": 5,
    "start_time": "2022-07-20T09:26:25.898Z"
   },
   {
    "duration": 26,
    "start_time": "2022-07-20T09:26:50.065Z"
   },
   {
    "duration": 18,
    "start_time": "2022-07-20T09:27:22.266Z"
   },
   {
    "duration": 118,
    "start_time": "2022-07-20T09:27:43.821Z"
   },
   {
    "duration": 357,
    "start_time": "2022-07-20T09:28:00.626Z"
   },
   {
    "duration": 6,
    "start_time": "2022-07-20T09:28:19.067Z"
   },
   {
    "duration": 70,
    "start_time": "2022-07-20T09:28:27.916Z"
   },
   {
    "duration": 8,
    "start_time": "2022-07-20T09:35:51.686Z"
   },
   {
    "duration": 9,
    "start_time": "2022-07-20T09:35:59.768Z"
   },
   {
    "duration": 23,
    "start_time": "2022-07-20T09:38:05.363Z"
   },
   {
    "duration": 17,
    "start_time": "2022-07-20T09:39:20.516Z"
   },
   {
    "duration": 8,
    "start_time": "2022-07-20T09:40:36.254Z"
   },
   {
    "duration": 7,
    "start_time": "2022-07-20T09:40:43.783Z"
   },
   {
    "duration": 22,
    "start_time": "2022-07-20T09:41:16.652Z"
   },
   {
    "duration": 9,
    "start_time": "2022-07-20T09:41:27.711Z"
   },
   {
    "duration": 9,
    "start_time": "2022-07-20T09:41:37.399Z"
   },
   {
    "duration": 61,
    "start_time": "2022-07-20T09:59:13.115Z"
   },
   {
    "duration": 24,
    "start_time": "2022-07-20T09:59:35.450Z"
   },
   {
    "duration": 18,
    "start_time": "2022-07-20T10:05:23.730Z"
   },
   {
    "duration": 39,
    "start_time": "2022-07-20T10:05:30.222Z"
   },
   {
    "duration": 26,
    "start_time": "2022-07-20T10:07:22.881Z"
   },
   {
    "duration": 26,
    "start_time": "2022-07-20T10:08:44.245Z"
   },
   {
    "duration": 31,
    "start_time": "2022-07-20T10:12:48.833Z"
   },
   {
    "duration": 30,
    "start_time": "2022-07-20T10:12:55.969Z"
   },
   {
    "duration": 28,
    "start_time": "2022-07-20T10:13:11.530Z"
   },
   {
    "duration": 17,
    "start_time": "2022-07-20T10:14:41.468Z"
   },
   {
    "duration": 22,
    "start_time": "2022-07-20T10:14:48.565Z"
   },
   {
    "duration": 28,
    "start_time": "2022-07-20T10:20:09.997Z"
   },
   {
    "duration": 26,
    "start_time": "2022-07-20T10:22:02.559Z"
   },
   {
    "duration": 39,
    "start_time": "2022-07-20T10:22:05.320Z"
   },
   {
    "duration": 21,
    "start_time": "2022-07-20T10:26:35.104Z"
   },
   {
    "duration": 21,
    "start_time": "2022-07-20T10:30:20.379Z"
   },
   {
    "duration": 18,
    "start_time": "2022-07-20T10:30:41.182Z"
   },
   {
    "duration": 24,
    "start_time": "2022-07-20T10:33:49.090Z"
   },
   {
    "duration": 27,
    "start_time": "2022-07-20T10:41:15.796Z"
   },
   {
    "duration": 31,
    "start_time": "2022-07-20T10:44:04.384Z"
   },
   {
    "duration": 460,
    "start_time": "2022-07-20T10:52:21.068Z"
   },
   {
    "duration": 25,
    "start_time": "2022-07-20T10:52:21.530Z"
   },
   {
    "duration": 15,
    "start_time": "2022-07-20T10:52:21.558Z"
   },
   {
    "duration": 34,
    "start_time": "2022-07-20T10:52:21.575Z"
   },
   {
    "duration": 33,
    "start_time": "2022-07-20T10:52:21.612Z"
   },
   {
    "duration": 4,
    "start_time": "2022-07-20T10:52:21.646Z"
   },
   {
    "duration": 9,
    "start_time": "2022-07-20T10:52:21.652Z"
   },
   {
    "duration": 11,
    "start_time": "2022-07-20T10:52:21.662Z"
   },
   {
    "duration": 13,
    "start_time": "2022-07-20T10:52:21.674Z"
   },
   {
    "duration": 19,
    "start_time": "2022-07-20T10:52:21.688Z"
   },
   {
    "duration": 42,
    "start_time": "2022-07-20T10:52:21.708Z"
   },
   {
    "duration": 8,
    "start_time": "2022-07-20T10:52:21.752Z"
   },
   {
    "duration": 7,
    "start_time": "2022-07-20T10:52:21.762Z"
   },
   {
    "duration": 33,
    "start_time": "2022-07-20T10:52:21.772Z"
   },
   {
    "duration": 17,
    "start_time": "2022-07-20T10:52:21.806Z"
   },
   {
    "duration": 10,
    "start_time": "2022-07-20T10:52:21.825Z"
   },
   {
    "duration": 25,
    "start_time": "2022-07-20T10:52:21.836Z"
   },
   {
    "duration": 30,
    "start_time": "2022-07-20T10:52:21.863Z"
   },
   {
    "duration": 29,
    "start_time": "2022-07-20T10:52:21.894Z"
   },
   {
    "duration": 23,
    "start_time": "2022-07-20T10:52:21.924Z"
   },
   {
    "duration": 34,
    "start_time": "2022-07-20T10:52:21.949Z"
   },
   {
    "duration": 35,
    "start_time": "2022-07-20T10:52:21.985Z"
   },
   {
    "duration": 13,
    "start_time": "2022-07-20T10:52:22.022Z"
   },
   {
    "duration": 54,
    "start_time": "2022-07-20T10:52:22.036Z"
   },
   {
    "duration": 24,
    "start_time": "2022-07-20T10:52:22.092Z"
   },
   {
    "duration": 27,
    "start_time": "2022-07-20T10:52:22.117Z"
   },
   {
    "duration": 28,
    "start_time": "2022-07-20T10:52:22.145Z"
   },
   {
    "duration": 643,
    "start_time": "2022-07-20T11:37:55.005Z"
   },
   {
    "duration": 36,
    "start_time": "2022-07-20T11:37:55.650Z"
   },
   {
    "duration": 17,
    "start_time": "2022-07-20T11:37:55.688Z"
   },
   {
    "duration": 10,
    "start_time": "2022-07-20T11:37:55.707Z"
   },
   {
    "duration": 35,
    "start_time": "2022-07-20T11:37:55.723Z"
   },
   {
    "duration": 4,
    "start_time": "2022-07-20T11:37:55.760Z"
   },
   {
    "duration": 15,
    "start_time": "2022-07-20T11:37:55.765Z"
   },
   {
    "duration": 4,
    "start_time": "2022-07-20T11:37:55.781Z"
   },
   {
    "duration": 11,
    "start_time": "2022-07-20T11:37:55.787Z"
   },
   {
    "duration": 25,
    "start_time": "2022-07-20T11:37:55.800Z"
   },
   {
    "duration": 36,
    "start_time": "2022-07-20T11:37:55.827Z"
   },
   {
    "duration": 11,
    "start_time": "2022-07-20T11:37:55.865Z"
   },
   {
    "duration": 7,
    "start_time": "2022-07-20T11:37:55.878Z"
   },
   {
    "duration": 48,
    "start_time": "2022-07-20T11:37:55.886Z"
   },
   {
    "duration": 23,
    "start_time": "2022-07-20T11:37:55.936Z"
   },
   {
    "duration": 12,
    "start_time": "2022-07-20T11:37:55.961Z"
   },
   {
    "duration": 8,
    "start_time": "2022-07-20T11:37:55.974Z"
   },
   {
    "duration": 14,
    "start_time": "2022-07-20T11:37:55.984Z"
   },
   {
    "duration": 27,
    "start_time": "2022-07-20T11:37:56.000Z"
   },
   {
    "duration": 5,
    "start_time": "2022-07-20T11:37:56.029Z"
   },
   {
    "duration": 20,
    "start_time": "2022-07-20T11:37:56.036Z"
   },
   {
    "duration": 24,
    "start_time": "2022-07-20T11:37:56.058Z"
   },
   {
    "duration": 9,
    "start_time": "2022-07-20T11:37:56.084Z"
   },
   {
    "duration": 55,
    "start_time": "2022-07-20T11:37:56.095Z"
   },
   {
    "duration": 29,
    "start_time": "2022-07-20T11:37:56.151Z"
   },
   {
    "duration": 43,
    "start_time": "2022-07-20T11:37:56.182Z"
   },
   {
    "duration": 28,
    "start_time": "2022-07-20T11:37:56.227Z"
   },
   {
    "duration": 57,
    "start_time": "2022-07-20T13:24:52.351Z"
   },
   {
    "duration": 512,
    "start_time": "2022-07-20T13:25:02.341Z"
   },
   {
    "duration": 25,
    "start_time": "2022-07-20T13:25:02.856Z"
   },
   {
    "duration": 23,
    "start_time": "2022-07-20T13:25:02.883Z"
   },
   {
    "duration": 31,
    "start_time": "2022-07-20T13:25:02.908Z"
   },
   {
    "duration": 46,
    "start_time": "2022-07-20T13:25:02.942Z"
   },
   {
    "duration": 4,
    "start_time": "2022-07-20T13:25:02.990Z"
   },
   {
    "duration": 19,
    "start_time": "2022-07-20T13:25:02.996Z"
   },
   {
    "duration": 24,
    "start_time": "2022-07-20T13:25:03.017Z"
   },
   {
    "duration": 17,
    "start_time": "2022-07-20T13:25:03.044Z"
   },
   {
    "duration": 30,
    "start_time": "2022-07-20T13:25:03.062Z"
   },
   {
    "duration": 61,
    "start_time": "2022-07-20T13:25:03.093Z"
   },
   {
    "duration": 9,
    "start_time": "2022-07-20T13:25:03.155Z"
   },
   {
    "duration": 26,
    "start_time": "2022-07-20T13:25:03.166Z"
   },
   {
    "duration": 26,
    "start_time": "2022-07-20T13:25:03.195Z"
   },
   {
    "duration": 32,
    "start_time": "2022-07-20T13:25:03.223Z"
   },
   {
    "duration": 15,
    "start_time": "2022-07-20T13:25:03.257Z"
   },
   {
    "duration": 4,
    "start_time": "2022-07-20T13:25:03.273Z"
   },
   {
    "duration": 21,
    "start_time": "2022-07-20T13:25:03.278Z"
   },
   {
    "duration": 16,
    "start_time": "2022-07-20T13:25:03.301Z"
   },
   {
    "duration": 6,
    "start_time": "2022-07-20T13:25:03.319Z"
   },
   {
    "duration": 28,
    "start_time": "2022-07-20T13:25:03.327Z"
   },
   {
    "duration": 21,
    "start_time": "2022-07-20T13:25:03.357Z"
   },
   {
    "duration": 15,
    "start_time": "2022-07-20T13:25:03.379Z"
   },
   {
    "duration": 33,
    "start_time": "2022-07-20T13:25:03.396Z"
   },
   {
    "duration": 25,
    "start_time": "2022-07-20T13:25:03.430Z"
   },
   {
    "duration": 24,
    "start_time": "2022-07-20T13:25:03.457Z"
   },
   {
    "duration": 46,
    "start_time": "2022-07-20T13:25:03.483Z"
   }
  ],
  "colab": {
   "name": "dpp_template_part2.ipynb",
   "provenance": []
  },
  "kernelspec": {
   "display_name": "Python 3 (ipykernel)",
   "language": "python",
   "name": "python3"
  },
  "language_info": {
   "codemirror_mode": {
    "name": "ipython",
    "version": 3
   },
   "file_extension": ".py",
   "mimetype": "text/x-python",
   "name": "python",
   "nbconvert_exporter": "python",
   "pygments_lexer": "ipython3",
   "version": "3.9.7"
  },
  "toc": {
   "base_numbering": 1,
   "nav_menu": {},
   "number_sections": true,
   "sideBar": true,
   "skip_h1_title": true,
   "title_cell": "Table of Contents",
   "title_sidebar": "Contents",
   "toc_cell": false,
   "toc_position": {},
   "toc_section_display": true,
   "toc_window_display": true
  }
 },
 "nbformat": 4,
 "nbformat_minor": 5
}
