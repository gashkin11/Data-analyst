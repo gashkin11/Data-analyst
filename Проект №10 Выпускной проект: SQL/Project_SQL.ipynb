{
 "cells": [
  {
   "cell_type": "markdown",
   "metadata": {},
   "source": [
    "### Исследуем таблицы — выведем первые строки"
   ]
  },
  {
   "cell_type": "code",
   "execution_count": 1,
   "metadata": {},
   "outputs": [],
   "source": [
    "import pandas as pd\n",
    "from sqlalchemy import create_engine"
   ]
  },
  {
   "cell_type": "code",
   "execution_count": 2,
   "metadata": {},
   "outputs": [],
   "source": [
    "#устанавливаем параметры\n",
    "\n",
    "db_config = {'user': 'praktikum_student', #имя пользователя\n",
    "'pwd': 'Sdf4$2;d-d30pp', #пароль\n",
    "'host': 'rc1b-wcoijxj3yxfsf3fs.mdb.yandexcloud.net',\n",
    "'port': 6432, #порт подключения\n",
    "'db': 'data-analyst-final-project-db'} #название базы данных\n",
    "\n",
    "connection_string = 'postgresql://{}:{}@{}:{}/{}'.format(db_config['user'],\n",
    " db_config['pwd'],\n",
    " db_config['host'],\n",
    " db_config['port'],\n",
    " db_config['db'])\n",
    "\n",
    "#сохраняем коннектор\n",
    "engine = create_engine(connection_string, connect_args={'sslmode':'require'}) "
   ]
  },
  {
   "cell_type": "code",
   "execution_count": 3,
   "metadata": {},
   "outputs": [],
   "source": [
    "query = '''SELECT *\n",
    "           FROM books'''"
   ]
  },
  {
   "cell_type": "code",
   "execution_count": 4,
   "metadata": {},
   "outputs": [],
   "source": [
    "books = pd.io.sql.read_sql(query, con = engine) "
   ]
  },
  {
   "cell_type": "code",
   "execution_count": 5,
   "metadata": {},
   "outputs": [
    {
     "data": {
      "text/html": [
       "<div>\n",
       "<style scoped>\n",
       "    .dataframe tbody tr th:only-of-type {\n",
       "        vertical-align: middle;\n",
       "    }\n",
       "\n",
       "    .dataframe tbody tr th {\n",
       "        vertical-align: top;\n",
       "    }\n",
       "\n",
       "    .dataframe thead th {\n",
       "        text-align: right;\n",
       "    }\n",
       "</style>\n",
       "<table border=\"1\" class=\"dataframe\">\n",
       "  <thead>\n",
       "    <tr style=\"text-align: right;\">\n",
       "      <th></th>\n",
       "      <th>book_id</th>\n",
       "      <th>author_id</th>\n",
       "      <th>title</th>\n",
       "      <th>num_pages</th>\n",
       "      <th>publication_date</th>\n",
       "      <th>publisher_id</th>\n",
       "    </tr>\n",
       "  </thead>\n",
       "  <tbody>\n",
       "    <tr>\n",
       "      <th>0</th>\n",
       "      <td>1</td>\n",
       "      <td>546</td>\n",
       "      <td>'Salem's Lot</td>\n",
       "      <td>594</td>\n",
       "      <td>2005-11-01</td>\n",
       "      <td>93</td>\n",
       "    </tr>\n",
       "    <tr>\n",
       "      <th>1</th>\n",
       "      <td>2</td>\n",
       "      <td>465</td>\n",
       "      <td>1 000 Places to See Before You Die</td>\n",
       "      <td>992</td>\n",
       "      <td>2003-05-22</td>\n",
       "      <td>336</td>\n",
       "    </tr>\n",
       "    <tr>\n",
       "      <th>2</th>\n",
       "      <td>3</td>\n",
       "      <td>407</td>\n",
       "      <td>13 Little Blue Envelopes (Little Blue Envelope...</td>\n",
       "      <td>322</td>\n",
       "      <td>2010-12-21</td>\n",
       "      <td>135</td>\n",
       "    </tr>\n",
       "    <tr>\n",
       "      <th>3</th>\n",
       "      <td>4</td>\n",
       "      <td>82</td>\n",
       "      <td>1491: New Revelations of the Americas Before C...</td>\n",
       "      <td>541</td>\n",
       "      <td>2006-10-10</td>\n",
       "      <td>309</td>\n",
       "    </tr>\n",
       "    <tr>\n",
       "      <th>4</th>\n",
       "      <td>5</td>\n",
       "      <td>125</td>\n",
       "      <td>1776</td>\n",
       "      <td>386</td>\n",
       "      <td>2006-07-04</td>\n",
       "      <td>268</td>\n",
       "    </tr>\n",
       "  </tbody>\n",
       "</table>\n",
       "</div>"
      ],
      "text/plain": [
       "   book_id  author_id                                              title  \\\n",
       "0        1        546                                       'Salem's Lot   \n",
       "1        2        465                 1 000 Places to See Before You Die   \n",
       "2        3        407  13 Little Blue Envelopes (Little Blue Envelope...   \n",
       "3        4         82  1491: New Revelations of the Americas Before C...   \n",
       "4        5        125                                               1776   \n",
       "\n",
       "   num_pages publication_date  publisher_id  \n",
       "0        594       2005-11-01            93  \n",
       "1        992       2003-05-22           336  \n",
       "2        322       2010-12-21           135  \n",
       "3        541       2006-10-10           309  \n",
       "4        386       2006-07-04           268  "
      ]
     },
     "execution_count": 5,
     "metadata": {},
     "output_type": "execute_result"
    }
   ],
   "source": [
    "books.head()"
   ]
  },
  {
   "cell_type": "code",
   "execution_count": 6,
   "metadata": {},
   "outputs": [],
   "source": [
    "query = '''SELECT *\n",
    "           FROM authors'''"
   ]
  },
  {
   "cell_type": "code",
   "execution_count": 7,
   "metadata": {},
   "outputs": [],
   "source": [
    "authors = pd.io.sql.read_sql(query, con = engine) "
   ]
  },
  {
   "cell_type": "code",
   "execution_count": 8,
   "metadata": {},
   "outputs": [
    {
     "data": {
      "text/html": [
       "<div>\n",
       "<style scoped>\n",
       "    .dataframe tbody tr th:only-of-type {\n",
       "        vertical-align: middle;\n",
       "    }\n",
       "\n",
       "    .dataframe tbody tr th {\n",
       "        vertical-align: top;\n",
       "    }\n",
       "\n",
       "    .dataframe thead th {\n",
       "        text-align: right;\n",
       "    }\n",
       "</style>\n",
       "<table border=\"1\" class=\"dataframe\">\n",
       "  <thead>\n",
       "    <tr style=\"text-align: right;\">\n",
       "      <th></th>\n",
       "      <th>author_id</th>\n",
       "      <th>author</th>\n",
       "    </tr>\n",
       "  </thead>\n",
       "  <tbody>\n",
       "    <tr>\n",
       "      <th>0</th>\n",
       "      <td>1</td>\n",
       "      <td>A.S. Byatt</td>\n",
       "    </tr>\n",
       "    <tr>\n",
       "      <th>1</th>\n",
       "      <td>2</td>\n",
       "      <td>Aesop/Laura Harris/Laura Gibbs</td>\n",
       "    </tr>\n",
       "    <tr>\n",
       "      <th>2</th>\n",
       "      <td>3</td>\n",
       "      <td>Agatha Christie</td>\n",
       "    </tr>\n",
       "    <tr>\n",
       "      <th>3</th>\n",
       "      <td>4</td>\n",
       "      <td>Alan Brennert</td>\n",
       "    </tr>\n",
       "    <tr>\n",
       "      <th>4</th>\n",
       "      <td>5</td>\n",
       "      <td>Alan Moore/David   Lloyd</td>\n",
       "    </tr>\n",
       "  </tbody>\n",
       "</table>\n",
       "</div>"
      ],
      "text/plain": [
       "   author_id                          author\n",
       "0          1                      A.S. Byatt\n",
       "1          2  Aesop/Laura Harris/Laura Gibbs\n",
       "2          3                 Agatha Christie\n",
       "3          4                   Alan Brennert\n",
       "4          5        Alan Moore/David   Lloyd"
      ]
     },
     "execution_count": 8,
     "metadata": {},
     "output_type": "execute_result"
    }
   ],
   "source": [
    "authors.head()"
   ]
  },
  {
   "cell_type": "code",
   "execution_count": 9,
   "metadata": {},
   "outputs": [],
   "source": [
    "query = '''SELECT *\n",
    "           FROM publishers'''"
   ]
  },
  {
   "cell_type": "code",
   "execution_count": 10,
   "metadata": {},
   "outputs": [],
   "source": [
    "publishers = pd.io.sql.read_sql(query, con = engine)"
   ]
  },
  {
   "cell_type": "code",
   "execution_count": 11,
   "metadata": {},
   "outputs": [
    {
     "data": {
      "text/html": [
       "<div>\n",
       "<style scoped>\n",
       "    .dataframe tbody tr th:only-of-type {\n",
       "        vertical-align: middle;\n",
       "    }\n",
       "\n",
       "    .dataframe tbody tr th {\n",
       "        vertical-align: top;\n",
       "    }\n",
       "\n",
       "    .dataframe thead th {\n",
       "        text-align: right;\n",
       "    }\n",
       "</style>\n",
       "<table border=\"1\" class=\"dataframe\">\n",
       "  <thead>\n",
       "    <tr style=\"text-align: right;\">\n",
       "      <th></th>\n",
       "      <th>publisher_id</th>\n",
       "      <th>publisher</th>\n",
       "    </tr>\n",
       "  </thead>\n",
       "  <tbody>\n",
       "    <tr>\n",
       "      <th>0</th>\n",
       "      <td>1</td>\n",
       "      <td>Ace</td>\n",
       "    </tr>\n",
       "    <tr>\n",
       "      <th>1</th>\n",
       "      <td>2</td>\n",
       "      <td>Ace Book</td>\n",
       "    </tr>\n",
       "    <tr>\n",
       "      <th>2</th>\n",
       "      <td>3</td>\n",
       "      <td>Ace Books</td>\n",
       "    </tr>\n",
       "    <tr>\n",
       "      <th>3</th>\n",
       "      <td>4</td>\n",
       "      <td>Ace Hardcover</td>\n",
       "    </tr>\n",
       "    <tr>\n",
       "      <th>4</th>\n",
       "      <td>5</td>\n",
       "      <td>Addison Wesley Publishing Company</td>\n",
       "    </tr>\n",
       "  </tbody>\n",
       "</table>\n",
       "</div>"
      ],
      "text/plain": [
       "   publisher_id                          publisher\n",
       "0             1                                Ace\n",
       "1             2                           Ace Book\n",
       "2             3                          Ace Books\n",
       "3             4                      Ace Hardcover\n",
       "4             5  Addison Wesley Publishing Company"
      ]
     },
     "execution_count": 11,
     "metadata": {},
     "output_type": "execute_result"
    }
   ],
   "source": [
    "publishers.head()"
   ]
  },
  {
   "cell_type": "code",
   "execution_count": 12,
   "metadata": {},
   "outputs": [],
   "source": [
    "query = '''SELECT *\n",
    "           FROM ratings'''"
   ]
  },
  {
   "cell_type": "code",
   "execution_count": 13,
   "metadata": {},
   "outputs": [],
   "source": [
    "ratings = pd.io.sql.read_sql(query, con = engine)"
   ]
  },
  {
   "cell_type": "code",
   "execution_count": 14,
   "metadata": {},
   "outputs": [
    {
     "data": {
      "text/html": [
       "<div>\n",
       "<style scoped>\n",
       "    .dataframe tbody tr th:only-of-type {\n",
       "        vertical-align: middle;\n",
       "    }\n",
       "\n",
       "    .dataframe tbody tr th {\n",
       "        vertical-align: top;\n",
       "    }\n",
       "\n",
       "    .dataframe thead th {\n",
       "        text-align: right;\n",
       "    }\n",
       "</style>\n",
       "<table border=\"1\" class=\"dataframe\">\n",
       "  <thead>\n",
       "    <tr style=\"text-align: right;\">\n",
       "      <th></th>\n",
       "      <th>rating_id</th>\n",
       "      <th>book_id</th>\n",
       "      <th>username</th>\n",
       "      <th>rating</th>\n",
       "    </tr>\n",
       "  </thead>\n",
       "  <tbody>\n",
       "    <tr>\n",
       "      <th>0</th>\n",
       "      <td>1</td>\n",
       "      <td>1</td>\n",
       "      <td>ryanfranco</td>\n",
       "      <td>4</td>\n",
       "    </tr>\n",
       "    <tr>\n",
       "      <th>1</th>\n",
       "      <td>2</td>\n",
       "      <td>1</td>\n",
       "      <td>grantpatricia</td>\n",
       "      <td>2</td>\n",
       "    </tr>\n",
       "    <tr>\n",
       "      <th>2</th>\n",
       "      <td>3</td>\n",
       "      <td>1</td>\n",
       "      <td>brandtandrea</td>\n",
       "      <td>5</td>\n",
       "    </tr>\n",
       "    <tr>\n",
       "      <th>3</th>\n",
       "      <td>4</td>\n",
       "      <td>2</td>\n",
       "      <td>lorichen</td>\n",
       "      <td>3</td>\n",
       "    </tr>\n",
       "    <tr>\n",
       "      <th>4</th>\n",
       "      <td>5</td>\n",
       "      <td>2</td>\n",
       "      <td>mariokeller</td>\n",
       "      <td>2</td>\n",
       "    </tr>\n",
       "  </tbody>\n",
       "</table>\n",
       "</div>"
      ],
      "text/plain": [
       "   rating_id  book_id       username  rating\n",
       "0          1        1     ryanfranco       4\n",
       "1          2        1  grantpatricia       2\n",
       "2          3        1   brandtandrea       5\n",
       "3          4        2       lorichen       3\n",
       "4          5        2    mariokeller       2"
      ]
     },
     "execution_count": 14,
     "metadata": {},
     "output_type": "execute_result"
    }
   ],
   "source": [
    "ratings.head()"
   ]
  },
  {
   "cell_type": "code",
   "execution_count": 15,
   "metadata": {},
   "outputs": [],
   "source": [
    "query = '''SELECT *\n",
    "           FROM reviews'''"
   ]
  },
  {
   "cell_type": "code",
   "execution_count": 16,
   "metadata": {},
   "outputs": [],
   "source": [
    "reviews = pd.io.sql.read_sql(query, con = engine)"
   ]
  },
  {
   "cell_type": "code",
   "execution_count": 17,
   "metadata": {},
   "outputs": [
    {
     "data": {
      "text/html": [
       "<div>\n",
       "<style scoped>\n",
       "    .dataframe tbody tr th:only-of-type {\n",
       "        vertical-align: middle;\n",
       "    }\n",
       "\n",
       "    .dataframe tbody tr th {\n",
       "        vertical-align: top;\n",
       "    }\n",
       "\n",
       "    .dataframe thead th {\n",
       "        text-align: right;\n",
       "    }\n",
       "</style>\n",
       "<table border=\"1\" class=\"dataframe\">\n",
       "  <thead>\n",
       "    <tr style=\"text-align: right;\">\n",
       "      <th></th>\n",
       "      <th>review_id</th>\n",
       "      <th>book_id</th>\n",
       "      <th>username</th>\n",
       "      <th>text</th>\n",
       "    </tr>\n",
       "  </thead>\n",
       "  <tbody>\n",
       "    <tr>\n",
       "      <th>0</th>\n",
       "      <td>1</td>\n",
       "      <td>1</td>\n",
       "      <td>brandtandrea</td>\n",
       "      <td>Mention society tell send professor analysis. ...</td>\n",
       "    </tr>\n",
       "    <tr>\n",
       "      <th>1</th>\n",
       "      <td>2</td>\n",
       "      <td>1</td>\n",
       "      <td>ryanfranco</td>\n",
       "      <td>Foot glass pretty audience hit themselves. Amo...</td>\n",
       "    </tr>\n",
       "    <tr>\n",
       "      <th>2</th>\n",
       "      <td>3</td>\n",
       "      <td>2</td>\n",
       "      <td>lorichen</td>\n",
       "      <td>Listen treat keep worry. Miss husband tax but ...</td>\n",
       "    </tr>\n",
       "    <tr>\n",
       "      <th>3</th>\n",
       "      <td>4</td>\n",
       "      <td>3</td>\n",
       "      <td>johnsonamanda</td>\n",
       "      <td>Finally month interesting blue could nature cu...</td>\n",
       "    </tr>\n",
       "    <tr>\n",
       "      <th>4</th>\n",
       "      <td>5</td>\n",
       "      <td>3</td>\n",
       "      <td>scotttamara</td>\n",
       "      <td>Nation purpose heavy give wait song will. List...</td>\n",
       "    </tr>\n",
       "  </tbody>\n",
       "</table>\n",
       "</div>"
      ],
      "text/plain": [
       "   review_id  book_id       username  \\\n",
       "0          1        1   brandtandrea   \n",
       "1          2        1     ryanfranco   \n",
       "2          3        2       lorichen   \n",
       "3          4        3  johnsonamanda   \n",
       "4          5        3    scotttamara   \n",
       "\n",
       "                                                text  \n",
       "0  Mention society tell send professor analysis. ...  \n",
       "1  Foot glass pretty audience hit themselves. Amo...  \n",
       "2  Listen treat keep worry. Miss husband tax but ...  \n",
       "3  Finally month interesting blue could nature cu...  \n",
       "4  Nation purpose heavy give wait song will. List...  "
      ]
     },
     "execution_count": 17,
     "metadata": {},
     "output_type": "execute_result"
    }
   ],
   "source": [
    "reviews.head()"
   ]
  },
  {
   "cell_type": "markdown",
   "metadata": {},
   "source": [
    "### Сделаем по одному SQL-запросу для решения каждого задания"
   ]
  },
  {
   "cell_type": "markdown",
   "metadata": {},
   "source": [
    "#### Посчитаем, сколько книг вышло после 1 января 2000 года"
   ]
  },
  {
   "cell_type": "code",
   "execution_count": 18,
   "metadata": {},
   "outputs": [],
   "source": [
    "query = '''SELECT COUNT(book_id)\n",
    "           FROM books\n",
    "           WHERE CAST(publication_date AS timestamp) >  '2000-01-01' '''"
   ]
  },
  {
   "cell_type": "code",
   "execution_count": 19,
   "metadata": {},
   "outputs": [],
   "source": [
    "data = pd.io.sql.read_sql(query, con = engine)"
   ]
  },
  {
   "cell_type": "code",
   "execution_count": 20,
   "metadata": {},
   "outputs": [
    {
     "data": {
      "text/html": [
       "<div>\n",
       "<style scoped>\n",
       "    .dataframe tbody tr th:only-of-type {\n",
       "        vertical-align: middle;\n",
       "    }\n",
       "\n",
       "    .dataframe tbody tr th {\n",
       "        vertical-align: top;\n",
       "    }\n",
       "\n",
       "    .dataframe thead th {\n",
       "        text-align: right;\n",
       "    }\n",
       "</style>\n",
       "<table border=\"1\" class=\"dataframe\">\n",
       "  <thead>\n",
       "    <tr style=\"text-align: right;\">\n",
       "      <th></th>\n",
       "      <th>count</th>\n",
       "    </tr>\n",
       "  </thead>\n",
       "  <tbody>\n",
       "    <tr>\n",
       "      <th>0</th>\n",
       "      <td>819</td>\n",
       "    </tr>\n",
       "  </tbody>\n",
       "</table>\n",
       "</div>"
      ],
      "text/plain": [
       "   count\n",
       "0    819"
      ]
     },
     "execution_count": 20,
     "metadata": {},
     "output_type": "execute_result"
    }
   ],
   "source": [
    "data"
   ]
  },
  {
   "cell_type": "markdown",
   "metadata": {},
   "source": [
    "После 1 января 2000 года вышло 819 книг. "
   ]
  },
  {
   "cell_type": "markdown",
   "metadata": {},
   "source": [
    "#### Для каждой книги посчитаем количество обзоров и среднюю оценку"
   ]
  },
  {
   "cell_type": "code",
   "execution_count": 36,
   "metadata": {},
   "outputs": [],
   "source": [
    "query = '''SELECT b.book_id,\n",
    "                  b.title,\n",
    "                  COUNT(DISTINCT r.review_id),\n",
    "                  AVG(rating)\n",
    "           FROM books AS b\n",
    "           LEFT JOIN reviews AS r ON b.book_id=r.book_id\n",
    "           LEFT JOIN ratings AS rt ON b.book_id=rt.book_id\n",
    "           GROUP BY 1\n",
    "           ORDER BY 3 DESC'''"
   ]
  },
  {
   "cell_type": "code",
   "execution_count": 37,
   "metadata": {},
   "outputs": [],
   "source": [
    "data_1 = pd.io.sql.read_sql(query, con = engine)"
   ]
  },
  {
   "cell_type": "code",
   "execution_count": 38,
   "metadata": {},
   "outputs": [
    {
     "data": {
      "text/html": [
       "<div>\n",
       "<style scoped>\n",
       "    .dataframe tbody tr th:only-of-type {\n",
       "        vertical-align: middle;\n",
       "    }\n",
       "\n",
       "    .dataframe tbody tr th {\n",
       "        vertical-align: top;\n",
       "    }\n",
       "\n",
       "    .dataframe thead th {\n",
       "        text-align: right;\n",
       "    }\n",
       "</style>\n",
       "<table border=\"1\" class=\"dataframe\">\n",
       "  <thead>\n",
       "    <tr style=\"text-align: right;\">\n",
       "      <th></th>\n",
       "      <th>book_id</th>\n",
       "      <th>title</th>\n",
       "      <th>count</th>\n",
       "      <th>avg</th>\n",
       "    </tr>\n",
       "  </thead>\n",
       "  <tbody>\n",
       "    <tr>\n",
       "      <th>0</th>\n",
       "      <td>948</td>\n",
       "      <td>Twilight (Twilight  #1)</td>\n",
       "      <td>7</td>\n",
       "      <td>3.662500</td>\n",
       "    </tr>\n",
       "    <tr>\n",
       "      <th>1</th>\n",
       "      <td>963</td>\n",
       "      <td>Water for Elephants</td>\n",
       "      <td>6</td>\n",
       "      <td>3.977273</td>\n",
       "    </tr>\n",
       "    <tr>\n",
       "      <th>2</th>\n",
       "      <td>734</td>\n",
       "      <td>The Glass Castle</td>\n",
       "      <td>6</td>\n",
       "      <td>4.206897</td>\n",
       "    </tr>\n",
       "    <tr>\n",
       "      <th>3</th>\n",
       "      <td>302</td>\n",
       "      <td>Harry Potter and the Prisoner of Azkaban (Harr...</td>\n",
       "      <td>6</td>\n",
       "      <td>4.414634</td>\n",
       "    </tr>\n",
       "    <tr>\n",
       "      <th>4</th>\n",
       "      <td>695</td>\n",
       "      <td>The Curious Incident of the Dog in the Night-Time</td>\n",
       "      <td>6</td>\n",
       "      <td>4.081081</td>\n",
       "    </tr>\n",
       "    <tr>\n",
       "      <th>...</th>\n",
       "      <td>...</td>\n",
       "      <td>...</td>\n",
       "      <td>...</td>\n",
       "      <td>...</td>\n",
       "    </tr>\n",
       "    <tr>\n",
       "      <th>995</th>\n",
       "      <td>83</td>\n",
       "      <td>Anne Rice's The Vampire Lestat: A Graphic Novel</td>\n",
       "      <td>0</td>\n",
       "      <td>3.666667</td>\n",
       "    </tr>\n",
       "    <tr>\n",
       "      <th>996</th>\n",
       "      <td>808</td>\n",
       "      <td>The Natural Way to Draw</td>\n",
       "      <td>0</td>\n",
       "      <td>3.000000</td>\n",
       "    </tr>\n",
       "    <tr>\n",
       "      <th>997</th>\n",
       "      <td>672</td>\n",
       "      <td>The Cat in the Hat and Other Dr. Seuss Favorites</td>\n",
       "      <td>0</td>\n",
       "      <td>5.000000</td>\n",
       "    </tr>\n",
       "    <tr>\n",
       "      <th>998</th>\n",
       "      <td>221</td>\n",
       "      <td>Essential Tales and Poems</td>\n",
       "      <td>0</td>\n",
       "      <td>4.000000</td>\n",
       "    </tr>\n",
       "    <tr>\n",
       "      <th>999</th>\n",
       "      <td>191</td>\n",
       "      <td>Disney's Beauty and the Beast (A Little Golden...</td>\n",
       "      <td>0</td>\n",
       "      <td>4.000000</td>\n",
       "    </tr>\n",
       "  </tbody>\n",
       "</table>\n",
       "<p>1000 rows × 4 columns</p>\n",
       "</div>"
      ],
      "text/plain": [
       "     book_id                                              title  count  \\\n",
       "0        948                            Twilight (Twilight  #1)      7   \n",
       "1        963                                Water for Elephants      6   \n",
       "2        734                                   The Glass Castle      6   \n",
       "3        302  Harry Potter and the Prisoner of Azkaban (Harr...      6   \n",
       "4        695  The Curious Incident of the Dog in the Night-Time      6   \n",
       "..       ...                                                ...    ...   \n",
       "995       83    Anne Rice's The Vampire Lestat: A Graphic Novel      0   \n",
       "996      808                            The Natural Way to Draw      0   \n",
       "997      672   The Cat in the Hat and Other Dr. Seuss Favorites      0   \n",
       "998      221                          Essential Tales and Poems      0   \n",
       "999      191  Disney's Beauty and the Beast (A Little Golden...      0   \n",
       "\n",
       "          avg  \n",
       "0    3.662500  \n",
       "1    3.977273  \n",
       "2    4.206897  \n",
       "3    4.414634  \n",
       "4    4.081081  \n",
       "..        ...  \n",
       "995  3.666667  \n",
       "996  3.000000  \n",
       "997  5.000000  \n",
       "998  4.000000  \n",
       "999  4.000000  \n",
       "\n",
       "[1000 rows x 4 columns]"
      ]
     },
     "execution_count": 38,
     "metadata": {},
     "output_type": "execute_result"
    }
   ],
   "source": [
    "data_1"
   ]
  },
  {
   "cell_type": "markdown",
   "metadata": {},
   "source": [
    "Всего книг в количестве (1000). Больше всего обзоров на книгу Twilight (7)."
   ]
  },
  {
   "cell_type": "markdown",
   "metadata": {},
   "source": [
    "#### Определим издательство, которое выпустило наибольшее число книг толще 50 страниц — так мы исключим из анализа брошюры"
   ]
  },
  {
   "cell_type": "code",
   "execution_count": 24,
   "metadata": {},
   "outputs": [],
   "source": [
    "query = '''SELECT p.publisher,\n",
    "                  COUNT(b.book_id)\n",
    "           FROM publishers AS p\n",
    "           JOIN books AS b ON p.publisher_id=b.publisher_id\n",
    "           WHERE b.num_pages > 50\n",
    "           GROUP BY 1\n",
    "           ORDER BY 2 DESC\n",
    "           LIMIT 1'''"
   ]
  },
  {
   "cell_type": "code",
   "execution_count": 25,
   "metadata": {},
   "outputs": [],
   "source": [
    "data_2 = pd.io.sql.read_sql(query, con = engine)"
   ]
  },
  {
   "cell_type": "code",
   "execution_count": 26,
   "metadata": {},
   "outputs": [
    {
     "data": {
      "text/html": [
       "<div>\n",
       "<style scoped>\n",
       "    .dataframe tbody tr th:only-of-type {\n",
       "        vertical-align: middle;\n",
       "    }\n",
       "\n",
       "    .dataframe tbody tr th {\n",
       "        vertical-align: top;\n",
       "    }\n",
       "\n",
       "    .dataframe thead th {\n",
       "        text-align: right;\n",
       "    }\n",
       "</style>\n",
       "<table border=\"1\" class=\"dataframe\">\n",
       "  <thead>\n",
       "    <tr style=\"text-align: right;\">\n",
       "      <th></th>\n",
       "      <th>publisher</th>\n",
       "      <th>count</th>\n",
       "    </tr>\n",
       "  </thead>\n",
       "  <tbody>\n",
       "    <tr>\n",
       "      <th>0</th>\n",
       "      <td>Penguin Books</td>\n",
       "      <td>42</td>\n",
       "    </tr>\n",
       "  </tbody>\n",
       "</table>\n",
       "</div>"
      ],
      "text/plain": [
       "       publisher  count\n",
       "0  Penguin Books     42"
      ]
     },
     "execution_count": 26,
     "metadata": {},
     "output_type": "execute_result"
    }
   ],
   "source": [
    "data_2"
   ]
  },
  {
   "cell_type": "markdown",
   "metadata": {},
   "source": [
    "Penguin Books - издательство, которое выпустило наибольшее количество книг толще 50 страниц в количестве (42) "
   ]
  },
  {
   "cell_type": "markdown",
   "metadata": {},
   "source": [
    "#### Определим автора с самой высокой средней оценкой книг — учитываем только книги с 50 и более оценками"
   ]
  },
  {
   "cell_type": "code",
   "execution_count": 52,
   "metadata": {},
   "outputs": [],
   "source": [
    "query = '''SELECT data.author,                                \n",
    "                  AVG(data.avg) \n",
    "           FROM (SELECT a.author AS author,\n",
    "                        b.book_id,\n",
    "                        AVG(rt.rating) AS avg,\n",
    "                        COUNT(rt.rating)\n",
    "                 FROM authors AS a\n",
    "                 JOIN books AS b ON a.author_id = b.author_id\n",
    "                 JOIN ratings AS rt ON b.book_id = rt.book_id\n",
    "                 GROUP BY 1, 2\n",
    "                 HAVING COUNT(rt.rating) >= 50) AS data\n",
    "           GROUP BY 1\n",
    "           ORDER BY 2 DESC\n",
    "           LIMIT 1'''"
   ]
  },
  {
   "cell_type": "code",
   "execution_count": 53,
   "metadata": {},
   "outputs": [],
   "source": [
    "data_3 = pd.io.sql.read_sql(query, con = engine)"
   ]
  },
  {
   "cell_type": "code",
   "execution_count": 54,
   "metadata": {},
   "outputs": [
    {
     "data": {
      "text/html": [
       "<div>\n",
       "<style scoped>\n",
       "    .dataframe tbody tr th:only-of-type {\n",
       "        vertical-align: middle;\n",
       "    }\n",
       "\n",
       "    .dataframe tbody tr th {\n",
       "        vertical-align: top;\n",
       "    }\n",
       "\n",
       "    .dataframe thead th {\n",
       "        text-align: right;\n",
       "    }\n",
       "</style>\n",
       "<table border=\"1\" class=\"dataframe\">\n",
       "  <thead>\n",
       "    <tr style=\"text-align: right;\">\n",
       "      <th></th>\n",
       "      <th>author</th>\n",
       "      <th>avg</th>\n",
       "    </tr>\n",
       "  </thead>\n",
       "  <tbody>\n",
       "    <tr>\n",
       "      <th>0</th>\n",
       "      <td>J.K. Rowling/Mary GrandPré</td>\n",
       "      <td>4.283844</td>\n",
       "    </tr>\n",
       "  </tbody>\n",
       "</table>\n",
       "</div>"
      ],
      "text/plain": [
       "                       author       avg\n",
       "0  J.K. Rowling/Mary GrandPré  4.283844"
      ]
     },
     "execution_count": 54,
     "metadata": {},
     "output_type": "execute_result"
    }
   ],
   "source": [
    "data_3"
   ]
  },
  {
   "cell_type": "markdown",
   "metadata": {},
   "source": [
    "Автор с самой высокой оценкой книг (при учете только книги с 50 и более оценками) стала J.K.Rowling/Mary GrandPré оценка (4.28) "
   ]
  },
  {
   "cell_type": "markdown",
   "metadata": {},
   "source": [
    "#### Посчитаем среднее количество обзоров от пользователей, которые поставили больше 50 оценок"
   ]
  },
  {
   "cell_type": "code",
   "execution_count": 64,
   "metadata": {},
   "outputs": [],
   "source": [
    "query = '''SELECT COUNT(review_id) / COUNT(DISTINCT username) AS avg\n",
    "           FROM reviews \n",
    "           WHERE username IN (SELECT data.username\n",
    "                                      FROM (SELECT username,\n",
    "                                                   COUNT(rating)   \n",
    "                                            FROM ratings\n",
    "                                            GROUP BY 1\n",
    "                                            HAVING COUNT(rating) > 50) AS data)'''"
   ]
  },
  {
   "cell_type": "code",
   "execution_count": 65,
   "metadata": {},
   "outputs": [],
   "source": [
    "data_4 = pd.io.sql.read_sql(query, con = engine)"
   ]
  },
  {
   "cell_type": "code",
   "execution_count": 66,
   "metadata": {},
   "outputs": [
    {
     "data": {
      "text/html": [
       "<div>\n",
       "<style scoped>\n",
       "    .dataframe tbody tr th:only-of-type {\n",
       "        vertical-align: middle;\n",
       "    }\n",
       "\n",
       "    .dataframe tbody tr th {\n",
       "        vertical-align: top;\n",
       "    }\n",
       "\n",
       "    .dataframe thead th {\n",
       "        text-align: right;\n",
       "    }\n",
       "</style>\n",
       "<table border=\"1\" class=\"dataframe\">\n",
       "  <thead>\n",
       "    <tr style=\"text-align: right;\">\n",
       "      <th></th>\n",
       "      <th>avg</th>\n",
       "    </tr>\n",
       "  </thead>\n",
       "  <tbody>\n",
       "    <tr>\n",
       "      <th>0</th>\n",
       "      <td>24</td>\n",
       "    </tr>\n",
       "  </tbody>\n",
       "</table>\n",
       "</div>"
      ],
      "text/plain": [
       "   avg\n",
       "0   24"
      ]
     },
     "execution_count": 66,
     "metadata": {},
     "output_type": "execute_result"
    }
   ],
   "source": [
    "data_4"
   ]
  },
  {
   "cell_type": "markdown",
   "metadata": {},
   "source": [
    "Среднее количество обзоров от пользователей, которые поставили больше 50 оценок, равняется (24) "
   ]
  },
  {
   "cell_type": "markdown",
   "metadata": {},
   "source": [
    "## Вывод"
   ]
  },
  {
   "cell_type": "markdown",
   "metadata": {},
   "source": [
    "Мы провели исследование, выполнили пять SQL-запросов по предоставленной базе данных. \n",
    "\n",
    "1. Посчитали, сколько книг вышло после 1 января 2000 года - 819 книг. \n",
    "2. Для каждой книги посчитали количество обзоров и среднюю оценку. Выявили что, всего книг в количестве (1000). Больше всего обзоров на книгу Twilight (7).\n",
    "3. Определили издательство, которое выпустило наибольшее число книг толще 50 страниц — так мы исключили из анализа брошюры. Это издательство Penguin Books, выпустило наибольшее количество книг толще 50 страниц в количестве (42)\n",
    "4. Определили автора с самой высокой средней оценкой книг — учитывали только книги с 50 и более оценками. Им стала J.K. Rowling/Mary GrandPré оценка (4.28)\n",
    "5. Посчитали среднее количество обзоров от пользователей, которые поставили больше 50 оценок. Выяснили что, среднее количество обзоров от пользователей, которые поставили больше 50 оценок, равняется (24). "
   ]
  }
 ],
 "metadata": {
  "ExecuteTimeLog": [
   {
    "duration": 510,
    "start_time": "2023-01-10T08:42:52.765Z"
   },
   {
    "duration": 6242,
    "start_time": "2023-01-10T08:43:25.323Z"
   },
   {
    "duration": 3,
    "start_time": "2023-01-10T08:47:02.002Z"
   },
   {
    "duration": 266,
    "start_time": "2023-01-10T08:47:09.848Z"
   },
   {
    "duration": 15,
    "start_time": "2023-01-10T08:47:15.345Z"
   },
   {
    "duration": 2,
    "start_time": "2023-01-10T08:47:59.244Z"
   },
   {
    "duration": 78,
    "start_time": "2023-01-10T08:48:14.956Z"
   },
   {
    "duration": 7,
    "start_time": "2023-01-10T08:48:26.707Z"
   },
   {
    "duration": 2,
    "start_time": "2023-01-10T08:48:51.803Z"
   },
   {
    "duration": 69,
    "start_time": "2023-01-10T08:49:06.614Z"
   },
   {
    "duration": 6,
    "start_time": "2023-01-10T08:49:13.501Z"
   },
   {
    "duration": 2,
    "start_time": "2023-01-10T08:50:03.677Z"
   },
   {
    "duration": 121,
    "start_time": "2023-01-10T08:50:15.096Z"
   },
   {
    "duration": 8,
    "start_time": "2023-01-10T08:50:20.982Z"
   },
   {
    "duration": 2,
    "start_time": "2023-01-10T08:50:56.334Z"
   },
   {
    "duration": 114,
    "start_time": "2023-01-10T08:51:08.633Z"
   },
   {
    "duration": 8,
    "start_time": "2023-01-10T08:51:15.656Z"
   },
   {
    "duration": 3,
    "start_time": "2023-01-10T08:57:35.113Z"
   },
   {
    "duration": 213,
    "start_time": "2023-01-10T08:58:13.178Z"
   },
   {
    "duration": 78,
    "start_time": "2023-01-10T08:58:41.459Z"
   },
   {
    "duration": 126,
    "start_time": "2023-01-10T08:58:42.633Z"
   },
   {
    "duration": 3,
    "start_time": "2023-01-10T08:58:53.722Z"
   },
   {
    "duration": 66,
    "start_time": "2023-01-10T08:58:55.804Z"
   },
   {
    "duration": 6,
    "start_time": "2023-01-10T08:59:03.798Z"
   },
   {
    "duration": 3,
    "start_time": "2023-01-10T09:06:53.445Z"
   },
   {
    "duration": 148,
    "start_time": "2023-01-10T09:07:06.520Z"
   },
   {
    "duration": 3,
    "start_time": "2023-01-10T09:07:45.372Z"
   },
   {
    "duration": 100,
    "start_time": "2023-01-10T09:07:46.330Z"
   },
   {
    "duration": 13,
    "start_time": "2023-01-10T09:07:49.340Z"
   },
   {
    "duration": 7,
    "start_time": "2023-01-10T09:08:16.763Z"
   },
   {
    "duration": 11,
    "start_time": "2023-01-10T09:08:47.002Z"
   },
   {
    "duration": 3,
    "start_time": "2023-01-10T09:09:39.788Z"
   },
   {
    "duration": 101,
    "start_time": "2023-01-10T09:09:40.723Z"
   },
   {
    "duration": 79,
    "start_time": "2023-01-10T09:09:41.413Z"
   },
   {
    "duration": 12,
    "start_time": "2023-01-10T09:09:44.332Z"
   },
   {
    "duration": 3,
    "start_time": "2023-01-10T09:09:57.085Z"
   },
   {
    "duration": 97,
    "start_time": "2023-01-10T09:09:58.627Z"
   },
   {
    "duration": 11,
    "start_time": "2023-01-10T09:09:59.371Z"
   },
   {
    "duration": 2,
    "start_time": "2023-01-10T09:13:09.617Z"
   },
   {
    "duration": 97,
    "start_time": "2023-01-10T09:13:10.504Z"
   },
   {
    "duration": 11,
    "start_time": "2023-01-10T09:13:11.304Z"
   },
   {
    "duration": 3,
    "start_time": "2023-01-10T09:14:06.025Z"
   },
   {
    "duration": 99,
    "start_time": "2023-01-10T09:14:06.744Z"
   },
   {
    "duration": 12,
    "start_time": "2023-01-10T09:14:07.369Z"
   },
   {
    "duration": 3,
    "start_time": "2023-01-10T09:22:27.092Z"
   },
   {
    "duration": 130,
    "start_time": "2023-01-10T09:22:35.966Z"
   },
   {
    "duration": 2,
    "start_time": "2023-01-10T09:22:50.567Z"
   },
   {
    "duration": 144,
    "start_time": "2023-01-10T09:22:51.384Z"
   },
   {
    "duration": 3,
    "start_time": "2023-01-10T09:23:05.754Z"
   },
   {
    "duration": 71,
    "start_time": "2023-01-10T09:23:06.713Z"
   },
   {
    "duration": 8,
    "start_time": "2023-01-10T09:23:09.530Z"
   },
   {
    "duration": 2,
    "start_time": "2023-01-10T09:29:14.606Z"
   },
   {
    "duration": 139,
    "start_time": "2023-01-10T09:29:22.353Z"
   },
   {
    "duration": 3,
    "start_time": "2023-01-10T09:29:38.138Z"
   },
   {
    "duration": 132,
    "start_time": "2023-01-10T09:29:38.890Z"
   },
   {
    "duration": 2,
    "start_time": "2023-01-10T09:30:34.187Z"
   },
   {
    "duration": 74,
    "start_time": "2023-01-10T09:30:34.934Z"
   },
   {
    "duration": 7,
    "start_time": "2023-01-10T09:30:37.805Z"
   },
   {
    "duration": 3,
    "start_time": "2023-01-10T09:31:20.275Z"
   },
   {
    "duration": 72,
    "start_time": "2023-01-10T09:31:21.309Z"
   },
   {
    "duration": 7,
    "start_time": "2023-01-10T09:31:22.193Z"
   },
   {
    "duration": 4,
    "start_time": "2023-01-10T09:42:53.997Z"
   },
   {
    "duration": 139,
    "start_time": "2023-01-10T09:43:01.983Z"
   },
   {
    "duration": 4,
    "start_time": "2023-01-10T09:43:22.209Z"
   },
   {
    "duration": 131,
    "start_time": "2023-01-10T09:43:23.288Z"
   },
   {
    "duration": 3,
    "start_time": "2023-01-10T09:44:06.858Z"
   },
   {
    "duration": 69,
    "start_time": "2023-01-10T09:44:07.794Z"
   },
   {
    "duration": 9,
    "start_time": "2023-01-10T09:44:10.600Z"
   },
   {
    "duration": 4,
    "start_time": "2023-01-10T09:44:48.875Z"
   },
   {
    "duration": 69,
    "start_time": "2023-01-10T09:44:49.968Z"
   },
   {
    "duration": 6,
    "start_time": "2023-01-10T09:44:51.416Z"
   },
   {
    "duration": 3,
    "start_time": "2023-01-10T09:45:20.190Z"
   },
   {
    "duration": 70,
    "start_time": "2023-01-10T09:45:20.796Z"
   },
   {
    "duration": 6,
    "start_time": "2023-01-10T09:45:21.971Z"
   },
   {
    "duration": 5,
    "start_time": "2023-01-10T09:46:44.983Z"
   },
   {
    "duration": 67,
    "start_time": "2023-01-10T09:46:45.973Z"
   },
   {
    "duration": 6,
    "start_time": "2023-01-10T09:46:46.757Z"
   },
   {
    "duration": 3,
    "start_time": "2023-01-10T09:47:33.190Z"
   },
   {
    "duration": 131,
    "start_time": "2023-01-10T09:47:34.069Z"
   },
   {
    "duration": 3,
    "start_time": "2023-01-10T09:47:43.134Z"
   },
   {
    "duration": 135,
    "start_time": "2023-01-10T09:47:43.847Z"
   },
   {
    "duration": 3,
    "start_time": "2023-01-10T09:47:51.248Z"
   },
   {
    "duration": 69,
    "start_time": "2023-01-10T09:47:52.384Z"
   },
   {
    "duration": 6,
    "start_time": "2023-01-10T09:47:53.622Z"
   },
   {
    "duration": 3,
    "start_time": "2023-01-10T09:50:16.578Z"
   },
   {
    "duration": 75,
    "start_time": "2023-01-10T09:50:17.546Z"
   },
   {
    "duration": 10,
    "start_time": "2023-01-10T09:50:18.098Z"
   },
   {
    "duration": 3,
    "start_time": "2023-01-10T09:51:07.861Z"
   },
   {
    "duration": 86,
    "start_time": "2023-01-10T09:51:08.565Z"
   },
   {
    "duration": 6,
    "start_time": "2023-01-10T09:51:09.427Z"
   },
   {
    "duration": 576,
    "start_time": "2023-01-10T09:59:20.541Z"
   },
   {
    "duration": 5726,
    "start_time": "2023-01-10T09:59:21.118Z"
   },
   {
    "duration": 3,
    "start_time": "2023-01-10T09:59:26.846Z"
   },
   {
    "duration": 285,
    "start_time": "2023-01-10T09:59:26.851Z"
   },
   {
    "duration": 15,
    "start_time": "2023-01-10T09:59:27.138Z"
   },
   {
    "duration": 3,
    "start_time": "2023-01-10T09:59:27.154Z"
   },
   {
    "duration": 78,
    "start_time": "2023-01-10T09:59:27.159Z"
   },
   {
    "duration": 7,
    "start_time": "2023-01-10T09:59:27.239Z"
   },
   {
    "duration": 17,
    "start_time": "2023-01-10T09:59:27.248Z"
   },
   {
    "duration": 82,
    "start_time": "2023-01-10T09:59:27.268Z"
   },
   {
    "duration": 8,
    "start_time": "2023-01-10T09:59:27.352Z"
   },
   {
    "duration": 8,
    "start_time": "2023-01-10T09:59:27.362Z"
   },
   {
    "duration": 107,
    "start_time": "2023-01-10T09:59:27.372Z"
   },
   {
    "duration": 9,
    "start_time": "2023-01-10T09:59:27.481Z"
   },
   {
    "duration": 20,
    "start_time": "2023-01-10T09:59:27.492Z"
   },
   {
    "duration": 95,
    "start_time": "2023-01-10T09:59:27.514Z"
   },
   {
    "duration": 8,
    "start_time": "2023-01-10T09:59:27.610Z"
   },
   {
    "duration": 8,
    "start_time": "2023-01-10T09:59:27.619Z"
   },
   {
    "duration": 97,
    "start_time": "2023-01-10T09:59:27.628Z"
   },
   {
    "duration": 5,
    "start_time": "2023-01-10T09:59:27.727Z"
   },
   {
    "duration": 5,
    "start_time": "2023-01-10T09:59:27.733Z"
   },
   {
    "duration": 85,
    "start_time": "2023-01-10T09:59:27.740Z"
   },
   {
    "duration": 11,
    "start_time": "2023-01-10T09:59:27.827Z"
   },
   {
    "duration": 6,
    "start_time": "2023-01-10T09:59:27.840Z"
   },
   {
    "duration": 77,
    "start_time": "2023-01-10T09:59:27.848Z"
   },
   {
    "duration": 7,
    "start_time": "2023-01-10T09:59:27.926Z"
   },
   {
    "duration": 8,
    "start_time": "2023-01-10T09:59:27.934Z"
   },
   {
    "duration": 76,
    "start_time": "2023-01-10T09:59:27.946Z"
   },
   {
    "duration": 6,
    "start_time": "2023-01-10T09:59:28.024Z"
   },
   {
    "duration": 5,
    "start_time": "2023-01-10T09:59:28.032Z"
   },
   {
    "duration": 86,
    "start_time": "2023-01-10T09:59:28.039Z"
   },
   {
    "duration": 7,
    "start_time": "2023-01-10T09:59:28.126Z"
   },
   {
    "duration": 497,
    "start_time": "2023-01-11T07:11:58.776Z"
   },
   {
    "duration": 6318,
    "start_time": "2023-01-11T07:11:59.277Z"
   },
   {
    "duration": 3,
    "start_time": "2023-01-11T07:12:05.597Z"
   },
   {
    "duration": 328,
    "start_time": "2023-01-11T07:12:05.601Z"
   },
   {
    "duration": 17,
    "start_time": "2023-01-11T07:12:05.933Z"
   },
   {
    "duration": 16,
    "start_time": "2023-01-11T07:12:05.953Z"
   },
   {
    "duration": 85,
    "start_time": "2023-01-11T07:12:05.971Z"
   },
   {
    "duration": 8,
    "start_time": "2023-01-11T07:12:06.057Z"
   },
   {
    "duration": 10,
    "start_time": "2023-01-11T07:12:06.067Z"
   },
   {
    "duration": 95,
    "start_time": "2023-01-11T07:12:06.079Z"
   },
   {
    "duration": 9,
    "start_time": "2023-01-11T07:12:06.177Z"
   },
   {
    "duration": 15,
    "start_time": "2023-01-11T07:12:06.188Z"
   },
   {
    "duration": 135,
    "start_time": "2023-01-11T07:12:06.205Z"
   },
   {
    "duration": 11,
    "start_time": "2023-01-11T07:12:06.347Z"
   },
   {
    "duration": 12,
    "start_time": "2023-01-11T07:12:06.360Z"
   },
   {
    "duration": 110,
    "start_time": "2023-01-11T07:12:06.374Z"
   },
   {
    "duration": 9,
    "start_time": "2023-01-11T07:12:06.486Z"
   },
   {
    "duration": 13,
    "start_time": "2023-01-11T07:12:06.497Z"
   },
   {
    "duration": 92,
    "start_time": "2023-01-11T07:12:06.511Z"
   },
   {
    "duration": 6,
    "start_time": "2023-01-11T07:12:06.604Z"
   },
   {
    "duration": 6,
    "start_time": "2023-01-11T07:12:06.612Z"
   },
   {
    "duration": 96,
    "start_time": "2023-01-11T07:12:06.620Z"
   },
   {
    "duration": 17,
    "start_time": "2023-01-11T07:12:06.718Z"
   },
   {
    "duration": 3,
    "start_time": "2023-01-11T07:12:06.737Z"
   },
   {
    "duration": 78,
    "start_time": "2023-01-11T07:12:06.742Z"
   },
   {
    "duration": 8,
    "start_time": "2023-01-11T07:12:06.823Z"
   },
   {
    "duration": 9,
    "start_time": "2023-01-11T07:12:06.833Z"
   },
   {
    "duration": 82,
    "start_time": "2023-01-11T07:12:06.844Z"
   },
   {
    "duration": 7,
    "start_time": "2023-01-11T07:12:06.928Z"
   },
   {
    "duration": 9,
    "start_time": "2023-01-11T07:12:06.936Z"
   },
   {
    "duration": 85,
    "start_time": "2023-01-11T07:12:06.946Z"
   },
   {
    "duration": 6,
    "start_time": "2023-01-11T07:12:07.033Z"
   },
   {
    "duration": 4,
    "start_time": "2023-01-11T07:12:46.431Z"
   },
   {
    "duration": 105,
    "start_time": "2023-01-11T07:12:48.000Z"
   },
   {
    "duration": 13,
    "start_time": "2023-01-11T07:12:49.642Z"
   },
   {
    "duration": 3,
    "start_time": "2023-01-11T07:14:18.876Z"
   },
   {
    "duration": 104,
    "start_time": "2023-01-11T07:14:19.821Z"
   },
   {
    "duration": 13,
    "start_time": "2023-01-11T07:14:20.580Z"
   },
   {
    "duration": 3,
    "start_time": "2023-01-11T07:19:21.517Z"
   },
   {
    "duration": 77,
    "start_time": "2023-01-11T07:19:22.732Z"
   },
   {
    "duration": 7,
    "start_time": "2023-01-11T07:19:23.500Z"
   },
   {
    "duration": 3,
    "start_time": "2023-01-11T07:24:10.457Z"
   },
   {
    "duration": 214,
    "start_time": "2023-01-11T07:24:11.517Z"
   },
   {
    "duration": 3,
    "start_time": "2023-01-11T07:24:44.341Z"
   },
   {
    "duration": 133,
    "start_time": "2023-01-11T07:24:45.414Z"
   },
   {
    "duration": 3,
    "start_time": "2023-01-11T07:26:26.391Z"
   },
   {
    "duration": 77,
    "start_time": "2023-01-11T07:26:27.208Z"
   },
   {
    "duration": 7,
    "start_time": "2023-01-11T07:26:28.313Z"
   },
   {
    "duration": 2,
    "start_time": "2023-01-11T07:27:08.874Z"
   },
   {
    "duration": 76,
    "start_time": "2023-01-11T07:27:09.800Z"
   },
   {
    "duration": 6,
    "start_time": "2023-01-11T07:27:10.472Z"
   },
   {
    "duration": 3,
    "start_time": "2023-01-11T07:28:35.796Z"
   },
   {
    "duration": 77,
    "start_time": "2023-01-11T07:28:37.340Z"
   },
   {
    "duration": 8,
    "start_time": "2023-01-11T07:28:38.108Z"
   },
   {
    "duration": 2,
    "start_time": "2023-01-11T07:43:26.794Z"
   },
   {
    "duration": 74,
    "start_time": "2023-01-11T07:43:27.666Z"
   },
   {
    "duration": 5,
    "start_time": "2023-01-11T07:43:28.417Z"
   },
   {
    "duration": 3,
    "start_time": "2023-01-11T07:44:58.924Z"
   },
   {
    "duration": 74,
    "start_time": "2023-01-11T07:44:59.707Z"
   },
   {
    "duration": 5,
    "start_time": "2023-01-11T07:45:00.452Z"
   },
   {
    "duration": 4,
    "start_time": "2023-01-11T07:45:15.125Z"
   },
   {
    "duration": 74,
    "start_time": "2023-01-11T07:45:15.908Z"
   },
   {
    "duration": 7,
    "start_time": "2023-01-11T07:45:16.541Z"
   },
   {
    "duration": 3,
    "start_time": "2023-01-11T07:45:48.837Z"
   },
   {
    "duration": 73,
    "start_time": "2023-01-11T07:45:49.597Z"
   },
   {
    "duration": 6,
    "start_time": "2023-01-11T07:45:50.229Z"
   }
  ],
  "kernelspec": {
   "display_name": "Python 3 (ipykernel)",
   "language": "python",
   "name": "python3"
  },
  "language_info": {
   "codemirror_mode": {
    "name": "ipython",
    "version": 3
   },
   "file_extension": ".py",
   "mimetype": "text/x-python",
   "name": "python",
   "nbconvert_exporter": "python",
   "pygments_lexer": "ipython3",
   "version": "3.9.7"
  },
  "toc": {
   "base_numbering": 1,
   "nav_menu": {},
   "number_sections": false,
   "sideBar": true,
   "skip_h1_title": true,
   "title_cell": "Table of Contents",
   "title_sidebar": "Contents",
   "toc_cell": false,
   "toc_position": {},
   "toc_section_display": true,
   "toc_window_display": false
  }
 },
 "nbformat": 4,
 "nbformat_minor": 2
}
