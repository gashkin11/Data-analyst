{
 "cells": [
  {
   "cell_type": "markdown",
   "metadata": {},
   "source": [
    "# Исследование объявлений о продаже квартир"
   ]
  },
  {
   "cell_type": "markdown",
   "metadata": {},
   "source": [
    "### Откройте файл с данными и изучите общую информацию. "
   ]
  },
  {
   "cell_type": "code",
   "execution_count": 1,
   "metadata": {},
   "outputs": [
    {
     "data": {
      "text/html": [
       "<div>\n",
       "<style scoped>\n",
       "    .dataframe tbody tr th:only-of-type {\n",
       "        vertical-align: middle;\n",
       "    }\n",
       "\n",
       "    .dataframe tbody tr th {\n",
       "        vertical-align: top;\n",
       "    }\n",
       "\n",
       "    .dataframe thead th {\n",
       "        text-align: right;\n",
       "    }\n",
       "</style>\n",
       "<table border=\"1\" class=\"dataframe\">\n",
       "  <thead>\n",
       "    <tr style=\"text-align: right;\">\n",
       "      <th></th>\n",
       "      <th>total_images</th>\n",
       "      <th>last_price</th>\n",
       "      <th>total_area</th>\n",
       "      <th>first_day_exposition</th>\n",
       "      <th>rooms</th>\n",
       "      <th>ceiling_height</th>\n",
       "      <th>floors_total</th>\n",
       "      <th>living_area</th>\n",
       "      <th>floor</th>\n",
       "      <th>is_apartment</th>\n",
       "      <th>...</th>\n",
       "      <th>kitchen_area</th>\n",
       "      <th>balcony</th>\n",
       "      <th>locality_name</th>\n",
       "      <th>airports_nearest</th>\n",
       "      <th>cityCenters_nearest</th>\n",
       "      <th>parks_around3000</th>\n",
       "      <th>parks_nearest</th>\n",
       "      <th>ponds_around3000</th>\n",
       "      <th>ponds_nearest</th>\n",
       "      <th>days_exposition</th>\n",
       "    </tr>\n",
       "  </thead>\n",
       "  <tbody>\n",
       "    <tr>\n",
       "      <th>0</th>\n",
       "      <td>20</td>\n",
       "      <td>13000000.0</td>\n",
       "      <td>108.00</td>\n",
       "      <td>2019-03-07T00:00:00</td>\n",
       "      <td>3</td>\n",
       "      <td>2.70</td>\n",
       "      <td>16.0</td>\n",
       "      <td>51.00</td>\n",
       "      <td>8</td>\n",
       "      <td>NaN</td>\n",
       "      <td>...</td>\n",
       "      <td>25.00</td>\n",
       "      <td>NaN</td>\n",
       "      <td>Санкт-Петербург</td>\n",
       "      <td>18863.0</td>\n",
       "      <td>16028.0</td>\n",
       "      <td>1.0</td>\n",
       "      <td>482.0</td>\n",
       "      <td>2.0</td>\n",
       "      <td>755.0</td>\n",
       "      <td>NaN</td>\n",
       "    </tr>\n",
       "    <tr>\n",
       "      <th>1</th>\n",
       "      <td>7</td>\n",
       "      <td>3350000.0</td>\n",
       "      <td>40.40</td>\n",
       "      <td>2018-12-04T00:00:00</td>\n",
       "      <td>1</td>\n",
       "      <td>NaN</td>\n",
       "      <td>11.0</td>\n",
       "      <td>18.60</td>\n",
       "      <td>1</td>\n",
       "      <td>NaN</td>\n",
       "      <td>...</td>\n",
       "      <td>11.00</td>\n",
       "      <td>2.0</td>\n",
       "      <td>посёлок Шушары</td>\n",
       "      <td>12817.0</td>\n",
       "      <td>18603.0</td>\n",
       "      <td>0.0</td>\n",
       "      <td>NaN</td>\n",
       "      <td>0.0</td>\n",
       "      <td>NaN</td>\n",
       "      <td>81.0</td>\n",
       "    </tr>\n",
       "    <tr>\n",
       "      <th>2</th>\n",
       "      <td>10</td>\n",
       "      <td>5196000.0</td>\n",
       "      <td>56.00</td>\n",
       "      <td>2015-08-20T00:00:00</td>\n",
       "      <td>2</td>\n",
       "      <td>NaN</td>\n",
       "      <td>5.0</td>\n",
       "      <td>34.30</td>\n",
       "      <td>4</td>\n",
       "      <td>NaN</td>\n",
       "      <td>...</td>\n",
       "      <td>8.30</td>\n",
       "      <td>0.0</td>\n",
       "      <td>Санкт-Петербург</td>\n",
       "      <td>21741.0</td>\n",
       "      <td>13933.0</td>\n",
       "      <td>1.0</td>\n",
       "      <td>90.0</td>\n",
       "      <td>2.0</td>\n",
       "      <td>574.0</td>\n",
       "      <td>558.0</td>\n",
       "    </tr>\n",
       "    <tr>\n",
       "      <th>3</th>\n",
       "      <td>0</td>\n",
       "      <td>64900000.0</td>\n",
       "      <td>159.00</td>\n",
       "      <td>2015-07-24T00:00:00</td>\n",
       "      <td>3</td>\n",
       "      <td>NaN</td>\n",
       "      <td>14.0</td>\n",
       "      <td>NaN</td>\n",
       "      <td>9</td>\n",
       "      <td>NaN</td>\n",
       "      <td>...</td>\n",
       "      <td>NaN</td>\n",
       "      <td>0.0</td>\n",
       "      <td>Санкт-Петербург</td>\n",
       "      <td>28098.0</td>\n",
       "      <td>6800.0</td>\n",
       "      <td>2.0</td>\n",
       "      <td>84.0</td>\n",
       "      <td>3.0</td>\n",
       "      <td>234.0</td>\n",
       "      <td>424.0</td>\n",
       "    </tr>\n",
       "    <tr>\n",
       "      <th>4</th>\n",
       "      <td>2</td>\n",
       "      <td>10000000.0</td>\n",
       "      <td>100.00</td>\n",
       "      <td>2018-06-19T00:00:00</td>\n",
       "      <td>2</td>\n",
       "      <td>3.03</td>\n",
       "      <td>14.0</td>\n",
       "      <td>32.00</td>\n",
       "      <td>13</td>\n",
       "      <td>NaN</td>\n",
       "      <td>...</td>\n",
       "      <td>41.00</td>\n",
       "      <td>NaN</td>\n",
       "      <td>Санкт-Петербург</td>\n",
       "      <td>31856.0</td>\n",
       "      <td>8098.0</td>\n",
       "      <td>2.0</td>\n",
       "      <td>112.0</td>\n",
       "      <td>1.0</td>\n",
       "      <td>48.0</td>\n",
       "      <td>121.0</td>\n",
       "    </tr>\n",
       "    <tr>\n",
       "      <th>5</th>\n",
       "      <td>10</td>\n",
       "      <td>2890000.0</td>\n",
       "      <td>30.40</td>\n",
       "      <td>2018-09-10T00:00:00</td>\n",
       "      <td>1</td>\n",
       "      <td>NaN</td>\n",
       "      <td>12.0</td>\n",
       "      <td>14.40</td>\n",
       "      <td>5</td>\n",
       "      <td>NaN</td>\n",
       "      <td>...</td>\n",
       "      <td>9.10</td>\n",
       "      <td>NaN</td>\n",
       "      <td>городской посёлок Янино-1</td>\n",
       "      <td>NaN</td>\n",
       "      <td>NaN</td>\n",
       "      <td>NaN</td>\n",
       "      <td>NaN</td>\n",
       "      <td>NaN</td>\n",
       "      <td>NaN</td>\n",
       "      <td>55.0</td>\n",
       "    </tr>\n",
       "    <tr>\n",
       "      <th>6</th>\n",
       "      <td>6</td>\n",
       "      <td>3700000.0</td>\n",
       "      <td>37.30</td>\n",
       "      <td>2017-11-02T00:00:00</td>\n",
       "      <td>1</td>\n",
       "      <td>NaN</td>\n",
       "      <td>26.0</td>\n",
       "      <td>10.60</td>\n",
       "      <td>6</td>\n",
       "      <td>NaN</td>\n",
       "      <td>...</td>\n",
       "      <td>14.40</td>\n",
       "      <td>1.0</td>\n",
       "      <td>посёлок Парголово</td>\n",
       "      <td>52996.0</td>\n",
       "      <td>19143.0</td>\n",
       "      <td>0.0</td>\n",
       "      <td>NaN</td>\n",
       "      <td>0.0</td>\n",
       "      <td>NaN</td>\n",
       "      <td>155.0</td>\n",
       "    </tr>\n",
       "    <tr>\n",
       "      <th>7</th>\n",
       "      <td>5</td>\n",
       "      <td>7915000.0</td>\n",
       "      <td>71.60</td>\n",
       "      <td>2019-04-18T00:00:00</td>\n",
       "      <td>2</td>\n",
       "      <td>NaN</td>\n",
       "      <td>24.0</td>\n",
       "      <td>NaN</td>\n",
       "      <td>22</td>\n",
       "      <td>NaN</td>\n",
       "      <td>...</td>\n",
       "      <td>18.90</td>\n",
       "      <td>2.0</td>\n",
       "      <td>Санкт-Петербург</td>\n",
       "      <td>23982.0</td>\n",
       "      <td>11634.0</td>\n",
       "      <td>0.0</td>\n",
       "      <td>NaN</td>\n",
       "      <td>0.0</td>\n",
       "      <td>NaN</td>\n",
       "      <td>NaN</td>\n",
       "    </tr>\n",
       "    <tr>\n",
       "      <th>8</th>\n",
       "      <td>20</td>\n",
       "      <td>2900000.0</td>\n",
       "      <td>33.16</td>\n",
       "      <td>2018-05-23T00:00:00</td>\n",
       "      <td>1</td>\n",
       "      <td>NaN</td>\n",
       "      <td>27.0</td>\n",
       "      <td>15.43</td>\n",
       "      <td>26</td>\n",
       "      <td>NaN</td>\n",
       "      <td>...</td>\n",
       "      <td>8.81</td>\n",
       "      <td>NaN</td>\n",
       "      <td>посёлок Мурино</td>\n",
       "      <td>NaN</td>\n",
       "      <td>NaN</td>\n",
       "      <td>NaN</td>\n",
       "      <td>NaN</td>\n",
       "      <td>NaN</td>\n",
       "      <td>NaN</td>\n",
       "      <td>189.0</td>\n",
       "    </tr>\n",
       "    <tr>\n",
       "      <th>9</th>\n",
       "      <td>18</td>\n",
       "      <td>5400000.0</td>\n",
       "      <td>61.00</td>\n",
       "      <td>2017-02-26T00:00:00</td>\n",
       "      <td>3</td>\n",
       "      <td>2.50</td>\n",
       "      <td>9.0</td>\n",
       "      <td>43.60</td>\n",
       "      <td>7</td>\n",
       "      <td>NaN</td>\n",
       "      <td>...</td>\n",
       "      <td>6.50</td>\n",
       "      <td>2.0</td>\n",
       "      <td>Санкт-Петербург</td>\n",
       "      <td>50898.0</td>\n",
       "      <td>15008.0</td>\n",
       "      <td>0.0</td>\n",
       "      <td>NaN</td>\n",
       "      <td>0.0</td>\n",
       "      <td>NaN</td>\n",
       "      <td>289.0</td>\n",
       "    </tr>\n",
       "  </tbody>\n",
       "</table>\n",
       "<p>10 rows × 22 columns</p>\n",
       "</div>"
      ],
      "text/plain": [
       "   total_images  last_price  total_area first_day_exposition  rooms  \\\n",
       "0            20  13000000.0      108.00  2019-03-07T00:00:00      3   \n",
       "1             7   3350000.0       40.40  2018-12-04T00:00:00      1   \n",
       "2            10   5196000.0       56.00  2015-08-20T00:00:00      2   \n",
       "3             0  64900000.0      159.00  2015-07-24T00:00:00      3   \n",
       "4             2  10000000.0      100.00  2018-06-19T00:00:00      2   \n",
       "5            10   2890000.0       30.40  2018-09-10T00:00:00      1   \n",
       "6             6   3700000.0       37.30  2017-11-02T00:00:00      1   \n",
       "7             5   7915000.0       71.60  2019-04-18T00:00:00      2   \n",
       "8            20   2900000.0       33.16  2018-05-23T00:00:00      1   \n",
       "9            18   5400000.0       61.00  2017-02-26T00:00:00      3   \n",
       "\n",
       "   ceiling_height  floors_total  living_area  floor is_apartment  ...  \\\n",
       "0            2.70          16.0        51.00      8          NaN  ...   \n",
       "1             NaN          11.0        18.60      1          NaN  ...   \n",
       "2             NaN           5.0        34.30      4          NaN  ...   \n",
       "3             NaN          14.0          NaN      9          NaN  ...   \n",
       "4            3.03          14.0        32.00     13          NaN  ...   \n",
       "5             NaN          12.0        14.40      5          NaN  ...   \n",
       "6             NaN          26.0        10.60      6          NaN  ...   \n",
       "7             NaN          24.0          NaN     22          NaN  ...   \n",
       "8             NaN          27.0        15.43     26          NaN  ...   \n",
       "9            2.50           9.0        43.60      7          NaN  ...   \n",
       "\n",
       "   kitchen_area  balcony              locality_name  airports_nearest  \\\n",
       "0         25.00      NaN            Санкт-Петербург           18863.0   \n",
       "1         11.00      2.0             посёлок Шушары           12817.0   \n",
       "2          8.30      0.0            Санкт-Петербург           21741.0   \n",
       "3           NaN      0.0            Санкт-Петербург           28098.0   \n",
       "4         41.00      NaN            Санкт-Петербург           31856.0   \n",
       "5          9.10      NaN  городской посёлок Янино-1               NaN   \n",
       "6         14.40      1.0          посёлок Парголово           52996.0   \n",
       "7         18.90      2.0            Санкт-Петербург           23982.0   \n",
       "8          8.81      NaN             посёлок Мурино               NaN   \n",
       "9          6.50      2.0            Санкт-Петербург           50898.0   \n",
       "\n",
       "  cityCenters_nearest  parks_around3000  parks_nearest  ponds_around3000  \\\n",
       "0             16028.0               1.0          482.0               2.0   \n",
       "1             18603.0               0.0            NaN               0.0   \n",
       "2             13933.0               1.0           90.0               2.0   \n",
       "3              6800.0               2.0           84.0               3.0   \n",
       "4              8098.0               2.0          112.0               1.0   \n",
       "5                 NaN               NaN            NaN               NaN   \n",
       "6             19143.0               0.0            NaN               0.0   \n",
       "7             11634.0               0.0            NaN               0.0   \n",
       "8                 NaN               NaN            NaN               NaN   \n",
       "9             15008.0               0.0            NaN               0.0   \n",
       "\n",
       "   ponds_nearest  days_exposition  \n",
       "0          755.0              NaN  \n",
       "1            NaN             81.0  \n",
       "2          574.0            558.0  \n",
       "3          234.0            424.0  \n",
       "4           48.0            121.0  \n",
       "5            NaN             55.0  \n",
       "6            NaN            155.0  \n",
       "7            NaN              NaN  \n",
       "8            NaN            189.0  \n",
       "9            NaN            289.0  \n",
       "\n",
       "[10 rows x 22 columns]"
      ]
     },
     "execution_count": 1,
     "metadata": {},
     "output_type": "execute_result"
    }
   ],
   "source": [
    "#откроем файл и изучим первые 10 строк датафрейма\n",
    "\n",
    "import pandas as pd\n",
    "import seaborn as sns\n",
    "data = pd.read_csv('/datasets/real_estate_data.csv', sep='\\t')\n",
    "data.head(10)"
   ]
  },
  {
   "cell_type": "code",
   "execution_count": 2,
   "metadata": {},
   "outputs": [
    {
     "name": "stdout",
     "output_type": "stream",
     "text": [
      "<class 'pandas.core.frame.DataFrame'>\n",
      "RangeIndex: 23699 entries, 0 to 23698\n",
      "Data columns (total 22 columns):\n",
      " #   Column                Non-Null Count  Dtype  \n",
      "---  ------                --------------  -----  \n",
      " 0   total_images          23699 non-null  int64  \n",
      " 1   last_price            23699 non-null  float64\n",
      " 2   total_area            23699 non-null  float64\n",
      " 3   first_day_exposition  23699 non-null  object \n",
      " 4   rooms                 23699 non-null  int64  \n",
      " 5   ceiling_height        14504 non-null  float64\n",
      " 6   floors_total          23613 non-null  float64\n",
      " 7   living_area           21796 non-null  float64\n",
      " 8   floor                 23699 non-null  int64  \n",
      " 9   is_apartment          2775 non-null   object \n",
      " 10  studio                23699 non-null  bool   \n",
      " 11  open_plan             23699 non-null  bool   \n",
      " 12  kitchen_area          21421 non-null  float64\n",
      " 13  balcony               12180 non-null  float64\n",
      " 14  locality_name         23650 non-null  object \n",
      " 15  airports_nearest      18157 non-null  float64\n",
      " 16  cityCenters_nearest   18180 non-null  float64\n",
      " 17  parks_around3000      18181 non-null  float64\n",
      " 18  parks_nearest         8079 non-null   float64\n",
      " 19  ponds_around3000      18181 non-null  float64\n",
      " 20  ponds_nearest         9110 non-null   float64\n",
      " 21  days_exposition       20518 non-null  float64\n",
      "dtypes: bool(2), float64(14), int64(3), object(3)\n",
      "memory usage: 3.7+ MB\n"
     ]
    }
   ],
   "source": [
    "#изучим общую информацию о датафрейме\n",
    "\n",
    "data.info()"
   ]
  },
  {
   "cell_type": "code",
   "execution_count": 3,
   "metadata": {},
   "outputs": [
    {
     "data": {
      "image/png": "[encoded data removed]",
      "text/plain": [
       "<Figure size 1080x1440 with 20 Axes>"
      ]
     },
     "metadata": {
      "needs_background": "light"
     },
     "output_type": "display_data"
    }
   ],
   "source": [
    "data.hist(figsize=(15, 20));"
   ]
  },
  {
   "cell_type": "markdown",
   "metadata": {},
   "source": [
    "### Предобработка данных"
   ]
  },
  {
   "cell_type": "code",
   "execution_count": 4,
   "metadata": {
    "scrolled": true
   },
   "outputs": [
    {
     "data": {
      "text/plain": [
       "total_images                0\n",
       "last_price                  0\n",
       "total_area                  0\n",
       "first_day_exposition        0\n",
       "rooms                       0\n",
       "ceiling_height           9195\n",
       "floors_total               86\n",
       "living_area              1903\n",
       "floor                       0\n",
       "is_apartment            20924\n",
       "studio                      0\n",
       "open_plan                   0\n",
       "kitchen_area             2278\n",
       "balcony                 11519\n",
       "locality_name              49\n",
       "airports_nearest         5542\n",
       "cityCenters_nearest      5519\n",
       "parks_around3000         5518\n",
       "parks_nearest           15620\n",
       "ponds_around3000         5518\n",
       "ponds_nearest           14589\n",
       "days_exposition          3181\n",
       "dtype: int64"
      ]
     },
     "execution_count": 4,
     "metadata": {},
     "output_type": "execute_result"
    }
   ],
   "source": [
    "#итзучим количество пропусков в датафрейме\n",
    "\n",
    "data.isna().sum()"
   ]
  },
  {
   "cell_type": "code",
   "execution_count": 7,
   "metadata": {},
   "outputs": [
    {
     "data": {
      "text/plain": [
       "array([nan,  2.,  0.,  1.,  5.,  4.,  3.])"
      ]
     },
     "execution_count": 7,
     "metadata": {},
     "output_type": "execute_result"
    }
   ],
   "source": [
    "#изучим уникальные значения столбца balcony\n",
    "\n",
    "data['balcony'].unique()"
   ]
  },
  {
   "cell_type": "code",
   "execution_count": 8,
   "metadata": {},
   "outputs": [],
   "source": [
    "#заменим пропуски в столбце balcony нулевыми значениями\n",
    "\n",
    "data['balcony'] = data['balcony'].fillna(0)"
   ]
  },
  {
   "cell_type": "code",
   "execution_count": 9,
   "metadata": {},
   "outputs": [
    {
     "data": {
      "text/plain": [
       "array([0., 2., 1., 5., 4., 3.])"
      ]
     },
     "execution_count": 9,
     "metadata": {},
     "output_type": "execute_result"
    }
   ],
   "source": [
    "data['balcony'].unique()"
   ]
  },
  {
   "cell_type": "code",
   "execution_count": 10,
   "metadata": {},
   "outputs": [
    {
     "data": {
      "text/plain": [
       "False    2725\n",
       "True       50\n",
       "Name: is_apartment, dtype: int64"
      ]
     },
     "execution_count": 10,
     "metadata": {},
     "output_type": "execute_result"
    }
   ],
   "source": [
    "#предположу что пропущенные значения в столбце is_apartment равны False, проверим количество заполненных значений\n",
    "\n",
    "data['is_apartment'].value_counts()"
   ]
  },
  {
   "cell_type": "code",
   "execution_count": 11,
   "metadata": {},
   "outputs": [
    {
     "data": {
      "text/plain": [
       "array([16., 11.,  5., 14., 12., 26., 24., 27.,  9.,  6., 17., 25.,  3.,\n",
       "       23., 19., 18.,  4., 22.,  8.,  2., 10.,  7., 13., 15., nan, 20.,\n",
       "       28., 36., 21., 35., 34., 60.,  1., 29., 33., 52., 37.])"
      ]
     },
     "execution_count": 11,
     "metadata": {},
     "output_type": "execute_result"
    }
   ],
   "source": [
    "#посмотрим на уникальные значения floors_total\n",
    "\n",
    "data['floors_total'].unique()"
   ]
  },
  {
   "cell_type": "code",
   "execution_count": 14,
   "metadata": {},
   "outputs": [
    {
     "name": "stdout",
     "output_type": "stream",
     "text": [
      "<class 'pandas.core.frame.DataFrame'>\n",
      "RangeIndex: 23699 entries, 0 to 23698\n",
      "Data columns (total 22 columns):\n",
      " #   Column                Non-Null Count  Dtype  \n",
      "---  ------                --------------  -----  \n",
      " 0   total_images          23699 non-null  int64  \n",
      " 1   last_price            23699 non-null  float64\n",
      " 2   total_area            23699 non-null  float64\n",
      " 3   first_day_exposition  23699 non-null  object \n",
      " 4   rooms                 23699 non-null  int64  \n",
      " 5   ceiling_height        14504 non-null  float64\n",
      " 6   floors_total          23613 non-null  float64\n",
      " 7   living_area           21796 non-null  float64\n",
      " 8   floor                 23699 non-null  int64  \n",
      " 9   is_apartment          2775 non-null   object \n",
      " 10  studio                23699 non-null  bool   \n",
      " 11  open_plan             23699 non-null  bool   \n",
      " 12  kitchen_area          21421 non-null  float64\n",
      " 13  balcony               23699 non-null  float64\n",
      " 14  locality_name         23650 non-null  object \n",
      " 15  airports_nearest      18157 non-null  float64\n",
      " 16  cityCenters_nearest   18180 non-null  float64\n",
      " 17  parks_around3000      18181 non-null  float64\n",
      " 18  parks_nearest         8079 non-null   float64\n",
      " 19  ponds_around3000      18181 non-null  float64\n",
      " 20  ponds_nearest         9110 non-null   float64\n",
      " 21  days_exposition       20518 non-null  float64\n",
      "dtypes: bool(2), float64(14), int64(3), object(3)\n",
      "memory usage: 3.7+ MB\n"
     ]
    }
   ],
   "source": [
    "data.info()"
   ]
  },
  {
   "cell_type": "code",
   "execution_count": 15,
   "metadata": {},
   "outputs": [],
   "source": [
    "data = data.dropna(subset=['floors_total'])"
   ]
  },
  {
   "cell_type": "code",
   "execution_count": 16,
   "metadata": {},
   "outputs": [
    {
     "name": "stdout",
     "output_type": "stream",
     "text": [
      "<class 'pandas.core.frame.DataFrame'>\n",
      "Int64Index: 23613 entries, 0 to 23698\n",
      "Data columns (total 22 columns):\n",
      " #   Column                Non-Null Count  Dtype  \n",
      "---  ------                --------------  -----  \n",
      " 0   total_images          23613 non-null  int64  \n",
      " 1   last_price            23613 non-null  float64\n",
      " 2   total_area            23613 non-null  float64\n",
      " 3   first_day_exposition  23613 non-null  object \n",
      " 4   rooms                 23613 non-null  int64  \n",
      " 5   ceiling_height        14495 non-null  float64\n",
      " 6   floors_total          23613 non-null  float64\n",
      " 7   living_area           21743 non-null  float64\n",
      " 8   floor                 23613 non-null  int64  \n",
      " 9   is_apartment          2775 non-null   object \n",
      " 10  studio                23613 non-null  bool   \n",
      " 11  open_plan             23613 non-null  bool   \n",
      " 12  kitchen_area          21382 non-null  float64\n",
      " 13  balcony               23613 non-null  float64\n",
      " 14  locality_name         23565 non-null  object \n",
      " 15  airports_nearest      18081 non-null  float64\n",
      " 16  cityCenters_nearest   18104 non-null  float64\n",
      " 17  parks_around3000      18105 non-null  float64\n",
      " 18  parks_nearest         8045 non-null   float64\n",
      " 19  ponds_around3000      18105 non-null  float64\n",
      " 20  ponds_nearest         9061 non-null   float64\n",
      " 21  days_exposition       20441 non-null  float64\n",
      "dtypes: bool(2), float64(14), int64(3), object(3)\n",
      "memory usage: 3.8+ MB\n"
     ]
    }
   ],
   "source": [
    "data.info()"
   ]
  },
  {
   "cell_type": "markdown",
   "metadata": {},
   "source": [
    "После проверки на корректность мы видим что имеется 34 строкb где этажность дома ниже этажа квартиры, что недопустима. Принимаем решение удалить пропуски, количество небольшое, а необходимость для дальнейшей работы огромна. \n"
   ]
  },
  {
   "cell_type": "code",
   "execution_count": 17,
   "metadata": {},
   "outputs": [
    {
     "data": {
      "text/plain": [
       "count    14495.000000\n",
       "mean         2.771495\n",
       "std          1.261445\n",
       "min          1.000000\n",
       "25%          2.520000\n",
       "50%          2.650000\n",
       "75%          2.800000\n",
       "max        100.000000\n",
       "Name: ceiling_height, dtype: float64"
      ]
     },
     "execution_count": 17,
     "metadata": {},
     "output_type": "execute_result"
    }
   ],
   "source": [
    "data['ceiling_height'].describe()"
   ]
  },
  {
   "cell_type": "code",
   "execution_count": 18,
   "metadata": {},
   "outputs": [],
   "source": [
    "#заполню пропуски в столбце ceiling_height медианным значением \n",
    "\n",
    "data['ceiling_height'] = data['ceiling_height'].fillna(data['ceiling_height'].median())"
   ]
  },
  {
   "cell_type": "code",
   "execution_count": 19,
   "metadata": {},
   "outputs": [
    {
     "data": {
      "text/plain": [
       "count    23613.000000\n",
       "mean         2.724581\n",
       "std          0.990085\n",
       "min          1.000000\n",
       "25%          2.600000\n",
       "50%          2.650000\n",
       "75%          2.700000\n",
       "max        100.000000\n",
       "Name: ceiling_height, dtype: float64"
      ]
     },
     "execution_count": 19,
     "metadata": {},
     "output_type": "execute_result"
    }
   ],
   "source": [
    "data['ceiling_height'].describe()"
   ]
  },
  {
   "cell_type": "markdown",
   "metadata": {},
   "source": [
    "Среднее значениен изменилось на 0,05 после заполнения пропусков медианным значением"
   ]
  },
  {
   "cell_type": "code",
   "execution_count": 20,
   "metadata": {},
   "outputs": [
    {
     "data": {
      "text/plain": [
       "total_images                0\n",
       "last_price                  0\n",
       "total_area                  0\n",
       "first_day_exposition        0\n",
       "rooms                       0\n",
       "ceiling_height              0\n",
       "floors_total                0\n",
       "living_area              1870\n",
       "floor                       0\n",
       "is_apartment            20838\n",
       "studio                      0\n",
       "open_plan                   0\n",
       "kitchen_area             2231\n",
       "balcony                     0\n",
       "locality_name              48\n",
       "airports_nearest         5532\n",
       "cityCenters_nearest      5509\n",
       "parks_around3000         5508\n",
       "parks_nearest           15568\n",
       "ponds_around3000         5508\n",
       "ponds_nearest           14552\n",
       "days_exposition          3172\n",
       "dtype: int64"
      ]
     },
     "execution_count": 20,
     "metadata": {},
     "output_type": "execute_result"
    }
   ],
   "source": [
    "data.isna().sum()"
   ]
  },
  {
   "cell_type": "markdown",
   "metadata": {},
   "source": [
    "**Итог работы с пропущенными значениями**\n",
    "\n",
    "* Пропуски в столбце balcony скорее всего указывают на отсутсвие балкона, поэтому заменяем все на нулевые значения. При добавлении данных, пользователь мог посчитать, что при отсутсвии балкона значение может не вноситься. \n",
    "\n",
    "* Столбец is_apartment содержит два значение True и False, что означает является ли квартира аппартаментами либо нет, если предположить что отсутствие значения является тем что квартира не имеет статус аппартаментов, то при заполнении пропусков значениями False мы получим всего 50 аппартаментов на весь датафрейм, что вряд ли может отказаться действительностью. Поэтому оставляем данный столбец как есть.\n",
    "\n",
    "* floors_total содержит общую этажность зданий, заполняю средним значением, считаю что 86 пропусков при заполнении средним не исказят данные для дальнейшего анализа.\n",
    "\n",
    "* Пропуски в столбце с высотой потолков заменяю на медианное значение, средняя высота потолков в России колеблется от 2,4 до 3 метров, считаю что для выполнения задач исследования , такой подход будет приемлемым. Пропуски могли возникнуть при внесении данных, не все владельцы знают точную высоту потолков своих квартир, соответственно графа оставалась пустой.\n",
    "\n",
    "* Пропуски в kitchen_area и living_area оставляю как есть, площадь не внесли также, возможно, по причине не знания достоверных данных. заполнять их средним будет некорректно, квартира с площадью 60 м кв может быть с площадью кухни 50 м кв \n",
    "\n",
    "* days_exposition важные данные, но пропуски не заменить средними, нулевыми или медианными значениями, так как речь идет о количестве дней от публикации до снятия объявления, значения сильно исказят данные.\n",
    "\n",
    "* airports_nearest, cityCenters_nearest, parks_around3000, parks_nearest, ponds_around3000, ponds_nearest столбцы данные которых посчитаны и внесены автоматизированно, возможно поиск данных производился в определенном диапазоне и парка, аэропорта и тд в выбранном диапазоне не оказалось, отсюда пропуск. Исходя из этого, пропуски оставляем как есть.            "
   ]
  },
  {
   "cell_type": "code",
   "execution_count": 21,
   "metadata": {},
   "outputs": [
    {
     "name": "stdout",
     "output_type": "stream",
     "text": [
      "<class 'pandas.core.frame.DataFrame'>\n",
      "Int64Index: 23613 entries, 0 to 23698\n",
      "Data columns (total 22 columns):\n",
      " #   Column                Non-Null Count  Dtype  \n",
      "---  ------                --------------  -----  \n",
      " 0   total_images          23613 non-null  int64  \n",
      " 1   last_price            23613 non-null  float64\n",
      " 2   total_area            23613 non-null  float64\n",
      " 3   first_day_exposition  23613 non-null  object \n",
      " 4   rooms                 23613 non-null  int64  \n",
      " 5   ceiling_height        23613 non-null  float64\n",
      " 6   floors_total          23613 non-null  float64\n",
      " 7   living_area           21743 non-null  float64\n",
      " 8   floor                 23613 non-null  int64  \n",
      " 9   is_apartment          2775 non-null   object \n",
      " 10  studio                23613 non-null  bool   \n",
      " 11  open_plan             23613 non-null  bool   \n",
      " 12  kitchen_area          21382 non-null  float64\n",
      " 13  balcony               23613 non-null  float64\n",
      " 14  locality_name         23565 non-null  object \n",
      " 15  airports_nearest      18081 non-null  float64\n",
      " 16  cityCenters_nearest   18104 non-null  float64\n",
      " 17  parks_around3000      18105 non-null  float64\n",
      " 18  parks_nearest         8045 non-null   float64\n",
      " 19  ponds_around3000      18105 non-null  float64\n",
      " 20  ponds_nearest         9061 non-null   float64\n",
      " 21  days_exposition       20441 non-null  float64\n",
      "dtypes: bool(2), float64(14), int64(3), object(3)\n",
      "memory usage: 3.8+ MB\n"
     ]
    }
   ],
   "source": [
    "#изучим тип данных для каждого столбца\n",
    "\n",
    "data.info()"
   ]
  },
  {
   "cell_type": "code",
   "execution_count": 22,
   "metadata": {},
   "outputs": [],
   "source": [
    "#изменим тип столбца first_day_exposition на datetime \n",
    "\n",
    "data['first_day_exposition'] = pd.to_datetime(data['first_day_exposition'], format='%Y.%m.%dT%H:%M:%S')"
   ]
  },
  {
   "cell_type": "code",
   "execution_count": 23,
   "metadata": {},
   "outputs": [],
   "source": [
    "#изменим тип столбца last_price на int для удобства работы с ним\n",
    "\n",
    "data['last_price'] = data['last_price'].astype('int')"
   ]
  },
  {
   "cell_type": "code",
   "execution_count": 24,
   "metadata": {},
   "outputs": [],
   "source": [
    "#изменим тип данных floors_total\n",
    "\n",
    "data['floors_total'] = data['floors_total'].astype('int')"
   ]
  },
  {
   "cell_type": "code",
   "execution_count": 25,
   "metadata": {},
   "outputs": [
    {
     "name": "stdout",
     "output_type": "stream",
     "text": [
      "<class 'pandas.core.frame.DataFrame'>\n",
      "Int64Index: 23613 entries, 0 to 23698\n",
      "Data columns (total 22 columns):\n",
      " #   Column                Non-Null Count  Dtype         \n",
      "---  ------                --------------  -----         \n",
      " 0   total_images          23613 non-null  int64         \n",
      " 1   last_price            23613 non-null  int64         \n",
      " 2   total_area            23613 non-null  float64       \n",
      " 3   first_day_exposition  23613 non-null  datetime64[ns]\n",
      " 4   rooms                 23613 non-null  int64         \n",
      " 5   ceiling_height        23613 non-null  float64       \n",
      " 6   floors_total          23613 non-null  int64         \n",
      " 7   living_area           21743 non-null  float64       \n",
      " 8   floor                 23613 non-null  int64         \n",
      " 9   is_apartment          2775 non-null   object        \n",
      " 10  studio                23613 non-null  bool          \n",
      " 11  open_plan             23613 non-null  bool          \n",
      " 12  kitchen_area          21382 non-null  float64       \n",
      " 13  balcony               23613 non-null  float64       \n",
      " 14  locality_name         23565 non-null  object        \n",
      " 15  airports_nearest      18081 non-null  float64       \n",
      " 16  cityCenters_nearest   18104 non-null  float64       \n",
      " 17  parks_around3000      18105 non-null  float64       \n",
      " 18  parks_nearest         8045 non-null   float64       \n",
      " 19  ponds_around3000      18105 non-null  float64       \n",
      " 20  ponds_nearest         9061 non-null   float64       \n",
      " 21  days_exposition       20441 non-null  float64       \n",
      "dtypes: bool(2), datetime64[ns](1), float64(12), int64(5), object(2)\n",
      "memory usage: 3.8+ MB\n"
     ]
    }
   ],
   "source": [
    "data.info()"
   ]
  },
  {
   "cell_type": "markdown",
   "metadata": {},
   "source": [
    "**Изменение типа данных**\n",
    "\n",
    "На данном этапе необходимость в изменении типа данных, для дальнейшей работы, видна у столбца first_day_exposition. В работе с датой и временем тип datetime подходит лучше всего. Также изменение типа данных у столбца с ценой позволит упростить работу в дальнейшем с этими данными.\n",
    "\n",
    "Изменим тип данных в столбце floors_total для дальнейшего удобства работы с данными, количество этажей в доме в любом случае будет целым числом и формат int то, что необходимо"
   ]
  },
  {
   "cell_type": "code",
   "execution_count": 26,
   "metadata": {},
   "outputs": [
    {
     "data": {
      "text/plain": [
       "0"
      ]
     },
     "execution_count": 26,
     "metadata": {},
     "output_type": "execute_result"
    }
   ],
   "source": [
    "#проверим датафрейм на наличие строк дубликатов\n",
    "\n",
    "data.duplicated().sum()"
   ]
  },
  {
   "cell_type": "code",
   "execution_count": 27,
   "metadata": {},
   "outputs": [
    {
     "data": {
      "text/plain": [
       "array(['Санкт-Петербург', 'посёлок Шушары', 'городской посёлок Янино-1',\n",
       "       'посёлок Парголово', 'посёлок Мурино', 'Ломоносов', 'Сертолово',\n",
       "       'Петергоф', 'Пушкин', 'деревня Кудрово', 'Коммунар', 'Колпино',\n",
       "       'поселок городского типа Красный Бор', 'Гатчина', 'поселок Мурино',\n",
       "       'деревня Фёдоровское', 'Выборг', 'Кронштадт', 'Кировск',\n",
       "       'деревня Новое Девяткино', 'посёлок Металлострой',\n",
       "       'посёлок городского типа Лебяжье',\n",
       "       'посёлок городского типа Сиверский', 'поселок Молодцово',\n",
       "       'поселок городского типа Кузьмоловский',\n",
       "       'садовое товарищество Новая Ропша', 'Павловск',\n",
       "       'деревня Пикколово', 'Всеволожск', 'Волхов', 'Кингисепп',\n",
       "       'Приозерск', 'Сестрорецк', 'деревня Куттузи', 'посёлок Аннино',\n",
       "       'поселок городского типа Ефимовский', 'посёлок Плодовое',\n",
       "       'деревня Заклинье', 'поселок Торковичи', 'поселок Первомайское',\n",
       "       'Красное Село', 'посёлок Понтонный', 'Сясьстрой', 'деревня Старая',\n",
       "       'деревня Лесколово', 'посёлок Новый Свет', 'Сланцы',\n",
       "       'село Путилово', 'Ивангород', 'Мурино', 'Шлиссельбург',\n",
       "       'Никольское', 'Зеленогорск', 'Сосновый Бор', 'поселок Новый Свет',\n",
       "       'деревня Оржицы', 'деревня Кальтино', 'Кудрово',\n",
       "       'поселок Романовка', 'посёлок Бугры', 'поселок Бугры',\n",
       "       'поселок городского типа Рощино', 'Кириши', 'Луга', 'Волосово',\n",
       "       'Отрадное', 'село Павлово', 'поселок Оредеж', 'село Копорье',\n",
       "       'посёлок городского типа Красный Бор', 'посёлок Молодёжное',\n",
       "       'Тихвин', 'посёлок Победа', 'деревня Нурма',\n",
       "       'поселок городского типа Синявино', 'Тосно',\n",
       "       'посёлок городского типа Кузьмоловский', 'посёлок Стрельна',\n",
       "       'Бокситогорск', 'посёлок Александровская', 'деревня Лопухинка',\n",
       "       'Пикалёво', 'поселок Терволово',\n",
       "       'поселок городского типа Советский', 'Подпорожье',\n",
       "       'посёлок Петровское', 'посёлок городского типа Токсово',\n",
       "       'поселок Сельцо', 'посёлок городского типа Вырица',\n",
       "       'деревня Кипень', 'деревня Келози', 'деревня Вартемяги',\n",
       "       'посёлок Тельмана', 'поселок Севастьяново',\n",
       "       'городской поселок Большая Ижора', nan,\n",
       "       'городской посёлок Павлово', 'деревня Агалатово',\n",
       "       'посёлок Новогорелово', 'городской посёлок Лесогорский',\n",
       "       'деревня Лаголово', 'поселок Цвелодубово',\n",
       "       'поселок городского типа Рахья', 'поселок городского типа Вырица',\n",
       "       'деревня Белогорка', 'поселок Заводской',\n",
       "       'городской посёлок Новоселье', 'деревня Большие Колпаны',\n",
       "       'деревня Горбунки', 'деревня Батово', 'деревня Заневка',\n",
       "       'деревня Иссад', 'Приморск', 'городской посёлок Фёдоровское',\n",
       "       'деревня Мистолово', 'Новая Ладога', 'поселок Зимитицы',\n",
       "       'поселок Барышево', 'деревня Разметелево',\n",
       "       'поселок городского типа имени Свердлова', 'деревня Пеники',\n",
       "       'поселок Рябово', 'деревня Пудомяги', 'поселок станции Корнево',\n",
       "       'деревня Низино', 'деревня Бегуницы', 'посёлок Поляны',\n",
       "       'городской посёлок Мга', 'поселок Елизаветино',\n",
       "       'посёлок городского типа Кузнечное', 'деревня Колтуши',\n",
       "       'поселок Запорожское', 'посёлок городского типа Рощино',\n",
       "       'деревня Гостилицы', 'деревня Малое Карлино',\n",
       "       'посёлок Мичуринское', 'посёлок городского типа имени Морозова',\n",
       "       'посёлок Песочный', 'посёлок Сосново', 'деревня Аро',\n",
       "       'поселок Ильичёво', 'посёлок городского типа Тайцы',\n",
       "       'деревня Малое Верево', 'деревня Извара', 'поселок станции Вещево',\n",
       "       'село Паша', 'деревня Калитино',\n",
       "       'посёлок городского типа Ульяновка', 'деревня Чудской Бор',\n",
       "       'поселок городского типа Дубровка', 'деревня Мины',\n",
       "       'поселок Войсковицы', 'посёлок городского типа имени Свердлова',\n",
       "       'деревня Коркино', 'посёлок Ропша',\n",
       "       'поселок городского типа Приладожский', 'посёлок Щеглово',\n",
       "       'посёлок Гаврилово', 'Лодейное Поле', 'деревня Рабитицы',\n",
       "       'поселок городского типа Никольский', 'деревня Кузьмолово',\n",
       "       'деревня Малые Колпаны', 'поселок Тельмана',\n",
       "       'посёлок Петро-Славянка', 'городской посёлок Назия',\n",
       "       'посёлок Репино', 'посёлок Ильичёво', 'поселок Углово',\n",
       "       'поселок Старая Малукса', 'садовое товарищество Рахья',\n",
       "       'поселок Аннино', 'поселок Победа', 'деревня Меньково',\n",
       "       'деревня Старые Бегуницы', 'посёлок Сапёрный', 'поселок Семрино',\n",
       "       'поселок Гаврилово', 'поселок Глажево', 'поселок Кобринское',\n",
       "       'деревня Гарболово', 'деревня Юкки',\n",
       "       'поселок станции Приветнинское', 'деревня Мануйлово',\n",
       "       'деревня Пчева', 'поселок Поляны', 'поселок Цвылёво',\n",
       "       'поселок Мельниково', 'посёлок Пудость', 'посёлок Усть-Луга',\n",
       "       'Светогорск', 'Любань', 'поселок Селезнёво',\n",
       "       'поселок городского типа Рябово', 'Каменногорск', 'деревня Кривко',\n",
       "       'поселок Глебычево', 'деревня Парицы', 'поселок Жилпосёлок',\n",
       "       'посёлок городского типа Мга', 'городской поселок Янино-1',\n",
       "       'посёлок Войскорово', 'село Никольское', 'посёлок Терволово',\n",
       "       'поселок Стеклянный', 'посёлок городского типа Важины',\n",
       "       'посёлок Мыза-Ивановка', 'село Русско-Высоцкое',\n",
       "       'поселок городского типа Лебяжье',\n",
       "       'поселок городского типа Форносово', 'село Старая Ладога',\n",
       "       'поселок Житково', 'городской посёлок Виллози', 'деревня Лампово',\n",
       "       'деревня Шпаньково', 'деревня Лаврики', 'посёлок Сумино',\n",
       "       'посёлок Возрождение', 'деревня Старосиверская',\n",
       "       'посёлок Кикерино', 'поселок Возрождение',\n",
       "       'деревня Старое Хинколово', 'посёлок Пригородный',\n",
       "       'посёлок Торфяное', 'городской посёлок Будогощь',\n",
       "       'поселок Суходолье', 'поселок Красная Долина', 'деревня Хапо-Ое',\n",
       "       'поселок городского типа Дружная Горка', 'поселок Лисий Нос',\n",
       "       'деревня Яльгелево', 'посёлок Стеклянный', 'село Рождествено',\n",
       "       'деревня Старополье', 'посёлок Левашово', 'деревня Сяськелево',\n",
       "       'деревня Камышовка',\n",
       "       'садоводческое некоммерческое товарищество Лесная Поляна',\n",
       "       'деревня Хязельки', 'поселок Жилгородок',\n",
       "       'посёлок городского типа Павлово', 'деревня Ялгино',\n",
       "       'поселок Новый Учхоз', 'городской посёлок Рощино',\n",
       "       'поселок Гончарово', 'поселок Почап', 'посёлок Сапёрное',\n",
       "       'посёлок Платформа 69-й километр', 'поселок Каложицы',\n",
       "       'деревня Фалилеево', 'деревня Пельгора',\n",
       "       'поселок городского типа Лесогорский', 'деревня Торошковичи',\n",
       "       'посёлок Белоостров', 'посёлок Алексеевка', 'поселок Серебрянский',\n",
       "       'поселок Лукаши', 'поселок Петровское', 'деревня Щеглово',\n",
       "       'поселок Мичуринское', 'деревня Тарасово', 'поселок Кингисеппский',\n",
       "       'посёлок при железнодорожной станции Вещево', 'поселок Ушаки',\n",
       "       'деревня Котлы', 'деревня Сижно', 'деревня Торосово',\n",
       "       'посёлок Форт Красная Горка', 'деревня Новолисино',\n",
       "       'посёлок станции Громово', 'деревня Глинка', 'посёлок Мельниково',\n",
       "       'поселок городского типа Назия', 'деревня Старая Пустошь',\n",
       "       'поселок Коммунары', 'поселок Починок',\n",
       "       'посёлок городского типа Вознесенье', 'деревня Разбегаево',\n",
       "       'посёлок городского типа Рябово', 'поселок Гладкое',\n",
       "       'посёлок при железнодорожной станции Приветнинское',\n",
       "       'поселок Тёсово-4', 'посёлок Жилгородок', 'деревня Бор',\n",
       "       'посёлок Коробицыно', 'деревня Большая Вруда', 'деревня Курковицы',\n",
       "       'посёлок Лисий Нос', 'городской посёлок Советский',\n",
       "       'посёлок Кобралово', 'деревня Суоранда', 'поселок Кобралово',\n",
       "       'поселок городского типа Кондратьево',\n",
       "       'коттеджный поселок Счастье', 'поселок Любань', 'деревня Реброво',\n",
       "       'деревня Зимитицы', 'деревня Тойворово', 'поселок Семиозерье',\n",
       "       'поселок Лесное', 'поселок Совхозный', 'поселок Усть-Луга',\n",
       "       'посёлок Ленинское', 'посёлок Суйда',\n",
       "       'посёлок городского типа Форносово', 'деревня Нижние Осельки',\n",
       "       'посёлок станции Свирь', 'поселок Перово', 'Высоцк',\n",
       "       'поселок Гарболово', 'село Шум', 'поселок Котельский',\n",
       "       'поселок станции Лужайка', 'деревня Большая Пустомержа',\n",
       "       'поселок Красносельское', 'деревня Вахнова Кара', 'деревня Пижма',\n",
       "       'коттеджный поселок Кивеннапа Север', 'поселок Коробицыно',\n",
       "       'поселок Ромашки', 'посёлок Перово', 'деревня Каськово',\n",
       "       'деревня Куровицы', 'посёлок Плоское', 'поселок Сумино',\n",
       "       'поселок городского типа Большая Ижора', 'поселок Кирпичное',\n",
       "       'деревня Ям-Тесово', 'деревня Раздолье', 'деревня Терпилицы',\n",
       "       'поселок городского типа Токсово', 'посёлок Шугозеро',\n",
       "       'деревня Ваганово', 'поселок Пушное', 'садовое товарищество Садко',\n",
       "       'посёлок Усть-Ижора', 'деревня Выскатка',\n",
       "       'городской посёлок Свирьстрой', 'поселок Громово',\n",
       "       'деревня Кисельня', 'посёлок Старая Малукса',\n",
       "       'деревня Трубников Бор', 'поселок Калитино',\n",
       "       'посёлок Высокоключевой', 'садовое товарищество Приладожский',\n",
       "       'посёлок Пансионат Зелёный Бор', 'деревня Ненимяки',\n",
       "       'поселок Пансионат Зелёный Бор', 'деревня Снегирёвка',\n",
       "       'деревня Рапполово', 'деревня Пустынка', 'поселок Рабитицы',\n",
       "       'деревня Большой Сабск', 'деревня Русско', 'деревня Лупполово',\n",
       "       'деревня Большое Рейзино', 'деревня Малая Романовка',\n",
       "       'поселок Дружноселье', 'поселок Пчевжа', 'поселок Володарское',\n",
       "       'деревня Нижняя', 'коттеджный посёлок Лесное', 'деревня Тихковицы',\n",
       "       'деревня Борисова Грива', 'посёлок Дзержинского'], dtype=object)"
      ]
     },
     "execution_count": 27,
     "metadata": {},
     "output_type": "execute_result"
    }
   ],
   "source": [
    "#изучим уникальные значения столбца locality_name\n",
    "\n",
    "data['locality_name'].unique()"
   ]
  },
  {
   "cell_type": "code",
   "execution_count": 28,
   "metadata": {},
   "outputs": [],
   "source": [
    "#приведем названия населенных пунктов к единому виду \n",
    "\n",
    "data.loc[:, 'locality_name'] = data.loc[:, 'locality_name'].replace('посёлок', 'поселок', regex=True)\n",
    "data.loc[:, 'locality_name'] = data.loc[:, 'locality_name'].replace('имени', regex=True)\n",
    "data.loc[:, 'locality_name'] = data.loc[:, 'locality_name'].replace('городской', regex=True)\n",
    "data.loc[:, 'locality_name'] = data.loc[:, 'locality_name'].replace('городского типа', '', regex=True)\n",
    "data.loc[:, 'locality_name'] = data.loc[:, 'locality_name'].replace('станции', '', regex=True)\n",
    "data.loc[:, 'locality_name'] = data.loc[:, 'locality_name'].replace('при железнодорожной', '', regex=True)\n",
    "data.loc[:, 'locality_name'] = data.loc[:, 'locality_name'].replace('коттеджный', '', regex=True)\n",
    "data.loc[:, 'locality_name'] = data.loc[:, 'locality_name'].replace('поселок Мурино', 'Мурино', regex=True)"
   ]
  },
  {
   "cell_type": "code",
   "execution_count": 29,
   "metadata": {},
   "outputs": [
    {
     "data": {
      "text/plain": [
       "329"
      ]
     },
     "execution_count": 29,
     "metadata": {},
     "output_type": "execute_result"
    }
   ],
   "source": [
    "# check\n",
    "data['locality_name'].nunique()"
   ]
  },
  {
   "cell_type": "code",
   "execution_count": 30,
   "metadata": {},
   "outputs": [
    {
     "data": {
      "text/plain": [
       "array(['Санкт-Петербург', 'поселок Шушары', 'городской поселок Янино-1',\n",
       "       'поселок Парголово', 'Мурино', 'Ломоносов', 'Сертолово',\n",
       "       'Петергоф', 'Пушкин', 'деревня Кудрово', 'Коммунар', 'Колпино',\n",
       "       'поселок  Красный Бор', 'Гатчина', 'деревня Фёдоровское', 'Выборг',\n",
       "       'Кронштадт', 'Кировск', 'деревня Новое Девяткино',\n",
       "       'поселок Металлострой', 'поселок  Лебяжье', 'поселок  Сиверский',\n",
       "       'поселок Молодцово', 'поселок  Кузьмоловский',\n",
       "       'садовое товарищество Новая Ропша', 'Павловск',\n",
       "       'деревня Пикколово', 'Всеволожск', 'Волхов', 'Кингисепп',\n",
       "       'Приозерск', 'Сестрорецк', 'деревня Куттузи', 'поселок Аннино',\n",
       "       'поселок  Ефимовский', 'поселок Плодовое', 'деревня Заклинье',\n",
       "       'поселок Торковичи', 'поселок Первомайское', 'Красное Село',\n",
       "       'поселок Понтонный', 'Сясьстрой', 'деревня Старая',\n",
       "       'деревня Лесколово', 'поселок Новый Свет', 'Сланцы',\n",
       "       'село Путилово', 'Ивангород', 'Шлиссельбург', 'Никольское',\n",
       "       'Зеленогорск', 'Сосновый Бор', 'деревня Оржицы',\n",
       "       'деревня Кальтино', 'Кудрово', 'поселок Романовка',\n",
       "       'поселок Бугры', 'поселок  Рощино', 'Кириши', 'Луга', 'Волосово',\n",
       "       'Отрадное', 'село Павлово', 'поселок Оредеж', 'село Копорье',\n",
       "       'поселок Молодёжное', 'Тихвин', 'поселок Победа', 'деревня Нурма',\n",
       "       'поселок  Синявино', 'Тосно', 'поселок Стрельна', 'Бокситогорск',\n",
       "       'поселок Александровская', 'деревня Лопухинка', 'Пикалёво',\n",
       "       'поселок Терволово', 'поселок  Советский', 'Подпорожье',\n",
       "       'поселок Петровское', 'поселок  Токсово', 'поселок Сельцо',\n",
       "       'поселок  Вырица', 'деревня Кипень', 'деревня Келози',\n",
       "       'деревня Вартемяги', 'поселок Тельмана', 'поселок Севастьяново',\n",
       "       'городской поселок Большая Ижора', nan,\n",
       "       'городской поселок Павлово', 'деревня Агалатово',\n",
       "       'поселок Новогорелово', 'городской поселок Лесогорский',\n",
       "       'деревня Лаголово', 'поселок Цвелодубово', 'поселок  Рахья',\n",
       "       'деревня Белогорка', 'поселок Заводской',\n",
       "       'городской поселок Новоселье', 'деревня Большие Колпаны',\n",
       "       'деревня Горбунки', 'деревня Батово', 'деревня Заневка',\n",
       "       'деревня Иссад', 'Приморск', 'городской поселок Фёдоровское',\n",
       "       'деревня Мистолово', 'Новая Ладога', 'поселок Зимитицы',\n",
       "       'поселок Барышево', 'деревня Разметелево',\n",
       "       'поселок  имени Свердлова', 'деревня Пеники', 'поселок Рябово',\n",
       "       'деревня Пудомяги', 'поселок  Корнево', 'деревня Низино',\n",
       "       'деревня Бегуницы', 'поселок Поляны', 'городской поселок Мга',\n",
       "       'поселок Елизаветино', 'поселок  Кузнечное', 'деревня Колтуши',\n",
       "       'поселок Запорожское', 'деревня Гостилицы',\n",
       "       'деревня Малое Карлино', 'поселок Мичуринское',\n",
       "       'поселок  имени Морозова', 'поселок Песочный', 'поселок Сосново',\n",
       "       'деревня Аро', 'поселок Ильичёво', 'поселок  Тайцы',\n",
       "       'деревня Малое Верево', 'деревня Извара', 'поселок  Вещево',\n",
       "       'село Паша', 'деревня Калитино', 'поселок  Ульяновка',\n",
       "       'деревня Чудской Бор', 'поселок  Дубровка', 'деревня Мины',\n",
       "       'поселок Войсковицы', 'деревня Коркино', 'поселок Ропша',\n",
       "       'поселок  Приладожский', 'поселок Щеглово', 'поселок Гаврилово',\n",
       "       'Лодейное Поле', 'деревня Рабитицы', 'поселок  Никольский',\n",
       "       'деревня Кузьмолово', 'деревня Малые Колпаны',\n",
       "       'поселок Петро-Славянка', 'городской поселок Назия',\n",
       "       'поселок Репино', 'поселок Углово', 'поселок Старая Малукса',\n",
       "       'садовое товарищество Рахья', 'деревня Меньково',\n",
       "       'деревня Старые Бегуницы', 'поселок Сапёрный', 'поселок Семрино',\n",
       "       'поселок Глажево', 'поселок Кобринское', 'деревня Гарболово',\n",
       "       'деревня Юкки', 'поселок  Приветнинское', 'деревня Мануйлово',\n",
       "       'деревня Пчева', 'поселок Цвылёво', 'поселок Мельниково',\n",
       "       'поселок Пудость', 'поселок Усть-Луга', 'Светогорск', 'Любань',\n",
       "       'поселок Селезнёво', 'поселок  Рябово', 'Каменногорск',\n",
       "       'деревня Кривко', 'поселок Глебычево', 'деревня Парицы',\n",
       "       'поселок Жилпоселок', 'поселок  Мга', 'поселок Войскорово',\n",
       "       'село Никольское', 'поселок Стеклянный', 'поселок  Важины',\n",
       "       'поселок Мыза-Ивановка', 'село Русско-Высоцкое',\n",
       "       'поселок  Форносово', 'село Старая Ладога', 'поселок Житково',\n",
       "       'городской поселок Виллози', 'деревня Лампово',\n",
       "       'деревня Шпаньково', 'деревня Лаврики', 'поселок Сумино',\n",
       "       'поселок Возрождение', 'деревня Старосиверская',\n",
       "       'поселок Кикерино', 'деревня Старое Хинколово',\n",
       "       'поселок Пригородный', 'поселок Торфяное',\n",
       "       'городской поселок Будогощь', 'поселок Суходолье',\n",
       "       'поселок Красная Долина', 'деревня Хапо-Ое',\n",
       "       'поселок  Дружная Горка', 'поселок Лисий Нос', 'деревня Яльгелево',\n",
       "       'село Рождествено', 'деревня Старополье', 'поселок Левашово',\n",
       "       'деревня Сяськелево', 'деревня Камышовка',\n",
       "       'садоводческое некоммерческое товарищество Лесная Поляна',\n",
       "       'деревня Хязельки', 'поселок Жилгородок', 'поселок  Павлово',\n",
       "       'деревня Ялгино', 'поселок Новый Учхоз',\n",
       "       'городской поселок Рощино', 'поселок Гончарово', 'поселок Почап',\n",
       "       'поселок Сапёрное', 'поселок Платформа 69-й километр',\n",
       "       'поселок Каложицы', 'деревня Фалилеево', 'деревня Пельгора',\n",
       "       'поселок  Лесогорский', 'деревня Торошковичи',\n",
       "       'поселок Белоостров', 'поселок Алексеевка', 'поселок Серебрянский',\n",
       "       'поселок Лукаши', 'деревня Щеглово', 'деревня Тарасово',\n",
       "       'поселок Кингисеппский', 'поселок   Вещево', 'поселок Ушаки',\n",
       "       'деревня Котлы', 'деревня Сижно', 'деревня Торосово',\n",
       "       'поселок Форт Красная Горка', 'деревня Новолисино',\n",
       "       'поселок  Громово', 'деревня Глинка', 'поселок  Назия',\n",
       "       'деревня Старая Пустошь', 'поселок Коммунары', 'поселок Починок',\n",
       "       'поселок  Вознесенье', 'деревня Разбегаево', 'поселок Гладкое',\n",
       "       'поселок   Приветнинское', 'поселок Тёсово-4', 'деревня Бор',\n",
       "       'поселок Коробицыно', 'деревня Большая Вруда', 'деревня Курковицы',\n",
       "       'городской поселок Советский', 'поселок Кобралово',\n",
       "       'деревня Суоранда', 'поселок  Кондратьево', ' поселок Счастье',\n",
       "       'поселок Любань', 'деревня Реброво', 'деревня Зимитицы',\n",
       "       'деревня Тойворово', 'поселок Семиозерье', 'поселок Лесное',\n",
       "       'поселок Совхозный', 'поселок Ленинское', 'поселок Суйда',\n",
       "       'деревня Нижние Осельки', 'поселок  Свирь', 'поселок Перово',\n",
       "       'Высоцк', 'поселок Гарболово', 'село Шум', 'поселок Котельский',\n",
       "       'поселок  Лужайка', 'деревня Большая Пустомержа',\n",
       "       'поселок Красносельское', 'деревня Вахнова Кара', 'деревня Пижма',\n",
       "       ' поселок Кивеннапа Север', 'поселок Ромашки', 'деревня Каськово',\n",
       "       'деревня Куровицы', 'поселок Плоское', 'поселок  Большая Ижора',\n",
       "       'поселок Кирпичное', 'деревня Ям-Тесово', 'деревня Раздолье',\n",
       "       'деревня Терпилицы', 'поселок Шугозеро', 'деревня Ваганово',\n",
       "       'поселок Пушное', 'садовое товарищество Садко',\n",
       "       'поселок Усть-Ижора', 'деревня Выскатка',\n",
       "       'городской поселок Свирьстрой', 'поселок Громово',\n",
       "       'деревня Кисельня', 'деревня Трубников Бор', 'поселок Калитино',\n",
       "       'поселок Высокоключевой', 'садовое товарищество Приладожский',\n",
       "       'поселок Пансионат Зелёный Бор', 'деревня Ненимяки',\n",
       "       'деревня Снегирёвка', 'деревня Рапполово', 'деревня Пустынка',\n",
       "       'поселок Рабитицы', 'деревня Большой Сабск', 'деревня Русско',\n",
       "       'деревня Лупполово', 'деревня Большое Рейзино',\n",
       "       'деревня Малая Романовка', 'поселок Дружноселье', 'поселок Пчевжа',\n",
       "       'поселок Володарское', 'деревня Нижняя', ' поселок Лесное',\n",
       "       'деревня Тихковицы', 'деревня Борисова Грива',\n",
       "       'поселок Дзержинского'], dtype=object)"
      ]
     },
     "execution_count": 30,
     "metadata": {},
     "output_type": "execute_result"
    }
   ],
   "source": [
    "data['locality_name'].unique()"
   ]
  },
  {
   "cell_type": "code",
   "execution_count": 31,
   "metadata": {},
   "outputs": [
    {
     "data": {
      "text/plain": [
       "array([  2.7 ,   2.65,   3.03,   2.5 ,   2.67,   2.56,   3.05,   2.75,\n",
       "         2.6 ,   2.9 ,   2.8 ,   2.55,   3.  ,   3.2 ,   2.61,   3.25,\n",
       "         3.45,   2.77,   2.85,   2.64,   2.57,   4.15,   3.5 ,   3.3 ,\n",
       "         2.71,   4.  ,   2.47,   2.73,   2.84,   3.1 ,   2.34,   3.4 ,\n",
       "         3.06,   2.72,   2.54,   2.51,   2.78,   2.76,  25.  ,   2.58,\n",
       "         3.7 ,   2.52,   5.2 ,   2.87,   2.66,   2.59,   2.  ,   2.45,\n",
       "         3.6 ,   2.92,   3.11,   3.13,   3.8 ,   3.15,   3.55,   3.16,\n",
       "         3.62,   3.12,   2.53,   2.74,   2.96,   2.46,   5.3 ,   5.  ,\n",
       "         2.79,   2.95,   4.06,   2.94,   3.82,   3.54,   3.53,   2.83,\n",
       "         4.7 ,   2.4 ,   3.38,   3.01,   5.6 ,   3.65,   3.9 ,   3.18,\n",
       "         3.35,   2.3 ,   3.57,   2.48,   2.62,   2.82,   3.98,   2.63,\n",
       "         3.83,   3.52,   3.95,   3.75,   2.88,   3.67,   3.87,   3.66,\n",
       "         3.85,   3.86,   4.19,   3.24,   4.8 ,   4.5 ,   4.2 ,   3.36,\n",
       "        32.  ,   3.08,   3.68,   3.07,   3.37,   3.09,   8.  ,   3.26,\n",
       "         3.34,   2.81,   3.44,   2.97,   3.14,   4.37,   2.68,   3.22,\n",
       "         3.27,  27.  ,   4.1 ,   2.93,   3.46,  24.  ,   3.47,   3.33,\n",
       "         3.63,   3.32,  26.  ,   1.2 ,   8.3 ,   2.98,   2.86,   3.17,\n",
       "         4.4 ,   3.28,   3.04,   4.45,   5.5 ,   3.84,   3.23,   3.02,\n",
       "         3.21,   3.43,   3.78,   4.3 ,   3.39,   2.69,   3.31,   4.65,\n",
       "         3.56,   2.2 ,   3.51,   3.93,   3.42,   2.99,   3.49,  14.  ,\n",
       "         4.14,   2.91,   3.88,   1.75,   4.25,   3.29,  20.  ,   2.25,\n",
       "         3.76,   3.69,   6.  ,  22.6 ,   2.89,   3.58,   5.8 ,  27.5 ,\n",
       "         2.49,   4.9 ,   3.48,  10.3 ,   1.  , 100.  ,   3.59])"
      ]
     },
     "execution_count": 31,
     "metadata": {},
     "output_type": "execute_result"
    }
   ],
   "source": [
    "#посмотрим на уникальные значения высоты потолков\n",
    "\n",
    "data['ceiling_height'].unique()"
   ]
  },
  {
   "cell_type": "code",
   "execution_count": 32,
   "metadata": {},
   "outputs": [],
   "source": [
    "#избавимся от аномальных значений в данных \n",
    "\n",
    "data.loc[data['ceiling_height'] > 10, 'ceiling_height'] /= 10"
   ]
  },
  {
   "cell_type": "code",
   "execution_count": 33,
   "metadata": {},
   "outputs": [
    {
     "data": {
      "text/plain": [
       "array([ 2.7 ,  2.65,  3.03,  2.5 ,  2.67,  2.56,  3.05,  2.75,  2.6 ,\n",
       "        2.9 ,  2.8 ,  2.55,  3.  ,  3.2 ,  2.61,  3.25,  3.45,  2.77,\n",
       "        2.85,  2.64,  2.57,  4.15,  3.5 ,  3.3 ,  2.71,  4.  ,  2.47,\n",
       "        2.73,  2.84,  3.1 ,  2.34,  3.4 ,  3.06,  2.72,  2.54,  2.51,\n",
       "        2.78,  2.76,  2.58,  3.7 ,  2.52,  5.2 ,  2.87,  2.66,  2.59,\n",
       "        2.  ,  2.45,  3.6 ,  2.92,  3.11,  3.13,  3.8 ,  3.15,  3.55,\n",
       "        3.16,  3.62,  3.12,  2.53,  2.74,  2.96,  2.46,  5.3 ,  5.  ,\n",
       "        2.79,  2.95,  4.06,  2.94,  3.82,  3.54,  3.53,  2.83,  4.7 ,\n",
       "        2.4 ,  3.38,  3.01,  5.6 ,  3.65,  3.9 ,  3.18,  3.35,  2.3 ,\n",
       "        3.57,  2.48,  2.62,  2.82,  3.98,  2.63,  3.83,  3.52,  3.95,\n",
       "        3.75,  2.88,  3.67,  3.87,  3.66,  3.85,  3.86,  4.19,  3.24,\n",
       "        4.8 ,  4.5 ,  4.2 ,  3.36,  3.08,  3.68,  3.07,  3.37,  3.09,\n",
       "        8.  ,  3.26,  3.34,  2.81,  3.44,  2.97,  3.14,  4.37,  2.68,\n",
       "        3.22,  3.27,  4.1 ,  2.93,  3.46,  3.47,  3.33,  3.63,  3.32,\n",
       "        1.2 ,  8.3 ,  2.98,  2.86,  3.17,  4.4 ,  3.28,  3.04,  4.45,\n",
       "        5.5 ,  3.84,  3.23,  3.02,  3.21,  3.43,  3.78,  4.3 ,  3.39,\n",
       "        2.69,  3.31,  4.65,  3.56,  2.2 ,  3.51,  3.93,  3.42,  2.99,\n",
       "        3.49,  1.4 ,  4.14,  2.91,  3.88,  1.75,  4.25,  3.29,  2.25,\n",
       "        3.76,  3.69,  6.  ,  2.26,  2.89,  3.58,  5.8 ,  2.49,  4.9 ,\n",
       "        3.48,  1.03,  1.  , 10.  ,  3.59])"
      ]
     },
     "execution_count": 33,
     "metadata": {},
     "output_type": "execute_result"
    }
   ],
   "source": [
    "data['ceiling_height'].unique()"
   ]
  },
  {
   "cell_type": "code",
   "execution_count": 34,
   "metadata": {},
   "outputs": [],
   "source": [
    "data.loc[data['ceiling_height'] >= 5, ['ceiling_height']] = 0\n",
    "data.loc[data['ceiling_height'] <= 2, ['ceiling_height']] = 0\n",
    "data['ceiling_height'] = data['ceiling_height'].dropna()"
   ]
  },
  {
   "cell_type": "code",
   "execution_count": 35,
   "metadata": {},
   "outputs": [
    {
     "data": {
      "text/plain": [
       "array([2.7 , 2.65, 3.03, 2.5 , 2.67, 2.56, 3.05, 2.75, 2.6 , 2.9 , 2.8 ,\n",
       "       2.55, 3.  , 3.2 , 2.61, 3.25, 3.45, 2.77, 2.85, 2.64, 2.57, 4.15,\n",
       "       3.5 , 3.3 , 2.71, 4.  , 2.47, 2.73, 2.84, 3.1 , 2.34, 3.4 , 3.06,\n",
       "       2.72, 2.54, 2.51, 2.78, 2.76, 2.58, 3.7 , 2.52, 0.  , 2.87, 2.66,\n",
       "       2.59, 2.45, 3.6 , 2.92, 3.11, 3.13, 3.8 , 3.15, 3.55, 3.16, 3.62,\n",
       "       3.12, 2.53, 2.74, 2.96, 2.46, 2.79, 2.95, 4.06, 2.94, 3.82, 3.54,\n",
       "       3.53, 2.83, 4.7 , 2.4 , 3.38, 3.01, 3.65, 3.9 , 3.18, 3.35, 2.3 ,\n",
       "       3.57, 2.48, 2.62, 2.82, 3.98, 2.63, 3.83, 3.52, 3.95, 3.75, 2.88,\n",
       "       3.67, 3.87, 3.66, 3.85, 3.86, 4.19, 3.24, 4.8 , 4.5 , 4.2 , 3.36,\n",
       "       3.08, 3.68, 3.07, 3.37, 3.09, 3.26, 3.34, 2.81, 3.44, 2.97, 3.14,\n",
       "       4.37, 2.68, 3.22, 3.27, 4.1 , 2.93, 3.46, 3.47, 3.33, 3.63, 3.32,\n",
       "       2.98, 2.86, 3.17, 4.4 , 3.28, 3.04, 4.45, 3.84, 3.23, 3.02, 3.21,\n",
       "       3.43, 3.78, 4.3 , 3.39, 2.69, 3.31, 4.65, 3.56, 2.2 , 3.51, 3.93,\n",
       "       3.42, 2.99, 3.49, 4.14, 2.91, 3.88, 4.25, 3.29, 2.25, 3.76, 3.69,\n",
       "       2.26, 2.89, 3.58, 2.49, 4.9 , 3.48, 3.59])"
      ]
     },
     "execution_count": 35,
     "metadata": {},
     "output_type": "execute_result"
    }
   ],
   "source": [
    "data['ceiling_height'].unique()"
   ]
  },
  {
   "cell_type": "code",
   "execution_count": 36,
   "metadata": {},
   "outputs": [],
   "source": [
    "data = data.query('ceiling_height > 2')"
   ]
  },
  {
   "cell_type": "code",
   "execution_count": 37,
   "metadata": {},
   "outputs": [
    {
     "data": {
      "text/html": [
       "<style  type=\"text/css\" >\n",
       "</style><table id=\"T_3eb76_\" ><thead>    <tr>        <th class=\"blank level0\" ></th>        <th class=\"col_heading level0 col0\" >rooms</th>        <th class=\"col_heading level0 col1\" >total_area</th>        <th class=\"col_heading level0 col2\" >ceiling_height</th>        <th class=\"col_heading level0 col3\" >days_exposition</th>        <th class=\"col_heading level0 col4\" >last_price</th>        <th class=\"col_heading level0 col5\" >living_area</th>        <th class=\"col_heading level0 col6\" >kitchen_area</th>        <th class=\"col_heading level0 col7\" >floor</th>        <th class=\"col_heading level0 col8\" >floors_total</th>    </tr></thead><tbody>\n",
       "                <tr>\n",
       "                        <th id=\"T_3eb76_level0_row0\" class=\"row_heading level0 row0\" >count</th>\n",
       "                        <td id=\"T_3eb76_row0_col0\" class=\"data row0 col0\" >23,583.00</td>\n",
       "                        <td id=\"T_3eb76_row0_col1\" class=\"data row0 col1\" >23,583.00</td>\n",
       "                        <td id=\"T_3eb76_row0_col2\" class=\"data row0 col2\" >23,583.00</td>\n",
       "                        <td id=\"T_3eb76_row0_col3\" class=\"data row0 col3\" >20,417.00</td>\n",
       "                        <td id=\"T_3eb76_row0_col4\" class=\"data row0 col4\" >23,583.00</td>\n",
       "                        <td id=\"T_3eb76_row0_col5\" class=\"data row0 col5\" >21,718.00</td>\n",
       "                        <td id=\"T_3eb76_row0_col6\" class=\"data row0 col6\" >21,360.00</td>\n",
       "                        <td id=\"T_3eb76_row0_col7\" class=\"data row0 col7\" >23,583.00</td>\n",
       "                        <td id=\"T_3eb76_row0_col8\" class=\"data row0 col8\" >23,583.00</td>\n",
       "            </tr>\n",
       "            <tr>\n",
       "                        <th id=\"T_3eb76_level0_row1\" class=\"row_heading level0 row1\" >min</th>\n",
       "                        <td id=\"T_3eb76_row1_col0\" class=\"data row1 col0\" >0.00</td>\n",
       "                        <td id=\"T_3eb76_row1_col1\" class=\"data row1 col1\" >12.00</td>\n",
       "                        <td id=\"T_3eb76_row1_col2\" class=\"data row1 col2\" >2.20</td>\n",
       "                        <td id=\"T_3eb76_row1_col3\" class=\"data row1 col3\" >1.00</td>\n",
       "                        <td id=\"T_3eb76_row1_col4\" class=\"data row1 col4\" >12,190.00</td>\n",
       "                        <td id=\"T_3eb76_row1_col5\" class=\"data row1 col5\" >2.00</td>\n",
       "                        <td id=\"T_3eb76_row1_col6\" class=\"data row1 col6\" >1.30</td>\n",
       "                        <td id=\"T_3eb76_row1_col7\" class=\"data row1 col7\" >1.00</td>\n",
       "                        <td id=\"T_3eb76_row1_col8\" class=\"data row1 col8\" >1.00</td>\n",
       "            </tr>\n",
       "            <tr>\n",
       "                        <th id=\"T_3eb76_level0_row2\" class=\"row_heading level0 row2\" >max</th>\n",
       "                        <td id=\"T_3eb76_row2_col0\" class=\"data row2 col0\" >19.00</td>\n",
       "                        <td id=\"T_3eb76_row2_col1\" class=\"data row2 col1\" >900.00</td>\n",
       "                        <td id=\"T_3eb76_row2_col2\" class=\"data row2 col2\" >4.90</td>\n",
       "                        <td id=\"T_3eb76_row2_col3\" class=\"data row2 col3\" >1,580.00</td>\n",
       "                        <td id=\"T_3eb76_row2_col4\" class=\"data row2 col4\" >763,000,000.00</td>\n",
       "                        <td id=\"T_3eb76_row2_col5\" class=\"data row2 col5\" >409.70</td>\n",
       "                        <td id=\"T_3eb76_row2_col6\" class=\"data row2 col6\" >112.00</td>\n",
       "                        <td id=\"T_3eb76_row2_col7\" class=\"data row2 col7\" >33.00</td>\n",
       "                        <td id=\"T_3eb76_row2_col8\" class=\"data row2 col8\" >60.00</td>\n",
       "            </tr>\n",
       "    </tbody></table>"
      ],
      "text/plain": [
       "<pandas.io.formats.style.Styler at 0x7fdf313e7e50>"
      ]
     },
     "execution_count": 37,
     "metadata": {},
     "output_type": "execute_result"
    }
   ],
   "source": [
    "#показатели о кол-ве объявлений в датасете, минимальных и максимальных показателях \n",
    "#в выбранных параметрах о продаже квартир\n",
    "#сырые данные\n",
    "\n",
    "(\n",
    "    data[['rooms', 'total_area', 'ceiling_height', 'days_exposition', 'last_price', 'living_area',  'kitchen_area', 'floor',\n",
    "       'floors_total']]\n",
    "    .apply (['count', 'min', 'max'])   \n",
    "    .style.format(\"{:,.2f}\")\n",
    ")"
   ]
  },
  {
   "cell_type": "code",
   "execution_count": 38,
   "metadata": {},
   "outputs": [
    {
     "data": {
      "text/plain": [
       "430000"
      ]
     },
     "execution_count": 38,
     "metadata": {},
     "output_type": "execute_result"
    }
   ],
   "source": [
    "#избавимся от аномальной минимальной стоимости квартиры\n",
    "\n",
    "data = data.query('last_price > 12190')\n",
    "data['last_price'].min()"
   ]
  },
  {
   "cell_type": "code",
   "execution_count": 39,
   "metadata": {},
   "outputs": [
    {
     "data": {
      "text/plain": [
       "1    8002\n",
       "2    7906\n",
       "3    5789\n",
       "4    1176\n",
       "5     323\n",
       "0     193\n",
       "6     103\n",
       "7      59\n",
       "8      12\n",
       "Name: rooms, dtype: int64"
      ]
     },
     "execution_count": 39,
     "metadata": {},
     "output_type": "execute_result"
    }
   ],
   "source": [
    "#почистим значения в столбце количества комнат выше 15 \n",
    "\n",
    "data = data.query('rooms <= 8')\n",
    "data['rooms'].value_counts()"
   ]
  },
  {
   "cell_type": "code",
   "execution_count": 40,
   "metadata": {},
   "outputs": [
    {
     "data": {
      "text/plain": [
       "8"
      ]
     },
     "execution_count": 40,
     "metadata": {},
     "output_type": "execute_result"
    }
   ],
   "source": [
    "data['rooms'].max()"
   ]
  },
  {
   "cell_type": "code",
   "execution_count": 42,
   "metadata": {},
   "outputs": [
    {
     "name": "stdout",
     "output_type": "stream",
     "text": [
      "<class 'pandas.core.frame.DataFrame'>\n",
      "Int64Index: 23563 entries, 0 to 23698\n",
      "Data columns (total 22 columns):\n",
      " #   Column                Non-Null Count  Dtype         \n",
      "---  ------                --------------  -----         \n",
      " 0   total_images          23563 non-null  int64         \n",
      " 1   last_price            23563 non-null  int64         \n",
      " 2   total_area            23563 non-null  float64       \n",
      " 3   first_day_exposition  23563 non-null  datetime64[ns]\n",
      " 4   rooms                 23563 non-null  int64         \n",
      " 5   ceiling_height        23563 non-null  float64       \n",
      " 6   floors_total          23563 non-null  int64         \n",
      " 7   living_area           21699 non-null  float64       \n",
      " 8   floor                 23563 non-null  int64         \n",
      " 9   is_apartment          2770 non-null   object        \n",
      " 10  studio                23563 non-null  bool          \n",
      " 11  open_plan             23563 non-null  bool          \n",
      " 12  kitchen_area          21341 non-null  float64       \n",
      " 13  balcony               23563 non-null  float64       \n",
      " 14  locality_name         23515 non-null  object        \n",
      " 15  airports_nearest      18042 non-null  float64       \n",
      " 16  cityCenters_nearest   18065 non-null  float64       \n",
      " 17  parks_around3000      18066 non-null  float64       \n",
      " 18  parks_nearest         8016 non-null   float64       \n",
      " 19  ponds_around3000      18066 non-null  float64       \n",
      " 20  ponds_nearest         9039 non-null   float64       \n",
      " 21  days_exposition       20403 non-null  float64       \n",
      "dtypes: bool(2), datetime64[ns](1), float64(12), int64(5), object(2)\n",
      "memory usage: 3.8+ MB\n",
      "<class 'pandas.core.frame.DataFrame'>\n",
      "Int64Index: 23532 entries, 0 to 23698\n",
      "Data columns (total 22 columns):\n",
      " #   Column                Non-Null Count  Dtype         \n",
      "---  ------                --------------  -----         \n",
      " 0   total_images          23532 non-null  int64         \n",
      " 1   last_price            23532 non-null  int64         \n",
      " 2   total_area            23532 non-null  float64       \n",
      " 3   first_day_exposition  23532 non-null  datetime64[ns]\n",
      " 4   rooms                 23532 non-null  int64         \n",
      " 5   ceiling_height        23532 non-null  float64       \n",
      " 6   floors_total          23532 non-null  int64         \n",
      " 7   living_area           21669 non-null  float64       \n",
      " 8   floor                 23532 non-null  int64         \n",
      " 9   is_apartment          2766 non-null   object        \n",
      " 10  studio                23532 non-null  bool          \n",
      " 11  open_plan             23532 non-null  bool          \n",
      " 12  kitchen_area          21313 non-null  float64       \n",
      " 13  balcony               23532 non-null  float64       \n",
      " 14  locality_name         23484 non-null  object        \n",
      " 15  airports_nearest      18011 non-null  float64       \n",
      " 16  cityCenters_nearest   18034 non-null  float64       \n",
      " 17  parks_around3000      18035 non-null  float64       \n",
      " 18  parks_nearest         8012 non-null   float64       \n",
      " 19  ponds_around3000      18035 non-null  float64       \n",
      " 20  ponds_nearest         9009 non-null   float64       \n",
      " 21  days_exposition       20379 non-null  float64       \n",
      "dtypes: bool(2), datetime64[ns](1), float64(12), int64(5), object(2)\n",
      "memory usage: 3.8+ MB\n"
     ]
    }
   ],
   "source": [
    "data.info()\n",
    "\n",
    "data = data.query('floors_total <= 30')\n",
    "\n",
    "data.info()"
   ]
  },
  {
   "cell_type": "code",
   "execution_count": 43,
   "metadata": {},
   "outputs": [
    {
     "data": {
      "text/plain": [
       "29"
      ]
     },
     "execution_count": 43,
     "metadata": {},
     "output_type": "execute_result"
    }
   ],
   "source": [
    "data['floors_total'].max()"
   ]
  },
  {
   "cell_type": "markdown",
   "metadata": {},
   "source": [
    "### Посчитайте и добавьте в таблицу новые столбцы"
   ]
  },
  {
   "cell_type": "code",
   "execution_count": 49,
   "metadata": {},
   "outputs": [],
   "source": [
    "#посчитаем и добавим в тублицу столбец с ценой за один квадратный метр\n",
    "\n",
    "data['one_m_price'] = data['last_price'] / data['total_area']\n",
    "data['one_m_price'] = data['one_m_price'].round(1)"
   ]
  },
  {
   "cell_type": "code",
   "execution_count": 50,
   "metadata": {},
   "outputs": [],
   "source": [
    "#посчитаем и добавим в таблицу день публикации объявления \n",
    "\n",
    "data['day_of_publication'] = data['first_day_exposition'].dt.weekday"
   ]
  },
  {
   "cell_type": "code",
   "execution_count": 51,
   "metadata": {},
   "outputs": [],
   "source": [
    "#посчитаем и добавим в таблицу месяц публикации объявления \n",
    "\n",
    "data['month_of_publication'] = data['first_day_exposition'].dt.month"
   ]
  },
  {
   "cell_type": "code",
   "execution_count": 52,
   "metadata": {},
   "outputs": [],
   "source": [
    "#посчитаем и добавим в таблицу год публикации объявления\n",
    "\n",
    "data['year_of_publication'] = data['first_day_exposition'].dt.year"
   ]
  },
  {
   "cell_type": "code",
   "execution_count": 53,
   "metadata": {},
   "outputs": [],
   "source": [
    "#посчитаем и добавим в таблицу тип этажа квартиры\n",
    "#создадим для этого функцию, которая на основании данных столбцов floor и floors_total сформирует новый столбец\n",
    "\n",
    "def type_floor(floor):\n",
    "    try:\n",
    "        if floor['floor'] == 1:\n",
    "            return 'первый'\n",
    "        elif floor['floor'] == floor['floors_total']:\n",
    "            return 'последний'\n",
    "        else:\n",
    "            return 'другой'\n",
    "    except:\n",
    "        return 'нет категории'\n",
    "data['type_floor'] = data.apply(type_floor, axis=1) "
   ]
  },
  {
   "cell_type": "code",
   "execution_count": 54,
   "metadata": {},
   "outputs": [
    {
     "name": "stdout",
     "output_type": "stream",
     "text": [
      "<class 'pandas.core.frame.DataFrame'>\n",
      "Int64Index: 23532 entries, 0 to 23698\n",
      "Data columns (total 27 columns):\n",
      " #   Column                Non-Null Count  Dtype         \n",
      "---  ------                --------------  -----         \n",
      " 0   total_images          23532 non-null  int64         \n",
      " 1   last_price            23532 non-null  int64         \n",
      " 2   total_area            23532 non-null  float64       \n",
      " 3   first_day_exposition  23532 non-null  datetime64[ns]\n",
      " 4   rooms                 23532 non-null  int64         \n",
      " 5   ceiling_height        23532 non-null  float64       \n",
      " 6   floors_total          23532 non-null  int64         \n",
      " 7   living_area           21669 non-null  float64       \n",
      " 8   floor                 23532 non-null  int64         \n",
      " 9   is_apartment          2766 non-null   object        \n",
      " 10  studio                23532 non-null  bool          \n",
      " 11  open_plan             23532 non-null  bool          \n",
      " 12  kitchen_area          21313 non-null  float64       \n",
      " 13  balcony               23532 non-null  float64       \n",
      " 14  locality_name         23484 non-null  object        \n",
      " 15  airports_nearest      18011 non-null  float64       \n",
      " 16  cityCenters_nearest   18034 non-null  float64       \n",
      " 17  parks_around3000      18035 non-null  float64       \n",
      " 18  parks_nearest         8012 non-null   float64       \n",
      " 19  ponds_around3000      18035 non-null  float64       \n",
      " 20  ponds_nearest         9009 non-null   float64       \n",
      " 21  days_exposition       20379 non-null  float64       \n",
      " 22  one_m_price           23532 non-null  float64       \n",
      " 23  day_of_publication    23532 non-null  int64         \n",
      " 24  month_of_publication  23532 non-null  int64         \n",
      " 25  year_of_publication   23532 non-null  int64         \n",
      " 26  type_floor            23532 non-null  object        \n",
      "dtypes: bool(2), datetime64[ns](1), float64(13), int64(8), object(3)\n",
      "memory usage: 4.7+ MB\n"
     ]
    }
   ],
   "source": [
    "data['type_floor'] = data['type_floor'].astype('str')\n",
    "data.info()"
   ]
  },
  {
   "cell_type": "code",
   "execution_count": 55,
   "metadata": {},
   "outputs": [],
   "source": [
    "#посчитаем и добавим в таблицу столбец с расстоянием в км до центра города \n",
    "\n",
    "data['cityCenters_nearest_km'] = data['cityCenters_nearest'] / 1000\n",
    "data['cityCenters_nearest_km'] = data['cityCenters_nearest_km'].round(0)"
   ]
  },
  {
   "cell_type": "markdown",
   "metadata": {},
   "source": [
    "### Проведите исследовательский анализ данных"
   ]
  },
  {
   "cell_type": "markdown",
   "metadata": {},
   "source": [
    "#### изучим следующие параметры:"
   ]
  },
  {
   "cell_type": "code",
   "execution_count": 56,
   "metadata": {},
   "outputs": [
    {
     "data": {
      "text/html": [
       "<div>\n",
       "<style scoped>\n",
       "    .dataframe tbody tr th:only-of-type {\n",
       "        vertical-align: middle;\n",
       "    }\n",
       "\n",
       "    .dataframe tbody tr th {\n",
       "        vertical-align: top;\n",
       "    }\n",
       "\n",
       "    .dataframe thead th {\n",
       "        text-align: right;\n",
       "    }\n",
       "</style>\n",
       "<table border=\"1\" class=\"dataframe\">\n",
       "  <thead>\n",
       "    <tr style=\"text-align: right;\">\n",
       "      <th></th>\n",
       "      <th>total_area</th>\n",
       "      <th>living_area</th>\n",
       "      <th>kitchen_area</th>\n",
       "      <th>ceiling_height</th>\n",
       "      <th>last_price</th>\n",
       "      <th>rooms</th>\n",
       "      <th>floors_total</th>\n",
       "    </tr>\n",
       "  </thead>\n",
       "  <tbody>\n",
       "    <tr>\n",
       "      <th>count</th>\n",
       "      <td>23532.000000</td>\n",
       "      <td>21669.000000</td>\n",
       "      <td>21313.000000</td>\n",
       "      <td>23532.000000</td>\n",
       "      <td>2.353200e+04</td>\n",
       "      <td>23532.000000</td>\n",
       "      <td>23532.000000</td>\n",
       "    </tr>\n",
       "    <tr>\n",
       "      <th>mean</th>\n",
       "      <td>60.086223</td>\n",
       "      <td>34.308651</td>\n",
       "      <td>10.536238</td>\n",
       "      <td>2.696137</td>\n",
       "      <td>6.488315e+06</td>\n",
       "      <td>2.064083</td>\n",
       "      <td>10.644612</td>\n",
       "    </tr>\n",
       "    <tr>\n",
       "      <th>std</th>\n",
       "      <td>34.378233</td>\n",
       "      <td>21.304278</td>\n",
       "      <td>5.801439</td>\n",
       "      <td>0.214836</td>\n",
       "      <td>1.046028e+07</td>\n",
       "      <td>1.043269</td>\n",
       "      <td>6.531008</td>\n",
       "    </tr>\n",
       "    <tr>\n",
       "      <th>min</th>\n",
       "      <td>12.000000</td>\n",
       "      <td>2.000000</td>\n",
       "      <td>1.300000</td>\n",
       "      <td>2.200000</td>\n",
       "      <td>4.300000e+05</td>\n",
       "      <td>0.000000</td>\n",
       "      <td>1.000000</td>\n",
       "    </tr>\n",
       "    <tr>\n",
       "      <th>25%</th>\n",
       "      <td>40.000000</td>\n",
       "      <td>18.600000</td>\n",
       "      <td>7.000000</td>\n",
       "      <td>2.600000</td>\n",
       "      <td>3.400000e+06</td>\n",
       "      <td>1.000000</td>\n",
       "      <td>5.000000</td>\n",
       "    </tr>\n",
       "    <tr>\n",
       "      <th>50%</th>\n",
       "      <td>52.000000</td>\n",
       "      <td>30.000000</td>\n",
       "      <td>9.100000</td>\n",
       "      <td>2.650000</td>\n",
       "      <td>4.630000e+06</td>\n",
       "      <td>2.000000</td>\n",
       "      <td>9.000000</td>\n",
       "    </tr>\n",
       "    <tr>\n",
       "      <th>75%</th>\n",
       "      <td>69.600000</td>\n",
       "      <td>42.300000</td>\n",
       "      <td>12.000000</td>\n",
       "      <td>2.700000</td>\n",
       "      <td>6.750000e+06</td>\n",
       "      <td>3.000000</td>\n",
       "      <td>16.000000</td>\n",
       "    </tr>\n",
       "    <tr>\n",
       "      <th>max</th>\n",
       "      <td>631.200000</td>\n",
       "      <td>347.500000</td>\n",
       "      <td>107.000000</td>\n",
       "      <td>4.900000</td>\n",
       "      <td>7.630000e+08</td>\n",
       "      <td>8.000000</td>\n",
       "      <td>29.000000</td>\n",
       "    </tr>\n",
       "  </tbody>\n",
       "</table>\n",
       "</div>"
      ],
      "text/plain": [
       "         total_area   living_area  kitchen_area  ceiling_height    last_price  \\\n",
       "count  23532.000000  21669.000000  21313.000000    23532.000000  2.353200e+04   \n",
       "mean      60.086223     34.308651     10.536238        2.696137  6.488315e+06   \n",
       "std       34.378233     21.304278      5.801439        0.214836  1.046028e+07   \n",
       "min       12.000000      2.000000      1.300000        2.200000  4.300000e+05   \n",
       "25%       40.000000     18.600000      7.000000        2.600000  3.400000e+06   \n",
       "50%       52.000000     30.000000      9.100000        2.650000  4.630000e+06   \n",
       "75%       69.600000     42.300000     12.000000        2.700000  6.750000e+06   \n",
       "max      631.200000    347.500000    107.000000        4.900000  7.630000e+08   \n",
       "\n",
       "              rooms  floors_total  \n",
       "count  23532.000000  23532.000000  \n",
       "mean       2.064083     10.644612  \n",
       "std        1.043269      6.531008  \n",
       "min        0.000000      1.000000  \n",
       "25%        1.000000      5.000000  \n",
       "50%        2.000000      9.000000  \n",
       "75%        3.000000     16.000000  \n",
       "max        8.000000     29.000000  "
      ]
     },
     "execution_count": 56,
     "metadata": {},
     "output_type": "execute_result"
    }
   ],
   "source": [
    "data[['total_area', 'living_area', 'kitchen_area', 'ceiling_height', 'last_price', 'rooms', 'floors_total']].describe()"
   ]
  },
  {
   "cell_type": "code",
   "execution_count": 57,
   "metadata": {},
   "outputs": [
    {
     "data": {
      "text/html": [
       "<div>\n",
       "<style scoped>\n",
       "    .dataframe tbody tr th:only-of-type {\n",
       "        vertical-align: middle;\n",
       "    }\n",
       "\n",
       "    .dataframe tbody tr th {\n",
       "        vertical-align: top;\n",
       "    }\n",
       "\n",
       "    .dataframe thead th {\n",
       "        text-align: right;\n",
       "    }\n",
       "</style>\n",
       "<table border=\"1\" class=\"dataframe\">\n",
       "  <thead>\n",
       "    <tr style=\"text-align: right;\">\n",
       "      <th></th>\n",
       "      <th>parks_nearest</th>\n",
       "      <th>airports_nearest</th>\n",
       "      <th>cityCenters_nearest</th>\n",
       "    </tr>\n",
       "  </thead>\n",
       "  <tbody>\n",
       "    <tr>\n",
       "      <th>count</th>\n",
       "      <td>8012.000000</td>\n",
       "      <td>18011.000000</td>\n",
       "      <td>18034.000000</td>\n",
       "    </tr>\n",
       "    <tr>\n",
       "      <th>mean</th>\n",
       "      <td>490.706316</td>\n",
       "      <td>28811.872189</td>\n",
       "      <td>14184.363314</td>\n",
       "    </tr>\n",
       "    <tr>\n",
       "      <th>std</th>\n",
       "      <td>341.779365</td>\n",
       "      <td>12633.666253</td>\n",
       "      <td>8615.113873</td>\n",
       "    </tr>\n",
       "    <tr>\n",
       "      <th>min</th>\n",
       "      <td>1.000000</td>\n",
       "      <td>0.000000</td>\n",
       "      <td>181.000000</td>\n",
       "    </tr>\n",
       "    <tr>\n",
       "      <th>25%</th>\n",
       "      <td>288.000000</td>\n",
       "      <td>18557.000000</td>\n",
       "      <td>9234.000000</td>\n",
       "    </tr>\n",
       "    <tr>\n",
       "      <th>50%</th>\n",
       "      <td>455.000000</td>\n",
       "      <td>26766.000000</td>\n",
       "      <td>13091.000000</td>\n",
       "    </tr>\n",
       "    <tr>\n",
       "      <th>75%</th>\n",
       "      <td>612.000000</td>\n",
       "      <td>37284.000000</td>\n",
       "      <td>16275.000000</td>\n",
       "    </tr>\n",
       "    <tr>\n",
       "      <th>max</th>\n",
       "      <td>3190.000000</td>\n",
       "      <td>84869.000000</td>\n",
       "      <td>65968.000000</td>\n",
       "    </tr>\n",
       "  </tbody>\n",
       "</table>\n",
       "</div>"
      ],
      "text/plain": [
       "       parks_nearest  airports_nearest  cityCenters_nearest\n",
       "count    8012.000000      18011.000000         18034.000000\n",
       "mean      490.706316      28811.872189         14184.363314\n",
       "std       341.779365      12633.666253          8615.113873\n",
       "min         1.000000          0.000000           181.000000\n",
       "25%       288.000000      18557.000000          9234.000000\n",
       "50%       455.000000      26766.000000         13091.000000\n",
       "75%       612.000000      37284.000000         16275.000000\n",
       "max      3190.000000      84869.000000         65968.000000"
      ]
     },
     "execution_count": 57,
     "metadata": {},
     "output_type": "execute_result"
    }
   ],
   "source": [
    "data[['parks_nearest', 'airports_nearest', 'cityCenters_nearest']].describe()"
   ]
  },
  {
   "cell_type": "code",
   "execution_count": 58,
   "metadata": {},
   "outputs": [
    {
     "data": {
      "text/plain": [
       "1    7994\n",
       "2    7890\n",
       "3    5784\n",
       "4    1176\n",
       "5     323\n",
       "0     191\n",
       "6     103\n",
       "7      59\n",
       "8      12\n",
       "Name: rooms, dtype: int64"
      ]
     },
     "execution_count": 58,
     "metadata": {},
     "output_type": "execute_result"
    }
   ],
   "source": [
    "data['rooms'].value_counts()"
   ]
  },
  {
   "cell_type": "code",
   "execution_count": 59,
   "metadata": {},
   "outputs": [
    {
     "data": {
      "text/plain": [
       "другой       17306\n",
       "последний     3319\n",
       "первый        2907\n",
       "Name: type_floor, dtype: int64"
      ]
     },
     "execution_count": 59,
     "metadata": {},
     "output_type": "execute_result"
    }
   ],
   "source": [
    "data['type_floor'].value_counts()"
   ]
  },
  {
   "cell_type": "code",
   "execution_count": 60,
   "metadata": {},
   "outputs": [
    {
     "data": {
      "image/png": "[encoded data removed]",
      "text/plain": [
       "<Figure size 432x288 with 1 Axes>"
      ]
     },
     "metadata": {
      "needs_background": "light"
     },
     "output_type": "display_data"
    }
   ],
   "source": [
    "#построим гистограммы для каждого параметра\n",
    "\n",
    "data['total_area'].plot(\n",
    "    title='Общая площадь',\n",
    "    kind='hist',\n",
    "    grid=True,\n",
    "    bins=100,\n",
    "    legend=True\n",
    ");"
   ]
  },
  {
   "cell_type": "code",
   "execution_count": 61,
   "metadata": {},
   "outputs": [
    {
     "data": {
      "image/png": "[encoded data removed]",
      "text/plain": [
       "<Figure size 432x288 with 1 Axes>"
      ]
     },
     "metadata": {
      "needs_background": "light"
     },
     "output_type": "display_data"
    }
   ],
   "source": [
    "data['living_area'].plot(\n",
    "    title='Жилая площадь',\n",
    "    kind='hist',\n",
    "    grid=True,\n",
    "    bins=100,\n",
    "    legend=True\n",
    ");"
   ]
  },
  {
   "cell_type": "code",
   "execution_count": 62,
   "metadata": {},
   "outputs": [
    {
     "data": {
      "image/png": "[encoded data removed]",
      "text/plain": [
       "<Figure size 432x288 with 1 Axes>"
      ]
     },
     "metadata": {
      "needs_background": "light"
     },
     "output_type": "display_data"
    }
   ],
   "source": [
    "data['kitchen_area'].plot(\n",
    "    title='Площадь кухни',\n",
    "    kind='hist',\n",
    "    grid=True,\n",
    "    bins=100,\n",
    "    legend=True,\n",
    ");"
   ]
  },
  {
   "cell_type": "code",
   "execution_count": 63,
   "metadata": {},
   "outputs": [
    {
     "data": {
      "image/png": "[encoded data removed]",
      "text/plain": [
       "<Figure size 432x288 with 1 Axes>"
      ]
     },
     "metadata": {
      "needs_background": "light"
     },
     "output_type": "display_data"
    }
   ],
   "source": [
    "data['ceiling_height'].plot(\n",
    "    title='Высота потолков',\n",
    "    kind='hist',\n",
    "    grid=True,\n",
    "    bins=20,\n",
    "    legend=True,\n",
    "    range=(2,5) \n",
    ");"
   ]
  },
  {
   "cell_type": "code",
   "execution_count": 64,
   "metadata": {},
   "outputs": [
    {
     "data": {
      "image/png": "[encoded data removed]",
      "text/plain": [
       "<Figure size 432x288 with 1 Axes>"
      ]
     },
     "metadata": {
      "needs_background": "light"
     },
     "output_type": "display_data"
    }
   ],
   "source": [
    "data['last_price'].plot(\n",
    "    title='Цена на момент снятия публикации',\n",
    "    kind='hist',\n",
    "    grid=True,\n",
    "    bins=100,\n",
    "    legend=True,\n",
    "    range=(0, 15000000)\n",
    ");"
   ]
  },
  {
   "cell_type": "code",
   "execution_count": 65,
   "metadata": {},
   "outputs": [
    {
     "data": {
      "image/png": "[encoded data removed]",
      "text/plain": [
       "<Figure size 432x288 with 1 Axes>"
      ]
     },
     "metadata": {
      "needs_background": "light"
     },
     "output_type": "display_data"
    }
   ],
   "source": [
    "data['rooms'].plot(\n",
    "    title='Количество комнат',\n",
    "    kind='hist',\n",
    "    grid=True,\n",
    "    bins=6,\n",
    "    legend=True,\n",
    "    range=(0, 6)\n",
    ");"
   ]
  },
  {
   "cell_type": "code",
   "execution_count": 66,
   "metadata": {},
   "outputs": [
    {
     "data": {
      "image/png": "[encoded data removed]",
      "text/plain": [
       "<Figure size 432x288 with 1 Axes>"
      ]
     },
     "metadata": {
      "needs_background": "light"
     },
     "output_type": "display_data"
    }
   ],
   "source": [
    "data['floor'].plot(\n",
    "    title='Этаж',\n",
    "    kind='hist',\n",
    "    grid=True,\n",
    "    bins=20,\n",
    "    legend=True\n",
    ");"
   ]
  },
  {
   "cell_type": "code",
   "execution_count": 68,
   "metadata": {},
   "outputs": [
    {
     "data": {
      "image/png": "[encoded data removed]",
      "text/plain": [
       "<Figure size 432x288 with 1 Axes>"
      ]
     },
     "metadata": {
      "needs_background": "light"
     },
     "output_type": "display_data"
    }
   ],
   "source": [
    "data.pivot_table(\n",
    "        index='type_floor', \\\n",
    "        values='last_price',\n",
    "        aggfunc = 'count' \n",
    ").plot(\n",
    "    kind='bar',\n",
    "    title='Тип этажа',\n",
    "    legend=False,\n",
    "    grid=True\n",
    ");"
   ]
  },
  {
   "cell_type": "code",
   "execution_count": 69,
   "metadata": {},
   "outputs": [
    {
     "data": {
      "image/png": "[encoded data removed]",
      "text/plain": [
       "<Figure size 432x288 with 1 Axes>"
      ]
     },
     "metadata": {
      "needs_background": "light"
     },
     "output_type": "display_data"
    }
   ],
   "source": [
    "data['floors_total'].plot(\n",
    "    title='Количество этажей',\n",
    "    kind='hist',\n",
    "    grid=True,\n",
    "    bins=20,\n",
    "    legend=True,\n",
    "    range=(0, 40)\n",
    ");"
   ]
  },
  {
   "cell_type": "code",
   "execution_count": 70,
   "metadata": {},
   "outputs": [
    {
     "data": {
      "image/png": "[encoded data removed]",
      "text/plain": [
       "<Figure size 432x288 with 1 Axes>"
      ]
     },
     "metadata": {
      "needs_background": "light"
     },
     "output_type": "display_data"
    }
   ],
   "source": [
    "data['parks_nearest'].plot(\n",
    "    title='Расстояние до ближайшего парка',\n",
    "    kind='hist',\n",
    "    grid=True,\n",
    "    bins=100,\n",
    "    legend=True\n",
    ");"
   ]
  },
  {
   "cell_type": "code",
   "execution_count": 71,
   "metadata": {},
   "outputs": [
    {
     "data": {
      "image/png": "[encoded data removed]",
      "text/plain": [
       "<Figure size 432x288 with 1 Axes>"
      ]
     },
     "metadata": {
      "needs_background": "light"
     },
     "output_type": "display_data"
    }
   ],
   "source": [
    "data['airports_nearest'].plot(\n",
    "    title='Расстояние до ближайшего аэропорта',\n",
    "    kind='hist',\n",
    "    grid=True,\n",
    "    bins=20,\n",
    "    legend=True\n",
    ");"
   ]
  },
  {
   "cell_type": "code",
   "execution_count": 72,
   "metadata": {},
   "outputs": [
    {
     "data": {
      "image/png": "[encoded data removed]",
      "text/plain": [
       "<Figure size 432x288 with 1 Axes>"
      ]
     },
     "metadata": {
      "needs_background": "light"
     },
     "output_type": "display_data"
    }
   ],
   "source": [
    "data['cityCenters_nearest'].plot(\n",
    "    title='Расстояние до центра города',\n",
    "    kind='hist',\n",
    "    grid=True,\n",
    "    bins=20,\n",
    "    legend=True\n",
    ");"
   ]
  },
  {
   "cell_type": "code",
   "execution_count": 73,
   "metadata": {},
   "outputs": [
    {
     "data": {
      "image/png": "[encoded data removed]",
      "text/plain": [
       "<Figure size 432x288 with 1 Axes>"
      ]
     },
     "metadata": {
      "needs_background": "light"
     },
     "output_type": "display_data"
    }
   ],
   "source": [
    "data['day_of_publication'].plot(\n",
    "    title='День публикации объявления',\n",
    "    kind='hist',\n",
    "    grid=True,\n",
    "    bins=7,\n",
    "    legend=True\n",
    ");"
   ]
  },
  {
   "cell_type": "code",
   "execution_count": 74,
   "metadata": {},
   "outputs": [
    {
     "data": {
      "image/png": "[encoded data removed]",
      "text/plain": [
       "<Figure size 432x288 with 1 Axes>"
      ]
     },
     "metadata": {
      "needs_background": "light"
     },
     "output_type": "display_data"
    }
   ],
   "source": [
    "data['month_of_publication'].plot(\n",
    "    title='Месяц публикации объявления',\n",
    "    kind='hist',\n",
    "    grid=True,\n",
    "    bins=12,\n",
    "    legend=True\n",
    ");"
   ]
  },
  {
   "cell_type": "markdown",
   "metadata": {},
   "source": [
    "**Предварительный анализ показал что:**\n",
    "\n",
    "* Общая площадь недвижимости от 12 кв.м. до 900 кв.м. , среднее значение выглядит реальным. \n",
    "* Средняя высота потолков 2.65.\n",
    "* Цена от 12 тыс. до 763 млн. р. Для каждого покупателя найдется вариант по его ценовым запросам.\n",
    "* Количество комнат от 0 до 19 , больше всего объявлений о продаже двухкомнатных квартир.\n",
    "* Количество этажей в домах где продаются квартиры от 1 до 60.\n",
    "* Больше всего объявлений о продаже однокомнатных и двухкомнатных квартир.\n",
    "* Наименьшее количество объявлений о продаже квартиры на первом этаже.\n",
    "* Объявления публиковались чаще в будние дни, с заметным спадом публикаций в выходные. \n",
    "* Февраль, Март и Апрель лидеры по количеству публикаций объявлений, самое малое количество публикаций было в Мае.\n",
    "* Больше всего объвлений о продаже квартир в пятиэтажных домах. "
   ]
  },
  {
   "cell_type": "markdown",
   "metadata": {},
   "source": [
    "#### Задание: изучить как быстро продавались квартиры."
   ]
  },
  {
   "cell_type": "code",
   "execution_count": 75,
   "metadata": {},
   "outputs": [
    {
     "data": {
      "image/png": "[encoded data removed]",
      "text/plain": [
       "<Figure size 432x288 with 1 Axes>"
      ]
     },
     "metadata": {
      "needs_background": "light"
     },
     "output_type": "display_data"
    }
   ],
   "source": [
    "#построим гистограмму\n",
    "\n",
    "data['days_exposition'].plot(\n",
    "    kind='hist',\n",
    "    grid=True,\n",
    "    bins=30,\n",
    "    legend=True\n",
    ");"
   ]
  },
  {
   "cell_type": "code",
   "execution_count": 76,
   "metadata": {},
   "outputs": [
    {
     "data": {
      "image/png": "[encoded data removed]",
      "text/plain": [
       "<Figure size 432x288 with 1 Axes>"
      ]
     },
     "metadata": {
      "needs_background": "light"
     },
     "output_type": "display_data"
    }
   ],
   "source": [
    "#построим диаграмму размаха\n",
    "\n",
    "data.boxplot(column='days_exposition');"
   ]
  },
  {
   "cell_type": "code",
   "execution_count": 77,
   "metadata": {},
   "outputs": [
    {
     "data": {
      "text/plain": [
       "count    20379.000000\n",
       "mean       180.785515\n",
       "std        219.557778\n",
       "min          1.000000\n",
       "25%         45.000000\n",
       "50%         95.000000\n",
       "75%        231.000000\n",
       "max       1580.000000\n",
       "Name: days_exposition, dtype: float64"
      ]
     },
     "execution_count": 77,
     "metadata": {},
     "output_type": "execute_result"
    }
   ],
   "source": [
    "data['days_exposition'].describe()"
   ]
  },
  {
   "cell_type": "markdown",
   "metadata": {},
   "source": [
    "Среднее время продажи 180 дней, медианное 95 дней. Продажа квартиры за 95 дней после публикации очень хороший показатель. \n",
    "Большая часть квартир продается в первые 100 дней. \n",
    "Время продажи 1580 дней слишком долгое, можно предположить что объявление не было снято после продажи, отсюда такой длительный показатель.\n",
    "По результатам диаграммы размаха можем отсечь данные продаж свыше 500 дней. "
   ]
  },
  {
   "cell_type": "code",
   "execution_count": 78,
   "metadata": {},
   "outputs": [
    {
     "data": {
      "image/png": "[encoded data removed]",
      "text/plain": [
       "<Figure size 432x288 with 1 Axes>"
      ]
     },
     "metadata": {
      "needs_background": "light"
     },
     "output_type": "display_data"
    }
   ],
   "source": [
    "data.query('days_exposition<500')['days_exposition'].hist(bins=100);"
   ]
  },
  {
   "cell_type": "markdown",
   "metadata": {},
   "source": [
    "Большая часть квартир продается в первые 50 дней, это быстрые продажи. Пиковые значения могли возникнуть из за снятия с публикации объявления, возможно автоматически после 45 дней показа. "
   ]
  },
  {
   "cell_type": "markdown",
   "metadata": {},
   "source": [
    "#### Задание: выяснить какие факторы больше всего влияют на общую (полную) стоимость объекта."
   ]
  },
  {
   "cell_type": "code",
   "execution_count": 79,
   "metadata": {},
   "outputs": [
    {
     "data": {
      "image/png": "[encoded data removed]",
      "text/plain": [
       "<Figure size 432x288 with 1 Axes>"
      ]
     },
     "metadata": {
      "needs_background": "light"
     },
     "output_type": "display_data"
    }
   ],
   "source": [
    "#построим графики чтобы изучить какие факторы влияют на стоимость объекта\n",
    "\n",
    "data.plot(\n",
    "    title='Зависимость цены от общей площади',\n",
    "    x='last_price',\n",
    "    y='total_area',\n",
    "    kind='scatter',\n",
    "    grid=True,\n",
    "    legend=True,\n",
    "    alpha=0.5\n",
    ");"
   ]
  },
  {
   "cell_type": "code",
   "execution_count": 80,
   "metadata": {},
   "outputs": [
    {
     "data": {
      "text/plain": [
       "0.6415569820298743"
      ]
     },
     "execution_count": 80,
     "metadata": {},
     "output_type": "execute_result"
    }
   ],
   "source": [
    "#посчитаем коэффициент корреляции\n",
    "\n",
    "data['last_price'].corr(data['total_area'])"
   ]
  },
  {
   "cell_type": "markdown",
   "metadata": {},
   "source": [
    "Размер общей площади влияет на ценовую политику квартир. С увеличением общей площади виден равномерный рост цены."
   ]
  },
  {
   "cell_type": "code",
   "execution_count": 81,
   "metadata": {},
   "outputs": [
    {
     "data": {
      "image/png": "[encoded data removed]",
      "text/plain": [
       "<Figure size 432x288 with 1 Axes>"
      ]
     },
     "metadata": {
      "needs_background": "light"
     },
     "output_type": "display_data"
    }
   ],
   "source": [
    "data.plot(\n",
    "    title='Зависимость цены от жилой площади',\n",
    "    x='last_price',\n",
    "    y='living_area',\n",
    "    kind='scatter',\n",
    "    grid=True,\n",
    "    legend=True,\n",
    "    alpha=0.5\n",
    ");"
   ]
  },
  {
   "cell_type": "code",
   "execution_count": 82,
   "metadata": {},
   "outputs": [
    {
     "data": {
      "text/plain": [
       "0.5551279056689146"
      ]
     },
     "execution_count": 82,
     "metadata": {},
     "output_type": "execute_result"
    }
   ],
   "source": [
    "data['last_price'].corr(data['living_area'])"
   ]
  },
  {
   "cell_type": "markdown",
   "metadata": {},
   "source": [
    "Жилая площадь также оказывает влияние на цену. При увеличении жилой площади цена увеличивается, но уже менее прогрессивно "
   ]
  },
  {
   "cell_type": "code",
   "execution_count": 83,
   "metadata": {},
   "outputs": [
    {
     "data": {
      "image/png": "[encoded data removed]",
      "text/plain": [
       "<Figure size 432x288 with 1 Axes>"
      ]
     },
     "metadata": {
      "needs_background": "light"
     },
     "output_type": "display_data"
    }
   ],
   "source": [
    "data.plot(\n",
    "    title='Зависимость цены от площади кухни',\n",
    "    x='last_price',\n",
    "    y='kitchen_area',\n",
    "    kind='scatter',\n",
    "    grid=True,\n",
    "    legend=True,\n",
    "    alpha=0.5\n",
    ");"
   ]
  },
  {
   "cell_type": "code",
   "execution_count": 84,
   "metadata": {},
   "outputs": [
    {
     "data": {
      "text/plain": [
       "0.5065100853313933"
      ]
     },
     "execution_count": 84,
     "metadata": {},
     "output_type": "execute_result"
    }
   ],
   "source": [
    "data['last_price'].corr(data['kitchen_area'])"
   ]
  },
  {
   "cell_type": "markdown",
   "metadata": {},
   "source": [
    "Площадь кухни также с увеличением ведет за собой равномерный рост цены"
   ]
  },
  {
   "cell_type": "code",
   "execution_count": 85,
   "metadata": {},
   "outputs": [
    {
     "data": {
      "image/png": "[encoded data removed]",
      "text/plain": [
       "<Figure size 432x288 with 1 Axes>"
      ]
     },
     "metadata": {
      "needs_background": "light"
     },
     "output_type": "display_data"
    }
   ],
   "source": [
    "data.pivot_table(\n",
    "    index='rooms',\n",
    "    values='last_price'\n",
    ").plot(\n",
    "    title='Зависимость цены от количечства комнат',\n",
    "    kind='bar',\n",
    "    grid=True,\n",
    "    legend=False,\n",
    "    ylim=(0, 40000000)\n",
    ");"
   ]
  },
  {
   "cell_type": "code",
   "execution_count": 86,
   "metadata": {},
   "outputs": [
    {
     "data": {
      "text/plain": [
       "0.35527075575462036"
      ]
     },
     "execution_count": 86,
     "metadata": {},
     "output_type": "execute_result"
    }
   ],
   "source": [
    "data['last_price'].corr(data['rooms'])"
   ]
  },
  {
   "cell_type": "markdown",
   "metadata": {},
   "source": [
    "Логично, с увеличением количества комнат видим увеличение цены. Квартиры с количеством комнат менее 3-х заметно дешевле чем квартиры с большим количеством."
   ]
  },
  {
   "cell_type": "code",
   "execution_count": 87,
   "metadata": {},
   "outputs": [
    {
     "data": {
      "image/png": "[encoded data removed]",
      "text/plain": [
       "<Figure size 432x288 with 1 Axes>"
      ]
     },
     "metadata": {
      "needs_background": "light"
     },
     "output_type": "display_data"
    }
   ],
   "source": [
    "data.pivot_table(\n",
    "    index='type_floor',\n",
    "    values='last_price'\n",
    ").plot(\n",
    "    title='Зависимость цены от типа этажа',\n",
    "    kind='bar',\n",
    "    grid=True,\n",
    "    legend=False\n",
    ");"
   ]
  },
  {
   "cell_type": "markdown",
   "metadata": {},
   "source": [
    "Квартиры на первом этаже продаются дешевле в отличие от квартир этажами выше. "
   ]
  },
  {
   "cell_type": "code",
   "execution_count": 88,
   "metadata": {},
   "outputs": [
    {
     "data": {
      "image/png": "[encoded data removed]",
      "text/plain": [
       "<Figure size 432x288 with 1 Axes>"
      ]
     },
     "metadata": {
      "needs_background": "light"
     },
     "output_type": "display_data"
    }
   ],
   "source": [
    "data.pivot_table(\n",
    "    index='day_of_publication',\n",
    "    values='last_price'\n",
    ").plot(\n",
    "    title='Зависимость цены от дня публикации',\n",
    "    kind='bar',\n",
    "    grid=True,\n",
    "    legend=False\n",
    ");"
   ]
  },
  {
   "cell_type": "code",
   "execution_count": 89,
   "metadata": {},
   "outputs": [
    {
     "data": {
      "image/png": "[encoded data removed]",
      "text/plain": [
       "<Figure size 432x288 with 1 Axes>"
      ]
     },
     "metadata": {
      "needs_background": "light"
     },
     "output_type": "display_data"
    }
   ],
   "source": [
    "data.pivot_table(\n",
    "    index='month_of_publication',\n",
    "    values='last_price'\n",
    ").plot(\n",
    "    title='Зависимость цены от месяца публикации',\n",
    "    kind='bar',\n",
    "    grid=True,\n",
    "    legend=False\n",
    ");"
   ]
  },
  {
   "cell_type": "code",
   "execution_count": 90,
   "metadata": {},
   "outputs": [
    {
     "data": {
      "image/png": "[encoded data removed]",
      "text/plain": [
       "<Figure size 432x288 with 1 Axes>"
      ]
     },
     "metadata": {
      "needs_background": "light"
     },
     "output_type": "display_data"
    }
   ],
   "source": [
    "data.pivot_table(\n",
    "    index='year_of_publication',\n",
    "    values='last_price'\n",
    ").plot(\n",
    "    title='Зависимость цены от года публикации',\n",
    "    kind='bar',\n",
    "    grid=True,\n",
    "    legend=False\n",
    ");"
   ]
  },
  {
   "cell_type": "markdown",
   "metadata": {},
   "source": [
    "После первой половины 2017 года, видим небольшое увеличение цен. В целом, даты публикации объявлений оказывают незначительное влияние на ценовую политику. "
   ]
  },
  {
   "cell_type": "markdown",
   "metadata": {},
   "source": [
    "#### Задание: посчитаем среднюю цену одного квадратного метра в 10 населённых пунктах с наибольшим числом объявлений. Выделим населённые пункты с самой высокой и низкой стоимостью квадратного метра."
   ]
  },
  {
   "cell_type": "code",
   "execution_count": 91,
   "metadata": {},
   "outputs": [
    {
     "data": {
      "text/html": [
       "<div>\n",
       "<style scoped>\n",
       "    .dataframe tbody tr th:only-of-type {\n",
       "        vertical-align: middle;\n",
       "    }\n",
       "\n",
       "    .dataframe tbody tr th {\n",
       "        vertical-align: top;\n",
       "    }\n",
       "\n",
       "    .dataframe thead th {\n",
       "        text-align: right;\n",
       "    }\n",
       "</style>\n",
       "<table border=\"1\" class=\"dataframe\">\n",
       "  <thead>\n",
       "    <tr style=\"text-align: right;\">\n",
       "      <th></th>\n",
       "      <th>count</th>\n",
       "      <th>mean</th>\n",
       "    </tr>\n",
       "    <tr>\n",
       "      <th>locality_name</th>\n",
       "      <th></th>\n",
       "      <th></th>\n",
       "    </tr>\n",
       "  </thead>\n",
       "  <tbody>\n",
       "    <tr>\n",
       "      <th>Санкт-Петербург</th>\n",
       "      <td>15584</td>\n",
       "      <td>114768.4</td>\n",
       "    </tr>\n",
       "    <tr>\n",
       "      <th>Пушкин</th>\n",
       "      <td>369</td>\n",
       "      <td>103125.8</td>\n",
       "    </tr>\n",
       "    <tr>\n",
       "      <th>деревня Кудрово</th>\n",
       "      <td>299</td>\n",
       "      <td>92473.5</td>\n",
       "    </tr>\n",
       "    <tr>\n",
       "      <th>поселок Парголово</th>\n",
       "      <td>327</td>\n",
       "      <td>90175.9</td>\n",
       "    </tr>\n",
       "    <tr>\n",
       "      <th>Мурино</th>\n",
       "      <td>586</td>\n",
       "      <td>86041.1</td>\n",
       "    </tr>\n",
       "    <tr>\n",
       "      <th>поселок Шушары</th>\n",
       "      <td>439</td>\n",
       "      <td>78551.3</td>\n",
       "    </tr>\n",
       "    <tr>\n",
       "      <th>Колпино</th>\n",
       "      <td>338</td>\n",
       "      <td>75424.6</td>\n",
       "    </tr>\n",
       "    <tr>\n",
       "      <th>Гатчина</th>\n",
       "      <td>307</td>\n",
       "      <td>68746.1</td>\n",
       "    </tr>\n",
       "    <tr>\n",
       "      <th>Всеволожск</th>\n",
       "      <td>397</td>\n",
       "      <td>68719.3</td>\n",
       "    </tr>\n",
       "    <tr>\n",
       "      <th>Выборг</th>\n",
       "      <td>235</td>\n",
       "      <td>58238.1</td>\n",
       "    </tr>\n",
       "  </tbody>\n",
       "</table>\n",
       "</div>"
      ],
      "text/plain": [
       "                   count      mean\n",
       "locality_name                     \n",
       "Санкт-Петербург    15584  114768.4\n",
       "Пушкин               369  103125.8\n",
       "деревня Кудрово      299   92473.5\n",
       "поселок Парголово    327   90175.9\n",
       "Мурино               586   86041.1\n",
       "поселок Шушары       439   78551.3\n",
       "Колпино              338   75424.6\n",
       "Гатчина              307   68746.1\n",
       "Всеволожск           397   68719.3\n",
       "Выборг               235   58238.1"
      ]
     },
     "execution_count": 91,
     "metadata": {},
     "output_type": "execute_result"
    }
   ],
   "source": [
    "group = data.pivot_table(index='locality_name', values='one_m_price', aggfunc=['count', 'mean'])\n",
    "group.columns = ['count', 'mean']\n",
    "group = group.sort_values(by='count', ascending=False).head(10)\n",
    "group['mean'] = group['mean'].round(1)\n",
    "group.sort_values(by='mean', ascending=False).head(10)"
   ]
  },
  {
   "cell_type": "code",
   "execution_count": 92,
   "metadata": {},
   "outputs": [
    {
     "data": {
      "text/html": [
       "<div>\n",
       "<style scoped>\n",
       "    .dataframe tbody tr th:only-of-type {\n",
       "        vertical-align: middle;\n",
       "    }\n",
       "\n",
       "    .dataframe tbody tr th {\n",
       "        vertical-align: top;\n",
       "    }\n",
       "\n",
       "    .dataframe thead th {\n",
       "        text-align: right;\n",
       "    }\n",
       "</style>\n",
       "<table border=\"1\" class=\"dataframe\">\n",
       "  <thead>\n",
       "    <tr style=\"text-align: right;\">\n",
       "      <th></th>\n",
       "      <th>count</th>\n",
       "      <th>mean</th>\n",
       "    </tr>\n",
       "    <tr>\n",
       "      <th>locality_name</th>\n",
       "      <th></th>\n",
       "      <th></th>\n",
       "    </tr>\n",
       "  </thead>\n",
       "  <tbody>\n",
       "    <tr>\n",
       "      <th>Санкт-Петербург</th>\n",
       "      <td>15584</td>\n",
       "      <td>114768.4</td>\n",
       "    </tr>\n",
       "  </tbody>\n",
       "</table>\n",
       "</div>"
      ],
      "text/plain": [
       "                 count      mean\n",
       "locality_name                   \n",
       "Санкт-Петербург  15584  114768.4"
      ]
     },
     "execution_count": 92,
     "metadata": {},
     "output_type": "execute_result"
    }
   ],
   "source": [
    "group.sort_values(by='mean', ascending=False).head(1)"
   ]
  },
  {
   "cell_type": "code",
   "execution_count": 93,
   "metadata": {},
   "outputs": [
    {
     "data": {
      "text/html": [
       "<div>\n",
       "<style scoped>\n",
       "    .dataframe tbody tr th:only-of-type {\n",
       "        vertical-align: middle;\n",
       "    }\n",
       "\n",
       "    .dataframe tbody tr th {\n",
       "        vertical-align: top;\n",
       "    }\n",
       "\n",
       "    .dataframe thead th {\n",
       "        text-align: right;\n",
       "    }\n",
       "</style>\n",
       "<table border=\"1\" class=\"dataframe\">\n",
       "  <thead>\n",
       "    <tr style=\"text-align: right;\">\n",
       "      <th></th>\n",
       "      <th>count</th>\n",
       "      <th>mean</th>\n",
       "    </tr>\n",
       "    <tr>\n",
       "      <th>locality_name</th>\n",
       "      <th></th>\n",
       "      <th></th>\n",
       "    </tr>\n",
       "  </thead>\n",
       "  <tbody>\n",
       "    <tr>\n",
       "      <th>Выборг</th>\n",
       "      <td>235</td>\n",
       "      <td>58238.1</td>\n",
       "    </tr>\n",
       "  </tbody>\n",
       "</table>\n",
       "</div>"
      ],
      "text/plain": [
       "               count     mean\n",
       "locality_name                \n",
       "Выборг           235  58238.1"
      ]
     },
     "execution_count": 93,
     "metadata": {},
     "output_type": "execute_result"
    }
   ],
   "source": [
    "group.sort_values(by='mean', ascending=False).tail(1)"
   ]
  },
  {
   "cell_type": "markdown",
   "metadata": {},
   "source": [
    "Санкт-Петербург имеет самую высокую среднюю стоимость квадратного метра.\n",
    "У Выборга самая низкая средняя стоимость за квадратный метр."
   ]
  },
  {
   "cell_type": "markdown",
   "metadata": {},
   "source": [
    "**Задание:** Выделить квартиры в Санкт-Петербурге с помощью столбца locality_name и вычислить среднюю цену каждого километра."
   ]
  },
  {
   "cell_type": "code",
   "execution_count": 94,
   "metadata": {},
   "outputs": [
    {
     "data": {
      "text/html": [
       "<div>\n",
       "<style scoped>\n",
       "    .dataframe tbody tr th:only-of-type {\n",
       "        vertical-align: middle;\n",
       "    }\n",
       "\n",
       "    .dataframe tbody tr th {\n",
       "        vertical-align: top;\n",
       "    }\n",
       "\n",
       "    .dataframe thead th {\n",
       "        text-align: right;\n",
       "    }\n",
       "</style>\n",
       "<table border=\"1\" class=\"dataframe\">\n",
       "  <thead>\n",
       "    <tr style=\"text-align: right;\">\n",
       "      <th></th>\n",
       "      <th>one_m_price</th>\n",
       "    </tr>\n",
       "    <tr>\n",
       "      <th>cityCenters_nearest_km</th>\n",
       "      <th></th>\n",
       "    </tr>\n",
       "  </thead>\n",
       "  <tbody>\n",
       "    <tr>\n",
       "      <th>0.0</th>\n",
       "      <td>245833.533333</td>\n",
       "    </tr>\n",
       "    <tr>\n",
       "      <th>1.0</th>\n",
       "      <td>177365.946842</td>\n",
       "    </tr>\n",
       "    <tr>\n",
       "      <th>2.0</th>\n",
       "      <td>157981.901618</td>\n",
       "    </tr>\n",
       "    <tr>\n",
       "      <th>3.0</th>\n",
       "      <td>121299.024566</td>\n",
       "    </tr>\n",
       "    <tr>\n",
       "      <th>4.0</th>\n",
       "      <td>133472.947445</td>\n",
       "    </tr>\n",
       "    <tr>\n",
       "      <th>5.0</th>\n",
       "      <td>140290.381628</td>\n",
       "    </tr>\n",
       "    <tr>\n",
       "      <th>6.0</th>\n",
       "      <td>150041.352760</td>\n",
       "    </tr>\n",
       "    <tr>\n",
       "      <th>7.0</th>\n",
       "      <td>155997.406938</td>\n",
       "    </tr>\n",
       "    <tr>\n",
       "      <th>8.0</th>\n",
       "      <td>124340.857458</td>\n",
       "    </tr>\n",
       "    <tr>\n",
       "      <th>9.0</th>\n",
       "      <td>113350.980000</td>\n",
       "    </tr>\n",
       "    <tr>\n",
       "      <th>10.0</th>\n",
       "      <td>112785.842997</td>\n",
       "    </tr>\n",
       "    <tr>\n",
       "      <th>11.0</th>\n",
       "      <td>108388.277825</td>\n",
       "    </tr>\n",
       "    <tr>\n",
       "      <th>12.0</th>\n",
       "      <td>107495.551223</td>\n",
       "    </tr>\n",
       "    <tr>\n",
       "      <th>13.0</th>\n",
       "      <td>108105.062828</td>\n",
       "    </tr>\n",
       "    <tr>\n",
       "      <th>14.0</th>\n",
       "      <td>104201.233752</td>\n",
       "    </tr>\n",
       "    <tr>\n",
       "      <th>15.0</th>\n",
       "      <td>104251.125128</td>\n",
       "    </tr>\n",
       "    <tr>\n",
       "      <th>16.0</th>\n",
       "      <td>100542.612806</td>\n",
       "    </tr>\n",
       "    <tr>\n",
       "      <th>17.0</th>\n",
       "      <td>96937.306336</td>\n",
       "    </tr>\n",
       "    <tr>\n",
       "      <th>18.0</th>\n",
       "      <td>96362.264368</td>\n",
       "    </tr>\n",
       "    <tr>\n",
       "      <th>19.0</th>\n",
       "      <td>98658.390385</td>\n",
       "    </tr>\n",
       "    <tr>\n",
       "      <th>20.0</th>\n",
       "      <td>87214.894737</td>\n",
       "    </tr>\n",
       "    <tr>\n",
       "      <th>21.0</th>\n",
       "      <td>94469.585470</td>\n",
       "    </tr>\n",
       "    <tr>\n",
       "      <th>22.0</th>\n",
       "      <td>91330.424257</td>\n",
       "    </tr>\n",
       "    <tr>\n",
       "      <th>23.0</th>\n",
       "      <td>91828.514118</td>\n",
       "    </tr>\n",
       "    <tr>\n",
       "      <th>24.0</th>\n",
       "      <td>85736.896154</td>\n",
       "    </tr>\n",
       "    <tr>\n",
       "      <th>25.0</th>\n",
       "      <td>91531.373077</td>\n",
       "    </tr>\n",
       "    <tr>\n",
       "      <th>26.0</th>\n",
       "      <td>87798.869767</td>\n",
       "    </tr>\n",
       "    <tr>\n",
       "      <th>27.0</th>\n",
       "      <td>132115.700000</td>\n",
       "    </tr>\n",
       "    <tr>\n",
       "      <th>28.0</th>\n",
       "      <td>81161.928571</td>\n",
       "    </tr>\n",
       "    <tr>\n",
       "      <th>29.0</th>\n",
       "      <td>72953.366667</td>\n",
       "    </tr>\n",
       "  </tbody>\n",
       "</table>\n",
       "</div>"
      ],
      "text/plain": [
       "                          one_m_price\n",
       "cityCenters_nearest_km               \n",
       "0.0                     245833.533333\n",
       "1.0                     177365.946842\n",
       "2.0                     157981.901618\n",
       "3.0                     121299.024566\n",
       "4.0                     133472.947445\n",
       "5.0                     140290.381628\n",
       "6.0                     150041.352760\n",
       "7.0                     155997.406938\n",
       "8.0                     124340.857458\n",
       "9.0                     113350.980000\n",
       "10.0                    112785.842997\n",
       "11.0                    108388.277825\n",
       "12.0                    107495.551223\n",
       "13.0                    108105.062828\n",
       "14.0                    104201.233752\n",
       "15.0                    104251.125128\n",
       "16.0                    100542.612806\n",
       "17.0                     96937.306336\n",
       "18.0                     96362.264368\n",
       "19.0                     98658.390385\n",
       "20.0                     87214.894737\n",
       "21.0                     94469.585470\n",
       "22.0                     91330.424257\n",
       "23.0                     91828.514118\n",
       "24.0                     85736.896154\n",
       "25.0                     91531.373077\n",
       "26.0                     87798.869767\n",
       "27.0                    132115.700000\n",
       "28.0                     81161.928571\n",
       "29.0                     72953.366667"
      ]
     },
     "execution_count": 94,
     "metadata": {},
     "output_type": "execute_result"
    }
   ],
   "source": [
    "#Выделим все квартиры в Санкт-Петербурге\n",
    "\n",
    "data_spb = data.query('locality_name == \"Санкт-Петербург\"').sort_values(by='cityCenters_nearest_km', ascending=True)\n",
    "data_spb = data_spb.fillna(100000)\n",
    "data_spb = data_spb.query(\n",
    "    'cityCenters_nearest_km != 100000').pivot_table(\n",
    "    index='cityCenters_nearest_km', \\\n",
    "    values='one_m_price', \\\n",
    "    aggfunc='mean'\n",
    ")\n",
    "data_spb"
   ]
  },
  {
   "cell_type": "code",
   "execution_count": 95,
   "metadata": {},
   "outputs": [
    {
     "data": {
      "text/plain": [
       "<AxesSubplot:xlabel='cityCenters_nearest_km'>"
      ]
     },
     "execution_count": 95,
     "metadata": {},
     "output_type": "execute_result"
    },
    {
     "data": {
      "image/png": "[encoded data removed]",
      "text/plain": [
       "<Figure size 432x288 with 1 Axes>"
      ]
     },
     "metadata": {
      "needs_background": "light"
     },
     "output_type": "display_data"
    }
   ],
   "source": [
    "data_spb.plot()"
   ]
  },
  {
   "cell_type": "markdown",
   "metadata": {},
   "source": [
    "Судя по графику самые высокие цены в центре Санкт-Петербурга. Цены идут на спад уходя за радиус 3,5 км от центра. "
   ]
  },
  {
   "cell_type": "markdown",
   "metadata": {},
   "source": [
    "### Общий вывод"
   ]
  },
  {
   "cell_type": "markdown",
   "metadata": {},
   "source": [
    "* Было проведено исследование чтобы найти особенности и зависимости, которые существуют на рынке недвижимости города Санкт-Петербурга и соседних населенных пунктов. Входные данные от сервиса Яндекс Недвижимости - архив объявлений за несколько лет о продаже квартир в Санкт-Петербурге и соседних населённых пунктах. \n",
    "\n",
    "* В ходе исследования были изучены входящие данные, обработаны пропущенные значения, там где это возможно. Были изменены типы данных на необходимые типы для дальнейшей работы. Проведена работа по устранению неявных дубликатов в названиях населенных пунктов. Было посчитано и добалено в таблицу: цена за квадратный метр; день, месяц и год публикации объявления; тип этажа квартиры; расстояние в километрах до центра города. \n",
    "\n",
    "* Изучили параметры: общая площадь, жилая площадь, площадь кухни, высоту потолков, количество комнат, этажей. В результате ислледования выявили что больше всего объявлений о продаже однокомнатных и двухкомнатных квартир, квартиры в пятиэтажных домах лидируют по количеству объявлений о продаже, первый этаж существенно дешевле и имеет меньшее количество объявлений в отличии от квартир на других этажах. \n",
    "\n",
    "* Изучили как быстро продавались квартиры: большая часть квартир продается за первые 100 дней, но нормальная продажа считается от 1 до 500 дней. Также часть объявлений автоматически снималось с публикации по истечению установленного срока, об этом говорят выпадающие значения на графике. \n",
    "\n",
    "* Выяснили что параметры количества комнат и тип этажа существенно влияют на ценообразование, с увеличением комнат значительно растет цена, квартиры выше первого этажа также существенно дороже чем квартиры на первом этаже. Такие параметры как площадь общая, жилая, кухонная также влияют на рост цены, с увеличением площадей плавно растет цена. Незначительное влияние на цену имеет день, месяц, год публикации объявления. \n",
    "\n",
    "* Провели исследование и выяснили что из десяти самый больших по количеству объявлений населенных пунктов Санкт-Петербург имеет самую высокую среднюю стоимость квадратного метра. Выборг же наоборот самую низкую среднюю стоимость за квадратный метр.\n",
    "\n",
    "* Исходя из резкого изменения цен на графике в зависимости удаления от центра, пришли к выводу что центр города Санкт-Петербург выходит в радиус 3,5 км. Квартиры в центре Санкт-Петербурга на порядок дороже, чем в других населенных пунктах по мере отдаления от него. "
   ]
  }
 ],
 "metadata": {
  "ExecuteTimeLog": [
   {
    "duration": 510,
    "start_time": "2022-08-01T08:48:04.120Z"
   },
   {
    "duration": 99,
    "start_time": "2022-08-01T08:48:53.887Z"
   },
   {
    "duration": 91,
    "start_time": "2022-08-01T08:49:04.574Z"
   },
   {
    "duration": 91,
    "start_time": "2022-08-01T08:49:13.809Z"
   },
   {
    "duration": 89,
    "start_time": "2022-08-01T08:49:19.042Z"
   },
   {
    "duration": 118,
    "start_time": "2022-08-01T08:49:40.274Z"
   },
   {
    "duration": 14,
    "start_time": "2022-08-01T08:49:57.699Z"
   },
   {
    "duration": 76,
    "start_time": "2022-08-01T08:50:45.693Z"
   },
   {
    "duration": 54,
    "start_time": "2022-08-01T08:51:13.123Z"
   },
   {
    "duration": 2172,
    "start_time": "2022-08-01T08:51:17.277Z"
   },
   {
    "duration": 111,
    "start_time": "2022-08-01T08:53:41.585Z"
   },
   {
    "duration": 15,
    "start_time": "2022-08-01T08:54:00.016Z"
   },
   {
    "duration": 1721,
    "start_time": "2022-08-01T08:54:16.905Z"
   },
   {
    "duration": 877,
    "start_time": "2022-08-02T08:41:46.583Z"
   },
   {
    "duration": 18,
    "start_time": "2022-08-02T08:41:49.279Z"
   },
   {
    "duration": 2454,
    "start_time": "2022-08-02T08:41:51.643Z"
   },
   {
    "duration": 11,
    "start_time": "2022-08-02T08:46:46.027Z"
   },
   {
    "duration": 59,
    "start_time": "2022-08-02T09:00:12.964Z"
   },
   {
    "duration": 4,
    "start_time": "2022-08-02T09:00:25.178Z"
   },
   {
    "duration": 83,
    "start_time": "2022-08-02T09:00:38.148Z"
   },
   {
    "duration": 9,
    "start_time": "2022-08-02T09:01:15.161Z"
   },
   {
    "duration": 906,
    "start_time": "2022-08-02T09:18:45.836Z"
   },
   {
    "duration": 3,
    "start_time": "2022-08-02T09:18:54.880Z"
   },
   {
    "duration": 8,
    "start_time": "2022-08-02T09:19:06.240Z"
   },
   {
    "duration": 7,
    "start_time": "2022-08-02T09:19:17.340Z"
   },
   {
    "duration": 7,
    "start_time": "2022-08-02T09:19:54.179Z"
   },
   {
    "duration": 8,
    "start_time": "2022-08-02T09:19:57.011Z"
   },
   {
    "duration": 9,
    "start_time": "2022-08-02T09:19:58.971Z"
   },
   {
    "duration": 8,
    "start_time": "2022-08-02T09:19:59.803Z"
   },
   {
    "duration": 6,
    "start_time": "2022-08-02T09:20:06.336Z"
   },
   {
    "duration": 5,
    "start_time": "2022-08-02T09:20:07.780Z"
   },
   {
    "duration": 7,
    "start_time": "2022-08-02T09:20:10.339Z"
   },
   {
    "duration": 16,
    "start_time": "2022-08-02T09:20:16.076Z"
   },
   {
    "duration": 7,
    "start_time": "2022-08-02T09:20:17.439Z"
   },
   {
    "duration": 132,
    "start_time": "2022-08-02T09:20:22.066Z"
   },
   {
    "duration": 24,
    "start_time": "2022-08-02T09:20:23.509Z"
   },
   {
    "duration": 2246,
    "start_time": "2022-08-02T09:20:26.101Z"
   },
   {
    "duration": 8,
    "start_time": "2022-08-02T09:20:28.434Z"
   },
   {
    "duration": 8,
    "start_time": "2022-08-02T09:26:11.550Z"
   },
   {
    "duration": 6,
    "start_time": "2022-08-02T09:26:17.630Z"
   },
   {
    "duration": 12,
    "start_time": "2022-08-02T09:26:44.847Z"
   },
   {
    "duration": 8,
    "start_time": "2022-08-02T09:27:31.992Z"
   },
   {
    "duration": 6,
    "start_time": "2022-08-02T09:27:36.672Z"
   },
   {
    "duration": 4,
    "start_time": "2022-08-02T09:27:43.838Z"
   },
   {
    "duration": 5,
    "start_time": "2022-08-02T09:27:44.952Z"
   },
   {
    "duration": 6,
    "start_time": "2022-08-02T09:27:55.400Z"
   },
   {
    "duration": 5,
    "start_time": "2022-08-02T09:27:58.433Z"
   },
   {
    "duration": 9,
    "start_time": "2022-08-02T09:28:02.637Z"
   },
   {
    "duration": 579,
    "start_time": "2022-08-02T09:28:23.743Z"
   },
   {
    "duration": 17,
    "start_time": "2022-08-02T09:28:24.325Z"
   },
   {
    "duration": 2416,
    "start_time": "2022-08-02T09:28:24.344Z"
   },
   {
    "duration": 11,
    "start_time": "2022-08-02T09:28:26.762Z"
   },
   {
    "duration": 29,
    "start_time": "2022-08-02T09:28:26.776Z"
   },
   {
    "duration": 6,
    "start_time": "2022-08-02T09:28:26.807Z"
   },
   {
    "duration": 8,
    "start_time": "2022-08-02T09:28:26.815Z"
   },
   {
    "duration": 53,
    "start_time": "2022-08-02T09:35:24.939Z"
   },
   {
    "duration": 44,
    "start_time": "2022-08-02T09:35:35.897Z"
   },
   {
    "duration": 14,
    "start_time": "2022-08-02T09:38:32.158Z"
   },
   {
    "duration": 15,
    "start_time": "2022-08-02T09:38:57.653Z"
   },
   {
    "duration": 5,
    "start_time": "2022-08-02T09:40:39.344Z"
   },
   {
    "duration": 6,
    "start_time": "2022-08-02T09:46:39.243Z"
   },
   {
    "duration": 8,
    "start_time": "2022-08-02T10:08:31.667Z"
   },
   {
    "duration": 7,
    "start_time": "2022-08-02T10:08:39.966Z"
   },
   {
    "duration": 7,
    "start_time": "2022-08-02T10:08:54.348Z"
   },
   {
    "duration": 6,
    "start_time": "2022-08-02T10:15:29.847Z"
   },
   {
    "duration": 550,
    "start_time": "2022-08-02T10:15:46.829Z"
   },
   {
    "duration": 26,
    "start_time": "2022-08-02T10:15:47.382Z"
   },
   {
    "duration": 2415,
    "start_time": "2022-08-02T10:15:47.410Z"
   },
   {
    "duration": 9,
    "start_time": "2022-08-02T10:15:49.827Z"
   },
   {
    "duration": 6,
    "start_time": "2022-08-02T10:15:49.838Z"
   },
   {
    "duration": 5,
    "start_time": "2022-08-02T10:15:49.846Z"
   },
   {
    "duration": 12,
    "start_time": "2022-08-02T10:15:49.852Z"
   },
   {
    "duration": 41,
    "start_time": "2022-08-02T10:15:49.866Z"
   },
   {
    "duration": 7,
    "start_time": "2022-08-02T10:16:04.076Z"
   },
   {
    "duration": 106,
    "start_time": "2022-08-02T10:18:09.052Z"
   },
   {
    "duration": 11,
    "start_time": "2022-08-02T10:18:24.393Z"
   },
   {
    "duration": 65,
    "start_time": "2022-08-02T10:18:33.377Z"
   },
   {
    "duration": 10,
    "start_time": "2022-08-02T10:37:14.604Z"
   },
   {
    "duration": 12,
    "start_time": "2022-08-02T10:37:39.045Z"
   },
   {
    "duration": 8,
    "start_time": "2022-08-02T10:37:43.545Z"
   },
   {
    "duration": 54,
    "start_time": "2022-08-02T10:48:40.653Z"
   },
   {
    "duration": 79,
    "start_time": "2022-08-02T10:48:56.399Z"
   },
   {
    "duration": 1320,
    "start_time": "2022-08-02T10:49:02.240Z"
   },
   {
    "duration": 1298,
    "start_time": "2022-08-02T10:49:09.984Z"
   },
   {
    "duration": 51,
    "start_time": "2022-08-02T10:49:17.105Z"
   },
   {
    "duration": 66,
    "start_time": "2022-08-02T10:54:12.142Z"
   },
   {
    "duration": 52,
    "start_time": "2022-08-02T10:54:15.339Z"
   },
   {
    "duration": 71,
    "start_time": "2022-08-02T10:55:02.634Z"
   },
   {
    "duration": 48,
    "start_time": "2022-08-02T10:55:03.340Z"
   },
   {
    "duration": 49,
    "start_time": "2022-08-02T10:55:04.777Z"
   },
   {
    "duration": 68,
    "start_time": "2022-08-02T10:55:05.889Z"
   },
   {
    "duration": 58,
    "start_time": "2022-08-02T10:55:06.675Z"
   },
   {
    "duration": 65,
    "start_time": "2022-08-02T10:55:15.144Z"
   },
   {
    "duration": 48,
    "start_time": "2022-08-02T10:55:15.978Z"
   },
   {
    "duration": 15,
    "start_time": "2022-08-02T10:56:44.050Z"
   },
   {
    "duration": 7,
    "start_time": "2022-08-02T10:58:02.967Z"
   },
   {
    "duration": 64,
    "start_time": "2022-08-02T10:58:11.950Z"
   },
   {
    "duration": 8,
    "start_time": "2022-08-02T10:58:13.909Z"
   },
   {
    "duration": 10,
    "start_time": "2022-08-02T10:58:52.056Z"
   },
   {
    "duration": 9,
    "start_time": "2022-08-02T10:58:57.871Z"
   },
   {
    "duration": 47,
    "start_time": "2022-08-02T10:59:00.948Z"
   },
   {
    "duration": 3,
    "start_time": "2022-08-02T10:59:37.850Z"
   },
   {
    "duration": 46,
    "start_time": "2022-08-02T10:59:40.111Z"
   },
   {
    "duration": 4,
    "start_time": "2022-08-02T10:59:42.584Z"
   },
   {
    "duration": 45,
    "start_time": "2022-08-02T10:59:43.345Z"
   },
   {
    "duration": 4,
    "start_time": "2022-08-02T10:59:51.552Z"
   },
   {
    "duration": 51,
    "start_time": "2022-08-02T10:59:52.361Z"
   },
   {
    "duration": 580,
    "start_time": "2022-08-02T11:00:04.438Z"
   },
   {
    "duration": 16,
    "start_time": "2022-08-02T11:00:05.020Z"
   },
   {
    "duration": 2468,
    "start_time": "2022-08-02T11:00:05.038Z"
   },
   {
    "duration": 11,
    "start_time": "2022-08-02T11:00:07.508Z"
   },
   {
    "duration": 20,
    "start_time": "2022-08-02T11:00:07.522Z"
   },
   {
    "duration": 32,
    "start_time": "2022-08-02T11:00:07.544Z"
   },
   {
    "duration": 13,
    "start_time": "2022-08-02T11:00:07.578Z"
   },
   {
    "duration": 12,
    "start_time": "2022-08-02T11:00:07.593Z"
   },
   {
    "duration": 7,
    "start_time": "2022-08-02T11:00:07.606Z"
   },
   {
    "duration": 53,
    "start_time": "2022-08-02T11:00:07.615Z"
   },
   {
    "duration": 5,
    "start_time": "2022-08-02T11:00:27.081Z"
   },
   {
    "duration": 47,
    "start_time": "2022-08-02T11:00:28.733Z"
   },
   {
    "duration": 58,
    "start_time": "2022-08-02T11:00:31.202Z"
   },
   {
    "duration": 5,
    "start_time": "2022-08-02T11:02:41.349Z"
   },
   {
    "duration": 45,
    "start_time": "2022-08-02T11:02:45.878Z"
   },
   {
    "duration": 7,
    "start_time": "2022-08-02T11:05:49.076Z"
   },
   {
    "duration": 5,
    "start_time": "2022-08-02T11:07:10.839Z"
   },
   {
    "duration": 43,
    "start_time": "2022-08-02T11:07:16.637Z"
   },
   {
    "duration": 10,
    "start_time": "2022-08-02T11:07:55.939Z"
   },
   {
    "duration": 3,
    "start_time": "2022-08-02T11:11:14.591Z"
   },
   {
    "duration": 5,
    "start_time": "2022-08-02T11:11:15.498Z"
   },
   {
    "duration": 73,
    "start_time": "2022-08-02T11:11:23.836Z"
   },
   {
    "duration": 61,
    "start_time": "2022-08-02T11:11:45.179Z"
   },
   {
    "duration": 42,
    "start_time": "2022-08-02T11:12:02.459Z"
   },
   {
    "duration": 524,
    "start_time": "2022-08-02T11:13:08.237Z"
   },
   {
    "duration": 20,
    "start_time": "2022-08-02T11:13:08.764Z"
   },
   {
    "duration": 2519,
    "start_time": "2022-08-02T11:13:08.786Z"
   },
   {
    "duration": 12,
    "start_time": "2022-08-02T11:13:11.308Z"
   },
   {
    "duration": 5,
    "start_time": "2022-08-02T11:13:11.323Z"
   },
   {
    "duration": 6,
    "start_time": "2022-08-02T11:13:11.329Z"
   },
   {
    "duration": 12,
    "start_time": "2022-08-02T11:13:11.336Z"
   },
   {
    "duration": 15,
    "start_time": "2022-08-02T11:13:11.349Z"
   },
   {
    "duration": 5,
    "start_time": "2022-08-02T11:13:11.366Z"
   },
   {
    "duration": 6,
    "start_time": "2022-08-02T11:13:11.403Z"
   },
   {
    "duration": 6,
    "start_time": "2022-08-02T11:13:11.411Z"
   },
   {
    "duration": 87,
    "start_time": "2022-08-02T11:13:11.418Z"
   },
   {
    "duration": 49,
    "start_time": "2022-08-02T11:13:11.507Z"
   },
   {
    "duration": 4,
    "start_time": "2022-08-02T11:15:23.172Z"
   },
   {
    "duration": 62,
    "start_time": "2022-08-02T11:15:25.556Z"
   },
   {
    "duration": 56,
    "start_time": "2022-08-02T11:15:27.440Z"
   },
   {
    "duration": 10,
    "start_time": "2022-08-02T11:15:44.381Z"
   },
   {
    "duration": 76,
    "start_time": "2022-08-02T11:18:45.640Z"
   },
   {
    "duration": 7,
    "start_time": "2022-08-02T11:19:01.745Z"
   },
   {
    "duration": 10,
    "start_time": "2022-08-02T11:19:14.899Z"
   },
   {
    "duration": 73,
    "start_time": "2022-08-02T11:21:43.139Z"
   },
   {
    "duration": 6,
    "start_time": "2022-08-02T11:21:53.285Z"
   },
   {
    "duration": 5,
    "start_time": "2022-08-02T11:21:58.446Z"
   },
   {
    "duration": 7,
    "start_time": "2022-08-02T11:22:02.463Z"
   },
   {
    "duration": 577,
    "start_time": "2022-08-02T11:22:08.073Z"
   },
   {
    "duration": 17,
    "start_time": "2022-08-02T11:22:08.652Z"
   },
   {
    "duration": 2482,
    "start_time": "2022-08-02T11:22:08.671Z"
   },
   {
    "duration": 9,
    "start_time": "2022-08-02T11:22:11.156Z"
   },
   {
    "duration": 40,
    "start_time": "2022-08-02T11:22:11.168Z"
   },
   {
    "duration": 10,
    "start_time": "2022-08-02T11:22:11.209Z"
   },
   {
    "duration": 18,
    "start_time": "2022-08-02T11:22:11.221Z"
   },
   {
    "duration": 32,
    "start_time": "2022-08-02T11:22:11.241Z"
   },
   {
    "duration": 25,
    "start_time": "2022-08-02T11:22:11.274Z"
   },
   {
    "duration": 8,
    "start_time": "2022-08-02T11:22:11.301Z"
   },
   {
    "duration": 78,
    "start_time": "2022-08-02T11:22:11.311Z"
   },
   {
    "duration": 9,
    "start_time": "2022-08-02T11:22:11.390Z"
   },
   {
    "duration": 19,
    "start_time": "2022-08-02T11:22:11.403Z"
   },
   {
    "duration": 19,
    "start_time": "2022-08-02T11:22:11.424Z"
   },
   {
    "duration": 9,
    "start_time": "2022-08-02T11:24:05.055Z"
   },
   {
    "duration": 48,
    "start_time": "2022-08-02T11:24:20.471Z"
   },
   {
    "duration": 3192,
    "start_time": "2022-08-02T11:26:43.649Z"
   },
   {
    "duration": 5,
    "start_time": "2022-08-02T11:29:40.359Z"
   },
   {
    "duration": 9,
    "start_time": "2022-08-02T11:29:43.384Z"
   },
   {
    "duration": 9,
    "start_time": "2022-08-02T11:30:30.985Z"
   },
   {
    "duration": 556,
    "start_time": "2022-08-02T11:30:38.198Z"
   },
   {
    "duration": 17,
    "start_time": "2022-08-02T11:30:38.756Z"
   },
   {
    "duration": 2407,
    "start_time": "2022-08-02T11:30:38.774Z"
   },
   {
    "duration": 11,
    "start_time": "2022-08-02T11:30:41.184Z"
   },
   {
    "duration": 5,
    "start_time": "2022-08-02T11:30:41.198Z"
   },
   {
    "duration": 9,
    "start_time": "2022-08-02T11:30:41.205Z"
   },
   {
    "duration": 13,
    "start_time": "2022-08-02T11:30:41.216Z"
   },
   {
    "duration": 17,
    "start_time": "2022-08-02T11:30:41.231Z"
   },
   {
    "duration": 19,
    "start_time": "2022-08-02T11:30:41.250Z"
   },
   {
    "duration": 10,
    "start_time": "2022-08-02T11:30:41.271Z"
   },
   {
    "duration": 9,
    "start_time": "2022-08-02T11:30:41.283Z"
   },
   {
    "duration": 13,
    "start_time": "2022-08-02T11:30:41.293Z"
   },
   {
    "duration": 77,
    "start_time": "2022-08-02T11:45:37.500Z"
   },
   {
    "duration": 8,
    "start_time": "2022-08-02T11:45:53.242Z"
   },
   {
    "duration": 8,
    "start_time": "2022-08-02T11:46:02.805Z"
   },
   {
    "duration": 111,
    "start_time": "2022-08-02T11:52:08.540Z"
   },
   {
    "duration": 48,
    "start_time": "2022-08-02T11:52:22.759Z"
   },
   {
    "duration": 77,
    "start_time": "2022-08-02T11:52:31.636Z"
   },
   {
    "duration": 8,
    "start_time": "2022-08-02T11:52:43.695Z"
   },
   {
    "duration": 783,
    "start_time": "2022-08-02T14:27:15.519Z"
   },
   {
    "duration": 14,
    "start_time": "2022-08-02T14:27:16.304Z"
   },
   {
    "duration": 2472,
    "start_time": "2022-08-02T14:27:16.320Z"
   },
   {
    "duration": 21,
    "start_time": "2022-08-02T14:27:18.795Z"
   },
   {
    "duration": 4,
    "start_time": "2022-08-02T14:27:18.819Z"
   },
   {
    "duration": 8,
    "start_time": "2022-08-02T14:27:18.825Z"
   },
   {
    "duration": 9,
    "start_time": "2022-08-02T14:27:18.835Z"
   },
   {
    "duration": 12,
    "start_time": "2022-08-02T14:27:18.845Z"
   },
   {
    "duration": 19,
    "start_time": "2022-08-02T14:27:18.859Z"
   },
   {
    "duration": 32,
    "start_time": "2022-08-02T14:27:18.880Z"
   },
   {
    "duration": 7,
    "start_time": "2022-08-02T14:27:18.914Z"
   },
   {
    "duration": 11,
    "start_time": "2022-08-02T14:27:18.923Z"
   },
   {
    "duration": 75,
    "start_time": "2022-08-02T14:28:37.940Z"
   },
   {
    "duration": 9,
    "start_time": "2022-08-02T14:32:58.170Z"
   },
   {
    "duration": 9,
    "start_time": "2022-08-02T14:33:03.643Z"
   },
   {
    "duration": 15,
    "start_time": "2022-08-02T14:33:14.284Z"
   },
   {
    "duration": 454,
    "start_time": "2022-08-02T14:39:47.162Z"
   },
   {
    "duration": 413,
    "start_time": "2022-08-02T14:40:23.427Z"
   },
   {
    "duration": 7,
    "start_time": "2022-08-02T14:41:00.536Z"
   },
   {
    "duration": 14,
    "start_time": "2022-08-02T14:41:10.391Z"
   },
   {
    "duration": 45,
    "start_time": "2022-08-02T14:41:15.039Z"
   },
   {
    "duration": 37,
    "start_time": "2022-08-02T14:41:30.278Z"
   },
   {
    "duration": 15,
    "start_time": "2022-08-02T14:42:53.491Z"
   },
   {
    "duration": 18,
    "start_time": "2022-08-02T14:44:52.262Z"
   },
   {
    "duration": 14,
    "start_time": "2022-08-02T14:45:55.991Z"
   },
   {
    "duration": 14,
    "start_time": "2022-08-02T14:46:09.248Z"
   },
   {
    "duration": 4,
    "start_time": "2022-08-02T14:46:41.736Z"
   },
   {
    "duration": 4,
    "start_time": "2022-08-02T14:49:27.233Z"
   },
   {
    "duration": 14,
    "start_time": "2022-08-02T14:49:32.729Z"
   },
   {
    "duration": 3,
    "start_time": "2022-08-02T14:49:42.530Z"
   },
   {
    "duration": 14,
    "start_time": "2022-08-02T14:49:44.149Z"
   },
   {
    "duration": 4,
    "start_time": "2022-08-02T14:50:57.359Z"
   },
   {
    "duration": 14,
    "start_time": "2022-08-02T14:50:58.429Z"
   },
   {
    "duration": 7,
    "start_time": "2022-08-02T15:08:05.216Z"
   },
   {
    "duration": 21,
    "start_time": "2022-08-02T15:08:15.618Z"
   },
   {
    "duration": 6,
    "start_time": "2022-08-02T15:13:55.333Z"
   },
   {
    "duration": 10,
    "start_time": "2022-08-02T15:19:53.081Z"
   },
   {
    "duration": 10,
    "start_time": "2022-08-02T15:20:02.930Z"
   },
   {
    "duration": 9,
    "start_time": "2022-08-02T15:20:09.517Z"
   },
   {
    "duration": 9,
    "start_time": "2022-08-02T15:20:12.213Z"
   },
   {
    "duration": 8,
    "start_time": "2022-08-02T15:20:29.319Z"
   },
   {
    "duration": 9,
    "start_time": "2022-08-02T15:20:34.624Z"
   },
   {
    "duration": 8,
    "start_time": "2022-08-02T15:20:53.610Z"
   },
   {
    "duration": 6,
    "start_time": "2022-08-02T15:21:17.820Z"
   },
   {
    "duration": 6,
    "start_time": "2022-08-02T15:21:27.452Z"
   },
   {
    "duration": 7,
    "start_time": "2022-08-02T15:23:51.811Z"
   },
   {
    "duration": 6,
    "start_time": "2022-08-02T15:23:55.227Z"
   },
   {
    "duration": 4,
    "start_time": "2022-08-02T15:25:54.111Z"
   },
   {
    "duration": 6,
    "start_time": "2022-08-02T15:26:01.808Z"
   },
   {
    "duration": 7,
    "start_time": "2022-08-02T15:26:16.731Z"
   },
   {
    "duration": 6,
    "start_time": "2022-08-02T15:26:20.668Z"
   },
   {
    "duration": 4,
    "start_time": "2022-08-02T15:26:22.307Z"
   },
   {
    "duration": 4,
    "start_time": "2022-08-02T15:26:31.008Z"
   },
   {
    "duration": 6,
    "start_time": "2022-08-02T15:26:31.808Z"
   },
   {
    "duration": 5,
    "start_time": "2022-08-02T15:28:04.143Z"
   },
   {
    "duration": 6,
    "start_time": "2022-08-02T15:28:05.566Z"
   },
   {
    "duration": 5,
    "start_time": "2022-08-02T15:39:14.257Z"
   },
   {
    "duration": 6,
    "start_time": "2022-08-02T15:39:15.281Z"
   },
   {
    "duration": 8,
    "start_time": "2022-08-02T15:39:22.133Z"
   },
   {
    "duration": 8,
    "start_time": "2022-08-02T15:39:28.929Z"
   },
   {
    "duration": 5,
    "start_time": "2022-08-02T15:54:55.088Z"
   },
   {
    "duration": 7,
    "start_time": "2022-08-02T15:54:56.377Z"
   },
   {
    "duration": 5,
    "start_time": "2022-08-02T15:55:05.640Z"
   },
   {
    "duration": 7,
    "start_time": "2022-08-02T15:55:07.457Z"
   },
   {
    "duration": 5,
    "start_time": "2022-08-02T15:55:09.193Z"
   },
   {
    "duration": 7,
    "start_time": "2022-08-02T15:55:10.170Z"
   },
   {
    "duration": 24,
    "start_time": "2022-08-02T15:55:34.223Z"
   },
   {
    "duration": 8,
    "start_time": "2022-08-02T15:55:34.922Z"
   },
   {
    "duration": 43,
    "start_time": "2022-08-02T15:56:59.487Z"
   },
   {
    "duration": 7,
    "start_time": "2022-08-02T15:57:01.068Z"
   },
   {
    "duration": 45,
    "start_time": "2022-08-02T15:57:02.923Z"
   },
   {
    "duration": 7,
    "start_time": "2022-08-02T15:57:03.787Z"
   },
   {
    "duration": 42,
    "start_time": "2022-08-02T15:57:32.573Z"
   },
   {
    "duration": 7,
    "start_time": "2022-08-02T15:57:33.453Z"
   },
   {
    "duration": 7,
    "start_time": "2022-08-02T15:57:40.133Z"
   },
   {
    "duration": 42,
    "start_time": "2022-08-02T15:57:41.693Z"
   },
   {
    "duration": 8,
    "start_time": "2022-08-02T15:57:42.819Z"
   },
   {
    "duration": 43,
    "start_time": "2022-08-02T15:58:48.831Z"
   },
   {
    "duration": 7,
    "start_time": "2022-08-02T15:58:49.854Z"
   },
   {
    "duration": 6,
    "start_time": "2022-08-02T15:58:50.583Z"
   },
   {
    "duration": 42,
    "start_time": "2022-08-02T15:59:02.631Z"
   },
   {
    "duration": 8,
    "start_time": "2022-08-02T15:59:03.527Z"
   },
   {
    "duration": 8,
    "start_time": "2022-08-02T15:59:18.544Z"
   },
   {
    "duration": 55,
    "start_time": "2022-08-02T15:59:20.770Z"
   },
   {
    "duration": 7,
    "start_time": "2022-08-02T15:59:21.571Z"
   },
   {
    "duration": 542,
    "start_time": "2022-08-02T15:59:25.885Z"
   },
   {
    "duration": 15,
    "start_time": "2022-08-02T15:59:26.429Z"
   },
   {
    "duration": 2209,
    "start_time": "2022-08-02T15:59:26.445Z"
   },
   {
    "duration": 10,
    "start_time": "2022-08-02T15:59:28.656Z"
   },
   {
    "duration": 6,
    "start_time": "2022-08-02T15:59:28.669Z"
   },
   {
    "duration": 7,
    "start_time": "2022-08-02T15:59:28.677Z"
   },
   {
    "duration": 6,
    "start_time": "2022-08-02T15:59:28.686Z"
   },
   {
    "duration": 8,
    "start_time": "2022-08-02T15:59:28.693Z"
   },
   {
    "duration": 7,
    "start_time": "2022-08-02T15:59:28.703Z"
   },
   {
    "duration": 7,
    "start_time": "2022-08-02T15:59:28.711Z"
   },
   {
    "duration": 5,
    "start_time": "2022-08-02T15:59:28.719Z"
   },
   {
    "duration": 10,
    "start_time": "2022-08-02T15:59:28.726Z"
   },
   {
    "duration": 14,
    "start_time": "2022-08-02T15:59:28.737Z"
   },
   {
    "duration": 7,
    "start_time": "2022-08-02T15:59:28.753Z"
   },
   {
    "duration": 57,
    "start_time": "2022-08-02T15:59:28.762Z"
   },
   {
    "duration": 8,
    "start_time": "2022-08-02T15:59:28.821Z"
   },
   {
    "duration": 50,
    "start_time": "2022-08-02T15:59:28.831Z"
   },
   {
    "duration": 28,
    "start_time": "2022-08-02T15:59:28.883Z"
   },
   {
    "duration": 7,
    "start_time": "2022-08-02T15:59:53.640Z"
   },
   {
    "duration": 43,
    "start_time": "2022-08-02T16:01:21.630Z"
   },
   {
    "duration": 7,
    "start_time": "2022-08-02T16:01:22.563Z"
   },
   {
    "duration": 7,
    "start_time": "2022-08-02T16:01:24.724Z"
   },
   {
    "duration": 43,
    "start_time": "2022-08-02T16:01:28.260Z"
   },
   {
    "duration": 6,
    "start_time": "2022-08-02T16:01:29.427Z"
   },
   {
    "duration": 43,
    "start_time": "2022-08-02T16:04:20.591Z"
   },
   {
    "duration": 6,
    "start_time": "2022-08-02T16:04:21.655Z"
   },
   {
    "duration": 64,
    "start_time": "2022-08-02T16:04:56.225Z"
   },
   {
    "duration": 63,
    "start_time": "2022-08-02T16:05:00.488Z"
   },
   {
    "duration": 6,
    "start_time": "2022-08-02T16:05:01.793Z"
   },
   {
    "duration": 48,
    "start_time": "2022-08-02T16:05:11.324Z"
   },
   {
    "duration": 6,
    "start_time": "2022-08-02T16:05:13.072Z"
   },
   {
    "duration": 46,
    "start_time": "2022-08-02T16:05:15.081Z"
   },
   {
    "duration": 6,
    "start_time": "2022-08-02T16:05:15.923Z"
   },
   {
    "duration": 45,
    "start_time": "2022-08-02T16:05:25.322Z"
   },
   {
    "duration": 6,
    "start_time": "2022-08-02T16:05:27.012Z"
   },
   {
    "duration": 28,
    "start_time": "2022-08-02T16:05:32.722Z"
   },
   {
    "duration": 7,
    "start_time": "2022-08-02T16:05:33.737Z"
   },
   {
    "duration": 32,
    "start_time": "2022-08-02T16:06:12.987Z"
   },
   {
    "duration": 7,
    "start_time": "2022-08-02T16:06:14.042Z"
   },
   {
    "duration": 29,
    "start_time": "2022-08-02T16:06:18.518Z"
   },
   {
    "duration": 6,
    "start_time": "2022-08-02T16:06:19.738Z"
   },
   {
    "duration": 48,
    "start_time": "2022-08-02T16:06:36.756Z"
   },
   {
    "duration": 6,
    "start_time": "2022-08-02T16:06:37.491Z"
   },
   {
    "duration": 47,
    "start_time": "2022-08-02T16:06:48.644Z"
   },
   {
    "duration": 6,
    "start_time": "2022-08-02T16:06:49.859Z"
   },
   {
    "duration": 68,
    "start_time": "2022-08-02T16:08:34.918Z"
   },
   {
    "duration": 7,
    "start_time": "2022-08-02T16:08:36.321Z"
   },
   {
    "duration": 84,
    "start_time": "2022-08-02T16:09:38.022Z"
   },
   {
    "duration": 6,
    "start_time": "2022-08-02T16:09:40.384Z"
   },
   {
    "duration": 107,
    "start_time": "2022-08-02T16:10:19.424Z"
   },
   {
    "duration": 7,
    "start_time": "2022-08-02T16:10:21.023Z"
   },
   {
    "duration": 37,
    "start_time": "2022-08-02T16:16:16.850Z"
   },
   {
    "duration": 38,
    "start_time": "2022-08-02T16:16:35.123Z"
   },
   {
    "duration": 7,
    "start_time": "2022-08-02T16:17:23.668Z"
   },
   {
    "duration": 118,
    "start_time": "2022-08-02T16:17:32.269Z"
   },
   {
    "duration": 8,
    "start_time": "2022-08-02T16:17:33.124Z"
   },
   {
    "duration": 6,
    "start_time": "2022-08-02T16:17:36.157Z"
   },
   {
    "duration": 123,
    "start_time": "2022-08-02T16:20:44.266Z"
   },
   {
    "duration": 6,
    "start_time": "2022-08-02T16:20:47.160Z"
   },
   {
    "duration": 129,
    "start_time": "2022-08-02T16:21:16.254Z"
   },
   {
    "duration": 7,
    "start_time": "2022-08-02T16:21:17.132Z"
   },
   {
    "duration": 172,
    "start_time": "2022-08-02T16:21:32.179Z"
   },
   {
    "duration": 7,
    "start_time": "2022-08-02T16:21:33.090Z"
   },
   {
    "duration": 9,
    "start_time": "2022-08-02T16:21:33.821Z"
   },
   {
    "duration": 41,
    "start_time": "2022-08-02T16:24:09.190Z"
   },
   {
    "duration": 8,
    "start_time": "2022-08-02T16:26:30.761Z"
   },
   {
    "duration": 4,
    "start_time": "2022-08-02T16:27:38.222Z"
   },
   {
    "duration": 35,
    "start_time": "2022-08-02T16:27:48.723Z"
   },
   {
    "duration": 6,
    "start_time": "2022-08-02T16:28:02.874Z"
   },
   {
    "duration": 82,
    "start_time": "2022-08-02T16:28:29.979Z"
   },
   {
    "duration": 4,
    "start_time": "2022-08-02T16:28:36.020Z"
   },
   {
    "duration": 4,
    "start_time": "2022-08-02T16:36:36.527Z"
   },
   {
    "duration": 4,
    "start_time": "2022-08-02T16:36:37.136Z"
   },
   {
    "duration": 4,
    "start_time": "2022-08-02T16:36:47.121Z"
   },
   {
    "duration": 5,
    "start_time": "2022-08-02T16:36:48.984Z"
   },
   {
    "duration": 4,
    "start_time": "2022-08-02T16:36:52.040Z"
   },
   {
    "duration": 5,
    "start_time": "2022-08-02T16:36:54.519Z"
   },
   {
    "duration": 523,
    "start_time": "2022-08-02T16:37:04.919Z"
   },
   {
    "duration": 15,
    "start_time": "2022-08-02T16:37:05.443Z"
   },
   {
    "duration": 2155,
    "start_time": "2022-08-02T16:37:05.459Z"
   },
   {
    "duration": 10,
    "start_time": "2022-08-02T16:37:07.615Z"
   },
   {
    "duration": 4,
    "start_time": "2022-08-02T16:37:07.627Z"
   },
   {
    "duration": 9,
    "start_time": "2022-08-02T16:37:07.633Z"
   },
   {
    "duration": 8,
    "start_time": "2022-08-02T16:37:07.644Z"
   },
   {
    "duration": 15,
    "start_time": "2022-08-02T16:37:07.654Z"
   },
   {
    "duration": 7,
    "start_time": "2022-08-02T16:37:07.670Z"
   },
   {
    "duration": 5,
    "start_time": "2022-08-02T16:37:07.678Z"
   },
   {
    "duration": 24,
    "start_time": "2022-08-02T16:37:07.685Z"
   },
   {
    "duration": 17,
    "start_time": "2022-08-02T16:37:07.711Z"
   },
   {
    "duration": 20,
    "start_time": "2022-08-02T16:37:07.730Z"
   },
   {
    "duration": 7,
    "start_time": "2022-08-02T16:37:07.753Z"
   },
   {
    "duration": 30,
    "start_time": "2022-08-02T16:37:07.762Z"
   },
   {
    "duration": 5,
    "start_time": "2022-08-02T16:37:07.810Z"
   },
   {
    "duration": 133,
    "start_time": "2022-08-02T16:37:07.817Z"
   },
   {
    "duration": 7,
    "start_time": "2022-08-02T16:37:07.952Z"
   },
   {
    "duration": 7,
    "start_time": "2022-08-02T16:37:07.960Z"
   },
   {
    "duration": 6,
    "start_time": "2022-08-02T16:37:07.968Z"
   },
   {
    "duration": 8,
    "start_time": "2022-08-02T16:37:07.975Z"
   },
   {
    "duration": 4,
    "start_time": "2022-08-02T16:46:26.154Z"
   },
   {
    "duration": 6,
    "start_time": "2022-08-02T16:46:27.730Z"
   },
   {
    "duration": 3,
    "start_time": "2022-08-02T16:46:33.571Z"
   },
   {
    "duration": 6,
    "start_time": "2022-08-02T16:46:34.721Z"
   },
   {
    "duration": 543,
    "start_time": "2022-08-02T16:46:58.989Z"
   },
   {
    "duration": 14,
    "start_time": "2022-08-02T16:46:59.534Z"
   },
   {
    "duration": 2168,
    "start_time": "2022-08-02T16:46:59.550Z"
   },
   {
    "duration": 14,
    "start_time": "2022-08-02T16:47:01.719Z"
   },
   {
    "duration": 17,
    "start_time": "2022-08-02T16:47:01.735Z"
   },
   {
    "duration": 9,
    "start_time": "2022-08-02T16:47:01.754Z"
   },
   {
    "duration": 16,
    "start_time": "2022-08-02T16:47:01.765Z"
   },
   {
    "duration": 12,
    "start_time": "2022-08-02T16:47:01.783Z"
   },
   {
    "duration": 43,
    "start_time": "2022-08-02T16:47:01.797Z"
   },
   {
    "duration": 22,
    "start_time": "2022-08-02T16:47:01.841Z"
   },
   {
    "duration": 33,
    "start_time": "2022-08-02T16:47:01.865Z"
   },
   {
    "duration": 13,
    "start_time": "2022-08-02T16:47:01.900Z"
   },
   {
    "duration": 14,
    "start_time": "2022-08-02T16:47:01.915Z"
   },
   {
    "duration": 15,
    "start_time": "2022-08-02T16:47:01.932Z"
   },
   {
    "duration": 30,
    "start_time": "2022-08-02T16:47:01.948Z"
   },
   {
    "duration": 6,
    "start_time": "2022-08-02T16:47:01.980Z"
   },
   {
    "duration": 143,
    "start_time": "2022-08-02T16:47:01.988Z"
   },
   {
    "duration": 7,
    "start_time": "2022-08-02T16:47:02.132Z"
   },
   {
    "duration": 17,
    "start_time": "2022-08-02T16:47:02.140Z"
   },
   {
    "duration": 12,
    "start_time": "2022-08-02T16:47:02.159Z"
   },
   {
    "duration": 11,
    "start_time": "2022-08-02T16:47:02.172Z"
   },
   {
    "duration": 46,
    "start_time": "2022-08-04T07:33:30.582Z"
   },
   {
    "duration": 7,
    "start_time": "2022-08-04T07:33:40.540Z"
   },
   {
    "duration": 6,
    "start_time": "2022-08-04T07:33:54.017Z"
   },
   {
    "duration": 725,
    "start_time": "2022-08-04T07:34:01.255Z"
   },
   {
    "duration": 17,
    "start_time": "2022-08-04T07:34:01.983Z"
   },
   {
    "duration": 2413,
    "start_time": "2022-08-04T07:34:02.009Z"
   },
   {
    "duration": 11,
    "start_time": "2022-08-04T07:34:04.424Z"
   },
   {
    "duration": 17,
    "start_time": "2022-08-04T07:34:04.437Z"
   },
   {
    "duration": 8,
    "start_time": "2022-08-04T07:34:04.456Z"
   },
   {
    "duration": 13,
    "start_time": "2022-08-04T07:34:04.466Z"
   },
   {
    "duration": 33,
    "start_time": "2022-08-04T07:34:04.481Z"
   },
   {
    "duration": 24,
    "start_time": "2022-08-04T07:34:04.515Z"
   },
   {
    "duration": 17,
    "start_time": "2022-08-04T07:34:04.541Z"
   },
   {
    "duration": 13,
    "start_time": "2022-08-04T07:34:04.560Z"
   },
   {
    "duration": 30,
    "start_time": "2022-08-04T07:34:04.575Z"
   },
   {
    "duration": 30,
    "start_time": "2022-08-04T07:34:04.607Z"
   },
   {
    "duration": 12,
    "start_time": "2022-08-04T07:34:04.641Z"
   },
   {
    "duration": 38,
    "start_time": "2022-08-04T07:34:04.655Z"
   },
   {
    "duration": 9,
    "start_time": "2022-08-04T07:34:04.708Z"
   },
   {
    "duration": 156,
    "start_time": "2022-08-04T07:34:04.720Z"
   },
   {
    "duration": 6,
    "start_time": "2022-08-04T07:34:04.878Z"
   },
   {
    "duration": 25,
    "start_time": "2022-08-04T07:34:04.885Z"
   },
   {
    "duration": 4,
    "start_time": "2022-08-04T07:34:04.912Z"
   },
   {
    "duration": 44,
    "start_time": "2022-08-04T07:34:04.918Z"
   },
   {
    "duration": 5,
    "start_time": "2022-08-04T07:36:29.735Z"
   },
   {
    "duration": 49,
    "start_time": "2022-08-04T07:36:30.575Z"
   },
   {
    "duration": 6,
    "start_time": "2022-08-04T07:37:25.610Z"
   },
   {
    "duration": 57,
    "start_time": "2022-08-04T07:37:26.295Z"
   },
   {
    "duration": 6,
    "start_time": "2022-08-04T07:37:34.335Z"
   },
   {
    "duration": 43,
    "start_time": "2022-08-04T07:37:36.239Z"
   },
   {
    "duration": 6,
    "start_time": "2022-08-04T07:43:56.141Z"
   },
   {
    "duration": 44,
    "start_time": "2022-08-04T07:44:02.023Z"
   },
   {
    "duration": 6,
    "start_time": "2022-08-04T07:46:15.465Z"
   },
   {
    "duration": 44,
    "start_time": "2022-08-04T07:46:20.210Z"
   },
   {
    "duration": 5,
    "start_time": "2022-08-04T07:48:03.124Z"
   },
   {
    "duration": 47,
    "start_time": "2022-08-04T07:48:08.007Z"
   },
   {
    "duration": 78,
    "start_time": "2022-08-04T07:59:31.580Z"
   },
   {
    "duration": 86,
    "start_time": "2022-08-04T07:59:42.350Z"
   },
   {
    "duration": 67,
    "start_time": "2022-08-04T07:59:51.839Z"
   },
   {
    "duration": 2310,
    "start_time": "2022-08-04T08:00:41.720Z"
   },
   {
    "duration": 2489,
    "start_time": "2022-08-04T08:02:12.781Z"
   },
   {
    "duration": 19,
    "start_time": "2022-08-04T08:04:20.486Z"
   },
   {
    "duration": 18,
    "start_time": "2022-08-04T08:04:21.974Z"
   },
   {
    "duration": 15,
    "start_time": "2022-08-04T08:04:39.333Z"
   },
   {
    "duration": 15,
    "start_time": "2022-08-04T08:04:54.825Z"
   },
   {
    "duration": 16,
    "start_time": "2022-08-04T08:04:56.823Z"
   },
   {
    "duration": 16,
    "start_time": "2022-08-04T08:05:34.759Z"
   },
   {
    "duration": 28,
    "start_time": "2022-08-04T08:05:36.192Z"
   },
   {
    "duration": 15,
    "start_time": "2022-08-04T08:05:43.328Z"
   },
   {
    "duration": 26,
    "start_time": "2022-08-04T08:05:54.344Z"
   },
   {
    "duration": 20,
    "start_time": "2022-08-04T08:06:28.619Z"
   },
   {
    "duration": 22,
    "start_time": "2022-08-04T08:06:31.153Z"
   },
   {
    "duration": 23,
    "start_time": "2022-08-04T08:07:03.657Z"
   },
   {
    "duration": 14,
    "start_time": "2022-08-04T08:07:51.274Z"
   },
   {
    "duration": 338,
    "start_time": "2022-08-04T08:08:08.764Z"
   },
   {
    "duration": 404,
    "start_time": "2022-08-04T08:08:18.523Z"
   },
   {
    "duration": 39,
    "start_time": "2022-08-04T08:08:36.125Z"
   },
   {
    "duration": 42,
    "start_time": "2022-08-04T08:15:21.720Z"
   },
   {
    "duration": 4,
    "start_time": "2022-08-04T08:16:44.852Z"
   },
   {
    "duration": 43,
    "start_time": "2022-08-04T08:16:49.875Z"
   },
   {
    "duration": 89,
    "start_time": "2022-08-04T08:32:41.244Z"
   },
   {
    "duration": 1023,
    "start_time": "2022-08-04T08:34:50.119Z"
   },
   {
    "duration": 18,
    "start_time": "2022-08-04T08:34:59.880Z"
   },
   {
    "duration": 28,
    "start_time": "2022-08-04T08:36:14.436Z"
   },
   {
    "duration": 7,
    "start_time": "2022-08-04T08:37:27.365Z"
   },
   {
    "duration": 26,
    "start_time": "2022-08-04T08:38:18.973Z"
   },
   {
    "duration": 25,
    "start_time": "2022-08-04T08:38:51.462Z"
   },
   {
    "duration": 6,
    "start_time": "2022-08-04T08:38:53.159Z"
   },
   {
    "duration": 7,
    "start_time": "2022-08-04T08:39:11.065Z"
   },
   {
    "duration": 325,
    "start_time": "2022-08-04T08:39:18.550Z"
   },
   {
    "duration": 34,
    "start_time": "2022-08-04T08:41:50.089Z"
   },
   {
    "duration": 46,
    "start_time": "2022-08-04T08:43:55.582Z"
   },
   {
    "duration": 10,
    "start_time": "2022-08-04T08:45:02.283Z"
   },
   {
    "duration": 5,
    "start_time": "2022-08-04T08:45:20.725Z"
   },
   {
    "duration": 44,
    "start_time": "2022-08-04T08:45:25.377Z"
   },
   {
    "duration": 4,
    "start_time": "2022-08-04T08:45:30.449Z"
   },
   {
    "duration": 39,
    "start_time": "2022-08-04T08:45:57.786Z"
   },
   {
    "duration": 544,
    "start_time": "2022-08-04T08:46:02.523Z"
   },
   {
    "duration": 15,
    "start_time": "2022-08-04T08:46:03.070Z"
   },
   {
    "duration": 2288,
    "start_time": "2022-08-04T08:46:03.086Z"
   },
   {
    "duration": 14,
    "start_time": "2022-08-04T08:46:05.376Z"
   },
   {
    "duration": 6,
    "start_time": "2022-08-04T08:46:05.393Z"
   },
   {
    "duration": 6,
    "start_time": "2022-08-04T08:46:05.401Z"
   },
   {
    "duration": 23,
    "start_time": "2022-08-04T08:46:05.408Z"
   },
   {
    "duration": 11,
    "start_time": "2022-08-04T08:46:05.433Z"
   },
   {
    "duration": 11,
    "start_time": "2022-08-04T08:46:05.445Z"
   },
   {
    "duration": 8,
    "start_time": "2022-08-04T08:46:05.458Z"
   },
   {
    "duration": 8,
    "start_time": "2022-08-04T08:46:05.468Z"
   },
   {
    "duration": 19,
    "start_time": "2022-08-04T08:46:05.477Z"
   },
   {
    "duration": 25,
    "start_time": "2022-08-04T08:46:05.498Z"
   },
   {
    "duration": 21,
    "start_time": "2022-08-04T08:46:05.526Z"
   },
   {
    "duration": 12,
    "start_time": "2022-08-04T08:46:05.549Z"
   },
   {
    "duration": 25,
    "start_time": "2022-08-04T08:46:05.563Z"
   },
   {
    "duration": 6,
    "start_time": "2022-08-04T08:46:05.590Z"
   },
   {
    "duration": 174,
    "start_time": "2022-08-04T08:46:05.597Z"
   },
   {
    "duration": 6,
    "start_time": "2022-08-04T08:46:05.773Z"
   },
   {
    "duration": 7,
    "start_time": "2022-08-04T08:46:05.781Z"
   },
   {
    "duration": 23,
    "start_time": "2022-08-04T08:46:05.790Z"
   },
   {
    "duration": 20,
    "start_time": "2022-08-04T08:46:05.816Z"
   },
   {
    "duration": 6,
    "start_time": "2022-08-04T08:46:05.838Z"
   },
   {
    "duration": 47,
    "start_time": "2022-08-04T08:46:05.846Z"
   },
   {
    "duration": 386,
    "start_time": "2022-08-04T08:46:05.895Z"
   },
   {
    "duration": 5,
    "start_time": "2022-08-04T08:46:06.283Z"
   },
   {
    "duration": 47,
    "start_time": "2022-08-04T08:46:06.289Z"
   },
   {
    "duration": 38,
    "start_time": "2022-08-04T08:46:06.338Z"
   },
   {
    "duration": 7,
    "start_time": "2022-08-04T08:46:06.378Z"
   },
   {
    "duration": 26,
    "start_time": "2022-08-04T08:46:06.408Z"
   },
   {
    "duration": 29,
    "start_time": "2022-08-04T08:46:29.582Z"
   },
   {
    "duration": 77,
    "start_time": "2022-08-04T08:48:12.538Z"
   },
   {
    "duration": 16,
    "start_time": "2022-08-04T08:48:14.347Z"
   },
   {
    "duration": 10,
    "start_time": "2022-08-04T08:48:25.347Z"
   },
   {
    "duration": 9,
    "start_time": "2022-08-04T08:48:39.738Z"
   },
   {
    "duration": 9,
    "start_time": "2022-08-04T08:49:18.253Z"
   },
   {
    "duration": 9,
    "start_time": "2022-08-04T08:49:20.223Z"
   },
   {
    "duration": 11,
    "start_time": "2022-08-04T08:49:25.067Z"
   },
   {
    "duration": 8,
    "start_time": "2022-08-04T08:49:40.328Z"
   },
   {
    "duration": 12,
    "start_time": "2022-08-04T08:51:18.294Z"
   },
   {
    "duration": 532,
    "start_time": "2022-08-04T08:51:27.741Z"
   },
   {
    "duration": 16,
    "start_time": "2022-08-04T08:51:28.275Z"
   },
   {
    "duration": 2333,
    "start_time": "2022-08-04T08:51:28.293Z"
   },
   {
    "duration": 16,
    "start_time": "2022-08-04T08:51:30.629Z"
   },
   {
    "duration": 9,
    "start_time": "2022-08-04T08:51:30.650Z"
   },
   {
    "duration": 64,
    "start_time": "2022-08-04T08:51:30.661Z"
   },
   {
    "duration": 22,
    "start_time": "2022-08-04T08:51:30.727Z"
   },
   {
    "duration": 15,
    "start_time": "2022-08-04T08:51:30.752Z"
   },
   {
    "duration": 24,
    "start_time": "2022-08-04T08:51:30.770Z"
   },
   {
    "duration": 48,
    "start_time": "2022-08-04T08:51:30.798Z"
   },
   {
    "duration": 8,
    "start_time": "2022-08-04T08:51:30.849Z"
   },
   {
    "duration": 17,
    "start_time": "2022-08-04T08:51:30.860Z"
   },
   {
    "duration": 26,
    "start_time": "2022-08-04T08:51:30.880Z"
   },
   {
    "duration": 13,
    "start_time": "2022-08-04T08:51:30.911Z"
   },
   {
    "duration": 35,
    "start_time": "2022-08-04T08:51:30.927Z"
   },
   {
    "duration": 6,
    "start_time": "2022-08-04T08:51:30.964Z"
   },
   {
    "duration": 180,
    "start_time": "2022-08-04T08:51:30.972Z"
   },
   {
    "duration": 8,
    "start_time": "2022-08-04T08:51:31.154Z"
   },
   {
    "duration": 38,
    "start_time": "2022-08-04T08:51:31.164Z"
   },
   {
    "duration": 40,
    "start_time": "2022-08-04T08:51:31.204Z"
   },
   {
    "duration": 28,
    "start_time": "2022-08-04T08:51:31.246Z"
   },
   {
    "duration": 13,
    "start_time": "2022-08-04T08:51:31.276Z"
   },
   {
    "duration": 39,
    "start_time": "2022-08-04T08:51:31.291Z"
   },
   {
    "duration": 405,
    "start_time": "2022-08-04T08:51:31.332Z"
   },
   {
    "duration": 6,
    "start_time": "2022-08-04T08:51:31.738Z"
   },
   {
    "duration": 37,
    "start_time": "2022-08-04T08:51:31.746Z"
   },
   {
    "duration": 5,
    "start_time": "2022-08-04T08:51:31.785Z"
   },
   {
    "duration": 32,
    "start_time": "2022-08-04T08:51:31.792Z"
   },
   {
    "duration": 42,
    "start_time": "2022-08-04T08:52:20.223Z"
   },
   {
    "duration": 53,
    "start_time": "2022-08-04T08:53:48.886Z"
   },
   {
    "duration": 36,
    "start_time": "2022-08-04T08:54:23.933Z"
   },
   {
    "duration": 23,
    "start_time": "2022-08-04T08:59:56.725Z"
   },
   {
    "duration": 45,
    "start_time": "2022-08-05T07:52:52.126Z"
   },
   {
    "duration": 760,
    "start_time": "2022-08-05T07:53:19.633Z"
   },
   {
    "duration": 15,
    "start_time": "2022-08-05T07:53:20.395Z"
   },
   {
    "duration": 2254,
    "start_time": "2022-08-05T07:53:20.411Z"
   },
   {
    "duration": 10,
    "start_time": "2022-08-05T07:53:22.667Z"
   },
   {
    "duration": 7,
    "start_time": "2022-08-05T07:53:22.678Z"
   },
   {
    "duration": 5,
    "start_time": "2022-08-05T07:53:22.686Z"
   },
   {
    "duration": 7,
    "start_time": "2022-08-05T07:53:22.693Z"
   },
   {
    "duration": 8,
    "start_time": "2022-08-05T07:53:22.701Z"
   },
   {
    "duration": 6,
    "start_time": "2022-08-05T07:53:22.711Z"
   },
   {
    "duration": 4,
    "start_time": "2022-08-05T07:53:22.720Z"
   },
   {
    "duration": 13,
    "start_time": "2022-08-05T07:53:22.725Z"
   },
   {
    "duration": 9,
    "start_time": "2022-08-05T07:53:22.739Z"
   },
   {
    "duration": 13,
    "start_time": "2022-08-05T07:53:22.750Z"
   },
   {
    "duration": 7,
    "start_time": "2022-08-05T07:53:22.765Z"
   },
   {
    "duration": 26,
    "start_time": "2022-08-05T07:53:22.773Z"
   },
   {
    "duration": 6,
    "start_time": "2022-08-05T07:53:22.800Z"
   },
   {
    "duration": 150,
    "start_time": "2022-08-05T07:53:22.807Z"
   },
   {
    "duration": 6,
    "start_time": "2022-08-05T07:53:22.959Z"
   },
   {
    "duration": 8,
    "start_time": "2022-08-05T07:53:22.966Z"
   },
   {
    "duration": 11,
    "start_time": "2022-08-05T07:53:22.976Z"
   },
   {
    "duration": 4,
    "start_time": "2022-08-05T07:53:22.989Z"
   },
   {
    "duration": 8,
    "start_time": "2022-08-05T07:53:22.994Z"
   },
   {
    "duration": 6,
    "start_time": "2022-08-05T07:53:23.003Z"
   },
   {
    "duration": 32,
    "start_time": "2022-08-05T07:53:23.011Z"
   },
   {
    "duration": 327,
    "start_time": "2022-08-05T07:53:23.045Z"
   },
   {
    "duration": 5,
    "start_time": "2022-08-05T07:53:23.374Z"
   },
   {
    "duration": 38,
    "start_time": "2022-08-05T07:53:23.381Z"
   },
   {
    "duration": 22,
    "start_time": "2022-08-05T07:53:23.438Z"
   },
   {
    "duration": 5,
    "start_time": "2022-08-05T07:53:23.462Z"
   },
   {
    "duration": 9,
    "start_time": "2022-08-05T07:53:23.468Z"
   },
   {
    "duration": 11,
    "start_time": "2022-08-05T07:53:40.167Z"
   },
   {
    "duration": 7,
    "start_time": "2022-08-05T07:53:48.951Z"
   },
   {
    "duration": 5,
    "start_time": "2022-08-05T07:54:37.449Z"
   },
   {
    "duration": 5,
    "start_time": "2022-08-05T07:54:38.665Z"
   },
   {
    "duration": 6,
    "start_time": "2022-08-05T07:54:40.456Z"
   },
   {
    "duration": 6,
    "start_time": "2022-08-05T07:54:41.200Z"
   },
   {
    "duration": 2,
    "start_time": "2022-08-05T07:56:35.091Z"
   },
   {
    "duration": 69,
    "start_time": "2022-08-05T08:31:55.068Z"
   },
   {
    "duration": 166,
    "start_time": "2022-08-05T08:32:02.325Z"
   },
   {
    "duration": 201,
    "start_time": "2022-08-05T08:35:02.057Z"
   },
   {
    "duration": 233,
    "start_time": "2022-08-05T08:35:16.035Z"
   },
   {
    "duration": 127,
    "start_time": "2022-08-05T08:35:21.700Z"
   },
   {
    "duration": 123,
    "start_time": "2022-08-05T08:35:26.561Z"
   },
   {
    "duration": 131,
    "start_time": "2022-08-05T08:35:33.859Z"
   },
   {
    "duration": 173,
    "start_time": "2022-08-05T08:35:44.430Z"
   },
   {
    "duration": 192,
    "start_time": "2022-08-05T08:36:25.063Z"
   },
   {
    "duration": 168,
    "start_time": "2022-08-05T08:36:51.463Z"
   },
   {
    "duration": 204,
    "start_time": "2022-08-05T08:36:58.391Z"
   },
   {
    "duration": 169,
    "start_time": "2022-08-05T08:37:00.319Z"
   },
   {
    "duration": 207,
    "start_time": "2022-08-05T08:37:05.961Z"
   },
   {
    "duration": 279,
    "start_time": "2022-08-05T08:37:11.120Z"
   },
   {
    "duration": 194,
    "start_time": "2022-08-05T08:37:15.087Z"
   },
   {
    "duration": 153,
    "start_time": "2022-08-05T08:37:18.463Z"
   },
   {
    "duration": 226,
    "start_time": "2022-08-05T08:37:40.625Z"
   },
   {
    "duration": 252,
    "start_time": "2022-08-05T08:48:08.892Z"
   },
   {
    "duration": 170,
    "start_time": "2022-08-05T08:49:01.068Z"
   },
   {
    "duration": 166,
    "start_time": "2022-08-05T08:50:02.342Z"
   },
   {
    "duration": 145,
    "start_time": "2022-08-05T08:50:09.781Z"
   },
   {
    "duration": 135,
    "start_time": "2022-08-05T08:50:14.974Z"
   },
   {
    "duration": 170,
    "start_time": "2022-08-05T08:50:23.870Z"
   },
   {
    "duration": 172,
    "start_time": "2022-08-05T08:50:59.471Z"
   },
   {
    "duration": 178,
    "start_time": "2022-08-05T08:51:06.024Z"
   },
   {
    "duration": 250,
    "start_time": "2022-08-05T08:51:15.232Z"
   },
   {
    "duration": 165,
    "start_time": "2022-08-05T08:51:59.543Z"
   },
   {
    "duration": 168,
    "start_time": "2022-08-05T08:52:08.562Z"
   },
   {
    "duration": 189,
    "start_time": "2022-08-05T08:52:12.297Z"
   },
   {
    "duration": 188,
    "start_time": "2022-08-05T08:52:19.066Z"
   },
   {
    "duration": 170,
    "start_time": "2022-08-05T08:53:03.355Z"
   },
   {
    "duration": 200,
    "start_time": "2022-08-05T08:53:09.108Z"
   },
   {
    "duration": 166,
    "start_time": "2022-08-05T08:53:14.899Z"
   },
   {
    "duration": 15,
    "start_time": "2022-08-05T08:54:38.637Z"
   },
   {
    "duration": 15,
    "start_time": "2022-08-05T08:54:43.653Z"
   },
   {
    "duration": 14,
    "start_time": "2022-08-05T08:55:05.725Z"
   },
   {
    "duration": 169,
    "start_time": "2022-08-05T08:56:11.831Z"
   },
   {
    "duration": 150,
    "start_time": "2022-08-05T08:56:38.184Z"
   },
   {
    "duration": 166,
    "start_time": "2022-08-05T08:57:01.305Z"
   },
   {
    "duration": 139,
    "start_time": "2022-08-05T08:57:36.762Z"
   },
   {
    "duration": 150,
    "start_time": "2022-08-05T08:58:14.987Z"
   },
   {
    "duration": 137,
    "start_time": "2022-08-05T08:58:33.540Z"
   },
   {
    "duration": 150,
    "start_time": "2022-08-05T08:58:37.788Z"
   },
   {
    "duration": 148,
    "start_time": "2022-08-05T08:59:07.511Z"
   },
   {
    "duration": 281,
    "start_time": "2022-08-05T08:59:12.260Z"
   },
   {
    "duration": 17,
    "start_time": "2022-08-05T08:59:46.262Z"
   },
   {
    "duration": 19,
    "start_time": "2022-08-05T08:59:56.055Z"
   },
   {
    "duration": 18,
    "start_time": "2022-08-05T09:00:00.262Z"
   },
   {
    "duration": 15,
    "start_time": "2022-08-05T09:01:21.384Z"
   },
   {
    "duration": 13,
    "start_time": "2022-08-05T09:01:52.049Z"
   },
   {
    "duration": 137,
    "start_time": "2022-08-05T09:02:32.619Z"
   },
   {
    "duration": 129,
    "start_time": "2022-08-05T09:02:36.563Z"
   },
   {
    "duration": 138,
    "start_time": "2022-08-05T09:02:53.026Z"
   },
   {
    "duration": 180,
    "start_time": "2022-08-05T09:02:58.907Z"
   },
   {
    "duration": 146,
    "start_time": "2022-08-05T09:03:07.715Z"
   },
   {
    "duration": 518,
    "start_time": "2022-08-05T09:03:54.633Z"
   },
   {
    "duration": 15,
    "start_time": "2022-08-05T09:03:55.153Z"
   },
   {
    "duration": 2152,
    "start_time": "2022-08-05T09:03:55.169Z"
   },
   {
    "duration": 9,
    "start_time": "2022-08-05T09:03:57.323Z"
   },
   {
    "duration": 4,
    "start_time": "2022-08-05T09:03:57.334Z"
   },
   {
    "duration": 7,
    "start_time": "2022-08-05T09:03:57.340Z"
   },
   {
    "duration": 6,
    "start_time": "2022-08-05T09:03:57.348Z"
   },
   {
    "duration": 7,
    "start_time": "2022-08-05T09:03:57.355Z"
   },
   {
    "duration": 8,
    "start_time": "2022-08-05T09:03:57.364Z"
   },
   {
    "duration": 7,
    "start_time": "2022-08-05T09:03:57.373Z"
   },
   {
    "duration": 8,
    "start_time": "2022-08-05T09:03:57.381Z"
   },
   {
    "duration": 9,
    "start_time": "2022-08-05T09:03:57.390Z"
   },
   {
    "duration": 40,
    "start_time": "2022-08-05T09:03:57.401Z"
   },
   {
    "duration": 9,
    "start_time": "2022-08-05T09:03:57.444Z"
   },
   {
    "duration": 26,
    "start_time": "2022-08-05T09:03:57.454Z"
   },
   {
    "duration": 6,
    "start_time": "2022-08-05T09:03:57.481Z"
   },
   {
    "duration": 157,
    "start_time": "2022-08-05T09:03:57.489Z"
   },
   {
    "duration": 7,
    "start_time": "2022-08-05T09:03:57.648Z"
   },
   {
    "duration": 24,
    "start_time": "2022-08-05T09:03:57.665Z"
   },
   {
    "duration": 9,
    "start_time": "2022-08-05T09:03:57.691Z"
   },
   {
    "duration": 19,
    "start_time": "2022-08-05T09:03:57.702Z"
   },
   {
    "duration": 7,
    "start_time": "2022-08-05T09:03:57.723Z"
   },
   {
    "duration": 11,
    "start_time": "2022-08-05T09:03:57.732Z"
   },
   {
    "duration": 10,
    "start_time": "2022-08-05T09:03:57.745Z"
   },
   {
    "duration": 313,
    "start_time": "2022-08-05T09:03:57.756Z"
   },
   {
    "duration": 4,
    "start_time": "2022-08-05T09:03:58.071Z"
   },
   {
    "duration": 37,
    "start_time": "2022-08-05T09:03:58.077Z"
   },
   {
    "duration": 30,
    "start_time": "2022-08-05T09:03:58.115Z"
   },
   {
    "duration": 4,
    "start_time": "2022-08-05T09:03:58.147Z"
   },
   {
    "duration": 8,
    "start_time": "2022-08-05T09:03:58.153Z"
   },
   {
    "duration": 195,
    "start_time": "2022-08-05T09:03:58.162Z"
   },
   {
    "duration": 184,
    "start_time": "2022-08-05T09:03:58.358Z"
   },
   {
    "duration": 183,
    "start_time": "2022-08-05T09:03:58.544Z"
   },
   {
    "duration": 270,
    "start_time": "2022-08-05T09:03:58.728Z"
   },
   {
    "duration": 195,
    "start_time": "2022-08-05T09:03:59.001Z"
   },
   {
    "duration": 182,
    "start_time": "2022-08-05T09:03:59.198Z"
   },
   {
    "duration": 185,
    "start_time": "2022-08-05T09:03:59.382Z"
   },
   {
    "duration": 199,
    "start_time": "2022-08-05T09:03:59.569Z"
   },
   {
    "duration": 157,
    "start_time": "2022-08-05T09:03:59.769Z"
   },
   {
    "duration": 168,
    "start_time": "2022-08-05T09:03:59.928Z"
   },
   {
    "duration": 146,
    "start_time": "2022-08-05T09:04:00.100Z"
   },
   {
    "duration": 156,
    "start_time": "2022-08-05T09:04:00.249Z"
   },
   {
    "duration": 756,
    "start_time": "2022-08-06T07:33:03.666Z"
   },
   {
    "duration": 16,
    "start_time": "2022-08-06T07:33:04.424Z"
   },
   {
    "duration": 2100,
    "start_time": "2022-08-06T07:33:04.441Z"
   },
   {
    "duration": 9,
    "start_time": "2022-08-06T07:33:06.543Z"
   },
   {
    "duration": 6,
    "start_time": "2022-08-06T07:33:06.553Z"
   },
   {
    "duration": 8,
    "start_time": "2022-08-06T07:33:06.560Z"
   },
   {
    "duration": 32,
    "start_time": "2022-08-06T07:33:06.570Z"
   },
   {
    "duration": 7,
    "start_time": "2022-08-06T07:33:06.603Z"
   },
   {
    "duration": 18,
    "start_time": "2022-08-06T07:33:06.612Z"
   },
   {
    "duration": 7,
    "start_time": "2022-08-06T07:33:06.633Z"
   },
   {
    "duration": 9,
    "start_time": "2022-08-06T07:33:06.642Z"
   },
   {
    "duration": 14,
    "start_time": "2022-08-06T07:33:06.652Z"
   },
   {
    "duration": 12,
    "start_time": "2022-08-06T07:33:06.668Z"
   },
   {
    "duration": 8,
    "start_time": "2022-08-06T07:33:06.699Z"
   },
   {
    "duration": 28,
    "start_time": "2022-08-06T07:33:06.708Z"
   },
   {
    "duration": 6,
    "start_time": "2022-08-06T07:33:06.737Z"
   },
   {
    "duration": 146,
    "start_time": "2022-08-06T07:33:06.744Z"
   },
   {
    "duration": 6,
    "start_time": "2022-08-06T07:33:06.891Z"
   },
   {
    "duration": 8,
    "start_time": "2022-08-06T07:33:06.900Z"
   },
   {
    "duration": 5,
    "start_time": "2022-08-06T07:33:06.909Z"
   },
   {
    "duration": 11,
    "start_time": "2022-08-06T07:33:06.915Z"
   },
   {
    "duration": 7,
    "start_time": "2022-08-06T07:33:06.927Z"
   },
   {
    "duration": 5,
    "start_time": "2022-08-06T07:33:06.936Z"
   },
   {
    "duration": 6,
    "start_time": "2022-08-06T07:33:06.943Z"
   },
   {
    "duration": 333,
    "start_time": "2022-08-06T07:33:06.950Z"
   },
   {
    "duration": 4,
    "start_time": "2022-08-06T07:33:07.284Z"
   },
   {
    "duration": 39,
    "start_time": "2022-08-06T07:33:07.290Z"
   },
   {
    "duration": 22,
    "start_time": "2022-08-06T07:33:07.332Z"
   },
   {
    "duration": 5,
    "start_time": "2022-08-06T07:33:07.356Z"
   },
   {
    "duration": 10,
    "start_time": "2022-08-06T07:33:07.362Z"
   },
   {
    "duration": 186,
    "start_time": "2022-08-06T07:33:07.374Z"
   },
   {
    "duration": 166,
    "start_time": "2022-08-06T07:33:07.561Z"
   },
   {
    "duration": 242,
    "start_time": "2022-08-06T07:33:07.729Z"
   },
   {
    "duration": 160,
    "start_time": "2022-08-06T07:33:07.972Z"
   },
   {
    "duration": 150,
    "start_time": "2022-08-06T07:33:08.134Z"
   },
   {
    "duration": 171,
    "start_time": "2022-08-06T07:33:08.286Z"
   },
   {
    "duration": 193,
    "start_time": "2022-08-06T07:33:08.458Z"
   },
   {
    "duration": 160,
    "start_time": "2022-08-06T07:33:08.653Z"
   },
   {
    "duration": 154,
    "start_time": "2022-08-06T07:33:08.815Z"
   },
   {
    "duration": 158,
    "start_time": "2022-08-06T07:33:08.970Z"
   },
   {
    "duration": 136,
    "start_time": "2022-08-06T07:33:09.130Z"
   },
   {
    "duration": 142,
    "start_time": "2022-08-06T07:33:09.267Z"
   },
   {
    "duration": 148,
    "start_time": "2022-08-06T07:35:08.145Z"
   },
   {
    "duration": 266,
    "start_time": "2022-08-06T07:35:14.698Z"
   },
   {
    "duration": 7,
    "start_time": "2022-08-06T07:40:21.221Z"
   },
   {
    "duration": 67,
    "start_time": "2022-08-06T07:41:13.328Z"
   },
   {
    "duration": 8,
    "start_time": "2022-08-06T07:41:37.723Z"
   },
   {
    "duration": 6,
    "start_time": "2022-08-06T07:41:42.353Z"
   },
   {
    "duration": 155,
    "start_time": "2022-08-06T07:42:09.084Z"
   },
   {
    "duration": 97,
    "start_time": "2022-08-06T07:43:57.997Z"
   },
   {
    "duration": 171,
    "start_time": "2022-08-06T07:44:04.149Z"
   },
   {
    "duration": 225,
    "start_time": "2022-08-06T07:44:20.967Z"
   },
   {
    "duration": 153,
    "start_time": "2022-08-06T07:44:26.695Z"
   },
   {
    "duration": 153,
    "start_time": "2022-08-06T07:44:34.198Z"
   },
   {
    "duration": 172,
    "start_time": "2022-08-06T07:44:39.775Z"
   },
   {
    "duration": 9,
    "start_time": "2022-08-06T07:47:35.283Z"
   },
   {
    "duration": 112,
    "start_time": "2022-08-06T07:47:56.155Z"
   },
   {
    "duration": 10,
    "start_time": "2022-08-06T07:49:48.759Z"
   },
   {
    "duration": 130,
    "start_time": "2022-08-06T07:58:33.476Z"
   },
   {
    "duration": 733,
    "start_time": "2022-08-06T08:14:44.565Z"
   },
   {
    "duration": 13,
    "start_time": "2022-08-06T08:14:45.300Z"
   },
   {
    "duration": 1951,
    "start_time": "2022-08-06T08:14:45.315Z"
   },
   {
    "duration": 9,
    "start_time": "2022-08-06T08:14:47.268Z"
   },
   {
    "duration": 5,
    "start_time": "2022-08-06T08:14:47.279Z"
   },
   {
    "duration": 9,
    "start_time": "2022-08-06T08:14:47.285Z"
   },
   {
    "duration": 9,
    "start_time": "2022-08-06T08:14:47.295Z"
   },
   {
    "duration": 6,
    "start_time": "2022-08-06T08:14:47.305Z"
   },
   {
    "duration": 5,
    "start_time": "2022-08-06T08:14:47.313Z"
   },
   {
    "duration": 6,
    "start_time": "2022-08-06T08:14:47.319Z"
   },
   {
    "duration": 6,
    "start_time": "2022-08-06T08:14:47.326Z"
   },
   {
    "duration": 8,
    "start_time": "2022-08-06T08:14:47.333Z"
   },
   {
    "duration": 13,
    "start_time": "2022-08-06T08:14:47.343Z"
   },
   {
    "duration": 45,
    "start_time": "2022-08-06T08:14:47.358Z"
   },
   {
    "duration": 28,
    "start_time": "2022-08-06T08:14:47.405Z"
   },
   {
    "duration": 5,
    "start_time": "2022-08-06T08:14:47.435Z"
   },
   {
    "duration": 135,
    "start_time": "2022-08-06T08:14:47.441Z"
   },
   {
    "duration": 6,
    "start_time": "2022-08-06T08:14:47.578Z"
   },
   {
    "duration": 18,
    "start_time": "2022-08-06T08:14:47.585Z"
   },
   {
    "duration": 5,
    "start_time": "2022-08-06T08:14:47.604Z"
   },
   {
    "duration": 6,
    "start_time": "2022-08-06T08:14:47.610Z"
   },
   {
    "duration": 6,
    "start_time": "2022-08-06T08:14:47.618Z"
   },
   {
    "duration": 8,
    "start_time": "2022-08-06T08:14:47.625Z"
   },
   {
    "duration": 6,
    "start_time": "2022-08-06T08:14:47.634Z"
   },
   {
    "duration": 330,
    "start_time": "2022-08-06T08:14:47.642Z"
   },
   {
    "duration": 5,
    "start_time": "2022-08-06T08:14:47.974Z"
   },
   {
    "duration": 47,
    "start_time": "2022-08-06T08:14:47.981Z"
   },
   {
    "duration": 22,
    "start_time": "2022-08-06T08:14:48.030Z"
   },
   {
    "duration": 6,
    "start_time": "2022-08-06T08:14:48.054Z"
   },
   {
    "duration": 7,
    "start_time": "2022-08-06T08:14:48.061Z"
   },
   {
    "duration": 187,
    "start_time": "2022-08-06T08:14:48.101Z"
   },
   {
    "duration": 179,
    "start_time": "2022-08-06T08:14:48.290Z"
   },
   {
    "duration": 160,
    "start_time": "2022-08-06T08:14:48.471Z"
   },
   {
    "duration": 220,
    "start_time": "2022-08-06T08:14:48.633Z"
   },
   {
    "duration": 154,
    "start_time": "2022-08-06T08:14:48.854Z"
   },
   {
    "duration": 171,
    "start_time": "2022-08-06T08:14:49.010Z"
   },
   {
    "duration": 160,
    "start_time": "2022-08-06T08:14:49.182Z"
   },
   {
    "duration": 165,
    "start_time": "2022-08-06T08:14:49.343Z"
   },
   {
    "duration": 147,
    "start_time": "2022-08-06T08:14:49.509Z"
   },
   {
    "duration": 155,
    "start_time": "2022-08-06T08:14:49.658Z"
   },
   {
    "duration": 134,
    "start_time": "2022-08-06T08:14:49.816Z"
   },
   {
    "duration": 158,
    "start_time": "2022-08-06T08:14:49.952Z"
   },
   {
    "duration": 182,
    "start_time": "2022-08-06T08:14:50.112Z"
   },
   {
    "duration": 112,
    "start_time": "2022-08-06T08:14:50.295Z"
   },
   {
    "duration": 9,
    "start_time": "2022-08-06T08:14:50.408Z"
   },
   {
    "duration": 259,
    "start_time": "2022-08-06T08:14:50.418Z"
   },
   {
    "duration": 43,
    "start_time": "2022-08-06T08:18:39.233Z"
   },
   {
    "duration": 786,
    "start_time": "2022-08-06T08:18:54.875Z"
   },
   {
    "duration": 15,
    "start_time": "2022-08-06T08:18:55.663Z"
   },
   {
    "duration": 2226,
    "start_time": "2022-08-06T08:18:55.679Z"
   },
   {
    "duration": 10,
    "start_time": "2022-08-06T08:18:57.907Z"
   },
   {
    "duration": 4,
    "start_time": "2022-08-06T08:18:57.919Z"
   },
   {
    "duration": 9,
    "start_time": "2022-08-06T08:18:57.925Z"
   },
   {
    "duration": 6,
    "start_time": "2022-08-06T08:18:57.935Z"
   },
   {
    "duration": 7,
    "start_time": "2022-08-06T08:18:57.942Z"
   },
   {
    "duration": 11,
    "start_time": "2022-08-06T08:18:57.951Z"
   },
   {
    "duration": 37,
    "start_time": "2022-08-06T08:18:57.963Z"
   },
   {
    "duration": 7,
    "start_time": "2022-08-06T08:18:58.002Z"
   },
   {
    "duration": 9,
    "start_time": "2022-08-06T08:18:58.011Z"
   },
   {
    "duration": 15,
    "start_time": "2022-08-06T08:18:58.021Z"
   },
   {
    "duration": 7,
    "start_time": "2022-08-06T08:18:58.039Z"
   },
   {
    "duration": 63,
    "start_time": "2022-08-06T08:18:58.048Z"
   },
   {
    "duration": 6,
    "start_time": "2022-08-06T08:18:58.113Z"
   },
   {
    "duration": 163,
    "start_time": "2022-08-06T08:18:58.120Z"
   },
   {
    "duration": 7,
    "start_time": "2022-08-06T08:18:58.285Z"
   },
   {
    "duration": 16,
    "start_time": "2022-08-06T08:18:58.293Z"
   },
   {
    "duration": 6,
    "start_time": "2022-08-06T08:18:58.310Z"
   },
   {
    "duration": 8,
    "start_time": "2022-08-06T08:18:58.318Z"
   },
   {
    "duration": 8,
    "start_time": "2022-08-06T08:18:58.328Z"
   },
   {
    "duration": 6,
    "start_time": "2022-08-06T08:18:58.338Z"
   },
   {
    "duration": 8,
    "start_time": "2022-08-06T08:18:58.345Z"
   },
   {
    "duration": 358,
    "start_time": "2022-08-06T08:18:58.355Z"
   },
   {
    "duration": 5,
    "start_time": "2022-08-06T08:18:58.715Z"
   },
   {
    "duration": 49,
    "start_time": "2022-08-06T08:18:58.722Z"
   },
   {
    "duration": 35,
    "start_time": "2022-08-06T08:18:58.773Z"
   },
   {
    "duration": 6,
    "start_time": "2022-08-06T08:18:58.809Z"
   },
   {
    "duration": 22,
    "start_time": "2022-08-06T08:18:58.816Z"
   },
   {
    "duration": 202,
    "start_time": "2022-08-06T08:18:58.840Z"
   },
   {
    "duration": 194,
    "start_time": "2022-08-06T08:18:59.043Z"
   },
   {
    "duration": 182,
    "start_time": "2022-08-06T08:18:59.238Z"
   },
   {
    "duration": 264,
    "start_time": "2022-08-06T08:18:59.422Z"
   },
   {
    "duration": 180,
    "start_time": "2022-08-06T08:18:59.688Z"
   },
   {
    "duration": 202,
    "start_time": "2022-08-06T08:18:59.869Z"
   },
   {
    "duration": 205,
    "start_time": "2022-08-06T08:19:00.073Z"
   },
   {
    "duration": 179,
    "start_time": "2022-08-06T08:19:00.280Z"
   },
   {
    "duration": 170,
    "start_time": "2022-08-06T08:19:00.460Z"
   },
   {
    "duration": 183,
    "start_time": "2022-08-06T08:19:00.632Z"
   },
   {
    "duration": 156,
    "start_time": "2022-08-06T08:19:00.819Z"
   },
   {
    "duration": 180,
    "start_time": "2022-08-06T08:19:00.976Z"
   },
   {
    "duration": 197,
    "start_time": "2022-08-06T08:19:01.158Z"
   },
   {
    "duration": 132,
    "start_time": "2022-08-06T08:19:01.356Z"
   },
   {
    "duration": 12,
    "start_time": "2022-08-06T08:19:01.501Z"
   },
   {
    "duration": 318,
    "start_time": "2022-08-06T08:19:01.515Z"
   },
   {
    "duration": 15,
    "start_time": "2022-08-06T08:19:01.834Z"
   },
   {
    "duration": 2013,
    "start_time": "2022-08-06T08:19:23.527Z"
   },
   {
    "duration": 14,
    "start_time": "2022-08-06T08:19:47.025Z"
   },
   {
    "duration": 142,
    "start_time": "2022-08-06T08:20:10.398Z"
   },
   {
    "duration": 180,
    "start_time": "2022-08-06T08:20:36.295Z"
   },
   {
    "duration": 47,
    "start_time": "2022-08-06T08:22:13.324Z"
   },
   {
    "duration": 876,
    "start_time": "2022-08-06T08:22:19.370Z"
   },
   {
    "duration": 211,
    "start_time": "2022-08-06T08:22:29.465Z"
   },
   {
    "duration": 64,
    "start_time": "2022-08-06T08:23:17.059Z"
   },
   {
    "duration": 234,
    "start_time": "2022-08-06T08:23:20.172Z"
   },
   {
    "duration": 238,
    "start_time": "2022-08-06T08:25:27.383Z"
   },
   {
    "duration": 390,
    "start_time": "2022-08-06T08:25:34.587Z"
   },
   {
    "duration": 175,
    "start_time": "2022-08-06T08:25:40.039Z"
   },
   {
    "duration": 724,
    "start_time": "2022-08-06T08:25:50.848Z"
   },
   {
    "duration": 811,
    "start_time": "2022-08-06T08:26:00.007Z"
   },
   {
    "duration": 680,
    "start_time": "2022-08-06T08:26:02.438Z"
   },
   {
    "duration": 17,
    "start_time": "2022-08-06T08:28:21.876Z"
   },
   {
    "duration": 202,
    "start_time": "2022-08-06T08:28:53.529Z"
   },
   {
    "duration": 284,
    "start_time": "2022-08-06T08:30:52.104Z"
   },
   {
    "duration": 205,
    "start_time": "2022-08-06T08:30:58.592Z"
   },
   {
    "duration": 404,
    "start_time": "2022-08-06T08:34:47.943Z"
   },
   {
    "duration": 247,
    "start_time": "2022-08-06T08:34:55.694Z"
   },
   {
    "duration": 260,
    "start_time": "2022-08-06T08:35:02.735Z"
   },
   {
    "duration": 158,
    "start_time": "2022-08-06T08:35:07.174Z"
   },
   {
    "duration": 213,
    "start_time": "2022-08-06T08:35:11.447Z"
   },
   {
    "duration": 163,
    "start_time": "2022-08-06T08:35:18.968Z"
   },
   {
    "duration": 287,
    "start_time": "2022-08-06T08:36:18.544Z"
   },
   {
    "duration": 181,
    "start_time": "2022-08-06T08:36:23.385Z"
   },
   {
    "duration": 137,
    "start_time": "2022-08-06T08:36:37.338Z"
   },
   {
    "duration": 48,
    "start_time": "2022-08-06T08:40:57.576Z"
   },
   {
    "duration": 49,
    "start_time": "2022-08-06T08:41:17.593Z"
   },
   {
    "duration": 61,
    "start_time": "2022-08-06T08:41:21.800Z"
   },
   {
    "duration": 53,
    "start_time": "2022-08-06T08:41:30.593Z"
   },
   {
    "duration": 887,
    "start_time": "2022-08-06T08:41:44.650Z"
   },
   {
    "duration": 364,
    "start_time": "2022-08-06T08:41:53.682Z"
   },
   {
    "duration": 159,
    "start_time": "2022-08-06T08:42:08.778Z"
   },
   {
    "duration": 923,
    "start_time": "2022-08-06T08:42:21.059Z"
   },
   {
    "duration": 46,
    "start_time": "2022-08-06T08:42:40.674Z"
   },
   {
    "duration": 305,
    "start_time": "2022-08-06T08:42:46.511Z"
   },
   {
    "duration": 269,
    "start_time": "2022-08-06T08:43:05.603Z"
   },
   {
    "duration": 299,
    "start_time": "2022-08-06T08:43:59.829Z"
   },
   {
    "duration": 386,
    "start_time": "2022-08-06T08:44:16.956Z"
   },
   {
    "duration": 24,
    "start_time": "2022-08-06T08:44:53.694Z"
   },
   {
    "duration": 64,
    "start_time": "2022-08-06T08:45:08.927Z"
   },
   {
    "duration": 19,
    "start_time": "2022-08-06T08:45:12.695Z"
   },
   {
    "duration": 21,
    "start_time": "2022-08-06T08:45:41.928Z"
   },
   {
    "duration": 283,
    "start_time": "2022-08-06T08:46:06.256Z"
   },
   {
    "duration": 167,
    "start_time": "2022-08-06T08:47:25.435Z"
   },
   {
    "duration": 147,
    "start_time": "2022-08-06T08:47:46.099Z"
   },
   {
    "duration": 159,
    "start_time": "2022-08-06T08:47:50.091Z"
   },
   {
    "duration": 179,
    "start_time": "2022-08-06T08:47:53.483Z"
   },
   {
    "duration": 195,
    "start_time": "2022-08-06T08:48:00.516Z"
   },
   {
    "duration": 211,
    "start_time": "2022-08-06T08:48:09.596Z"
   },
   {
    "duration": 175,
    "start_time": "2022-08-06T08:48:13.546Z"
   },
   {
    "duration": 183,
    "start_time": "2022-08-06T08:49:42.270Z"
   },
   {
    "duration": 35,
    "start_time": "2022-08-06T08:54:32.614Z"
   },
   {
    "duration": 11,
    "start_time": "2022-08-06T08:55:53.085Z"
   },
   {
    "duration": 15,
    "start_time": "2022-08-06T08:55:57.627Z"
   },
   {
    "duration": 13,
    "start_time": "2022-08-06T08:56:50.554Z"
   },
   {
    "duration": 17,
    "start_time": "2022-08-06T08:56:58.689Z"
   },
   {
    "duration": 15,
    "start_time": "2022-08-06T08:57:06.466Z"
   },
   {
    "duration": 37,
    "start_time": "2022-08-06T09:02:06.906Z"
   },
   {
    "duration": 54,
    "start_time": "2022-08-06T09:02:55.600Z"
   },
   {
    "duration": 68,
    "start_time": "2022-08-06T09:03:08.610Z"
   },
   {
    "duration": 57,
    "start_time": "2022-08-06T09:03:19.139Z"
   },
   {
    "duration": 12,
    "start_time": "2022-08-06T09:03:31.851Z"
   },
   {
    "duration": 13,
    "start_time": "2022-08-06T09:04:29.172Z"
   },
   {
    "duration": 13,
    "start_time": "2022-08-06T09:05:06.277Z"
   },
   {
    "duration": 14,
    "start_time": "2022-08-06T09:05:07.766Z"
   },
   {
    "duration": 11,
    "start_time": "2022-08-06T09:05:08.510Z"
   },
   {
    "duration": 12,
    "start_time": "2022-08-06T09:05:09.701Z"
   },
   {
    "duration": 13,
    "start_time": "2022-08-06T09:05:22.862Z"
   },
   {
    "duration": 12,
    "start_time": "2022-08-06T09:05:24.711Z"
   },
   {
    "duration": 16,
    "start_time": "2022-08-06T09:05:27.477Z"
   },
   {
    "duration": 15,
    "start_time": "2022-08-06T09:05:33.157Z"
   },
   {
    "duration": 11,
    "start_time": "2022-08-06T09:06:00.912Z"
   },
   {
    "duration": 11,
    "start_time": "2022-08-06T09:06:12.455Z"
   },
   {
    "duration": 12,
    "start_time": "2022-08-06T09:06:25.079Z"
   },
   {
    "duration": 13,
    "start_time": "2022-08-06T09:06:28.271Z"
   },
   {
    "duration": 12,
    "start_time": "2022-08-06T09:07:22.498Z"
   },
   {
    "duration": 12,
    "start_time": "2022-08-06T09:07:44.786Z"
   },
   {
    "duration": 12,
    "start_time": "2022-08-06T09:07:47.426Z"
   },
   {
    "duration": 12,
    "start_time": "2022-08-06T09:07:48.353Z"
   },
   {
    "duration": 12,
    "start_time": "2022-08-06T09:07:50.881Z"
   },
   {
    "duration": 13,
    "start_time": "2022-08-06T09:07:55.210Z"
   },
   {
    "duration": 11,
    "start_time": "2022-08-06T09:08:10.428Z"
   },
   {
    "duration": 14,
    "start_time": "2022-08-06T09:08:12.474Z"
   },
   {
    "duration": 13,
    "start_time": "2022-08-06T09:08:21.363Z"
   },
   {
    "duration": 11,
    "start_time": "2022-08-06T09:08:28.731Z"
   },
   {
    "duration": 14,
    "start_time": "2022-08-06T09:09:26.374Z"
   },
   {
    "duration": 15,
    "start_time": "2022-08-06T09:09:31.455Z"
   },
   {
    "duration": 8,
    "start_time": "2022-08-06T09:09:48.662Z"
   },
   {
    "duration": 7,
    "start_time": "2022-08-06T09:10:06.430Z"
   },
   {
    "duration": 8,
    "start_time": "2022-08-06T09:10:14.382Z"
   },
   {
    "duration": 13,
    "start_time": "2022-08-06T09:11:18.151Z"
   },
   {
    "duration": 15,
    "start_time": "2022-08-06T09:15:11.494Z"
   },
   {
    "duration": 11,
    "start_time": "2022-08-06T09:15:47.079Z"
   },
   {
    "duration": 11,
    "start_time": "2022-08-06T09:15:58.863Z"
   },
   {
    "duration": 10,
    "start_time": "2022-08-06T09:16:02.766Z"
   },
   {
    "duration": 11,
    "start_time": "2022-08-06T09:16:12.405Z"
   },
   {
    "duration": 49,
    "start_time": "2022-08-06T09:21:22.639Z"
   },
   {
    "duration": 8,
    "start_time": "2022-08-06T09:22:09.488Z"
   },
   {
    "duration": 7,
    "start_time": "2022-08-06T09:22:17.410Z"
   },
   {
    "duration": 48,
    "start_time": "2022-08-06T09:22:49.800Z"
   },
   {
    "duration": 15,
    "start_time": "2022-08-06T09:22:54.833Z"
   },
   {
    "duration": 5,
    "start_time": "2022-08-06T09:23:46.874Z"
   },
   {
    "duration": 12,
    "start_time": "2022-08-06T09:29:33.603Z"
   },
   {
    "duration": 551,
    "start_time": "2022-08-07T09:12:17.015Z"
   },
   {
    "duration": 16,
    "start_time": "2022-08-07T09:12:17.569Z"
   },
   {
    "duration": 2570,
    "start_time": "2022-08-07T09:12:17.587Z"
   },
   {
    "duration": 13,
    "start_time": "2022-08-07T09:12:20.159Z"
   },
   {
    "duration": 6,
    "start_time": "2022-08-07T09:12:20.175Z"
   },
   {
    "duration": 5,
    "start_time": "2022-08-07T09:12:20.184Z"
   },
   {
    "duration": 7,
    "start_time": "2022-08-07T09:12:20.191Z"
   },
   {
    "duration": 10,
    "start_time": "2022-08-07T09:12:20.200Z"
   },
   {
    "duration": 8,
    "start_time": "2022-08-07T09:12:20.213Z"
   },
   {
    "duration": 13,
    "start_time": "2022-08-07T09:12:20.223Z"
   },
   {
    "duration": 30,
    "start_time": "2022-08-07T09:12:20.238Z"
   },
   {
    "duration": 10,
    "start_time": "2022-08-07T09:12:20.270Z"
   },
   {
    "duration": 16,
    "start_time": "2022-08-07T09:12:20.282Z"
   },
   {
    "duration": 8,
    "start_time": "2022-08-07T09:12:20.302Z"
   },
   {
    "duration": 29,
    "start_time": "2022-08-07T09:12:20.312Z"
   },
   {
    "duration": 6,
    "start_time": "2022-08-07T09:12:20.367Z"
   },
   {
    "duration": 152,
    "start_time": "2022-08-07T09:12:20.375Z"
   },
   {
    "duration": 6,
    "start_time": "2022-08-07T09:12:20.528Z"
   },
   {
    "duration": 10,
    "start_time": "2022-08-07T09:12:20.536Z"
   },
   {
    "duration": 3,
    "start_time": "2022-08-07T09:12:20.548Z"
   },
   {
    "duration": 6,
    "start_time": "2022-08-07T09:12:20.568Z"
   },
   {
    "duration": 9,
    "start_time": "2022-08-07T09:12:20.576Z"
   },
   {
    "duration": 6,
    "start_time": "2022-08-07T09:12:20.587Z"
   },
   {
    "duration": 7,
    "start_time": "2022-08-07T09:12:20.595Z"
   },
   {
    "duration": 353,
    "start_time": "2022-08-07T09:12:20.604Z"
   },
   {
    "duration": 9,
    "start_time": "2022-08-07T09:12:20.959Z"
   },
   {
    "duration": 42,
    "start_time": "2022-08-07T09:12:20.970Z"
   },
   {
    "duration": 23,
    "start_time": "2022-08-07T09:12:21.013Z"
   },
   {
    "duration": 6,
    "start_time": "2022-08-07T09:12:21.038Z"
   },
   {
    "duration": 7,
    "start_time": "2022-08-07T09:12:21.068Z"
   },
   {
    "duration": 197,
    "start_time": "2022-08-07T09:12:21.077Z"
   },
   {
    "duration": 205,
    "start_time": "2022-08-07T09:12:21.276Z"
   },
   {
    "duration": 278,
    "start_time": "2022-08-07T09:12:21.483Z"
   },
   {
    "duration": 159,
    "start_time": "2022-08-07T09:12:21.763Z"
   },
   {
    "duration": 205,
    "start_time": "2022-08-07T09:12:21.924Z"
   },
   {
    "duration": 212,
    "start_time": "2022-08-07T09:12:22.131Z"
   },
   {
    "duration": 198,
    "start_time": "2022-08-07T09:12:22.345Z"
   },
   {
    "duration": 297,
    "start_time": "2022-08-07T09:12:22.545Z"
   },
   {
    "duration": 180,
    "start_time": "2022-08-07T09:12:22.843Z"
   },
   {
    "duration": 193,
    "start_time": "2022-08-07T09:12:23.025Z"
   },
   {
    "duration": 169,
    "start_time": "2022-08-07T09:12:23.222Z"
   },
   {
    "duration": 173,
    "start_time": "2022-08-07T09:12:23.392Z"
   },
   {
    "duration": 322,
    "start_time": "2022-08-07T09:12:23.567Z"
   },
   {
    "duration": 142,
    "start_time": "2022-08-07T09:12:23.891Z"
   },
   {
    "duration": 10,
    "start_time": "2022-08-07T09:12:24.035Z"
   },
   {
    "duration": 177,
    "start_time": "2022-08-07T09:12:24.047Z"
   },
   {
    "duration": 14,
    "start_time": "2022-08-07T09:12:24.227Z"
   },
   {
    "duration": 87,
    "start_time": "2022-08-07T09:13:09.447Z"
   },
   {
    "duration": 15,
    "start_time": "2022-08-07T09:13:17.133Z"
   },
   {
    "duration": 15,
    "start_time": "2022-08-07T09:13:22.053Z"
   },
   {
    "duration": 11,
    "start_time": "2022-08-07T09:13:28.959Z"
   },
   {
    "duration": 13,
    "start_time": "2022-08-07T09:13:35.247Z"
   },
   {
    "duration": 14,
    "start_time": "2022-08-07T09:14:22.849Z"
   },
   {
    "duration": 11,
    "start_time": "2022-08-07T09:14:27.895Z"
   },
   {
    "duration": 15,
    "start_time": "2022-08-07T09:14:36.768Z"
   },
   {
    "duration": 1168,
    "start_time": "2022-08-07T09:14:51.993Z"
   },
   {
    "duration": 1203,
    "start_time": "2022-08-07T09:14:59.752Z"
   },
   {
    "duration": 7,
    "start_time": "2022-08-07T09:15:07.056Z"
   },
   {
    "duration": 11,
    "start_time": "2022-08-07T09:15:08.752Z"
   },
   {
    "duration": 13,
    "start_time": "2022-08-07T09:15:28.874Z"
   },
   {
    "duration": 14,
    "start_time": "2022-08-07T09:15:39.025Z"
   },
   {
    "duration": 11,
    "start_time": "2022-08-07T09:15:44.681Z"
   },
   {
    "duration": 140,
    "start_time": "2022-08-07T09:18:13.606Z"
   },
   {
    "duration": 196,
    "start_time": "2022-08-07T09:18:22.733Z"
   },
   {
    "duration": 205,
    "start_time": "2022-08-07T09:19:53.568Z"
   },
   {
    "duration": 205,
    "start_time": "2022-08-07T09:20:18.969Z"
   },
   {
    "duration": 204,
    "start_time": "2022-08-07T09:20:33.544Z"
   },
   {
    "duration": 1709,
    "start_time": "2022-08-07T09:21:44.371Z"
   },
   {
    "duration": 198,
    "start_time": "2022-08-07T09:21:55.884Z"
   },
   {
    "duration": 210,
    "start_time": "2022-08-07T09:22:42.907Z"
   },
   {
    "duration": 187,
    "start_time": "2022-08-07T09:23:33.653Z"
   },
   {
    "duration": 331,
    "start_time": "2022-08-07T09:24:23.758Z"
   },
   {
    "duration": 114,
    "start_time": "2022-08-07T09:38:25.113Z"
   },
   {
    "duration": 8,
    "start_time": "2022-08-07T09:55:16.210Z"
   },
   {
    "duration": 8,
    "start_time": "2022-08-07T09:55:24.550Z"
   },
   {
    "duration": 8,
    "start_time": "2022-08-07T09:56:48.189Z"
   },
   {
    "duration": 13,
    "start_time": "2022-08-07T09:57:24.414Z"
   },
   {
    "duration": 11,
    "start_time": "2022-08-07T09:57:31.862Z"
   },
   {
    "duration": 46,
    "start_time": "2022-08-07T09:58:06.088Z"
   },
   {
    "duration": 8,
    "start_time": "2022-08-07T10:04:06.039Z"
   },
   {
    "duration": 7,
    "start_time": "2022-08-07T10:04:11.064Z"
   },
   {
    "duration": 8,
    "start_time": "2022-08-07T10:04:39.257Z"
   },
   {
    "duration": 14,
    "start_time": "2022-08-07T10:07:37.028Z"
   },
   {
    "duration": 12,
    "start_time": "2022-08-07T10:07:55.253Z"
   },
   {
    "duration": 14,
    "start_time": "2022-08-07T10:11:04.162Z"
   },
   {
    "duration": 13,
    "start_time": "2022-08-07T10:14:02.195Z"
   },
   {
    "duration": 7,
    "start_time": "2022-08-07T10:14:57.111Z"
   },
   {
    "duration": 34,
    "start_time": "2022-08-07T10:21:09.872Z"
   },
   {
    "duration": 33,
    "start_time": "2022-08-07T10:21:15.826Z"
   },
   {
    "duration": 18,
    "start_time": "2022-08-07T10:21:44.145Z"
   },
   {
    "duration": 32,
    "start_time": "2022-08-07T10:21:51.280Z"
   },
   {
    "duration": 141,
    "start_time": "2022-08-07T10:22:33.347Z"
   },
   {
    "duration": 29,
    "start_time": "2022-08-07T10:22:46.345Z"
   },
   {
    "duration": 46,
    "start_time": "2022-08-07T10:22:59.754Z"
   },
   {
    "duration": 1191,
    "start_time": "2022-08-07T10:23:20.875Z"
   },
   {
    "duration": 12,
    "start_time": "2022-08-07T10:23:30.330Z"
   },
   {
    "duration": 149,
    "start_time": "2022-08-07T10:27:11.880Z"
   },
   {
    "duration": 90,
    "start_time": "2022-08-07T10:28:30.932Z"
   },
   {
    "duration": 526,
    "start_time": "2022-08-07T10:29:22.182Z"
   },
   {
    "duration": 16,
    "start_time": "2022-08-07T10:29:22.709Z"
   },
   {
    "duration": 2310,
    "start_time": "2022-08-07T10:29:22.727Z"
   },
   {
    "duration": 10,
    "start_time": "2022-08-07T10:29:25.040Z"
   },
   {
    "duration": 14,
    "start_time": "2022-08-07T10:29:25.052Z"
   },
   {
    "duration": 10,
    "start_time": "2022-08-07T10:29:25.068Z"
   },
   {
    "duration": 9,
    "start_time": "2022-08-07T10:29:25.080Z"
   },
   {
    "duration": 11,
    "start_time": "2022-08-07T10:29:25.091Z"
   },
   {
    "duration": 15,
    "start_time": "2022-08-07T10:29:25.104Z"
   },
   {
    "duration": 10,
    "start_time": "2022-08-07T10:29:25.121Z"
   },
   {
    "duration": 10,
    "start_time": "2022-08-07T10:29:25.133Z"
   },
   {
    "duration": 22,
    "start_time": "2022-08-07T10:29:25.145Z"
   },
   {
    "duration": 32,
    "start_time": "2022-08-07T10:29:25.168Z"
   },
   {
    "duration": 16,
    "start_time": "2022-08-07T10:29:25.203Z"
   },
   {
    "duration": 39,
    "start_time": "2022-08-07T10:29:25.221Z"
   },
   {
    "duration": 6,
    "start_time": "2022-08-07T10:29:25.262Z"
   },
   {
    "duration": 170,
    "start_time": "2022-08-07T10:29:25.269Z"
   },
   {
    "duration": 6,
    "start_time": "2022-08-07T10:29:25.441Z"
   },
   {
    "duration": 19,
    "start_time": "2022-08-07T10:29:25.449Z"
   },
   {
    "duration": 10,
    "start_time": "2022-08-07T10:29:25.470Z"
   },
   {
    "duration": 19,
    "start_time": "2022-08-07T10:29:25.481Z"
   },
   {
    "duration": 26,
    "start_time": "2022-08-07T10:29:25.502Z"
   },
   {
    "duration": 14,
    "start_time": "2022-08-07T10:29:25.530Z"
   },
   {
    "duration": 23,
    "start_time": "2022-08-07T10:29:25.547Z"
   },
   {
    "duration": 360,
    "start_time": "2022-08-07T10:29:25.572Z"
   },
   {
    "duration": 5,
    "start_time": "2022-08-07T10:29:25.934Z"
   },
   {
    "duration": 58,
    "start_time": "2022-08-07T10:29:25.940Z"
   },
   {
    "duration": 24,
    "start_time": "2022-08-07T10:29:25.999Z"
   },
   {
    "duration": 6,
    "start_time": "2022-08-07T10:29:26.025Z"
   },
   {
    "duration": 28,
    "start_time": "2022-08-07T10:29:26.033Z"
   },
   {
    "duration": 197,
    "start_time": "2022-08-07T10:29:26.068Z"
   },
   {
    "duration": 201,
    "start_time": "2022-08-07T10:29:26.268Z"
   },
   {
    "duration": 250,
    "start_time": "2022-08-07T10:29:26.474Z"
   },
   {
    "duration": 222,
    "start_time": "2022-08-07T10:29:26.726Z"
   },
   {
    "duration": 202,
    "start_time": "2022-08-07T10:29:26.950Z"
   },
   {
    "duration": 213,
    "start_time": "2022-08-07T10:29:27.154Z"
   },
   {
    "duration": 191,
    "start_time": "2022-08-07T10:29:27.369Z"
   },
   {
    "duration": 303,
    "start_time": "2022-08-07T10:29:27.567Z"
   },
   {
    "duration": 174,
    "start_time": "2022-08-07T10:29:27.871Z"
   },
   {
    "duration": 183,
    "start_time": "2022-08-07T10:29:28.046Z"
   },
   {
    "duration": 154,
    "start_time": "2022-08-07T10:29:28.233Z"
   },
   {
    "duration": 172,
    "start_time": "2022-08-07T10:29:28.389Z"
   },
   {
    "duration": 213,
    "start_time": "2022-08-07T10:29:28.563Z"
   },
   {
    "duration": 227,
    "start_time": "2022-08-07T10:29:28.777Z"
   },
   {
    "duration": 10,
    "start_time": "2022-08-07T10:29:29.006Z"
   },
   {
    "duration": 177,
    "start_time": "2022-08-07T10:29:29.018Z"
   },
   {
    "duration": 201,
    "start_time": "2022-08-07T10:29:29.197Z"
   },
   {
    "duration": 227,
    "start_time": "2022-08-07T10:29:29.400Z"
   },
   {
    "duration": 192,
    "start_time": "2022-08-07T10:29:29.629Z"
   },
   {
    "duration": 226,
    "start_time": "2022-08-07T10:29:29.822Z"
   },
   {
    "duration": 199,
    "start_time": "2022-08-07T10:29:30.050Z"
   },
   {
    "duration": 347,
    "start_time": "2022-08-07T10:29:30.251Z"
   },
   {
    "duration": 9,
    "start_time": "2022-08-07T10:29:30.600Z"
   },
   {
    "duration": 27,
    "start_time": "2022-08-07T10:29:30.610Z"
   },
   {
    "duration": 551,
    "start_time": "2022-08-07T10:33:15.771Z"
   },
   {
    "duration": 17,
    "start_time": "2022-08-07T10:33:16.324Z"
   },
   {
    "duration": 2483,
    "start_time": "2022-08-07T10:33:16.342Z"
   },
   {
    "duration": 9,
    "start_time": "2022-08-07T10:33:18.827Z"
   },
   {
    "duration": 6,
    "start_time": "2022-08-07T10:33:18.838Z"
   },
   {
    "duration": 6,
    "start_time": "2022-08-07T10:33:18.845Z"
   },
   {
    "duration": 7,
    "start_time": "2022-08-07T10:33:18.852Z"
   },
   {
    "duration": 8,
    "start_time": "2022-08-07T10:33:18.860Z"
   },
   {
    "duration": 11,
    "start_time": "2022-08-07T10:33:18.870Z"
   },
   {
    "duration": 4,
    "start_time": "2022-08-07T10:33:18.883Z"
   },
   {
    "duration": 6,
    "start_time": "2022-08-07T10:33:18.889Z"
   },
   {
    "duration": 10,
    "start_time": "2022-08-07T10:33:18.897Z"
   },
   {
    "duration": 15,
    "start_time": "2022-08-07T10:33:18.909Z"
   },
   {
    "duration": 8,
    "start_time": "2022-08-07T10:33:18.927Z"
   },
   {
    "duration": 50,
    "start_time": "2022-08-07T10:33:18.937Z"
   },
   {
    "duration": 6,
    "start_time": "2022-08-07T10:33:18.989Z"
   },
   {
    "duration": 155,
    "start_time": "2022-08-07T10:33:18.998Z"
   },
   {
    "duration": 12,
    "start_time": "2022-08-07T10:33:19.155Z"
   },
   {
    "duration": 6,
    "start_time": "2022-08-07T10:33:19.169Z"
   },
   {
    "duration": 3,
    "start_time": "2022-08-07T10:33:19.176Z"
   },
   {
    "duration": 7,
    "start_time": "2022-08-07T10:33:19.181Z"
   },
   {
    "duration": 6,
    "start_time": "2022-08-07T10:33:19.190Z"
   },
   {
    "duration": 7,
    "start_time": "2022-08-07T10:33:19.197Z"
   },
   {
    "duration": 5,
    "start_time": "2022-08-07T10:33:19.206Z"
   },
   {
    "duration": 376,
    "start_time": "2022-08-07T10:33:19.213Z"
   },
   {
    "duration": 5,
    "start_time": "2022-08-07T10:33:19.591Z"
   },
   {
    "duration": 40,
    "start_time": "2022-08-07T10:33:19.598Z"
   },
   {
    "duration": 43,
    "start_time": "2022-08-07T10:33:19.640Z"
   },
   {
    "duration": 6,
    "start_time": "2022-08-07T10:33:19.684Z"
   },
   {
    "duration": 9,
    "start_time": "2022-08-07T10:33:19.692Z"
   },
   {
    "duration": 206,
    "start_time": "2022-08-07T10:33:19.702Z"
   },
   {
    "duration": 208,
    "start_time": "2022-08-07T10:33:19.910Z"
   },
   {
    "duration": 198,
    "start_time": "2022-08-07T10:33:20.120Z"
   },
   {
    "duration": 250,
    "start_time": "2022-08-07T10:33:20.321Z"
   },
   {
    "duration": 210,
    "start_time": "2022-08-07T10:33:20.573Z"
   },
   {
    "duration": 197,
    "start_time": "2022-08-07T10:33:20.785Z"
   },
   {
    "duration": 200,
    "start_time": "2022-08-07T10:33:20.984Z"
   },
   {
    "duration": 305,
    "start_time": "2022-08-07T10:33:21.187Z"
   },
   {
    "duration": 206,
    "start_time": "2022-08-07T10:33:21.494Z"
   },
   {
    "duration": 203,
    "start_time": "2022-08-07T10:33:21.702Z"
   },
   {
    "duration": 165,
    "start_time": "2022-08-07T10:33:21.909Z"
   },
   {
    "duration": 173,
    "start_time": "2022-08-07T10:33:22.076Z"
   },
   {
    "duration": 213,
    "start_time": "2022-08-07T10:33:22.251Z"
   },
   {
    "duration": 236,
    "start_time": "2022-08-07T10:33:22.468Z"
   },
   {
    "duration": 10,
    "start_time": "2022-08-07T10:33:22.707Z"
   },
   {
    "duration": 174,
    "start_time": "2022-08-07T10:33:22.718Z"
   },
   {
    "duration": 216,
    "start_time": "2022-08-07T10:33:22.894Z"
   },
   {
    "duration": 229,
    "start_time": "2022-08-07T10:33:23.113Z"
   },
   {
    "duration": 233,
    "start_time": "2022-08-07T10:33:23.344Z"
   },
   {
    "duration": 263,
    "start_time": "2022-08-07T10:33:23.579Z"
   },
   {
    "duration": 203,
    "start_time": "2022-08-07T10:33:23.844Z"
   },
   {
    "duration": 344,
    "start_time": "2022-08-07T10:33:24.049Z"
   },
   {
    "duration": 9,
    "start_time": "2022-08-07T10:33:24.395Z"
   },
   {
    "duration": 16,
    "start_time": "2022-08-07T10:33:24.406Z"
   },
   {
    "duration": 2,
    "start_time": "2022-08-07T10:33:24.424Z"
   },
   {
    "duration": 105,
    "start_time": "2022-08-07T10:39:11.496Z"
   },
   {
    "duration": 56,
    "start_time": "2022-08-07T10:39:15.953Z"
   },
   {
    "duration": 15,
    "start_time": "2022-08-07T10:40:30.825Z"
   },
   {
    "duration": 41,
    "start_time": "2022-08-07T10:40:43.019Z"
   },
   {
    "duration": 19,
    "start_time": "2022-08-07T10:40:54.091Z"
   },
   {
    "duration": 40,
    "start_time": "2022-08-07T10:40:55.100Z"
   },
   {
    "duration": 553,
    "start_time": "2022-08-07T10:41:31.980Z"
   },
   {
    "duration": 15,
    "start_time": "2022-08-07T10:41:32.535Z"
   },
   {
    "duration": 2409,
    "start_time": "2022-08-07T10:41:32.552Z"
   },
   {
    "duration": 12,
    "start_time": "2022-08-07T10:41:34.963Z"
   },
   {
    "duration": 18,
    "start_time": "2022-08-07T10:41:34.976Z"
   },
   {
    "duration": 7,
    "start_time": "2022-08-07T10:41:34.996Z"
   },
   {
    "duration": 9,
    "start_time": "2022-08-07T10:41:35.004Z"
   },
   {
    "duration": 9,
    "start_time": "2022-08-07T10:41:35.015Z"
   },
   {
    "duration": 10,
    "start_time": "2022-08-07T10:41:35.025Z"
   },
   {
    "duration": 6,
    "start_time": "2022-08-07T10:41:35.038Z"
   },
   {
    "duration": 6,
    "start_time": "2022-08-07T10:41:35.046Z"
   },
   {
    "duration": 17,
    "start_time": "2022-08-07T10:41:35.068Z"
   },
   {
    "duration": 23,
    "start_time": "2022-08-07T10:41:35.087Z"
   },
   {
    "duration": 14,
    "start_time": "2022-08-07T10:41:35.113Z"
   },
   {
    "duration": 52,
    "start_time": "2022-08-07T10:41:35.129Z"
   },
   {
    "duration": 9,
    "start_time": "2022-08-07T10:41:35.184Z"
   },
   {
    "duration": 172,
    "start_time": "2022-08-07T10:41:35.195Z"
   },
   {
    "duration": 11,
    "start_time": "2022-08-07T10:41:35.373Z"
   },
   {
    "duration": 13,
    "start_time": "2022-08-07T10:41:35.386Z"
   },
   {
    "duration": 3,
    "start_time": "2022-08-07T10:41:35.401Z"
   },
   {
    "duration": 7,
    "start_time": "2022-08-07T10:41:35.406Z"
   },
   {
    "duration": 10,
    "start_time": "2022-08-07T10:41:35.415Z"
   },
   {
    "duration": 5,
    "start_time": "2022-08-07T10:41:35.427Z"
   },
   {
    "duration": 5,
    "start_time": "2022-08-07T10:41:35.434Z"
   },
   {
    "duration": 413,
    "start_time": "2022-08-07T10:41:35.441Z"
   },
   {
    "duration": 23,
    "start_time": "2022-08-07T10:41:35.856Z"
   },
   {
    "duration": 39,
    "start_time": "2022-08-07T10:41:35.881Z"
   },
   {
    "duration": 24,
    "start_time": "2022-08-07T10:41:35.925Z"
   },
   {
    "duration": 24,
    "start_time": "2022-08-07T10:41:35.951Z"
   },
   {
    "duration": 12,
    "start_time": "2022-08-07T10:41:35.983Z"
   },
   {
    "duration": 211,
    "start_time": "2022-08-07T10:41:35.998Z"
   },
   {
    "duration": 211,
    "start_time": "2022-08-07T10:41:36.211Z"
   },
   {
    "duration": 273,
    "start_time": "2022-08-07T10:41:36.424Z"
   },
   {
    "duration": 285,
    "start_time": "2022-08-07T10:41:36.700Z"
   },
   {
    "duration": 215,
    "start_time": "2022-08-07T10:41:36.987Z"
   },
   {
    "duration": 216,
    "start_time": "2022-08-07T10:41:37.204Z"
   },
   {
    "duration": 225,
    "start_time": "2022-08-07T10:41:37.421Z"
   },
   {
    "duration": 316,
    "start_time": "2022-08-07T10:41:37.648Z"
   },
   {
    "duration": 189,
    "start_time": "2022-08-07T10:41:37.966Z"
   },
   {
    "duration": 199,
    "start_time": "2022-08-07T10:41:38.157Z"
   },
   {
    "duration": 173,
    "start_time": "2022-08-07T10:41:38.358Z"
   },
   {
    "duration": 188,
    "start_time": "2022-08-07T10:41:38.533Z"
   },
   {
    "duration": 255,
    "start_time": "2022-08-07T10:41:38.723Z"
   },
   {
    "duration": 274,
    "start_time": "2022-08-07T10:41:38.981Z"
   },
   {
    "duration": 25,
    "start_time": "2022-08-07T10:41:39.257Z"
   },
   {
    "duration": 204,
    "start_time": "2022-08-07T10:41:39.286Z"
   },
   {
    "duration": 242,
    "start_time": "2022-08-07T10:41:39.492Z"
   },
   {
    "duration": 258,
    "start_time": "2022-08-07T10:41:39.735Z"
   },
   {
    "duration": 203,
    "start_time": "2022-08-07T10:41:39.995Z"
   },
   {
    "duration": 232,
    "start_time": "2022-08-07T10:41:40.201Z"
   },
   {
    "duration": 227,
    "start_time": "2022-08-07T10:41:40.435Z"
   },
   {
    "duration": 411,
    "start_time": "2022-08-07T10:41:40.664Z"
   },
   {
    "duration": 9,
    "start_time": "2022-08-07T10:41:41.083Z"
   },
   {
    "duration": 34,
    "start_time": "2022-08-07T10:41:41.094Z"
   },
   {
    "duration": 55,
    "start_time": "2022-08-07T10:41:41.130Z"
   },
   {
    "duration": 3,
    "start_time": "2022-08-07T10:41:41.187Z"
   },
   {
    "duration": 21,
    "start_time": "2022-08-07T10:41:53.065Z"
   },
   {
    "duration": 41,
    "start_time": "2022-08-07T10:41:58.418Z"
   },
   {
    "duration": 15,
    "start_time": "2022-08-07T10:42:11.354Z"
   },
   {
    "duration": 41,
    "start_time": "2022-08-07T10:42:12.084Z"
   },
   {
    "duration": 225,
    "start_time": "2022-08-07T10:43:37.045Z"
   },
   {
    "duration": 296,
    "start_time": "2022-08-07T10:43:57.678Z"
   },
   {
    "duration": 318,
    "start_time": "2022-08-07T10:44:37.791Z"
   },
   {
    "duration": 6,
    "start_time": "2022-08-07T10:51:36.954Z"
   },
   {
    "duration": 7,
    "start_time": "2022-08-07T10:51:46.066Z"
   },
   {
    "duration": 7,
    "start_time": "2022-08-07T10:51:56.650Z"
   },
   {
    "duration": 6,
    "start_time": "2022-08-07T10:51:57.514Z"
   },
   {
    "duration": 9,
    "start_time": "2022-08-07T10:51:58.250Z"
   },
   {
    "duration": 6,
    "start_time": "2022-08-07T10:52:09.699Z"
   },
   {
    "duration": 6,
    "start_time": "2022-08-07T10:52:10.922Z"
   },
   {
    "duration": 6,
    "start_time": "2022-08-07T10:52:11.651Z"
   },
   {
    "duration": 6,
    "start_time": "2022-08-07T10:52:29.779Z"
   },
   {
    "duration": 7,
    "start_time": "2022-08-07T10:52:30.435Z"
   },
   {
    "duration": 6,
    "start_time": "2022-08-07T10:52:31.947Z"
   },
   {
    "duration": 5,
    "start_time": "2022-08-07T10:52:32.700Z"
   },
   {
    "duration": 6,
    "start_time": "2022-08-07T10:56:12.842Z"
   },
   {
    "duration": 7,
    "start_time": "2022-08-07T10:56:13.688Z"
   },
   {
    "duration": 6,
    "start_time": "2022-08-07T10:56:15.953Z"
   },
   {
    "duration": 8,
    "start_time": "2022-08-07T10:56:16.865Z"
   },
   {
    "duration": 7,
    "start_time": "2022-08-07T10:56:18.664Z"
   },
   {
    "duration": 6,
    "start_time": "2022-08-07T10:56:19.449Z"
   },
   {
    "duration": 7,
    "start_time": "2022-08-07T10:56:25.424Z"
   },
   {
    "duration": 6,
    "start_time": "2022-08-07T10:56:26.289Z"
   },
   {
    "duration": 6,
    "start_time": "2022-08-07T10:56:26.985Z"
   },
   {
    "duration": 7,
    "start_time": "2022-08-07T10:56:29.681Z"
   },
   {
    "duration": 10,
    "start_time": "2022-08-07T10:56:30.946Z"
   },
   {
    "duration": 10,
    "start_time": "2022-08-07T10:56:31.826Z"
   },
   {
    "duration": 5,
    "start_time": "2022-08-07T11:02:47.211Z"
   },
   {
    "duration": 525,
    "start_time": "2022-08-07T11:03:37.222Z"
   },
   {
    "duration": 19,
    "start_time": "2022-08-07T11:03:37.749Z"
   },
   {
    "duration": 2376,
    "start_time": "2022-08-07T11:03:37.769Z"
   },
   {
    "duration": 11,
    "start_time": "2022-08-07T11:03:40.148Z"
   },
   {
    "duration": 5,
    "start_time": "2022-08-07T11:03:40.162Z"
   },
   {
    "duration": 13,
    "start_time": "2022-08-07T11:03:40.169Z"
   },
   {
    "duration": 7,
    "start_time": "2022-08-07T11:03:40.184Z"
   },
   {
    "duration": 13,
    "start_time": "2022-08-07T11:03:40.194Z"
   },
   {
    "duration": 10,
    "start_time": "2022-08-07T11:03:40.209Z"
   },
   {
    "duration": 4,
    "start_time": "2022-08-07T11:03:40.221Z"
   },
   {
    "duration": 10,
    "start_time": "2022-08-07T11:03:40.227Z"
   },
   {
    "duration": 37,
    "start_time": "2022-08-07T11:03:40.238Z"
   },
   {
    "duration": 23,
    "start_time": "2022-08-07T11:03:40.277Z"
   },
   {
    "duration": 10,
    "start_time": "2022-08-07T11:03:40.304Z"
   },
   {
    "duration": 17,
    "start_time": "2022-08-07T11:03:40.316Z"
   },
   {
    "duration": 55,
    "start_time": "2022-08-07T11:03:40.334Z"
   },
   {
    "duration": 7,
    "start_time": "2022-08-07T11:03:40.391Z"
   },
   {
    "duration": 170,
    "start_time": "2022-08-07T11:03:40.400Z"
   },
   {
    "duration": 7,
    "start_time": "2022-08-07T11:03:40.572Z"
   },
   {
    "duration": 8,
    "start_time": "2022-08-07T11:03:40.581Z"
   },
   {
    "duration": 7,
    "start_time": "2022-08-07T11:03:40.590Z"
   },
   {
    "duration": 15,
    "start_time": "2022-08-07T11:03:40.599Z"
   },
   {
    "duration": 8,
    "start_time": "2022-08-07T11:03:40.615Z"
   },
   {
    "duration": 43,
    "start_time": "2022-08-07T11:03:40.625Z"
   },
   {
    "duration": 394,
    "start_time": "2022-08-07T11:03:40.669Z"
   },
   {
    "duration": 6,
    "start_time": "2022-08-07T11:03:41.065Z"
   },
   {
    "duration": 46,
    "start_time": "2022-08-07T11:03:41.073Z"
   },
   {
    "duration": 47,
    "start_time": "2022-08-07T11:03:41.122Z"
   },
   {
    "duration": 7,
    "start_time": "2022-08-07T11:03:41.171Z"
   },
   {
    "duration": 30,
    "start_time": "2022-08-07T11:03:41.180Z"
   },
   {
    "duration": 244,
    "start_time": "2022-08-07T11:03:41.213Z"
   },
   {
    "duration": 304,
    "start_time": "2022-08-07T11:03:41.459Z"
   },
   {
    "duration": 231,
    "start_time": "2022-08-07T11:03:41.768Z"
   },
   {
    "duration": 248,
    "start_time": "2022-08-07T11:03:42.001Z"
   },
   {
    "duration": 209,
    "start_time": "2022-08-07T11:03:42.251Z"
   },
   {
    "duration": 205,
    "start_time": "2022-08-07T11:03:42.462Z"
   },
   {
    "duration": 211,
    "start_time": "2022-08-07T11:03:42.669Z"
   },
   {
    "duration": 302,
    "start_time": "2022-08-07T11:03:42.882Z"
   },
   {
    "duration": 214,
    "start_time": "2022-08-07T11:03:43.186Z"
   },
   {
    "duration": 195,
    "start_time": "2022-08-07T11:03:43.402Z"
   },
   {
    "duration": 157,
    "start_time": "2022-08-07T11:03:43.601Z"
   },
   {
    "duration": 183,
    "start_time": "2022-08-07T11:03:43.759Z"
   },
   {
    "duration": 212,
    "start_time": "2022-08-07T11:03:43.944Z"
   },
   {
    "duration": 267,
    "start_time": "2022-08-07T11:03:44.157Z"
   },
   {
    "duration": 13,
    "start_time": "2022-08-07T11:03:44.426Z"
   },
   {
    "duration": 195,
    "start_time": "2022-08-07T11:03:44.441Z"
   },
   {
    "duration": 232,
    "start_time": "2022-08-07T11:03:44.638Z"
   },
   {
    "duration": 264,
    "start_time": "2022-08-07T11:03:44.872Z"
   },
   {
    "duration": 202,
    "start_time": "2022-08-07T11:03:45.138Z"
   },
   {
    "duration": 227,
    "start_time": "2022-08-07T11:03:45.342Z"
   },
   {
    "duration": 227,
    "start_time": "2022-08-07T11:03:45.571Z"
   },
   {
    "duration": 356,
    "start_time": "2022-08-07T11:03:45.800Z"
   },
   {
    "duration": 11,
    "start_time": "2022-08-07T11:03:46.158Z"
   },
   {
    "duration": 18,
    "start_time": "2022-08-07T11:03:46.171Z"
   },
   {
    "duration": 306,
    "start_time": "2022-08-07T11:38:09.435Z"
   },
   {
    "duration": 317,
    "start_time": "2022-08-07T11:38:15.239Z"
   },
   {
    "duration": 432,
    "start_time": "2022-08-07T11:38:22.401Z"
   },
   {
    "duration": 336,
    "start_time": "2022-08-07T11:40:06.179Z"
   },
   {
    "duration": 170,
    "start_time": "2022-08-07T11:40:13.229Z"
   },
   {
    "duration": 175,
    "start_time": "2022-08-07T11:40:53.043Z"
   },
   {
    "duration": 192,
    "start_time": "2022-08-07T11:41:50.757Z"
   },
   {
    "duration": 406,
    "start_time": "2022-08-07T11:42:06.325Z"
   },
   {
    "duration": 201,
    "start_time": "2022-08-07T11:42:37.829Z"
   },
   {
    "duration": 294,
    "start_time": "2022-08-07T11:42:46.551Z"
   },
   {
    "duration": 168,
    "start_time": "2022-08-07T11:42:50.342Z"
   },
   {
    "duration": 176,
    "start_time": "2022-08-07T11:43:02.024Z"
   },
   {
    "duration": 159,
    "start_time": "2022-08-07T11:43:04.959Z"
   },
   {
    "duration": 206,
    "start_time": "2022-08-07T11:43:55.025Z"
   },
   {
    "duration": 20,
    "start_time": "2022-08-07T11:57:04.180Z"
   },
   {
    "duration": 106,
    "start_time": "2022-08-07T11:57:06.004Z"
   },
   {
    "duration": 32,
    "start_time": "2022-08-07T11:57:19.174Z"
   },
   {
    "duration": 19,
    "start_time": "2022-08-07T11:57:36.012Z"
   },
   {
    "duration": 27,
    "start_time": "2022-08-07T11:57:40.157Z"
   },
   {
    "duration": 23,
    "start_time": "2022-08-07T11:58:34.232Z"
   },
   {
    "duration": 25,
    "start_time": "2022-08-07T11:59:01.695Z"
   },
   {
    "duration": 26,
    "start_time": "2022-08-07T11:59:14.383Z"
   },
   {
    "duration": 32,
    "start_time": "2022-08-07T11:59:26.705Z"
   },
   {
    "duration": 25,
    "start_time": "2022-08-07T11:59:33.529Z"
   },
   {
    "duration": 25,
    "start_time": "2022-08-07T12:00:45.586Z"
   },
   {
    "duration": 9,
    "start_time": "2022-08-07T12:01:04.698Z"
   },
   {
    "duration": 23,
    "start_time": "2022-08-07T12:01:27.907Z"
   },
   {
    "duration": 27,
    "start_time": "2022-08-07T12:01:33.443Z"
   },
   {
    "duration": 24,
    "start_time": "2022-08-07T12:02:23.916Z"
   },
   {
    "duration": 10,
    "start_time": "2022-08-07T12:02:46.741Z"
   },
   {
    "duration": 9,
    "start_time": "2022-08-07T12:02:58.479Z"
   },
   {
    "duration": 8,
    "start_time": "2022-08-07T12:03:17.742Z"
   },
   {
    "duration": 26,
    "start_time": "2022-08-07T12:04:32.400Z"
   },
   {
    "duration": 54,
    "start_time": "2022-08-07T12:12:02.668Z"
   },
   {
    "duration": 60,
    "start_time": "2022-08-07T12:12:33.931Z"
   },
   {
    "duration": 27,
    "start_time": "2022-08-07T12:18:54.020Z"
   },
   {
    "duration": 56,
    "start_time": "2022-08-07T12:19:12.050Z"
   },
   {
    "duration": 199,
    "start_time": "2022-08-07T12:20:30.277Z"
   },
   {
    "duration": 38,
    "start_time": "2022-08-07T12:21:23.110Z"
   },
   {
    "duration": 293,
    "start_time": "2022-08-07T12:21:27.182Z"
   },
   {
    "duration": 27976,
    "start_time": "2022-08-07T12:33:11.808Z"
   },
   {
    "duration": 28990,
    "start_time": "2022-08-07T12:34:39.274Z"
   },
   {
    "duration": 259,
    "start_time": "2022-08-07T13:02:22.811Z"
   },
   {
    "duration": 489,
    "start_time": "2022-08-07T13:30:03.917Z"
   },
   {
    "duration": 15,
    "start_time": "2022-08-07T13:30:04.408Z"
   },
   {
    "duration": 2349,
    "start_time": "2022-08-07T13:30:04.424Z"
   },
   {
    "duration": 10,
    "start_time": "2022-08-07T13:30:06.775Z"
   },
   {
    "duration": 5,
    "start_time": "2022-08-07T13:30:06.787Z"
   },
   {
    "duration": 7,
    "start_time": "2022-08-07T13:30:06.793Z"
   },
   {
    "duration": 6,
    "start_time": "2022-08-07T13:30:06.801Z"
   },
   {
    "duration": 13,
    "start_time": "2022-08-07T13:30:06.809Z"
   },
   {
    "duration": 8,
    "start_time": "2022-08-07T13:30:06.824Z"
   },
   {
    "duration": 8,
    "start_time": "2022-08-07T13:30:06.834Z"
   },
   {
    "duration": 12,
    "start_time": "2022-08-07T13:30:06.843Z"
   },
   {
    "duration": 14,
    "start_time": "2022-08-07T13:30:06.856Z"
   },
   {
    "duration": 15,
    "start_time": "2022-08-07T13:30:06.872Z"
   },
   {
    "duration": 7,
    "start_time": "2022-08-07T13:30:06.889Z"
   },
   {
    "duration": 8,
    "start_time": "2022-08-07T13:30:06.898Z"
   },
   {
    "duration": 25,
    "start_time": "2022-08-07T13:30:06.908Z"
   },
   {
    "duration": 6,
    "start_time": "2022-08-07T13:30:06.935Z"
   },
   {
    "duration": 143,
    "start_time": "2022-08-07T13:30:06.969Z"
   },
   {
    "duration": 6,
    "start_time": "2022-08-07T13:30:07.114Z"
   },
   {
    "duration": 13,
    "start_time": "2022-08-07T13:30:07.121Z"
   },
   {
    "duration": 8,
    "start_time": "2022-08-07T13:30:07.135Z"
   },
   {
    "duration": 8,
    "start_time": "2022-08-07T13:30:07.144Z"
   },
   {
    "duration": 19,
    "start_time": "2022-08-07T13:30:07.153Z"
   },
   {
    "duration": 16,
    "start_time": "2022-08-07T13:30:07.173Z"
   },
   {
    "duration": 339,
    "start_time": "2022-08-07T13:30:07.190Z"
   },
   {
    "duration": 4,
    "start_time": "2022-08-07T13:30:07.531Z"
   },
   {
    "duration": 43,
    "start_time": "2022-08-07T13:30:07.536Z"
   },
   {
    "duration": 21,
    "start_time": "2022-08-07T13:30:07.581Z"
   },
   {
    "duration": 5,
    "start_time": "2022-08-07T13:30:07.604Z"
   },
   {
    "duration": 10,
    "start_time": "2022-08-07T13:30:07.610Z"
   },
   {
    "duration": 313,
    "start_time": "2022-08-07T13:30:07.621Z"
   },
   {
    "duration": 405,
    "start_time": "2022-08-07T13:30:07.936Z"
   },
   {
    "duration": 318,
    "start_time": "2022-08-07T13:30:08.343Z"
   },
   {
    "duration": 199,
    "start_time": "2022-08-07T13:30:08.663Z"
   },
   {
    "duration": 344,
    "start_time": "2022-08-07T13:30:08.864Z"
   },
   {
    "duration": 175,
    "start_time": "2022-08-07T13:30:09.210Z"
   },
   {
    "duration": 289,
    "start_time": "2022-08-07T13:30:09.387Z"
   },
   {
    "duration": 297,
    "start_time": "2022-08-07T13:30:09.678Z"
   },
   {
    "duration": 192,
    "start_time": "2022-08-07T13:30:09.976Z"
   },
   {
    "duration": 290,
    "start_time": "2022-08-07T13:30:10.169Z"
   },
   {
    "duration": 153,
    "start_time": "2022-08-07T13:30:10.463Z"
   },
   {
    "duration": 163,
    "start_time": "2022-08-07T13:30:10.618Z"
   },
   {
    "duration": 208,
    "start_time": "2022-08-07T13:30:10.783Z"
   },
   {
    "duration": 149,
    "start_time": "2022-08-07T13:30:10.993Z"
   },
   {
    "duration": 9,
    "start_time": "2022-08-07T13:30:11.144Z"
   },
   {
    "duration": 260,
    "start_time": "2022-08-07T13:30:11.155Z"
   },
   {
    "duration": 225,
    "start_time": "2022-08-07T13:30:11.417Z"
   },
   {
    "duration": 226,
    "start_time": "2022-08-07T13:30:11.644Z"
   },
   {
    "duration": 192,
    "start_time": "2022-08-07T13:30:11.872Z"
   },
   {
    "duration": 214,
    "start_time": "2022-08-07T13:30:12.068Z"
   },
   {
    "duration": 190,
    "start_time": "2022-08-07T13:30:12.283Z"
   },
   {
    "duration": 342,
    "start_time": "2022-08-07T13:30:12.475Z"
   },
   {
    "duration": 26,
    "start_time": "2022-08-07T13:30:12.819Z"
   },
   {
    "duration": 58,
    "start_time": "2022-08-07T13:30:12.847Z"
   },
   {
    "duration": 167,
    "start_time": "2022-08-07T13:30:12.907Z"
   },
   {
    "duration": 118,
    "start_time": "2022-08-07T13:32:15.723Z"
   },
   {
    "duration": 15,
    "start_time": "2022-08-07T13:32:20.546Z"
   },
   {
    "duration": 6,
    "start_time": "2022-08-07T13:33:40.051Z"
   },
   {
    "duration": 521,
    "start_time": "2022-08-07T13:38:59.503Z"
   },
   {
    "duration": 16,
    "start_time": "2022-08-07T13:39:00.026Z"
   },
   {
    "duration": 2481,
    "start_time": "2022-08-07T13:39:00.044Z"
   },
   {
    "duration": 11,
    "start_time": "2022-08-07T13:39:02.527Z"
   },
   {
    "duration": 24,
    "start_time": "2022-08-07T13:39:02.541Z"
   },
   {
    "duration": 8,
    "start_time": "2022-08-07T13:39:02.567Z"
   },
   {
    "duration": 7,
    "start_time": "2022-08-07T13:39:02.578Z"
   },
   {
    "duration": 11,
    "start_time": "2022-08-07T13:39:02.587Z"
   },
   {
    "duration": 8,
    "start_time": "2022-08-07T13:39:02.600Z"
   },
   {
    "duration": 23,
    "start_time": "2022-08-07T13:39:02.610Z"
   },
   {
    "duration": 9,
    "start_time": "2022-08-07T13:39:02.635Z"
   },
   {
    "duration": 11,
    "start_time": "2022-08-07T13:39:02.646Z"
   },
   {
    "duration": 17,
    "start_time": "2022-08-07T13:39:02.668Z"
   },
   {
    "duration": 9,
    "start_time": "2022-08-07T13:39:02.689Z"
   },
   {
    "duration": 10,
    "start_time": "2022-08-07T13:39:02.700Z"
   },
   {
    "duration": 56,
    "start_time": "2022-08-07T13:39:02.712Z"
   },
   {
    "duration": 9,
    "start_time": "2022-08-07T13:39:02.770Z"
   },
   {
    "duration": 156,
    "start_time": "2022-08-07T13:39:02.781Z"
   },
   {
    "duration": 7,
    "start_time": "2022-08-07T13:39:02.939Z"
   },
   {
    "duration": 11,
    "start_time": "2022-08-07T13:39:02.947Z"
   },
   {
    "duration": 8,
    "start_time": "2022-08-07T13:39:02.968Z"
   },
   {
    "duration": 8,
    "start_time": "2022-08-07T13:39:02.977Z"
   },
   {
    "duration": 9,
    "start_time": "2022-08-07T13:39:02.987Z"
   },
   {
    "duration": 5,
    "start_time": "2022-08-07T13:39:02.998Z"
   },
   {
    "duration": 360,
    "start_time": "2022-08-07T13:39:03.005Z"
   },
   {
    "duration": 5,
    "start_time": "2022-08-07T13:39:03.368Z"
   },
   {
    "duration": 40,
    "start_time": "2022-08-07T13:39:03.374Z"
   },
   {
    "duration": 23,
    "start_time": "2022-08-07T13:39:03.416Z"
   },
   {
    "duration": 27,
    "start_time": "2022-08-07T13:39:03.441Z"
   },
   {
    "duration": 65,
    "start_time": "2022-08-07T13:39:03.470Z"
   },
   {
    "duration": 330,
    "start_time": "2022-08-07T13:39:03.537Z"
   },
   {
    "duration": 391,
    "start_time": "2022-08-07T13:39:03.869Z"
   },
   {
    "duration": 306,
    "start_time": "2022-08-07T13:39:04.262Z"
   },
   {
    "duration": 192,
    "start_time": "2022-08-07T13:39:04.570Z"
   },
   {
    "duration": 315,
    "start_time": "2022-08-07T13:39:04.764Z"
   },
   {
    "duration": 171,
    "start_time": "2022-08-07T13:39:05.081Z"
   },
   {
    "duration": 196,
    "start_time": "2022-08-07T13:39:05.253Z"
   },
   {
    "duration": 298,
    "start_time": "2022-08-07T13:39:05.451Z"
   },
   {
    "duration": 168,
    "start_time": "2022-08-07T13:39:05.751Z"
   },
   {
    "duration": 274,
    "start_time": "2022-08-07T13:39:05.921Z"
   },
   {
    "duration": 153,
    "start_time": "2022-08-07T13:39:06.198Z"
   },
   {
    "duration": 181,
    "start_time": "2022-08-07T13:39:06.353Z"
   },
   {
    "duration": 268,
    "start_time": "2022-08-07T13:39:06.535Z"
   },
   {
    "duration": 130,
    "start_time": "2022-08-07T13:39:06.805Z"
   },
   {
    "duration": 9,
    "start_time": "2022-08-07T13:39:06.936Z"
   },
   {
    "duration": 252,
    "start_time": "2022-08-07T13:39:06.947Z"
   },
   {
    "duration": 200,
    "start_time": "2022-08-07T13:39:07.200Z"
   },
   {
    "duration": 213,
    "start_time": "2022-08-07T13:39:07.401Z"
   },
   {
    "duration": 191,
    "start_time": "2022-08-07T13:39:07.616Z"
   },
   {
    "duration": 220,
    "start_time": "2022-08-07T13:39:07.809Z"
   },
   {
    "duration": 201,
    "start_time": "2022-08-07T13:39:08.031Z"
   },
   {
    "duration": 336,
    "start_time": "2022-08-07T13:39:08.234Z"
   },
   {
    "duration": 24,
    "start_time": "2022-08-07T13:39:08.572Z"
   },
   {
    "duration": 41,
    "start_time": "2022-08-07T13:39:08.597Z"
   },
   {
    "duration": 159,
    "start_time": "2022-08-07T13:39:08.639Z"
   },
   {
    "duration": 43,
    "start_time": "2022-08-07T16:41:40.871Z"
   },
   {
    "duration": 470,
    "start_time": "2022-08-07T16:41:46.227Z"
   },
   {
    "duration": 13,
    "start_time": "2022-08-07T16:41:46.699Z"
   },
   {
    "duration": 1905,
    "start_time": "2022-08-07T16:41:46.715Z"
   },
   {
    "duration": 9,
    "start_time": "2022-08-07T16:41:48.622Z"
   },
   {
    "duration": 5,
    "start_time": "2022-08-07T16:41:48.633Z"
   },
   {
    "duration": 224,
    "start_time": "2022-08-07T16:41:48.639Z"
   },
   {
    "duration": 4,
    "start_time": "2022-08-07T16:41:48.865Z"
   },
   {
    "duration": 9,
    "start_time": "2022-08-07T16:41:48.870Z"
   },
   {
    "duration": 8,
    "start_time": "2022-08-07T16:41:48.881Z"
   },
   {
    "duration": 17,
    "start_time": "2022-08-07T16:41:48.890Z"
   },
   {
    "duration": 7,
    "start_time": "2022-08-07T16:41:48.909Z"
   },
   {
    "duration": 7,
    "start_time": "2022-08-07T16:41:48.918Z"
   },
   {
    "duration": 5,
    "start_time": "2022-08-07T16:41:48.927Z"
   },
   {
    "duration": 11,
    "start_time": "2022-08-07T16:41:48.934Z"
   },
   {
    "duration": 13,
    "start_time": "2022-08-07T16:41:48.947Z"
   },
   {
    "duration": 7,
    "start_time": "2022-08-07T16:41:48.961Z"
   },
   {
    "duration": 33,
    "start_time": "2022-08-07T16:41:48.969Z"
   },
   {
    "duration": 24,
    "start_time": "2022-08-07T16:41:49.003Z"
   },
   {
    "duration": 6,
    "start_time": "2022-08-07T16:41:49.028Z"
   },
   {
    "duration": 147,
    "start_time": "2022-08-07T16:41:49.036Z"
   },
   {
    "duration": 16,
    "start_time": "2022-08-07T16:41:49.185Z"
   },
   {
    "duration": 6,
    "start_time": "2022-08-07T16:41:49.203Z"
   },
   {
    "duration": 8,
    "start_time": "2022-08-07T16:41:49.210Z"
   },
   {
    "duration": 7,
    "start_time": "2022-08-07T16:41:49.219Z"
   },
   {
    "duration": 18,
    "start_time": "2022-08-07T16:41:49.227Z"
   },
   {
    "duration": 8,
    "start_time": "2022-08-07T16:41:49.247Z"
   },
   {
    "duration": 6,
    "start_time": "2022-08-07T16:41:49.256Z"
   },
   {
    "duration": 315,
    "start_time": "2022-08-07T16:41:49.263Z"
   },
   {
    "duration": 4,
    "start_time": "2022-08-07T16:41:49.580Z"
   },
   {
    "duration": 44,
    "start_time": "2022-08-07T16:41:49.586Z"
   },
   {
    "duration": 19,
    "start_time": "2022-08-07T16:41:49.631Z"
   },
   {
    "duration": 5,
    "start_time": "2022-08-07T16:41:49.651Z"
   },
   {
    "duration": 10,
    "start_time": "2022-08-07T16:41:49.657Z"
   },
   {
    "duration": 260,
    "start_time": "2022-08-07T16:41:49.669Z"
   },
   {
    "duration": 354,
    "start_time": "2022-08-07T16:41:49.930Z"
   },
   {
    "duration": 262,
    "start_time": "2022-08-07T16:41:50.286Z"
   },
   {
    "duration": 165,
    "start_time": "2022-08-07T16:41:50.549Z"
   },
   {
    "duration": 299,
    "start_time": "2022-08-07T16:41:50.716Z"
   },
   {
    "duration": 159,
    "start_time": "2022-08-07T16:41:51.017Z"
   },
   {
    "duration": 184,
    "start_time": "2022-08-07T16:41:51.180Z"
   },
   {
    "duration": 328,
    "start_time": "2022-08-07T16:41:51.366Z"
   },
   {
    "duration": 265,
    "start_time": "2022-08-07T16:41:51.696Z"
   },
   {
    "duration": 154,
    "start_time": "2022-08-07T16:41:51.963Z"
   },
   {
    "duration": 132,
    "start_time": "2022-08-07T16:41:52.119Z"
   },
   {
    "duration": 143,
    "start_time": "2022-08-07T16:41:52.252Z"
   },
   {
    "duration": 184,
    "start_time": "2022-08-07T16:41:52.399Z"
   },
   {
    "duration": 126,
    "start_time": "2022-08-07T16:41:52.585Z"
   },
   {
    "duration": 10,
    "start_time": "2022-08-07T16:41:52.713Z"
   },
   {
    "duration": 236,
    "start_time": "2022-08-07T16:41:52.725Z"
   },
   {
    "duration": 199,
    "start_time": "2022-08-07T16:41:52.963Z"
   },
   {
    "duration": 222,
    "start_time": "2022-08-07T16:41:53.163Z"
   },
   {
    "duration": 204,
    "start_time": "2022-08-07T16:41:53.386Z"
   },
   {
    "duration": 244,
    "start_time": "2022-08-07T16:41:53.591Z"
   },
   {
    "duration": 201,
    "start_time": "2022-08-07T16:41:53.837Z"
   },
   {
    "duration": 439,
    "start_time": "2022-08-07T16:41:54.040Z"
   },
   {
    "duration": 29,
    "start_time": "2022-08-07T16:41:54.481Z"
   },
   {
    "duration": 37,
    "start_time": "2022-08-07T16:41:54.512Z"
   },
   {
    "duration": 172,
    "start_time": "2022-08-07T16:41:54.551Z"
   },
   {
    "duration": 8,
    "start_time": "2022-08-07T17:13:35.388Z"
   },
   {
    "duration": 46,
    "start_time": "2022-08-07T17:13:38.915Z"
   },
   {
    "duration": 511,
    "start_time": "2022-08-07T17:29:13.578Z"
   },
   {
    "duration": 15,
    "start_time": "2022-08-07T17:29:14.091Z"
   },
   {
    "duration": 1928,
    "start_time": "2022-08-07T17:29:14.107Z"
   },
   {
    "duration": 10,
    "start_time": "2022-08-07T17:29:16.038Z"
   },
   {
    "duration": 15,
    "start_time": "2022-08-07T17:29:16.049Z"
   },
   {
    "duration": 213,
    "start_time": "2022-08-07T17:29:16.065Z"
   },
   {
    "duration": 4,
    "start_time": "2022-08-07T17:29:16.280Z"
   },
   {
    "duration": 18,
    "start_time": "2022-08-07T17:29:16.286Z"
   },
   {
    "duration": 25,
    "start_time": "2022-08-07T17:29:16.305Z"
   },
   {
    "duration": 14,
    "start_time": "2022-08-07T17:29:16.332Z"
   },
   {
    "duration": 11,
    "start_time": "2022-08-07T17:29:16.347Z"
   },
   {
    "duration": 10,
    "start_time": "2022-08-07T17:29:16.359Z"
   },
   {
    "duration": 15,
    "start_time": "2022-08-07T17:29:16.371Z"
   },
   {
    "duration": 13,
    "start_time": "2022-08-07T17:29:16.387Z"
   },
   {
    "duration": 14,
    "start_time": "2022-08-07T17:29:16.401Z"
   },
   {
    "duration": 8,
    "start_time": "2022-08-07T17:29:16.417Z"
   },
   {
    "duration": 12,
    "start_time": "2022-08-07T17:29:16.427Z"
   },
   {
    "duration": 34,
    "start_time": "2022-08-07T17:29:16.440Z"
   },
   {
    "duration": 5,
    "start_time": "2022-08-07T17:29:16.476Z"
   },
   {
    "duration": 127,
    "start_time": "2022-08-07T17:29:16.482Z"
   },
   {
    "duration": 6,
    "start_time": "2022-08-07T17:29:16.611Z"
   },
   {
    "duration": 7,
    "start_time": "2022-08-07T17:29:16.619Z"
   },
   {
    "duration": 8,
    "start_time": "2022-08-07T17:29:16.627Z"
   },
   {
    "duration": 66,
    "start_time": "2022-08-07T17:29:16.636Z"
   },
   {
    "duration": 8,
    "start_time": "2022-08-07T17:29:16.703Z"
   },
   {
    "duration": 7,
    "start_time": "2022-08-07T17:29:16.712Z"
   },
   {
    "duration": 6,
    "start_time": "2022-08-07T17:29:16.721Z"
   },
   {
    "duration": 6,
    "start_time": "2022-08-07T17:29:16.730Z"
   },
   {
    "duration": 6,
    "start_time": "2022-08-07T17:29:16.737Z"
   },
   {
    "duration": 357,
    "start_time": "2022-08-07T17:29:16.745Z"
   },
   {
    "duration": 4,
    "start_time": "2022-08-07T17:29:17.103Z"
   },
   {
    "duration": 37,
    "start_time": "2022-08-07T17:29:17.109Z"
   },
   {
    "duration": 20,
    "start_time": "2022-08-07T17:29:17.147Z"
   },
   {
    "duration": 5,
    "start_time": "2022-08-07T17:29:17.168Z"
   },
   {
    "duration": 7,
    "start_time": "2022-08-07T17:29:17.174Z"
   },
   {
    "duration": 314,
    "start_time": "2022-08-07T17:29:17.182Z"
   },
   {
    "duration": 422,
    "start_time": "2022-08-07T17:29:17.497Z"
   },
   {
    "duration": 282,
    "start_time": "2022-08-07T17:29:17.920Z"
   },
   {
    "duration": 159,
    "start_time": "2022-08-07T17:29:18.203Z"
   },
   {
    "duration": 261,
    "start_time": "2022-08-07T17:29:18.363Z"
   },
   {
    "duration": 138,
    "start_time": "2022-08-07T17:29:18.625Z"
   },
   {
    "duration": 184,
    "start_time": "2022-08-07T17:29:18.765Z"
   },
   {
    "duration": 378,
    "start_time": "2022-08-07T17:29:18.950Z"
   },
   {
    "duration": 150,
    "start_time": "2022-08-07T17:29:19.329Z"
   },
   {
    "duration": 165,
    "start_time": "2022-08-07T17:29:19.481Z"
   },
   {
    "duration": 137,
    "start_time": "2022-08-07T17:29:19.648Z"
   },
   {
    "duration": 165,
    "start_time": "2022-08-07T17:29:19.787Z"
   },
   {
    "duration": 206,
    "start_time": "2022-08-07T17:29:19.955Z"
   },
   {
    "duration": 119,
    "start_time": "2022-08-07T17:29:20.163Z"
   },
   {
    "duration": 20,
    "start_time": "2022-08-07T17:29:20.284Z"
   },
   {
    "duration": 231,
    "start_time": "2022-08-07T17:29:20.306Z"
   },
   {
    "duration": 174,
    "start_time": "2022-08-07T17:29:20.538Z"
   },
   {
    "duration": 199,
    "start_time": "2022-08-07T17:29:20.714Z"
   },
   {
    "duration": 179,
    "start_time": "2022-08-07T17:29:20.915Z"
   },
   {
    "duration": 184,
    "start_time": "2022-08-07T17:29:21.099Z"
   },
   {
    "duration": 178,
    "start_time": "2022-08-07T17:29:21.284Z"
   },
   {
    "duration": 458,
    "start_time": "2022-08-07T17:29:21.465Z"
   },
   {
    "duration": 23,
    "start_time": "2022-08-07T17:29:21.925Z"
   },
   {
    "duration": 50,
    "start_time": "2022-08-07T17:29:21.950Z"
   },
   {
    "duration": 138,
    "start_time": "2022-08-07T17:29:22.002Z"
   },
   {
    "duration": 52,
    "start_time": "2022-08-07T19:30:58.967Z"
   },
   {
    "duration": 7,
    "start_time": "2022-08-07T19:31:03.134Z"
   },
   {
    "duration": 602,
    "start_time": "2022-08-07T19:31:07.932Z"
   },
   {
    "duration": 17,
    "start_time": "2022-08-07T19:31:10.998Z"
   },
   {
    "duration": 2565,
    "start_time": "2022-08-07T19:31:12.565Z"
   },
   {
    "duration": 2208,
    "start_time": "2022-08-07T19:39:37.375Z"
   },
   {
    "duration": 570,
    "start_time": "2022-08-07T19:40:00.018Z"
   },
   {
    "duration": 16,
    "start_time": "2022-08-07T19:40:00.589Z"
   },
   {
    "duration": 2636,
    "start_time": "2022-08-07T19:40:00.607Z"
   },
   {
    "duration": 14,
    "start_time": "2022-08-07T19:40:03.246Z"
   },
   {
    "duration": 6,
    "start_time": "2022-08-07T19:40:03.263Z"
   },
   {
    "duration": 283,
    "start_time": "2022-08-07T19:40:03.271Z"
   },
   {
    "duration": 5,
    "start_time": "2022-08-07T19:40:03.556Z"
   },
   {
    "duration": 31,
    "start_time": "2022-08-07T19:40:03.563Z"
   },
   {
    "duration": 11,
    "start_time": "2022-08-07T19:40:03.596Z"
   },
   {
    "duration": 18,
    "start_time": "2022-08-07T19:40:03.609Z"
   },
   {
    "duration": 12,
    "start_time": "2022-08-07T19:40:03.629Z"
   },
   {
    "duration": 35,
    "start_time": "2022-08-07T19:40:03.643Z"
   },
   {
    "duration": 53,
    "start_time": "2022-08-07T19:40:03.681Z"
   },
   {
    "duration": 25,
    "start_time": "2022-08-07T19:40:03.738Z"
   },
   {
    "duration": 20,
    "start_time": "2022-08-07T19:40:03.764Z"
   },
   {
    "duration": 10,
    "start_time": "2022-08-07T19:40:03.786Z"
   },
   {
    "duration": 16,
    "start_time": "2022-08-07T19:40:03.798Z"
   },
   {
    "duration": 28,
    "start_time": "2022-08-07T19:40:03.816Z"
   },
   {
    "duration": 6,
    "start_time": "2022-08-07T19:40:03.846Z"
   },
   {
    "duration": 165,
    "start_time": "2022-08-07T19:40:03.854Z"
   },
   {
    "duration": 9,
    "start_time": "2022-08-07T19:40:04.021Z"
   },
   {
    "duration": 12,
    "start_time": "2022-08-07T19:40:04.032Z"
   },
   {
    "duration": 11,
    "start_time": "2022-08-07T19:40:04.046Z"
   },
   {
    "duration": 79,
    "start_time": "2022-08-07T19:40:04.059Z"
   },
   {
    "duration": 9,
    "start_time": "2022-08-07T19:40:04.140Z"
   },
   {
    "duration": 12,
    "start_time": "2022-08-07T19:40:04.151Z"
   },
   {
    "duration": 8,
    "start_time": "2022-08-07T19:40:04.165Z"
   },
   {
    "duration": 6,
    "start_time": "2022-08-07T19:40:04.193Z"
   },
   {
    "duration": 6,
    "start_time": "2022-08-07T19:40:04.200Z"
   },
   {
    "duration": 385,
    "start_time": "2022-08-07T19:40:04.208Z"
   },
   {
    "duration": 6,
    "start_time": "2022-08-07T19:40:04.595Z"
   },
   {
    "duration": 103,
    "start_time": "2022-08-07T19:40:04.603Z"
   },
   {
    "duration": 24,
    "start_time": "2022-08-07T19:40:04.708Z"
   },
   {
    "duration": 25,
    "start_time": "2022-08-07T19:40:04.734Z"
   },
   {
    "duration": 41,
    "start_time": "2022-08-07T19:40:04.761Z"
   },
   {
    "duration": 402,
    "start_time": "2022-08-07T19:40:04.804Z"
   },
   {
    "duration": 330,
    "start_time": "2022-08-07T19:40:05.208Z"
   },
   {
    "duration": 334,
    "start_time": "2022-08-07T19:40:05.540Z"
   },
   {
    "duration": 215,
    "start_time": "2022-08-07T19:40:05.876Z"
   },
   {
    "duration": 330,
    "start_time": "2022-08-07T19:40:06.093Z"
   },
   {
    "duration": 189,
    "start_time": "2022-08-07T19:40:06.427Z"
   },
   {
    "duration": 226,
    "start_time": "2022-08-07T19:40:06.618Z"
   },
   {
    "duration": 374,
    "start_time": "2022-08-07T19:40:06.846Z"
   },
   {
    "duration": 188,
    "start_time": "2022-08-07T19:40:07.221Z"
   },
   {
    "duration": 198,
    "start_time": "2022-08-07T19:40:07.411Z"
   },
   {
    "duration": 171,
    "start_time": "2022-08-07T19:40:07.611Z"
   },
   {
    "duration": 170,
    "start_time": "2022-08-07T19:40:07.784Z"
   },
   {
    "duration": 238,
    "start_time": "2022-08-07T19:40:07.956Z"
   },
   {
    "duration": 160,
    "start_time": "2022-08-07T19:40:08.196Z"
   },
   {
    "duration": 12,
    "start_time": "2022-08-07T19:40:08.358Z"
   },
   {
    "duration": 287,
    "start_time": "2022-08-07T19:40:08.372Z"
   },
   {
    "duration": 226,
    "start_time": "2022-08-07T19:40:08.661Z"
   },
   {
    "duration": 232,
    "start_time": "2022-08-07T19:40:08.888Z"
   },
   {
    "duration": 306,
    "start_time": "2022-08-07T19:40:09.122Z"
   },
   {
    "duration": 248,
    "start_time": "2022-08-07T19:40:09.430Z"
   },
   {
    "duration": 212,
    "start_time": "2022-08-07T19:40:09.680Z"
   },
   {
    "duration": 380,
    "start_time": "2022-08-07T19:40:09.893Z"
   },
   {
    "duration": 33,
    "start_time": "2022-08-07T19:40:10.275Z"
   },
   {
    "duration": 49,
    "start_time": "2022-08-07T19:40:10.310Z"
   },
   {
    "duration": 199,
    "start_time": "2022-08-07T19:40:10.361Z"
   },
   {
    "duration": 564,
    "start_time": "2022-08-07T19:40:49.253Z"
   },
   {
    "duration": 17,
    "start_time": "2022-08-07T19:40:49.820Z"
   },
   {
    "duration": 2460,
    "start_time": "2022-08-07T19:40:49.839Z"
   },
   {
    "duration": 13,
    "start_time": "2022-08-07T19:40:52.302Z"
   },
   {
    "duration": 4,
    "start_time": "2022-08-07T19:40:52.317Z"
   },
   {
    "duration": 274,
    "start_time": "2022-08-07T19:40:52.323Z"
   },
   {
    "duration": 5,
    "start_time": "2022-08-07T19:40:52.599Z"
   },
   {
    "duration": 21,
    "start_time": "2022-08-07T19:40:52.606Z"
   },
   {
    "duration": 35,
    "start_time": "2022-08-07T19:40:52.629Z"
   },
   {
    "duration": 15,
    "start_time": "2022-08-07T19:40:52.667Z"
   },
   {
    "duration": 38,
    "start_time": "2022-08-07T19:40:52.684Z"
   },
   {
    "duration": 17,
    "start_time": "2022-08-07T19:40:52.725Z"
   },
   {
    "duration": 21,
    "start_time": "2022-08-07T19:40:52.744Z"
   },
   {
    "duration": 24,
    "start_time": "2022-08-07T19:40:52.767Z"
   },
   {
    "duration": 23,
    "start_time": "2022-08-07T19:40:52.793Z"
   },
   {
    "duration": 9,
    "start_time": "2022-08-07T19:40:52.818Z"
   },
   {
    "duration": 10,
    "start_time": "2022-08-07T19:40:52.829Z"
   },
   {
    "duration": 29,
    "start_time": "2022-08-07T19:40:52.841Z"
   },
   {
    "duration": 21,
    "start_time": "2022-08-07T19:40:52.872Z"
   },
   {
    "duration": 155,
    "start_time": "2022-08-07T19:40:52.895Z"
   },
   {
    "duration": 8,
    "start_time": "2022-08-07T19:40:53.052Z"
   },
   {
    "duration": 6,
    "start_time": "2022-08-07T19:40:53.062Z"
   },
   {
    "duration": 23,
    "start_time": "2022-08-07T19:40:53.070Z"
   },
   {
    "duration": 57,
    "start_time": "2022-08-07T19:40:53.095Z"
   },
   {
    "duration": 10,
    "start_time": "2022-08-07T19:40:53.153Z"
   },
   {
    "duration": 29,
    "start_time": "2022-08-07T19:40:53.164Z"
   },
   {
    "duration": 8,
    "start_time": "2022-08-07T19:40:53.195Z"
   },
   {
    "duration": 5,
    "start_time": "2022-08-07T19:40:53.207Z"
   },
   {
    "duration": 6,
    "start_time": "2022-08-07T19:40:53.214Z"
   },
   {
    "duration": 367,
    "start_time": "2022-08-07T19:40:53.221Z"
   },
   {
    "duration": 5,
    "start_time": "2022-08-07T19:40:53.590Z"
   },
   {
    "duration": 48,
    "start_time": "2022-08-07T19:40:53.597Z"
   },
   {
    "duration": 24,
    "start_time": "2022-08-07T19:40:53.647Z"
   },
   {
    "duration": 24,
    "start_time": "2022-08-07T19:40:53.673Z"
   },
   {
    "duration": 29,
    "start_time": "2022-08-07T19:40:53.699Z"
   },
   {
    "duration": 441,
    "start_time": "2022-08-07T19:40:53.730Z"
   },
   {
    "duration": 330,
    "start_time": "2022-08-07T19:40:54.174Z"
   },
   {
    "duration": 331,
    "start_time": "2022-08-07T19:40:54.506Z"
   },
   {
    "duration": 192,
    "start_time": "2022-08-07T19:40:54.839Z"
   },
   {
    "duration": 342,
    "start_time": "2022-08-07T19:40:55.033Z"
   },
   {
    "duration": 179,
    "start_time": "2022-08-07T19:40:55.377Z"
   },
   {
    "duration": 213,
    "start_time": "2022-08-07T19:40:55.558Z"
   },
   {
    "duration": 384,
    "start_time": "2022-08-07T19:40:55.772Z"
   },
   {
    "duration": 180,
    "start_time": "2022-08-07T19:40:56.158Z"
   },
   {
    "duration": 186,
    "start_time": "2022-08-07T19:40:56.340Z"
   },
   {
    "duration": 168,
    "start_time": "2022-08-07T19:40:56.528Z"
   },
   {
    "duration": 175,
    "start_time": "2022-08-07T19:40:56.698Z"
   },
   {
    "duration": 227,
    "start_time": "2022-08-07T19:40:56.875Z"
   },
   {
    "duration": 146,
    "start_time": "2022-08-07T19:40:57.103Z"
   },
   {
    "duration": 10,
    "start_time": "2022-08-07T19:40:57.251Z"
   },
   {
    "duration": 279,
    "start_time": "2022-08-07T19:40:57.262Z"
   },
   {
    "duration": 219,
    "start_time": "2022-08-07T19:40:57.543Z"
   },
   {
    "duration": 230,
    "start_time": "2022-08-07T19:40:57.764Z"
   },
   {
    "duration": 286,
    "start_time": "2022-08-07T19:40:57.997Z"
   },
   {
    "duration": 237,
    "start_time": "2022-08-07T19:40:58.285Z"
   },
   {
    "duration": 202,
    "start_time": "2022-08-07T19:40:58.524Z"
   },
   {
    "duration": 349,
    "start_time": "2022-08-07T19:40:58.728Z"
   },
   {
    "duration": 29,
    "start_time": "2022-08-07T19:40:59.079Z"
   },
   {
    "duration": 41,
    "start_time": "2022-08-07T19:40:59.110Z"
   },
   {
    "duration": 175,
    "start_time": "2022-08-07T19:40:59.153Z"
   },
   {
    "duration": 2,
    "start_time": "2022-08-07T19:46:13.066Z"
   },
   {
    "duration": 5,
    "start_time": "2022-08-07T19:47:25.452Z"
   },
   {
    "duration": 18,
    "start_time": "2022-08-07T19:47:34.709Z"
   },
   {
    "duration": 53,
    "start_time": "2022-08-09T11:42:33.350Z"
   },
   {
    "duration": 669,
    "start_time": "2022-08-09T11:42:45.188Z"
   },
   {
    "duration": 16,
    "start_time": "2022-08-09T11:42:45.859Z"
   },
   {
    "duration": 2507,
    "start_time": "2022-08-09T11:42:45.877Z"
   },
   {
    "duration": 10,
    "start_time": "2022-08-09T11:42:48.386Z"
   },
   {
    "duration": 4,
    "start_time": "2022-08-09T11:42:48.398Z"
   },
   {
    "duration": 260,
    "start_time": "2022-08-09T11:42:48.404Z"
   },
   {
    "duration": 5,
    "start_time": "2022-08-09T11:42:48.665Z"
   },
   {
    "duration": 5,
    "start_time": "2022-08-09T11:42:48.672Z"
   },
   {
    "duration": 6,
    "start_time": "2022-08-09T11:42:48.692Z"
   },
   {
    "duration": 10,
    "start_time": "2022-08-09T11:42:48.700Z"
   },
   {
    "duration": 7,
    "start_time": "2022-08-09T11:42:48.712Z"
   },
   {
    "duration": 5,
    "start_time": "2022-08-09T11:42:48.721Z"
   },
   {
    "duration": 7,
    "start_time": "2022-08-09T11:42:48.728Z"
   },
   {
    "duration": 10,
    "start_time": "2022-08-09T11:42:48.739Z"
   },
   {
    "duration": 42,
    "start_time": "2022-08-09T11:42:48.751Z"
   },
   {
    "duration": 16,
    "start_time": "2022-08-09T11:42:48.794Z"
   },
   {
    "duration": 8,
    "start_time": "2022-08-09T11:42:48.812Z"
   },
   {
    "duration": 9,
    "start_time": "2022-08-09T11:42:48.821Z"
   },
   {
    "duration": 6,
    "start_time": "2022-08-09T11:42:48.832Z"
   },
   {
    "duration": 15,
    "start_time": "2022-08-09T11:42:48.840Z"
   },
   {
    "duration": 53,
    "start_time": "2022-08-09T11:42:48.856Z"
   },
   {
    "duration": 6,
    "start_time": "2022-08-09T11:42:48.911Z"
   },
   {
    "duration": 156,
    "start_time": "2022-08-09T11:42:48.919Z"
   },
   {
    "duration": 18,
    "start_time": "2022-08-09T11:42:49.076Z"
   },
   {
    "duration": 7,
    "start_time": "2022-08-09T11:42:49.095Z"
   },
   {
    "duration": 15,
    "start_time": "2022-08-09T11:42:49.103Z"
   },
   {
    "duration": 91,
    "start_time": "2022-08-09T11:42:49.120Z"
   },
   {
    "duration": 0,
    "start_time": "2022-08-09T11:42:49.213Z"
   },
   {
    "duration": 0,
    "start_time": "2022-08-09T11:42:49.214Z"
   },
   {
    "duration": 0,
    "start_time": "2022-08-09T11:42:49.215Z"
   },
   {
    "duration": 0,
    "start_time": "2022-08-09T11:42:49.216Z"
   },
   {
    "duration": 0,
    "start_time": "2022-08-09T11:42:49.217Z"
   },
   {
    "duration": 0,
    "start_time": "2022-08-09T11:42:49.218Z"
   },
   {
    "duration": 0,
    "start_time": "2022-08-09T11:42:49.219Z"
   },
   {
    "duration": 0,
    "start_time": "2022-08-09T11:42:49.221Z"
   },
   {
    "duration": 0,
    "start_time": "2022-08-09T11:42:49.222Z"
   },
   {
    "duration": 0,
    "start_time": "2022-08-09T11:42:49.223Z"
   },
   {
    "duration": 0,
    "start_time": "2022-08-09T11:42:49.224Z"
   },
   {
    "duration": 0,
    "start_time": "2022-08-09T11:42:49.225Z"
   },
   {
    "duration": 1,
    "start_time": "2022-08-09T11:42:49.226Z"
   },
   {
    "duration": 0,
    "start_time": "2022-08-09T11:42:49.227Z"
   },
   {
    "duration": 0,
    "start_time": "2022-08-09T11:42:49.228Z"
   },
   {
    "duration": 1,
    "start_time": "2022-08-09T11:42:49.229Z"
   },
   {
    "duration": 0,
    "start_time": "2022-08-09T11:42:49.231Z"
   },
   {
    "duration": 0,
    "start_time": "2022-08-09T11:42:49.232Z"
   },
   {
    "duration": 0,
    "start_time": "2022-08-09T11:42:49.233Z"
   },
   {
    "duration": 0,
    "start_time": "2022-08-09T11:42:49.234Z"
   },
   {
    "duration": 0,
    "start_time": "2022-08-09T11:42:49.235Z"
   },
   {
    "duration": 0,
    "start_time": "2022-08-09T11:42:49.236Z"
   },
   {
    "duration": 0,
    "start_time": "2022-08-09T11:42:49.237Z"
   },
   {
    "duration": 0,
    "start_time": "2022-08-09T11:42:49.239Z"
   },
   {
    "duration": 0,
    "start_time": "2022-08-09T11:42:49.239Z"
   },
   {
    "duration": 1,
    "start_time": "2022-08-09T11:42:49.240Z"
   },
   {
    "duration": 0,
    "start_time": "2022-08-09T11:42:49.242Z"
   },
   {
    "duration": 0,
    "start_time": "2022-08-09T11:42:49.243Z"
   },
   {
    "duration": 0,
    "start_time": "2022-08-09T11:42:49.244Z"
   },
   {
    "duration": 0,
    "start_time": "2022-08-09T11:42:49.292Z"
   },
   {
    "duration": 0,
    "start_time": "2022-08-09T11:42:49.293Z"
   },
   {
    "duration": 0,
    "start_time": "2022-08-09T11:42:49.295Z"
   },
   {
    "duration": 0,
    "start_time": "2022-08-09T11:42:49.296Z"
   },
   {
    "duration": 0,
    "start_time": "2022-08-09T11:42:49.296Z"
   },
   {
    "duration": 0,
    "start_time": "2022-08-09T11:42:49.297Z"
   },
   {
    "duration": 0,
    "start_time": "2022-08-09T11:42:49.299Z"
   },
   {
    "duration": 0,
    "start_time": "2022-08-09T11:42:49.300Z"
   },
   {
    "duration": 9,
    "start_time": "2022-08-09T11:43:15.784Z"
   },
   {
    "duration": 9,
    "start_time": "2022-08-09T11:43:23.872Z"
   },
   {
    "duration": 8,
    "start_time": "2022-08-09T11:43:30.689Z"
   },
   {
    "duration": 9,
    "start_time": "2022-08-09T11:44:34.506Z"
   },
   {
    "duration": 8,
    "start_time": "2022-08-09T11:46:35.749Z"
   },
   {
    "duration": 574,
    "start_time": "2022-08-09T11:47:35.399Z"
   },
   {
    "duration": 22,
    "start_time": "2022-08-09T11:47:35.975Z"
   },
   {
    "duration": 2468,
    "start_time": "2022-08-09T11:47:35.999Z"
   },
   {
    "duration": 10,
    "start_time": "2022-08-09T11:47:38.469Z"
   },
   {
    "duration": 15,
    "start_time": "2022-08-09T11:47:38.482Z"
   },
   {
    "duration": 259,
    "start_time": "2022-08-09T11:47:38.499Z"
   },
   {
    "duration": 6,
    "start_time": "2022-08-09T11:47:38.759Z"
   },
   {
    "duration": 7,
    "start_time": "2022-08-09T11:47:38.766Z"
   },
   {
    "duration": 18,
    "start_time": "2022-08-09T11:47:38.774Z"
   },
   {
    "duration": 8,
    "start_time": "2022-08-09T11:47:38.794Z"
   },
   {
    "duration": 7,
    "start_time": "2022-08-09T11:47:38.803Z"
   },
   {
    "duration": 7,
    "start_time": "2022-08-09T11:47:38.812Z"
   },
   {
    "duration": 7,
    "start_time": "2022-08-09T11:47:38.820Z"
   },
   {
    "duration": 6,
    "start_time": "2022-08-09T11:47:38.830Z"
   },
   {
    "duration": 18,
    "start_time": "2022-08-09T11:47:38.838Z"
   },
   {
    "duration": 37,
    "start_time": "2022-08-09T11:47:38.857Z"
   },
   {
    "duration": 9,
    "start_time": "2022-08-09T11:47:38.896Z"
   },
   {
    "duration": 7,
    "start_time": "2022-08-09T11:47:38.907Z"
   },
   {
    "duration": 23,
    "start_time": "2022-08-09T11:47:38.915Z"
   },
   {
    "duration": 28,
    "start_time": "2022-08-09T11:47:38.939Z"
   },
   {
    "duration": 25,
    "start_time": "2022-08-09T11:47:38.969Z"
   },
   {
    "duration": 7,
    "start_time": "2022-08-09T11:47:38.995Z"
   },
   {
    "duration": 158,
    "start_time": "2022-08-09T11:47:39.003Z"
   },
   {
    "duration": 8,
    "start_time": "2022-08-09T11:47:39.163Z"
   },
   {
    "duration": 21,
    "start_time": "2022-08-09T11:47:39.174Z"
   },
   {
    "duration": 10,
    "start_time": "2022-08-09T11:47:39.197Z"
   },
   {
    "duration": 95,
    "start_time": "2022-08-09T11:47:39.208Z"
   },
   {
    "duration": 0,
    "start_time": "2022-08-09T11:47:39.305Z"
   },
   {
    "duration": 0,
    "start_time": "2022-08-09T11:47:39.307Z"
   },
   {
    "duration": 0,
    "start_time": "2022-08-09T11:47:39.308Z"
   },
   {
    "duration": 0,
    "start_time": "2022-08-09T11:47:39.310Z"
   },
   {
    "duration": 0,
    "start_time": "2022-08-09T11:47:39.312Z"
   },
   {
    "duration": 0,
    "start_time": "2022-08-09T11:47:39.314Z"
   },
   {
    "duration": 0,
    "start_time": "2022-08-09T11:47:39.315Z"
   },
   {
    "duration": 0,
    "start_time": "2022-08-09T11:47:39.317Z"
   },
   {
    "duration": 0,
    "start_time": "2022-08-09T11:47:39.318Z"
   },
   {
    "duration": 0,
    "start_time": "2022-08-09T11:47:39.320Z"
   },
   {
    "duration": 0,
    "start_time": "2022-08-09T11:47:39.321Z"
   },
   {
    "duration": 0,
    "start_time": "2022-08-09T11:47:39.327Z"
   },
   {
    "duration": 0,
    "start_time": "2022-08-09T11:47:39.329Z"
   },
   {
    "duration": 0,
    "start_time": "2022-08-09T11:47:39.331Z"
   },
   {
    "duration": 0,
    "start_time": "2022-08-09T11:47:39.332Z"
   },
   {
    "duration": 0,
    "start_time": "2022-08-09T11:47:39.333Z"
   },
   {
    "duration": 1,
    "start_time": "2022-08-09T11:47:39.335Z"
   },
   {
    "duration": 0,
    "start_time": "2022-08-09T11:47:39.337Z"
   },
   {
    "duration": 0,
    "start_time": "2022-08-09T11:47:39.343Z"
   },
   {
    "duration": 0,
    "start_time": "2022-08-09T11:47:39.345Z"
   },
   {
    "duration": 0,
    "start_time": "2022-08-09T11:47:39.346Z"
   },
   {
    "duration": 0,
    "start_time": "2022-08-09T11:47:39.392Z"
   },
   {
    "duration": 0,
    "start_time": "2022-08-09T11:47:39.393Z"
   },
   {
    "duration": 0,
    "start_time": "2022-08-09T11:47:39.395Z"
   },
   {
    "duration": 0,
    "start_time": "2022-08-09T11:47:39.396Z"
   },
   {
    "duration": 0,
    "start_time": "2022-08-09T11:47:39.397Z"
   },
   {
    "duration": 0,
    "start_time": "2022-08-09T11:47:39.399Z"
   },
   {
    "duration": 0,
    "start_time": "2022-08-09T11:47:39.401Z"
   },
   {
    "duration": 0,
    "start_time": "2022-08-09T11:47:39.402Z"
   },
   {
    "duration": 1,
    "start_time": "2022-08-09T11:47:39.403Z"
   },
   {
    "duration": 0,
    "start_time": "2022-08-09T11:47:39.405Z"
   },
   {
    "duration": 0,
    "start_time": "2022-08-09T11:47:39.406Z"
   },
   {
    "duration": 0,
    "start_time": "2022-08-09T11:47:39.407Z"
   },
   {
    "duration": 0,
    "start_time": "2022-08-09T11:47:39.408Z"
   },
   {
    "duration": 0,
    "start_time": "2022-08-09T11:47:39.409Z"
   },
   {
    "duration": 0,
    "start_time": "2022-08-09T11:47:39.411Z"
   },
   {
    "duration": 0,
    "start_time": "2022-08-09T11:47:39.415Z"
   },
   {
    "duration": 330,
    "start_time": "2022-08-09T11:47:53.774Z"
   },
   {
    "duration": 198,
    "start_time": "2022-08-09T11:47:58.999Z"
   },
   {
    "duration": 9,
    "start_time": "2022-08-09T11:48:13.264Z"
   },
   {
    "duration": 9,
    "start_time": "2022-08-09T11:49:06.018Z"
   },
   {
    "duration": 3,
    "start_time": "2022-08-09T11:49:09.217Z"
   },
   {
    "duration": 580,
    "start_time": "2022-08-09T11:49:14.599Z"
   },
   {
    "duration": 22,
    "start_time": "2022-08-09T11:49:15.182Z"
   },
   {
    "duration": 2443,
    "start_time": "2022-08-09T11:49:15.205Z"
   },
   {
    "duration": 9,
    "start_time": "2022-08-09T11:49:17.650Z"
   },
   {
    "duration": 4,
    "start_time": "2022-08-09T11:49:17.662Z"
   },
   {
    "duration": 276,
    "start_time": "2022-08-09T11:49:17.667Z"
   },
   {
    "duration": 7,
    "start_time": "2022-08-09T11:49:17.945Z"
   },
   {
    "duration": 6,
    "start_time": "2022-08-09T11:49:17.954Z"
   },
   {
    "duration": 8,
    "start_time": "2022-08-09T11:49:17.963Z"
   },
   {
    "duration": 8,
    "start_time": "2022-08-09T11:49:17.992Z"
   },
   {
    "duration": 10,
    "start_time": "2022-08-09T11:49:18.003Z"
   },
   {
    "duration": 7,
    "start_time": "2022-08-09T11:49:18.015Z"
   },
   {
    "duration": 7,
    "start_time": "2022-08-09T11:49:18.024Z"
   },
   {
    "duration": 10,
    "start_time": "2022-08-09T11:49:18.035Z"
   },
   {
    "duration": 17,
    "start_time": "2022-08-09T11:49:18.047Z"
   },
   {
    "duration": 38,
    "start_time": "2022-08-09T11:49:18.066Z"
   },
   {
    "duration": 8,
    "start_time": "2022-08-09T11:49:18.106Z"
   },
   {
    "duration": 6,
    "start_time": "2022-08-09T11:49:18.116Z"
   },
   {
    "duration": 6,
    "start_time": "2022-08-09T11:49:18.124Z"
   },
   {
    "duration": 16,
    "start_time": "2022-08-09T11:49:18.131Z"
   },
   {
    "duration": 54,
    "start_time": "2022-08-09T11:49:18.148Z"
   },
   {
    "duration": 6,
    "start_time": "2022-08-09T11:49:18.204Z"
   },
   {
    "duration": 166,
    "start_time": "2022-08-09T11:49:18.212Z"
   },
   {
    "duration": 13,
    "start_time": "2022-08-09T11:49:18.380Z"
   },
   {
    "duration": 7,
    "start_time": "2022-08-09T11:49:18.395Z"
   },
   {
    "duration": 6,
    "start_time": "2022-08-09T11:49:18.404Z"
   },
   {
    "duration": 2,
    "start_time": "2022-08-09T11:49:18.412Z"
   },
   {
    "duration": 82,
    "start_time": "2022-08-09T11:49:18.416Z"
   },
   {
    "duration": 8,
    "start_time": "2022-08-09T11:49:18.500Z"
   },
   {
    "duration": 9,
    "start_time": "2022-08-09T11:49:18.510Z"
   },
   {
    "duration": 7,
    "start_time": "2022-08-09T11:49:18.520Z"
   },
   {
    "duration": 6,
    "start_time": "2022-08-09T11:49:18.529Z"
   },
   {
    "duration": 6,
    "start_time": "2022-08-09T11:49:18.536Z"
   },
   {
    "duration": 377,
    "start_time": "2022-08-09T11:49:18.544Z"
   },
   {
    "duration": 4,
    "start_time": "2022-08-09T11:49:18.923Z"
   },
   {
    "duration": 41,
    "start_time": "2022-08-09T11:49:18.929Z"
   },
   {
    "duration": 39,
    "start_time": "2022-08-09T11:49:18.972Z"
   },
   {
    "duration": 6,
    "start_time": "2022-08-09T11:49:19.012Z"
   },
   {
    "duration": 11,
    "start_time": "2022-08-09T11:49:19.020Z"
   },
   {
    "duration": 425,
    "start_time": "2022-08-09T11:49:19.033Z"
   },
   {
    "duration": 334,
    "start_time": "2022-08-09T11:49:19.463Z"
   },
   {
    "duration": 345,
    "start_time": "2022-08-09T11:49:19.799Z"
   },
   {
    "duration": 203,
    "start_time": "2022-08-09T11:49:20.146Z"
   },
   {
    "duration": 343,
    "start_time": "2022-08-09T11:49:20.350Z"
   },
   {
    "duration": 184,
    "start_time": "2022-08-09T11:49:20.696Z"
   },
   {
    "duration": 210,
    "start_time": "2022-08-09T11:49:20.882Z"
   },
   {
    "duration": 394,
    "start_time": "2022-08-09T11:49:21.093Z"
   },
   {
    "duration": 174,
    "start_time": "2022-08-09T11:49:21.491Z"
   },
   {
    "duration": 223,
    "start_time": "2022-08-09T11:49:21.667Z"
   },
   {
    "duration": 195,
    "start_time": "2022-08-09T11:49:21.893Z"
   },
   {
    "duration": 171,
    "start_time": "2022-08-09T11:49:22.092Z"
   },
   {
    "duration": 215,
    "start_time": "2022-08-09T11:49:22.265Z"
   },
   {
    "duration": 146,
    "start_time": "2022-08-09T11:49:22.482Z"
   },
   {
    "duration": 9,
    "start_time": "2022-08-09T11:49:22.630Z"
   },
   {
    "duration": 276,
    "start_time": "2022-08-09T11:49:22.641Z"
   },
   {
    "duration": 222,
    "start_time": "2022-08-09T11:49:22.919Z"
   },
   {
    "duration": 238,
    "start_time": "2022-08-09T11:49:23.143Z"
   },
   {
    "duration": 290,
    "start_time": "2022-08-09T11:49:23.383Z"
   },
   {
    "duration": 235,
    "start_time": "2022-08-09T11:49:23.675Z"
   },
   {
    "duration": 207,
    "start_time": "2022-08-09T11:49:23.912Z"
   },
   {
    "duration": 352,
    "start_time": "2022-08-09T11:49:24.120Z"
   },
   {
    "duration": 30,
    "start_time": "2022-08-09T11:49:24.474Z"
   },
   {
    "duration": 40,
    "start_time": "2022-08-09T11:49:24.506Z"
   },
   {
    "duration": 180,
    "start_time": "2022-08-09T11:49:24.548Z"
   },
   {
    "duration": 369,
    "start_time": "2022-08-09T11:50:41.772Z"
   },
   {
    "duration": 334,
    "start_time": "2022-08-09T11:50:43.796Z"
   },
   {
    "duration": 113,
    "start_time": "2022-08-09T11:52:16.270Z"
   },
   {
    "duration": 411,
    "start_time": "2022-08-09T11:52:21.786Z"
   },
   {
    "duration": 77,
    "start_time": "2022-08-09T11:53:32.440Z"
   },
   {
    "duration": 451,
    "start_time": "2022-08-09T11:53:35.193Z"
   },
   {
    "duration": 101,
    "start_time": "2022-08-09T11:54:06.633Z"
   },
   {
    "duration": 310,
    "start_time": "2022-08-09T11:54:09.666Z"
   },
   {
    "duration": 375,
    "start_time": "2022-08-09T11:57:22.183Z"
   },
   {
    "duration": 297,
    "start_time": "2022-08-09T11:57:34.846Z"
   },
   {
    "duration": 86,
    "start_time": "2022-08-09T11:58:52.155Z"
   },
   {
    "duration": 263,
    "start_time": "2022-08-09T11:58:56.449Z"
   },
   {
    "duration": 391,
    "start_time": "2022-08-09T11:59:13.402Z"
   },
   {
    "duration": 304,
    "start_time": "2022-08-09T11:59:24.530Z"
   },
   {
    "duration": 286,
    "start_time": "2022-08-09T12:00:56.117Z"
   },
   {
    "duration": 299,
    "start_time": "2022-08-09T12:01:01.147Z"
   },
   {
    "duration": 304,
    "start_time": "2022-08-09T12:01:13.148Z"
   },
   {
    "duration": 285,
    "start_time": "2022-08-09T12:01:35.924Z"
   },
   {
    "duration": 440,
    "start_time": "2022-08-09T12:01:48.967Z"
   },
   {
    "duration": 344,
    "start_time": "2022-08-09T12:02:30.913Z"
   },
   {
    "duration": 296,
    "start_time": "2022-08-09T12:03:13.664Z"
   },
   {
    "duration": 190,
    "start_time": "2022-08-09T12:03:42.647Z"
   },
   {
    "duration": 327,
    "start_time": "2022-08-09T12:04:23.850Z"
   },
   {
    "duration": 169,
    "start_time": "2022-08-09T12:04:50.338Z"
   },
   {
    "duration": 82,
    "start_time": "2022-08-09T12:05:11.659Z"
   },
   {
    "duration": 193,
    "start_time": "2022-08-09T12:05:15.042Z"
   },
   {
    "duration": 503,
    "start_time": "2022-08-09T12:05:52.149Z"
   },
   {
    "duration": 178,
    "start_time": "2022-08-09T12:06:34.948Z"
   },
   {
    "duration": 230,
    "start_time": "2022-08-09T12:07:01.902Z"
   },
   {
    "duration": 163,
    "start_time": "2022-08-09T12:07:55.951Z"
   },
   {
    "duration": 195,
    "start_time": "2022-08-09T12:08:23.817Z"
   },
   {
    "duration": 178,
    "start_time": "2022-08-09T12:10:59.955Z"
   },
   {
    "duration": 195,
    "start_time": "2022-08-09T12:11:09.101Z"
   },
   {
    "duration": 208,
    "start_time": "2022-08-09T12:11:26.820Z"
   },
   {
    "duration": 16,
    "start_time": "2022-08-09T12:12:37.630Z"
   },
   {
    "duration": 15,
    "start_time": "2022-08-09T12:12:45.048Z"
   },
   {
    "duration": 17,
    "start_time": "2022-08-09T12:13:34.490Z"
   },
   {
    "duration": 15,
    "start_time": "2022-08-09T12:14:13.185Z"
   },
   {
    "duration": 5,
    "start_time": "2022-08-09T12:16:16.623Z"
   },
   {
    "duration": 15,
    "start_time": "2022-08-09T12:16:23.797Z"
   },
   {
    "duration": 18,
    "start_time": "2022-08-09T12:17:03.783Z"
   },
   {
    "duration": 18,
    "start_time": "2022-08-09T12:17:08.054Z"
   },
   {
    "duration": 130,
    "start_time": "2022-08-09T12:20:52.268Z"
   },
   {
    "duration": 631,
    "start_time": "2022-08-09T12:22:34.472Z"
   },
   {
    "duration": 43,
    "start_time": "2022-08-09T12:23:50.625Z"
   },
   {
    "duration": 15,
    "start_time": "2022-08-09T12:23:58.319Z"
   },
   {
    "duration": 13,
    "start_time": "2022-08-09T12:26:26.366Z"
   },
   {
    "duration": 18,
    "start_time": "2022-08-09T12:26:34.316Z"
   },
   {
    "duration": 399,
    "start_time": "2022-08-09T12:26:46.807Z"
   },
   {
    "duration": 15,
    "start_time": "2022-08-09T12:27:06.584Z"
   },
   {
    "duration": 14,
    "start_time": "2022-08-09T12:27:39.289Z"
   },
   {
    "duration": 15,
    "start_time": "2022-08-09T12:28:24.080Z"
   },
   {
    "duration": 15,
    "start_time": "2022-08-09T12:28:34.450Z"
   },
   {
    "duration": 14,
    "start_time": "2022-08-09T12:29:52.419Z"
   },
   {
    "duration": 14,
    "start_time": "2022-08-09T12:30:02.812Z"
   },
   {
    "duration": 10,
    "start_time": "2022-08-09T12:32:05.366Z"
   },
   {
    "duration": 19,
    "start_time": "2022-08-09T12:32:11.830Z"
   },
   {
    "duration": 16,
    "start_time": "2022-08-09T12:32:14.823Z"
   },
   {
    "duration": 1632,
    "start_time": "2022-08-09T12:33:50.031Z"
   },
   {
    "duration": 17,
    "start_time": "2022-08-09T12:33:51.665Z"
   },
   {
    "duration": 2251,
    "start_time": "2022-08-09T12:33:51.684Z"
   },
   {
    "duration": 10,
    "start_time": "2022-08-09T12:33:53.937Z"
   },
   {
    "duration": 5,
    "start_time": "2022-08-09T12:33:53.950Z"
   },
   {
    "duration": 365,
    "start_time": "2022-08-09T12:33:53.957Z"
   },
   {
    "duration": 7,
    "start_time": "2022-08-09T12:33:54.324Z"
   },
   {
    "duration": 7,
    "start_time": "2022-08-09T12:33:54.333Z"
   },
   {
    "duration": 8,
    "start_time": "2022-08-09T12:33:54.342Z"
   },
   {
    "duration": 14,
    "start_time": "2022-08-09T12:33:54.352Z"
   },
   {
    "duration": 7,
    "start_time": "2022-08-09T12:33:54.391Z"
   },
   {
    "duration": 7,
    "start_time": "2022-08-09T12:33:54.400Z"
   },
   {
    "duration": 8,
    "start_time": "2022-08-09T12:33:54.409Z"
   },
   {
    "duration": 12,
    "start_time": "2022-08-09T12:33:54.420Z"
   },
   {
    "duration": 17,
    "start_time": "2022-08-09T12:33:54.433Z"
   },
   {
    "duration": 19,
    "start_time": "2022-08-09T12:33:54.452Z"
   },
   {
    "duration": 23,
    "start_time": "2022-08-09T12:33:54.472Z"
   },
   {
    "duration": 22,
    "start_time": "2022-08-09T12:33:54.496Z"
   },
   {
    "duration": 9,
    "start_time": "2022-08-09T12:33:54.520Z"
   },
   {
    "duration": 23,
    "start_time": "2022-08-09T12:33:54.531Z"
   },
   {
    "duration": 25,
    "start_time": "2022-08-09T12:33:54.555Z"
   },
   {
    "duration": 11,
    "start_time": "2022-08-09T12:33:54.581Z"
   },
   {
    "duration": 158,
    "start_time": "2022-08-09T12:33:54.594Z"
   },
   {
    "duration": 7,
    "start_time": "2022-08-09T12:33:54.754Z"
   },
   {
    "duration": 10,
    "start_time": "2022-08-09T12:33:54.763Z"
   },
   {
    "duration": 20,
    "start_time": "2022-08-09T12:33:54.774Z"
   },
   {
    "duration": 3,
    "start_time": "2022-08-09T12:33:54.795Z"
   },
   {
    "duration": 72,
    "start_time": "2022-08-09T12:33:54.799Z"
   },
   {
    "duration": 19,
    "start_time": "2022-08-09T12:33:54.873Z"
   },
   {
    "duration": 7,
    "start_time": "2022-08-09T12:33:54.894Z"
   },
   {
    "duration": 12,
    "start_time": "2022-08-09T12:33:54.903Z"
   },
   {
    "duration": 6,
    "start_time": "2022-08-09T12:33:54.918Z"
   },
   {
    "duration": 7,
    "start_time": "2022-08-09T12:33:54.926Z"
   },
   {
    "duration": 396,
    "start_time": "2022-08-09T12:33:54.935Z"
   },
   {
    "duration": 19,
    "start_time": "2022-08-09T12:33:55.333Z"
   },
   {
    "duration": 11,
    "start_time": "2022-08-09T12:33:55.354Z"
   },
   {
    "duration": 81,
    "start_time": "2022-08-09T12:33:55.367Z"
   },
   {
    "duration": 25,
    "start_time": "2022-08-09T12:33:55.451Z"
   },
   {
    "duration": 7,
    "start_time": "2022-08-09T12:33:55.479Z"
   },
   {
    "duration": 16,
    "start_time": "2022-08-09T12:33:55.489Z"
   },
   {
    "duration": 315,
    "start_time": "2022-08-09T12:33:55.509Z"
   },
   {
    "duration": 329,
    "start_time": "2022-08-09T12:33:55.826Z"
   },
   {
    "duration": 340,
    "start_time": "2022-08-09T12:33:56.157Z"
   },
   {
    "duration": 289,
    "start_time": "2022-08-09T12:33:56.498Z"
   },
   {
    "duration": 381,
    "start_time": "2022-08-09T12:33:56.791Z"
   },
   {
    "duration": 174,
    "start_time": "2022-08-09T12:33:57.173Z"
   },
   {
    "duration": 200,
    "start_time": "2022-08-09T12:33:57.348Z"
   },
   {
    "duration": 1723,
    "start_time": "2022-08-09T12:34:16.733Z"
   },
   {
    "duration": 18,
    "start_time": "2022-08-09T12:34:18.458Z"
   },
   {
    "duration": 2099,
    "start_time": "2022-08-09T12:34:18.477Z"
   },
   {
    "duration": 11,
    "start_time": "2022-08-09T12:34:20.579Z"
   },
   {
    "duration": 4,
    "start_time": "2022-08-09T12:34:20.594Z"
   },
   {
    "duration": 356,
    "start_time": "2022-08-09T12:34:20.600Z"
   },
   {
    "duration": 5,
    "start_time": "2022-08-09T12:34:20.957Z"
   },
   {
    "duration": 7,
    "start_time": "2022-08-09T12:34:20.964Z"
   },
   {
    "duration": 22,
    "start_time": "2022-08-09T12:34:20.973Z"
   },
   {
    "duration": 16,
    "start_time": "2022-08-09T12:34:20.997Z"
   },
   {
    "duration": 6,
    "start_time": "2022-08-09T12:34:21.015Z"
   },
   {
    "duration": 5,
    "start_time": "2022-08-09T12:34:21.023Z"
   },
   {
    "duration": 5,
    "start_time": "2022-08-09T12:34:21.030Z"
   },
   {
    "duration": 7,
    "start_time": "2022-08-09T12:34:21.038Z"
   },
   {
    "duration": 46,
    "start_time": "2022-08-09T12:34:21.047Z"
   },
   {
    "duration": 17,
    "start_time": "2022-08-09T12:34:21.094Z"
   },
   {
    "duration": 9,
    "start_time": "2022-08-09T12:34:21.112Z"
   },
   {
    "duration": 9,
    "start_time": "2022-08-09T12:34:21.122Z"
   },
   {
    "duration": 7,
    "start_time": "2022-08-09T12:34:21.133Z"
   },
   {
    "duration": 15,
    "start_time": "2022-08-09T12:34:21.141Z"
   },
   {
    "duration": 26,
    "start_time": "2022-08-09T12:34:21.191Z"
   },
   {
    "duration": 11,
    "start_time": "2022-08-09T12:34:21.219Z"
   },
   {
    "duration": 165,
    "start_time": "2022-08-09T12:34:21.232Z"
   },
   {
    "duration": 7,
    "start_time": "2022-08-09T12:34:21.399Z"
   },
   {
    "duration": 9,
    "start_time": "2022-08-09T12:34:21.408Z"
   },
   {
    "duration": 11,
    "start_time": "2022-08-09T12:34:21.419Z"
   },
   {
    "duration": 3,
    "start_time": "2022-08-09T12:34:21.431Z"
   },
   {
    "duration": 85,
    "start_time": "2022-08-09T12:34:21.435Z"
   },
   {
    "duration": 8,
    "start_time": "2022-08-09T12:34:21.522Z"
   },
   {
    "duration": 7,
    "start_time": "2022-08-09T12:34:21.532Z"
   },
   {
    "duration": 7,
    "start_time": "2022-08-09T12:34:21.541Z"
   },
   {
    "duration": 6,
    "start_time": "2022-08-09T12:34:21.550Z"
   },
   {
    "duration": 35,
    "start_time": "2022-08-09T12:34:21.557Z"
   },
   {
    "duration": 400,
    "start_time": "2022-08-09T12:34:21.594Z"
   },
   {
    "duration": 27,
    "start_time": "2022-08-09T12:34:21.997Z"
   },
   {
    "duration": 12,
    "start_time": "2022-08-09T12:34:22.026Z"
   },
   {
    "duration": 69,
    "start_time": "2022-08-09T12:34:22.040Z"
   },
   {
    "duration": 29,
    "start_time": "2022-08-09T12:34:22.111Z"
   },
   {
    "duration": 15,
    "start_time": "2022-08-09T12:34:22.142Z"
   },
   {
    "duration": 18,
    "start_time": "2022-08-09T12:34:22.160Z"
   },
   {
    "duration": 299,
    "start_time": "2022-08-09T12:34:22.192Z"
   },
   {
    "duration": 313,
    "start_time": "2022-08-09T12:34:22.493Z"
   },
   {
    "duration": 314,
    "start_time": "2022-08-09T12:34:22.808Z"
   },
   {
    "duration": 289,
    "start_time": "2022-08-09T12:34:23.124Z"
   },
   {
    "duration": 322,
    "start_time": "2022-08-09T12:34:23.415Z"
   },
   {
    "duration": 174,
    "start_time": "2022-08-09T12:34:23.739Z"
   },
   {
    "duration": 189,
    "start_time": "2022-08-09T12:34:23.915Z"
   },
   {
    "duration": 198,
    "start_time": "2022-08-09T12:34:24.106Z"
   },
   {
    "duration": 310,
    "start_time": "2022-08-09T12:34:24.306Z"
   },
   {
    "duration": 173,
    "start_time": "2022-08-09T12:34:24.618Z"
   },
   {
    "duration": 183,
    "start_time": "2022-08-09T12:34:24.793Z"
   },
   {
    "duration": 159,
    "start_time": "2022-08-09T12:34:24.978Z"
   },
   {
    "duration": 284,
    "start_time": "2022-08-09T12:34:25.139Z"
   },
   {
    "duration": 219,
    "start_time": "2022-08-09T12:34:25.424Z"
   },
   {
    "duration": 138,
    "start_time": "2022-08-09T12:34:25.645Z"
   },
   {
    "duration": 10,
    "start_time": "2022-08-09T12:34:25.791Z"
   },
   {
    "duration": 269,
    "start_time": "2022-08-09T12:34:25.802Z"
   },
   {
    "duration": 230,
    "start_time": "2022-08-09T12:34:26.074Z"
   },
   {
    "duration": 229,
    "start_time": "2022-08-09T12:34:26.305Z"
   },
   {
    "duration": 198,
    "start_time": "2022-08-09T12:34:26.535Z"
   },
   {
    "duration": 240,
    "start_time": "2022-08-09T12:34:26.735Z"
   },
   {
    "duration": 195,
    "start_time": "2022-08-09T12:34:26.977Z"
   },
   {
    "duration": 437,
    "start_time": "2022-08-09T12:34:27.174Z"
   },
   {
    "duration": 27,
    "start_time": "2022-08-09T12:34:27.612Z"
   },
   {
    "duration": 53,
    "start_time": "2022-08-09T12:34:27.640Z"
   },
   {
    "duration": 170,
    "start_time": "2022-08-09T12:34:27.695Z"
   },
   {
    "duration": 129,
    "start_time": "2022-08-09T12:37:35.736Z"
   },
   {
    "duration": 120,
    "start_time": "2022-08-09T12:39:03.977Z"
   },
   {
    "duration": 118,
    "start_time": "2022-08-09T12:39:16.882Z"
   },
   {
    "duration": 1453,
    "start_time": "2022-08-09T12:39:19.234Z"
   },
   {
    "duration": 826,
    "start_time": "2022-08-09T12:39:36.252Z"
   },
   {
    "duration": 21,
    "start_time": "2022-08-09T12:39:37.080Z"
   },
   {
    "duration": 2168,
    "start_time": "2022-08-09T12:39:37.103Z"
   },
   {
    "duration": 10,
    "start_time": "2022-08-09T12:39:39.273Z"
   },
   {
    "duration": 18,
    "start_time": "2022-08-09T12:39:39.286Z"
   },
   {
    "duration": 296,
    "start_time": "2022-08-09T12:39:39.306Z"
   },
   {
    "duration": 6,
    "start_time": "2022-08-09T12:39:39.603Z"
   },
   {
    "duration": 21,
    "start_time": "2022-08-09T12:39:39.610Z"
   },
   {
    "duration": 17,
    "start_time": "2022-08-09T12:39:39.632Z"
   },
   {
    "duration": 18,
    "start_time": "2022-08-09T12:39:39.651Z"
   },
   {
    "duration": 25,
    "start_time": "2022-08-09T12:39:39.670Z"
   },
   {
    "duration": 16,
    "start_time": "2022-08-09T12:39:39.697Z"
   },
   {
    "duration": 23,
    "start_time": "2022-08-09T12:39:39.715Z"
   },
   {
    "duration": 29,
    "start_time": "2022-08-09T12:39:39.741Z"
   },
   {
    "duration": 18,
    "start_time": "2022-08-09T12:39:39.772Z"
   },
   {
    "duration": 38,
    "start_time": "2022-08-09T12:39:39.791Z"
   },
   {
    "duration": 11,
    "start_time": "2022-08-09T12:39:39.831Z"
   },
   {
    "duration": 21,
    "start_time": "2022-08-09T12:39:39.844Z"
   },
   {
    "duration": 19,
    "start_time": "2022-08-09T12:39:39.866Z"
   },
   {
    "duration": 30,
    "start_time": "2022-08-09T12:39:39.887Z"
   },
   {
    "duration": 41,
    "start_time": "2022-08-09T12:39:39.919Z"
   },
   {
    "duration": 7,
    "start_time": "2022-08-09T12:39:39.962Z"
   },
   {
    "duration": 159,
    "start_time": "2022-08-09T12:39:39.971Z"
   },
   {
    "duration": 8,
    "start_time": "2022-08-09T12:39:40.132Z"
   },
   {
    "duration": 8,
    "start_time": "2022-08-09T12:39:40.141Z"
   },
   {
    "duration": 7,
    "start_time": "2022-08-09T12:39:40.151Z"
   },
   {
    "duration": 4,
    "start_time": "2022-08-09T12:39:40.160Z"
   },
   {
    "duration": 81,
    "start_time": "2022-08-09T12:39:40.166Z"
   },
   {
    "duration": 10,
    "start_time": "2022-08-09T12:39:40.249Z"
   },
   {
    "duration": 10,
    "start_time": "2022-08-09T12:39:40.261Z"
   },
   {
    "duration": 28,
    "start_time": "2022-08-09T12:39:40.273Z"
   },
   {
    "duration": 9,
    "start_time": "2022-08-09T12:39:40.303Z"
   },
   {
    "duration": 8,
    "start_time": "2022-08-09T12:39:40.314Z"
   },
   {
    "duration": 378,
    "start_time": "2022-08-09T12:39:40.324Z"
   },
   {
    "duration": 17,
    "start_time": "2022-08-09T12:39:40.704Z"
   },
   {
    "duration": 5,
    "start_time": "2022-08-09T12:39:40.722Z"
   },
   {
    "duration": 46,
    "start_time": "2022-08-09T12:39:40.728Z"
   },
   {
    "duration": 38,
    "start_time": "2022-08-09T12:39:40.776Z"
   },
   {
    "duration": 6,
    "start_time": "2022-08-09T12:39:40.816Z"
   },
   {
    "duration": 19,
    "start_time": "2022-08-09T12:39:40.824Z"
   },
   {
    "duration": 422,
    "start_time": "2022-08-09T12:39:40.848Z"
   },
   {
    "duration": 315,
    "start_time": "2022-08-09T12:39:41.271Z"
   },
   {
    "duration": 367,
    "start_time": "2022-08-09T12:39:41.588Z"
   },
   {
    "duration": 234,
    "start_time": "2022-08-09T12:39:41.957Z"
   },
   {
    "duration": 334,
    "start_time": "2022-08-09T12:39:42.193Z"
   },
   {
    "duration": 174,
    "start_time": "2022-08-09T12:39:42.529Z"
   },
   {
    "duration": 188,
    "start_time": "2022-08-09T12:39:42.705Z"
   },
   {
    "duration": 82,
    "start_time": "2022-08-09T12:39:42.895Z"
   },
   {
    "duration": 0,
    "start_time": "2022-08-09T12:39:42.979Z"
   },
   {
    "duration": 0,
    "start_time": "2022-08-09T12:39:42.992Z"
   },
   {
    "duration": 0,
    "start_time": "2022-08-09T12:39:42.994Z"
   },
   {
    "duration": 0,
    "start_time": "2022-08-09T12:39:42.995Z"
   },
   {
    "duration": 0,
    "start_time": "2022-08-09T12:39:42.997Z"
   },
   {
    "duration": 0,
    "start_time": "2022-08-09T12:39:42.998Z"
   },
   {
    "duration": 0,
    "start_time": "2022-08-09T12:39:42.999Z"
   },
   {
    "duration": 0,
    "start_time": "2022-08-09T12:39:43.000Z"
   },
   {
    "duration": 0,
    "start_time": "2022-08-09T12:39:43.001Z"
   },
   {
    "duration": 0,
    "start_time": "2022-08-09T12:39:43.002Z"
   },
   {
    "duration": 0,
    "start_time": "2022-08-09T12:39:43.003Z"
   },
   {
    "duration": 0,
    "start_time": "2022-08-09T12:39:43.004Z"
   },
   {
    "duration": 0,
    "start_time": "2022-08-09T12:39:43.005Z"
   },
   {
    "duration": 0,
    "start_time": "2022-08-09T12:39:43.006Z"
   },
   {
    "duration": 0,
    "start_time": "2022-08-09T12:39:43.007Z"
   },
   {
    "duration": 0,
    "start_time": "2022-08-09T12:39:43.008Z"
   },
   {
    "duration": 0,
    "start_time": "2022-08-09T12:39:43.008Z"
   },
   {
    "duration": 0,
    "start_time": "2022-08-09T12:39:43.009Z"
   },
   {
    "duration": 0,
    "start_time": "2022-08-09T12:39:43.011Z"
   },
   {
    "duration": 401,
    "start_time": "2022-08-09T12:40:56.532Z"
   },
   {
    "duration": 315,
    "start_time": "2022-08-09T12:41:10.773Z"
   },
   {
    "duration": 322,
    "start_time": "2022-08-09T12:41:17.893Z"
   },
   {
    "duration": 810,
    "start_time": "2022-08-09T12:41:25.123Z"
   },
   {
    "duration": 17,
    "start_time": "2022-08-09T12:41:25.935Z"
   },
   {
    "duration": 2158,
    "start_time": "2022-08-09T12:41:25.953Z"
   },
   {
    "duration": 10,
    "start_time": "2022-08-09T12:41:28.113Z"
   },
   {
    "duration": 6,
    "start_time": "2022-08-09T12:41:28.125Z"
   },
   {
    "duration": 249,
    "start_time": "2022-08-09T12:41:28.133Z"
   },
   {
    "duration": 9,
    "start_time": "2022-08-09T12:41:28.384Z"
   },
   {
    "duration": 4,
    "start_time": "2022-08-09T12:41:28.395Z"
   },
   {
    "duration": 6,
    "start_time": "2022-08-09T12:41:28.401Z"
   },
   {
    "duration": 18,
    "start_time": "2022-08-09T12:41:28.411Z"
   },
   {
    "duration": 15,
    "start_time": "2022-08-09T12:41:28.431Z"
   },
   {
    "duration": 6,
    "start_time": "2022-08-09T12:41:28.448Z"
   },
   {
    "duration": 6,
    "start_time": "2022-08-09T12:41:28.455Z"
   },
   {
    "duration": 42,
    "start_time": "2022-08-09T12:41:28.463Z"
   },
   {
    "duration": 33,
    "start_time": "2022-08-09T12:41:28.507Z"
   },
   {
    "duration": 15,
    "start_time": "2022-08-09T12:41:28.542Z"
   },
   {
    "duration": 8,
    "start_time": "2022-08-09T12:41:28.559Z"
   },
   {
    "duration": 11,
    "start_time": "2022-08-09T12:41:28.569Z"
   },
   {
    "duration": 9,
    "start_time": "2022-08-09T12:41:28.582Z"
   },
   {
    "duration": 17,
    "start_time": "2022-08-09T12:41:28.593Z"
   },
   {
    "duration": 24,
    "start_time": "2022-08-09T12:41:28.612Z"
   },
   {
    "duration": 7,
    "start_time": "2022-08-09T12:41:28.637Z"
   },
   {
    "duration": 163,
    "start_time": "2022-08-09T12:41:28.646Z"
   },
   {
    "duration": 7,
    "start_time": "2022-08-09T12:41:28.811Z"
   },
   {
    "duration": 34,
    "start_time": "2022-08-09T12:41:28.819Z"
   },
   {
    "duration": 12,
    "start_time": "2022-08-09T12:41:28.854Z"
   },
   {
    "duration": 18,
    "start_time": "2022-08-09T12:41:28.867Z"
   },
   {
    "duration": 70,
    "start_time": "2022-08-09T12:41:28.890Z"
   },
   {
    "duration": 9,
    "start_time": "2022-08-09T12:41:28.962Z"
   },
   {
    "duration": 6,
    "start_time": "2022-08-09T12:41:28.972Z"
   },
   {
    "duration": 20,
    "start_time": "2022-08-09T12:41:28.979Z"
   },
   {
    "duration": 7,
    "start_time": "2022-08-09T12:41:29.001Z"
   },
   {
    "duration": 7,
    "start_time": "2022-08-09T12:41:29.009Z"
   },
   {
    "duration": 362,
    "start_time": "2022-08-09T12:41:29.017Z"
   },
   {
    "duration": 21,
    "start_time": "2022-08-09T12:41:29.381Z"
   },
   {
    "duration": 5,
    "start_time": "2022-08-09T12:41:29.404Z"
   },
   {
    "duration": 47,
    "start_time": "2022-08-09T12:41:29.412Z"
   },
   {
    "duration": 46,
    "start_time": "2022-08-09T12:41:29.461Z"
   },
   {
    "duration": 7,
    "start_time": "2022-08-09T12:41:29.509Z"
   },
   {
    "duration": 9,
    "start_time": "2022-08-09T12:41:29.517Z"
   },
   {
    "duration": 418,
    "start_time": "2022-08-09T12:41:29.528Z"
   },
   {
    "duration": 317,
    "start_time": "2022-08-09T12:41:29.948Z"
   },
   {
    "duration": 333,
    "start_time": "2022-08-09T12:41:30.267Z"
   },
   {
    "duration": 196,
    "start_time": "2022-08-09T12:41:30.602Z"
   },
   {
    "duration": 327,
    "start_time": "2022-08-09T12:41:30.801Z"
   },
   {
    "duration": 179,
    "start_time": "2022-08-09T12:41:31.130Z"
   },
   {
    "duration": 193,
    "start_time": "2022-08-09T12:41:31.311Z"
   },
   {
    "duration": 227,
    "start_time": "2022-08-09T12:41:31.505Z"
   },
   {
    "duration": 513,
    "start_time": "2022-08-09T12:41:31.734Z"
   },
   {
    "duration": 175,
    "start_time": "2022-08-09T12:41:32.248Z"
   },
   {
    "duration": 184,
    "start_time": "2022-08-09T12:41:32.425Z"
   },
   {
    "duration": 161,
    "start_time": "2022-08-09T12:41:32.611Z"
   },
   {
    "duration": 164,
    "start_time": "2022-08-09T12:41:32.774Z"
   },
   {
    "duration": 224,
    "start_time": "2022-08-09T12:41:32.940Z"
   },
   {
    "duration": 150,
    "start_time": "2022-08-09T12:41:33.166Z"
   },
   {
    "duration": 11,
    "start_time": "2022-08-09T12:41:33.318Z"
   },
   {
    "duration": 272,
    "start_time": "2022-08-09T12:41:33.331Z"
   },
   {
    "duration": 223,
    "start_time": "2022-08-09T12:41:33.605Z"
   },
   {
    "duration": 321,
    "start_time": "2022-08-09T12:41:33.830Z"
   },
   {
    "duration": 201,
    "start_time": "2022-08-09T12:41:34.153Z"
   },
   {
    "duration": 222,
    "start_time": "2022-08-09T12:41:34.356Z"
   },
   {
    "duration": 209,
    "start_time": "2022-08-09T12:41:34.580Z"
   },
   {
    "duration": 353,
    "start_time": "2022-08-09T12:41:34.791Z"
   },
   {
    "duration": 29,
    "start_time": "2022-08-09T12:41:35.145Z"
   },
   {
    "duration": 52,
    "start_time": "2022-08-09T12:41:35.175Z"
   },
   {
    "duration": 195,
    "start_time": "2022-08-09T12:41:35.229Z"
   },
   {
    "duration": 77,
    "start_time": "2022-08-09T12:45:30.212Z"
   },
   {
    "duration": 82,
    "start_time": "2022-08-09T12:53:02.353Z"
   },
   {
    "duration": 1399,
    "start_time": "2022-08-09T12:53:08.528Z"
   },
   {
    "duration": 4,
    "start_time": "2022-08-09T12:53:19.459Z"
   },
   {
    "duration": 7,
    "start_time": "2022-08-09T12:53:31.113Z"
   },
   {
    "duration": 11,
    "start_time": "2022-08-09T13:01:53.199Z"
   },
   {
    "duration": 10,
    "start_time": "2022-08-09T13:02:43.120Z"
   },
   {
    "duration": 6,
    "start_time": "2022-08-09T13:02:56.593Z"
   },
   {
    "duration": 9,
    "start_time": "2022-08-09T13:03:13.090Z"
   },
   {
    "duration": 8,
    "start_time": "2022-08-09T13:03:44.258Z"
   },
   {
    "duration": 4,
    "start_time": "2022-08-09T13:04:20.316Z"
   },
   {
    "duration": 6,
    "start_time": "2022-08-09T13:04:40.556Z"
   },
   {
    "duration": 8,
    "start_time": "2022-08-09T13:07:58.522Z"
   },
   {
    "duration": 7,
    "start_time": "2022-08-09T13:08:05.617Z"
   },
   {
    "duration": 7,
    "start_time": "2022-08-09T13:08:30.526Z"
   },
   {
    "duration": 6,
    "start_time": "2022-08-09T13:11:44.713Z"
   },
   {
    "duration": 11,
    "start_time": "2022-08-09T13:12:11.801Z"
   },
   {
    "duration": 10,
    "start_time": "2022-08-09T13:14:20.396Z"
   },
   {
    "duration": 3196,
    "start_time": "2022-08-09T13:15:08.605Z"
   },
   {
    "duration": 10,
    "start_time": "2022-08-09T13:15:26.941Z"
   },
   {
    "duration": 9,
    "start_time": "2022-08-09T13:16:03.486Z"
   },
   {
    "duration": 9,
    "start_time": "2022-08-09T13:16:15.535Z"
   },
   {
    "duration": 3195,
    "start_time": "2022-08-09T13:16:27.208Z"
   },
   {
    "duration": 10,
    "start_time": "2022-08-09T13:17:08.882Z"
   },
   {
    "duration": 3109,
    "start_time": "2022-08-09T13:17:24.720Z"
   },
   {
    "duration": 29,
    "start_time": "2022-08-09T13:17:36.929Z"
   },
   {
    "duration": 3105,
    "start_time": "2022-08-09T13:19:25.004Z"
   },
   {
    "duration": 3114,
    "start_time": "2022-08-09T13:19:44.509Z"
   },
   {
    "duration": 7,
    "start_time": "2022-08-09T13:27:42.225Z"
   },
   {
    "duration": 3,
    "start_time": "2022-08-09T13:28:42.747Z"
   },
   {
    "duration": 9,
    "start_time": "2022-08-09T13:36:24.368Z"
   },
   {
    "duration": 8,
    "start_time": "2022-08-09T13:36:59.929Z"
   },
   {
    "duration": 10,
    "start_time": "2022-08-09T13:37:07.456Z"
   },
   {
    "duration": 58,
    "start_time": "2022-08-09T13:38:13.362Z"
   },
   {
    "duration": 4,
    "start_time": "2022-08-09T13:38:48.258Z"
   },
   {
    "duration": 46,
    "start_time": "2022-08-09T13:38:48.994Z"
   },
   {
    "duration": 98,
    "start_time": "2022-08-09T13:38:55.067Z"
   },
   {
    "duration": 12,
    "start_time": "2022-08-09T13:38:57.387Z"
   },
   {
    "duration": 40,
    "start_time": "2022-08-09T13:39:35.372Z"
   },
   {
    "duration": 10,
    "start_time": "2022-08-09T13:42:30.329Z"
   },
   {
    "duration": 9,
    "start_time": "2022-08-09T13:42:38.545Z"
   },
   {
    "duration": 5,
    "start_time": "2022-08-09T13:42:48.457Z"
   },
   {
    "duration": 10,
    "start_time": "2022-08-09T13:42:50.082Z"
   },
   {
    "duration": 12,
    "start_time": "2022-08-09T13:42:51.793Z"
   },
   {
    "duration": 5,
    "start_time": "2022-08-09T13:42:53.032Z"
   },
   {
    "duration": 9,
    "start_time": "2022-08-09T13:42:53.817Z"
   },
   {
    "duration": 811,
    "start_time": "2022-08-09T13:43:19.632Z"
   },
   {
    "duration": 17,
    "start_time": "2022-08-09T13:43:20.445Z"
   },
   {
    "duration": 2344,
    "start_time": "2022-08-09T13:43:20.464Z"
   },
   {
    "duration": 11,
    "start_time": "2022-08-09T13:43:22.811Z"
   },
   {
    "duration": 5,
    "start_time": "2022-08-09T13:43:22.823Z"
   },
   {
    "duration": 277,
    "start_time": "2022-08-09T13:43:22.829Z"
   },
   {
    "duration": 6,
    "start_time": "2022-08-09T13:43:23.108Z"
   },
   {
    "duration": 19,
    "start_time": "2022-08-09T13:43:23.116Z"
   },
   {
    "duration": 22,
    "start_time": "2022-08-09T13:43:23.136Z"
   },
   {
    "duration": 18,
    "start_time": "2022-08-09T13:43:23.161Z"
   },
   {
    "duration": 14,
    "start_time": "2022-08-09T13:43:23.181Z"
   },
   {
    "duration": 59,
    "start_time": "2022-08-09T13:43:23.197Z"
   },
   {
    "duration": 11,
    "start_time": "2022-08-09T13:43:23.258Z"
   },
   {
    "duration": 25,
    "start_time": "2022-08-09T13:43:23.270Z"
   },
   {
    "duration": 6,
    "start_time": "2022-08-09T13:43:23.296Z"
   },
   {
    "duration": 14,
    "start_time": "2022-08-09T13:43:23.303Z"
   },
   {
    "duration": 11,
    "start_time": "2022-08-09T13:43:23.318Z"
   },
   {
    "duration": 16,
    "start_time": "2022-08-09T13:43:23.330Z"
   },
   {
    "duration": 8,
    "start_time": "2022-08-09T13:43:23.347Z"
   },
   {
    "duration": 9,
    "start_time": "2022-08-09T13:43:23.357Z"
   },
   {
    "duration": 85,
    "start_time": "2022-08-09T13:43:23.391Z"
   },
   {
    "duration": 0,
    "start_time": "2022-08-09T13:43:23.479Z"
   },
   {
    "duration": 0,
    "start_time": "2022-08-09T13:43:23.481Z"
   },
   {
    "duration": 0,
    "start_time": "2022-08-09T13:43:23.482Z"
   },
   {
    "duration": 0,
    "start_time": "2022-08-09T13:43:23.483Z"
   },
   {
    "duration": 0,
    "start_time": "2022-08-09T13:43:23.492Z"
   },
   {
    "duration": 0,
    "start_time": "2022-08-09T13:43:23.493Z"
   },
   {
    "duration": 0,
    "start_time": "2022-08-09T13:43:23.494Z"
   },
   {
    "duration": 0,
    "start_time": "2022-08-09T13:43:23.495Z"
   },
   {
    "duration": 0,
    "start_time": "2022-08-09T13:43:23.496Z"
   },
   {
    "duration": 0,
    "start_time": "2022-08-09T13:43:23.497Z"
   },
   {
    "duration": 0,
    "start_time": "2022-08-09T13:43:23.498Z"
   },
   {
    "duration": 0,
    "start_time": "2022-08-09T13:43:23.499Z"
   },
   {
    "duration": 0,
    "start_time": "2022-08-09T13:43:23.500Z"
   },
   {
    "duration": 0,
    "start_time": "2022-08-09T13:43:23.502Z"
   },
   {
    "duration": 0,
    "start_time": "2022-08-09T13:43:23.503Z"
   },
   {
    "duration": 0,
    "start_time": "2022-08-09T13:43:23.504Z"
   },
   {
    "duration": 0,
    "start_time": "2022-08-09T13:43:23.504Z"
   },
   {
    "duration": 0,
    "start_time": "2022-08-09T13:43:23.505Z"
   },
   {
    "duration": 0,
    "start_time": "2022-08-09T13:43:23.506Z"
   },
   {
    "duration": 0,
    "start_time": "2022-08-09T13:43:23.507Z"
   },
   {
    "duration": 0,
    "start_time": "2022-08-09T13:43:23.508Z"
   },
   {
    "duration": 0,
    "start_time": "2022-08-09T13:43:23.509Z"
   },
   {
    "duration": 0,
    "start_time": "2022-08-09T13:43:23.510Z"
   },
   {
    "duration": 0,
    "start_time": "2022-08-09T13:43:23.511Z"
   },
   {
    "duration": 0,
    "start_time": "2022-08-09T13:43:23.512Z"
   },
   {
    "duration": 0,
    "start_time": "2022-08-09T13:43:23.513Z"
   },
   {
    "duration": 0,
    "start_time": "2022-08-09T13:43:23.514Z"
   },
   {
    "duration": 0,
    "start_time": "2022-08-09T13:43:23.515Z"
   },
   {
    "duration": 0,
    "start_time": "2022-08-09T13:43:23.516Z"
   },
   {
    "duration": 0,
    "start_time": "2022-08-09T13:43:23.517Z"
   },
   {
    "duration": 0,
    "start_time": "2022-08-09T13:43:23.518Z"
   },
   {
    "duration": 0,
    "start_time": "2022-08-09T13:43:23.519Z"
   },
   {
    "duration": 0,
    "start_time": "2022-08-09T13:43:23.520Z"
   },
   {
    "duration": 0,
    "start_time": "2022-08-09T13:43:23.522Z"
   },
   {
    "duration": 1,
    "start_time": "2022-08-09T13:43:23.522Z"
   },
   {
    "duration": 0,
    "start_time": "2022-08-09T13:43:23.524Z"
   },
   {
    "duration": 0,
    "start_time": "2022-08-09T13:43:23.525Z"
   },
   {
    "duration": 0,
    "start_time": "2022-08-09T13:43:23.526Z"
   },
   {
    "duration": 0,
    "start_time": "2022-08-09T13:43:23.527Z"
   },
   {
    "duration": 0,
    "start_time": "2022-08-09T13:43:23.528Z"
   },
   {
    "duration": 0,
    "start_time": "2022-08-09T13:43:23.593Z"
   },
   {
    "duration": 0,
    "start_time": "2022-08-09T13:43:23.593Z"
   },
   {
    "duration": 0,
    "start_time": "2022-08-09T13:43:23.595Z"
   },
   {
    "duration": 0,
    "start_time": "2022-08-09T13:43:23.596Z"
   },
   {
    "duration": 0,
    "start_time": "2022-08-09T13:43:23.597Z"
   },
   {
    "duration": 0,
    "start_time": "2022-08-09T13:43:23.598Z"
   },
   {
    "duration": 0,
    "start_time": "2022-08-09T13:43:23.599Z"
   },
   {
    "duration": 0,
    "start_time": "2022-08-09T13:43:23.600Z"
   },
   {
    "duration": 0,
    "start_time": "2022-08-09T13:43:23.601Z"
   },
   {
    "duration": 0,
    "start_time": "2022-08-09T13:43:23.602Z"
   },
   {
    "duration": 0,
    "start_time": "2022-08-09T13:43:23.603Z"
   },
   {
    "duration": 0,
    "start_time": "2022-08-09T13:43:23.604Z"
   },
   {
    "duration": 0,
    "start_time": "2022-08-09T13:43:23.605Z"
   },
   {
    "duration": 4,
    "start_time": "2022-08-09T13:44:36.320Z"
   },
   {
    "duration": 50,
    "start_time": "2022-08-09T13:44:38.480Z"
   },
   {
    "duration": 5,
    "start_time": "2022-08-09T13:45:34.210Z"
   },
   {
    "duration": 53,
    "start_time": "2022-08-09T13:45:35.890Z"
   },
   {
    "duration": 5,
    "start_time": "2022-08-09T13:45:39.680Z"
   },
   {
    "duration": 50,
    "start_time": "2022-08-09T13:45:41.273Z"
   },
   {
    "duration": 52,
    "start_time": "2022-08-09T13:45:51.699Z"
   },
   {
    "duration": 6,
    "start_time": "2022-08-09T13:46:00.354Z"
   },
   {
    "duration": 50,
    "start_time": "2022-08-09T13:46:02.498Z"
   },
   {
    "duration": 6,
    "start_time": "2022-08-09T13:52:21.870Z"
   },
   {
    "duration": 6,
    "start_time": "2022-08-09T13:52:30.006Z"
   },
   {
    "duration": 845,
    "start_time": "2022-08-09T13:52:42.591Z"
   },
   {
    "duration": 17,
    "start_time": "2022-08-09T13:52:43.439Z"
   },
   {
    "duration": 2149,
    "start_time": "2022-08-09T13:52:43.458Z"
   },
   {
    "duration": 11,
    "start_time": "2022-08-09T13:52:45.610Z"
   },
   {
    "duration": 18,
    "start_time": "2022-08-09T13:52:45.624Z"
   },
   {
    "duration": 274,
    "start_time": "2022-08-09T13:52:45.644Z"
   },
   {
    "duration": 4,
    "start_time": "2022-08-09T13:52:45.920Z"
   },
   {
    "duration": 16,
    "start_time": "2022-08-09T13:52:45.926Z"
   },
   {
    "duration": 22,
    "start_time": "2022-08-09T13:52:45.944Z"
   },
   {
    "duration": 17,
    "start_time": "2022-08-09T13:52:45.968Z"
   },
   {
    "duration": 29,
    "start_time": "2022-08-09T13:52:45.987Z"
   },
   {
    "duration": 10,
    "start_time": "2022-08-09T13:52:46.017Z"
   },
   {
    "duration": 11,
    "start_time": "2022-08-09T13:52:46.029Z"
   },
   {
    "duration": 17,
    "start_time": "2022-08-09T13:52:46.044Z"
   },
   {
    "duration": 21,
    "start_time": "2022-08-09T13:52:46.062Z"
   },
   {
    "duration": 7,
    "start_time": "2022-08-09T13:52:46.085Z"
   },
   {
    "duration": 22,
    "start_time": "2022-08-09T13:52:46.094Z"
   },
   {
    "duration": 32,
    "start_time": "2022-08-09T13:52:46.118Z"
   },
   {
    "duration": 29,
    "start_time": "2022-08-09T13:52:46.151Z"
   },
   {
    "duration": 8,
    "start_time": "2022-08-09T13:52:46.182Z"
   },
   {
    "duration": 21,
    "start_time": "2022-08-09T13:52:46.192Z"
   },
   {
    "duration": 13,
    "start_time": "2022-08-09T13:52:46.215Z"
   },
   {
    "duration": 19,
    "start_time": "2022-08-09T13:52:46.230Z"
   },
   {
    "duration": 31,
    "start_time": "2022-08-09T13:52:46.251Z"
   },
   {
    "duration": 7,
    "start_time": "2022-08-09T13:52:46.284Z"
   },
   {
    "duration": 156,
    "start_time": "2022-08-09T13:52:46.293Z"
   },
   {
    "duration": 9,
    "start_time": "2022-08-09T13:52:46.451Z"
   },
   {
    "duration": 7,
    "start_time": "2022-08-09T13:52:46.461Z"
   },
   {
    "duration": 25,
    "start_time": "2022-08-09T13:52:46.470Z"
   },
   {
    "duration": 15,
    "start_time": "2022-08-09T13:52:46.496Z"
   },
   {
    "duration": 18,
    "start_time": "2022-08-09T13:52:46.512Z"
   },
   {
    "duration": 20,
    "start_time": "2022-08-09T13:52:46.532Z"
   },
   {
    "duration": 15,
    "start_time": "2022-08-09T13:52:46.553Z"
   },
   {
    "duration": 59,
    "start_time": "2022-08-09T13:52:46.570Z"
   },
   {
    "duration": 8,
    "start_time": "2022-08-09T13:52:46.631Z"
   },
   {
    "duration": 7,
    "start_time": "2022-08-09T13:52:46.641Z"
   },
   {
    "duration": 10,
    "start_time": "2022-08-09T13:52:46.649Z"
   },
   {
    "duration": 7,
    "start_time": "2022-08-09T13:52:46.661Z"
   },
   {
    "duration": 5,
    "start_time": "2022-08-09T13:52:46.691Z"
   },
   {
    "duration": 9,
    "start_time": "2022-08-09T13:52:46.698Z"
   },
   {
    "duration": 5,
    "start_time": "2022-08-09T13:52:46.712Z"
   },
   {
    "duration": 6,
    "start_time": "2022-08-09T13:52:46.719Z"
   },
   {
    "duration": 377,
    "start_time": "2022-08-09T13:52:46.727Z"
   },
   {
    "duration": 17,
    "start_time": "2022-08-09T13:52:47.106Z"
   },
   {
    "duration": 9,
    "start_time": "2022-08-09T13:52:47.124Z"
   },
   {
    "duration": 46,
    "start_time": "2022-08-09T13:52:47.134Z"
   },
   {
    "duration": 30,
    "start_time": "2022-08-09T13:52:47.182Z"
   },
   {
    "duration": 5,
    "start_time": "2022-08-09T13:52:47.213Z"
   },
   {
    "duration": 11,
    "start_time": "2022-08-09T13:52:47.220Z"
   },
   {
    "duration": 394,
    "start_time": "2022-08-09T13:52:47.233Z"
   },
   {
    "duration": 318,
    "start_time": "2022-08-09T13:52:47.629Z"
   },
   {
    "duration": 325,
    "start_time": "2022-08-09T13:52:47.949Z"
   },
   {
    "duration": 184,
    "start_time": "2022-08-09T13:52:48.275Z"
   },
   {
    "duration": 322,
    "start_time": "2022-08-09T13:52:48.461Z"
   },
   {
    "duration": 167,
    "start_time": "2022-08-09T13:52:48.786Z"
   },
   {
    "duration": 175,
    "start_time": "2022-08-09T13:52:48.955Z"
   },
   {
    "duration": 201,
    "start_time": "2022-08-09T13:52:49.131Z"
   },
   {
    "duration": 419,
    "start_time": "2022-08-09T13:52:49.334Z"
   },
   {
    "duration": 176,
    "start_time": "2022-08-09T13:52:49.755Z"
   },
   {
    "duration": 203,
    "start_time": "2022-08-09T13:52:49.933Z"
   },
   {
    "duration": 167,
    "start_time": "2022-08-09T13:52:50.138Z"
   },
   {
    "duration": 174,
    "start_time": "2022-08-09T13:52:50.307Z"
   },
   {
    "duration": 219,
    "start_time": "2022-08-09T13:52:50.483Z"
   },
   {
    "duration": 141,
    "start_time": "2022-08-09T13:52:50.704Z"
   },
   {
    "duration": 10,
    "start_time": "2022-08-09T13:52:50.847Z"
   },
   {
    "duration": 266,
    "start_time": "2022-08-09T13:52:50.859Z"
   },
   {
    "duration": 216,
    "start_time": "2022-08-09T13:52:51.127Z"
   },
   {
    "duration": 300,
    "start_time": "2022-08-09T13:52:51.345Z"
   },
   {
    "duration": 203,
    "start_time": "2022-08-09T13:52:51.646Z"
   },
   {
    "duration": 292,
    "start_time": "2022-08-09T13:52:51.851Z"
   },
   {
    "duration": 204,
    "start_time": "2022-08-09T13:52:52.145Z"
   },
   {
    "duration": 353,
    "start_time": "2022-08-09T13:52:52.350Z"
   },
   {
    "duration": 26,
    "start_time": "2022-08-09T13:52:52.705Z"
   },
   {
    "duration": 39,
    "start_time": "2022-08-09T13:52:52.733Z"
   },
   {
    "duration": 169,
    "start_time": "2022-08-09T13:52:52.791Z"
   },
   {
    "duration": 10,
    "start_time": "2022-08-09T13:54:32.690Z"
   },
   {
    "duration": 9,
    "start_time": "2022-08-09T13:54:41.424Z"
   },
   {
    "duration": 838,
    "start_time": "2022-08-09T13:54:50.960Z"
   },
   {
    "duration": 20,
    "start_time": "2022-08-09T13:54:51.801Z"
   },
   {
    "duration": 2164,
    "start_time": "2022-08-09T13:54:51.823Z"
   },
   {
    "duration": 12,
    "start_time": "2022-08-09T13:54:53.989Z"
   },
   {
    "duration": 4,
    "start_time": "2022-08-09T13:54:54.005Z"
   },
   {
    "duration": 266,
    "start_time": "2022-08-09T13:54:54.011Z"
   },
   {
    "duration": 12,
    "start_time": "2022-08-09T13:54:54.279Z"
   },
   {
    "duration": 8,
    "start_time": "2022-08-09T13:54:54.293Z"
   },
   {
    "duration": 11,
    "start_time": "2022-08-09T13:54:54.303Z"
   },
   {
    "duration": 27,
    "start_time": "2022-08-09T13:54:54.316Z"
   },
   {
    "duration": 23,
    "start_time": "2022-08-09T13:54:54.345Z"
   },
   {
    "duration": 14,
    "start_time": "2022-08-09T13:54:54.370Z"
   },
   {
    "duration": 10,
    "start_time": "2022-08-09T13:54:54.386Z"
   },
   {
    "duration": 8,
    "start_time": "2022-08-09T13:54:54.400Z"
   },
   {
    "duration": 17,
    "start_time": "2022-08-09T13:54:54.409Z"
   },
   {
    "duration": 12,
    "start_time": "2022-08-09T13:54:54.428Z"
   },
   {
    "duration": 9,
    "start_time": "2022-08-09T13:54:54.442Z"
   },
   {
    "duration": 10,
    "start_time": "2022-08-09T13:54:54.452Z"
   },
   {
    "duration": 33,
    "start_time": "2022-08-09T13:54:54.464Z"
   },
   {
    "duration": 9,
    "start_time": "2022-08-09T13:54:54.498Z"
   },
   {
    "duration": 19,
    "start_time": "2022-08-09T13:54:54.508Z"
   },
   {
    "duration": 8,
    "start_time": "2022-08-09T13:54:54.528Z"
   },
   {
    "duration": 25,
    "start_time": "2022-08-09T13:54:54.537Z"
   },
   {
    "duration": 39,
    "start_time": "2022-08-09T13:54:54.563Z"
   },
   {
    "duration": 7,
    "start_time": "2022-08-09T13:54:54.605Z"
   },
   {
    "duration": 163,
    "start_time": "2022-08-09T13:54:54.614Z"
   },
   {
    "duration": 14,
    "start_time": "2022-08-09T13:54:54.779Z"
   },
   {
    "duration": 8,
    "start_time": "2022-08-09T13:54:54.795Z"
   },
   {
    "duration": 9,
    "start_time": "2022-08-09T13:54:54.805Z"
   },
   {
    "duration": 9,
    "start_time": "2022-08-09T13:54:54.816Z"
   },
   {
    "duration": 11,
    "start_time": "2022-08-09T13:54:54.826Z"
   },
   {
    "duration": 10,
    "start_time": "2022-08-09T13:54:54.839Z"
   },
   {
    "duration": 5,
    "start_time": "2022-08-09T13:54:54.851Z"
   },
   {
    "duration": 87,
    "start_time": "2022-08-09T13:54:54.858Z"
   },
   {
    "duration": 8,
    "start_time": "2022-08-09T13:54:54.947Z"
   },
   {
    "duration": 6,
    "start_time": "2022-08-09T13:54:54.957Z"
   },
   {
    "duration": 32,
    "start_time": "2022-08-09T13:54:54.964Z"
   },
   {
    "duration": 8,
    "start_time": "2022-08-09T13:54:54.998Z"
   },
   {
    "duration": 9,
    "start_time": "2022-08-09T13:54:55.009Z"
   },
   {
    "duration": 10,
    "start_time": "2022-08-09T13:54:55.020Z"
   },
   {
    "duration": 9,
    "start_time": "2022-08-09T13:54:55.035Z"
   },
   {
    "duration": 10,
    "start_time": "2022-08-09T13:54:55.046Z"
   },
   {
    "duration": 361,
    "start_time": "2022-08-09T13:54:55.058Z"
   },
   {
    "duration": 20,
    "start_time": "2022-08-09T13:54:55.421Z"
   },
   {
    "duration": 5,
    "start_time": "2022-08-09T13:54:55.443Z"
   },
   {
    "duration": 65,
    "start_time": "2022-08-09T13:54:55.450Z"
   },
   {
    "duration": 24,
    "start_time": "2022-08-09T13:54:55.517Z"
   },
   {
    "duration": 6,
    "start_time": "2022-08-09T13:54:55.543Z"
   },
   {
    "duration": 9,
    "start_time": "2022-08-09T13:54:55.551Z"
   },
   {
    "duration": 413,
    "start_time": "2022-08-09T13:54:55.562Z"
   },
   {
    "duration": 303,
    "start_time": "2022-08-09T13:54:55.977Z"
   },
   {
    "duration": 316,
    "start_time": "2022-08-09T13:54:56.282Z"
   },
   {
    "duration": 202,
    "start_time": "2022-08-09T13:54:56.599Z"
   },
   {
    "duration": 337,
    "start_time": "2022-08-09T13:54:56.804Z"
   },
   {
    "duration": 187,
    "start_time": "2022-08-09T13:54:57.143Z"
   },
   {
    "duration": 216,
    "start_time": "2022-08-09T13:54:57.332Z"
   },
   {
    "duration": 207,
    "start_time": "2022-08-09T13:54:57.550Z"
   },
   {
    "duration": 395,
    "start_time": "2022-08-09T13:54:57.759Z"
   },
   {
    "duration": 172,
    "start_time": "2022-08-09T13:54:58.156Z"
   },
   {
    "duration": 187,
    "start_time": "2022-08-09T13:54:58.329Z"
   },
   {
    "duration": 156,
    "start_time": "2022-08-09T13:54:58.517Z"
   },
   {
    "duration": 160,
    "start_time": "2022-08-09T13:54:58.674Z"
   },
   {
    "duration": 217,
    "start_time": "2022-08-09T13:54:58.836Z"
   },
   {
    "duration": 141,
    "start_time": "2022-08-09T13:54:59.055Z"
   },
   {
    "duration": 10,
    "start_time": "2022-08-09T13:54:59.197Z"
   },
   {
    "duration": 276,
    "start_time": "2022-08-09T13:54:59.209Z"
   },
   {
    "duration": 213,
    "start_time": "2022-08-09T13:54:59.492Z"
   },
   {
    "duration": 318,
    "start_time": "2022-08-09T13:54:59.707Z"
   },
   {
    "duration": 210,
    "start_time": "2022-08-09T13:55:00.027Z"
   },
   {
    "duration": 232,
    "start_time": "2022-08-09T13:55:00.239Z"
   },
   {
    "duration": 220,
    "start_time": "2022-08-09T13:55:00.473Z"
   },
   {
    "duration": 380,
    "start_time": "2022-08-09T13:55:00.695Z"
   },
   {
    "duration": 33,
    "start_time": "2022-08-09T13:55:01.077Z"
   },
   {
    "duration": 65,
    "start_time": "2022-08-09T13:55:01.112Z"
   },
   {
    "duration": 169,
    "start_time": "2022-08-09T13:55:01.179Z"
   },
   {
    "duration": 289,
    "start_time": "2022-08-09T13:59:15.505Z"
   },
   {
    "duration": 319,
    "start_time": "2022-08-09T13:59:19.096Z"
   },
   {
    "duration": 393,
    "start_time": "2022-08-09T13:59:34.888Z"
   },
   {
    "duration": 252,
    "start_time": "2022-08-09T14:01:42.707Z"
   },
   {
    "duration": 163,
    "start_time": "2022-08-09T14:01:53.019Z"
   },
   {
    "duration": 863,
    "start_time": "2022-08-09T14:02:41.251Z"
   },
   {
    "duration": 17,
    "start_time": "2022-08-09T14:02:42.116Z"
   },
   {
    "duration": 2148,
    "start_time": "2022-08-09T14:02:42.135Z"
   },
   {
    "duration": 10,
    "start_time": "2022-08-09T14:02:44.285Z"
   },
   {
    "duration": 5,
    "start_time": "2022-08-09T14:02:44.298Z"
   },
   {
    "duration": 256,
    "start_time": "2022-08-09T14:02:44.304Z"
   },
   {
    "duration": 5,
    "start_time": "2022-08-09T14:02:44.562Z"
   },
   {
    "duration": 5,
    "start_time": "2022-08-09T14:02:44.569Z"
   },
   {
    "duration": 5,
    "start_time": "2022-08-09T14:02:44.591Z"
   },
   {
    "duration": 8,
    "start_time": "2022-08-09T14:02:44.598Z"
   },
   {
    "duration": 10,
    "start_time": "2022-08-09T14:02:44.608Z"
   },
   {
    "duration": 5,
    "start_time": "2022-08-09T14:02:44.619Z"
   },
   {
    "duration": 5,
    "start_time": "2022-08-09T14:02:44.625Z"
   },
   {
    "duration": 5,
    "start_time": "2022-08-09T14:02:44.634Z"
   },
   {
    "duration": 10,
    "start_time": "2022-08-09T14:02:44.641Z"
   },
   {
    "duration": 40,
    "start_time": "2022-08-09T14:02:44.653Z"
   },
   {
    "duration": 10,
    "start_time": "2022-08-09T14:02:44.695Z"
   },
   {
    "duration": 11,
    "start_time": "2022-08-09T14:02:44.707Z"
   },
   {
    "duration": 17,
    "start_time": "2022-08-09T14:02:44.720Z"
   },
   {
    "duration": 8,
    "start_time": "2022-08-09T14:02:44.738Z"
   },
   {
    "duration": 46,
    "start_time": "2022-08-09T14:02:44.748Z"
   },
   {
    "duration": 7,
    "start_time": "2022-08-09T14:02:44.796Z"
   },
   {
    "duration": 19,
    "start_time": "2022-08-09T14:02:44.804Z"
   },
   {
    "duration": 25,
    "start_time": "2022-08-09T14:02:44.825Z"
   },
   {
    "duration": 7,
    "start_time": "2022-08-09T14:02:44.852Z"
   },
   {
    "duration": 187,
    "start_time": "2022-08-09T14:02:44.862Z"
   },
   {
    "duration": 9,
    "start_time": "2022-08-09T14:02:45.050Z"
   },
   {
    "duration": 15,
    "start_time": "2022-08-09T14:02:45.061Z"
   },
   {
    "duration": 16,
    "start_time": "2022-08-09T14:02:45.077Z"
   },
   {
    "duration": 9,
    "start_time": "2022-08-09T14:02:45.095Z"
   },
   {
    "duration": 9,
    "start_time": "2022-08-09T14:02:45.106Z"
   },
   {
    "duration": 11,
    "start_time": "2022-08-09T14:02:45.116Z"
   },
   {
    "duration": 27,
    "start_time": "2022-08-09T14:02:45.129Z"
   },
   {
    "duration": 70,
    "start_time": "2022-08-09T14:02:45.158Z"
   },
   {
    "duration": 9,
    "start_time": "2022-08-09T14:02:45.230Z"
   },
   {
    "duration": 7,
    "start_time": "2022-08-09T14:02:45.241Z"
   },
   {
    "duration": 12,
    "start_time": "2022-08-09T14:02:45.250Z"
   },
   {
    "duration": 29,
    "start_time": "2022-08-09T14:02:45.264Z"
   },
   {
    "duration": 5,
    "start_time": "2022-08-09T14:02:45.295Z"
   },
   {
    "duration": 13,
    "start_time": "2022-08-09T14:02:45.302Z"
   },
   {
    "duration": 7,
    "start_time": "2022-08-09T14:02:45.320Z"
   },
   {
    "duration": 7,
    "start_time": "2022-08-09T14:02:45.328Z"
   },
   {
    "duration": 361,
    "start_time": "2022-08-09T14:02:45.336Z"
   },
   {
    "duration": 18,
    "start_time": "2022-08-09T14:02:45.699Z"
   },
   {
    "duration": 5,
    "start_time": "2022-08-09T14:02:45.719Z"
   },
   {
    "duration": 41,
    "start_time": "2022-08-09T14:02:45.725Z"
   },
   {
    "duration": 46,
    "start_time": "2022-08-09T14:02:45.768Z"
   },
   {
    "duration": 6,
    "start_time": "2022-08-09T14:02:45.816Z"
   },
   {
    "duration": 9,
    "start_time": "2022-08-09T14:02:45.824Z"
   },
   {
    "duration": 438,
    "start_time": "2022-08-09T14:02:45.835Z"
   },
   {
    "duration": 301,
    "start_time": "2022-08-09T14:02:46.274Z"
   },
   {
    "duration": 335,
    "start_time": "2022-08-09T14:02:46.577Z"
   },
   {
    "duration": 195,
    "start_time": "2022-08-09T14:02:46.914Z"
   },
   {
    "duration": 335,
    "start_time": "2022-08-09T14:02:47.111Z"
   },
   {
    "duration": 175,
    "start_time": "2022-08-09T14:02:47.447Z"
   },
   {
    "duration": 179,
    "start_time": "2022-08-09T14:02:47.624Z"
   },
   {
    "duration": 209,
    "start_time": "2022-08-09T14:02:47.805Z"
   },
   {
    "duration": 406,
    "start_time": "2022-08-09T14:02:48.016Z"
   },
   {
    "duration": 179,
    "start_time": "2022-08-09T14:02:48.424Z"
   },
   {
    "duration": 180,
    "start_time": "2022-08-09T14:02:48.605Z"
   },
   {
    "duration": 163,
    "start_time": "2022-08-09T14:02:48.787Z"
   },
   {
    "duration": 170,
    "start_time": "2022-08-09T14:02:48.952Z"
   },
   {
    "duration": 233,
    "start_time": "2022-08-09T14:02:49.125Z"
   },
   {
    "duration": 160,
    "start_time": "2022-08-09T14:02:49.360Z"
   },
   {
    "duration": 10,
    "start_time": "2022-08-09T14:02:49.522Z"
   },
   {
    "duration": 261,
    "start_time": "2022-08-09T14:02:49.533Z"
   },
   {
    "duration": 216,
    "start_time": "2022-08-09T14:02:49.795Z"
   },
   {
    "duration": 324,
    "start_time": "2022-08-09T14:02:50.013Z"
   },
   {
    "duration": 193,
    "start_time": "2022-08-09T14:02:50.339Z"
   },
   {
    "duration": 215,
    "start_time": "2022-08-09T14:02:50.534Z"
   },
   {
    "duration": 197,
    "start_time": "2022-08-09T14:02:50.751Z"
   },
   {
    "duration": 367,
    "start_time": "2022-08-09T14:02:50.950Z"
   },
   {
    "duration": 26,
    "start_time": "2022-08-09T14:02:51.319Z"
   },
   {
    "duration": 55,
    "start_time": "2022-08-09T14:02:51.346Z"
   },
   {
    "duration": 169,
    "start_time": "2022-08-09T14:02:51.403Z"
   },
   {
    "duration": 89,
    "start_time": "2022-08-09T14:03:00.186Z"
   },
   {
    "duration": 737,
    "start_time": "2022-08-09T14:04:43.388Z"
   },
   {
    "duration": 44,
    "start_time": "2022-08-09T14:05:13.533Z"
   },
   {
    "duration": 16,
    "start_time": "2022-08-09T14:06:06.157Z"
   },
   {
    "duration": 1509,
    "start_time": "2022-08-09T14:06:37.543Z"
   },
   {
    "duration": 12,
    "start_time": "2022-08-09T14:06:55.655Z"
   },
   {
    "duration": 1323,
    "start_time": "2022-08-09T14:07:30.297Z"
   },
   {
    "duration": 52,
    "start_time": "2022-08-09T14:07:49.640Z"
   },
   {
    "duration": 1388,
    "start_time": "2022-08-09T14:07:58.506Z"
   },
   {
    "duration": 9,
    "start_time": "2022-08-09T14:10:59.591Z"
   },
   {
    "duration": 13,
    "start_time": "2022-08-09T14:11:14.919Z"
   },
   {
    "duration": 13,
    "start_time": "2022-08-09T14:11:20.943Z"
   },
   {
    "duration": 14,
    "start_time": "2022-08-09T14:11:32.142Z"
   },
   {
    "duration": 1986,
    "start_time": "2022-08-09T14:12:06.656Z"
   },
   {
    "duration": 16,
    "start_time": "2022-08-09T14:12:26.719Z"
   },
   {
    "duration": 249,
    "start_time": "2022-08-09T14:12:34.312Z"
   },
   {
    "duration": 14,
    "start_time": "2022-08-09T14:12:42.529Z"
   },
   {
    "duration": 14,
    "start_time": "2022-08-09T14:13:48.978Z"
   },
   {
    "duration": 15,
    "start_time": "2022-08-09T14:25:30.294Z"
   },
   {
    "duration": 96,
    "start_time": "2022-08-09T14:25:50.901Z"
   },
   {
    "duration": 16,
    "start_time": "2022-08-09T14:25:55.062Z"
   },
   {
    "duration": 12,
    "start_time": "2022-08-09T14:26:11.791Z"
   },
   {
    "duration": 15,
    "start_time": "2022-08-09T14:26:17.022Z"
   },
   {
    "duration": 14,
    "start_time": "2022-08-09T14:26:28.063Z"
   },
   {
    "duration": 14,
    "start_time": "2022-08-09T14:27:07.168Z"
   },
   {
    "duration": 80,
    "start_time": "2022-08-09T14:27:53.624Z"
   },
   {
    "duration": 14,
    "start_time": "2022-08-09T14:27:56.970Z"
   },
   {
    "duration": 15,
    "start_time": "2022-08-09T14:28:34.465Z"
   },
   {
    "duration": 17,
    "start_time": "2022-08-09T14:28:39.426Z"
   },
   {
    "duration": 9,
    "start_time": "2022-08-09T14:28:48.939Z"
   },
   {
    "duration": 14,
    "start_time": "2022-08-09T14:28:58.971Z"
   },
   {
    "duration": 246,
    "start_time": "2022-08-09T14:29:06.475Z"
   },
   {
    "duration": 13,
    "start_time": "2022-08-09T14:29:16.180Z"
   },
   {
    "duration": 15,
    "start_time": "2022-08-09T14:29:55.651Z"
   },
   {
    "duration": 16,
    "start_time": "2022-08-09T14:30:11.292Z"
   },
   {
    "duration": 251,
    "start_time": "2022-08-09T14:30:18.100Z"
   },
   {
    "duration": 14,
    "start_time": "2022-08-09T14:30:46.270Z"
   },
   {
    "duration": 234,
    "start_time": "2022-08-09T14:30:56.383Z"
   },
   {
    "duration": 14,
    "start_time": "2022-08-09T14:31:09.535Z"
   },
   {
    "duration": 14,
    "start_time": "2022-08-09T14:39:40.740Z"
   },
   {
    "duration": 205,
    "start_time": "2022-08-09T14:46:46.575Z"
   },
   {
    "duration": 128,
    "start_time": "2022-08-09T14:47:04.631Z"
   },
   {
    "duration": 119,
    "start_time": "2022-08-09T14:47:21.480Z"
   },
   {
    "duration": 119,
    "start_time": "2022-08-09T14:47:36.704Z"
   },
   {
    "duration": 119,
    "start_time": "2022-08-09T14:47:50.080Z"
   },
   {
    "duration": 118,
    "start_time": "2022-08-09T14:48:25.235Z"
   },
   {
    "duration": 127,
    "start_time": "2022-08-09T14:49:11.461Z"
   },
   {
    "duration": 125,
    "start_time": "2022-08-09T14:49:36.524Z"
   },
   {
    "duration": 130,
    "start_time": "2022-08-09T14:49:41.716Z"
   },
   {
    "duration": 210,
    "start_time": "2022-08-09T14:58:50.123Z"
   },
   {
    "duration": 126,
    "start_time": "2022-08-09T14:58:53.698Z"
   },
   {
    "duration": 254,
    "start_time": "2022-08-09T14:58:58.098Z"
   },
   {
    "duration": 197,
    "start_time": "2022-08-09T14:59:02.429Z"
   },
   {
    "duration": 213,
    "start_time": "2022-08-09T14:59:05.875Z"
   },
   {
    "duration": 178,
    "start_time": "2022-08-09T14:59:09.011Z"
   },
   {
    "duration": 213,
    "start_time": "2022-08-09T14:59:11.466Z"
   },
   {
    "duration": 1465,
    "start_time": "2022-08-09T14:59:22.371Z"
   },
   {
    "duration": 1414,
    "start_time": "2022-08-09T14:59:30.963Z"
   },
   {
    "duration": 1387,
    "start_time": "2022-08-09T14:59:58.178Z"
   },
   {
    "duration": 25,
    "start_time": "2022-08-09T14:59:59.567Z"
   },
   {
    "duration": 2046,
    "start_time": "2022-08-09T14:59:59.593Z"
   },
   {
    "duration": 11,
    "start_time": "2022-08-09T15:00:01.641Z"
   },
   {
    "duration": 42,
    "start_time": "2022-08-09T15:00:01.655Z"
   },
   {
    "duration": 381,
    "start_time": "2022-08-09T15:00:01.699Z"
   },
   {
    "duration": 11,
    "start_time": "2022-08-09T15:00:02.082Z"
   },
   {
    "duration": 24,
    "start_time": "2022-08-09T15:00:02.096Z"
   },
   {
    "duration": 28,
    "start_time": "2022-08-09T15:00:02.123Z"
   },
   {
    "duration": 20,
    "start_time": "2022-08-09T15:00:02.154Z"
   },
   {
    "duration": 28,
    "start_time": "2022-08-09T15:00:02.176Z"
   },
   {
    "duration": 21,
    "start_time": "2022-08-09T15:00:02.206Z"
   },
   {
    "duration": 18,
    "start_time": "2022-08-09T15:00:02.229Z"
   },
   {
    "duration": 15,
    "start_time": "2022-08-09T15:00:02.252Z"
   },
   {
    "duration": 23,
    "start_time": "2022-08-09T15:00:02.270Z"
   },
   {
    "duration": 15,
    "start_time": "2022-08-09T15:00:02.295Z"
   },
   {
    "duration": 33,
    "start_time": "2022-08-09T15:00:02.312Z"
   },
   {
    "duration": 24,
    "start_time": "2022-08-09T15:00:02.347Z"
   },
   {
    "duration": 21,
    "start_time": "2022-08-09T15:00:02.373Z"
   },
   {
    "duration": 19,
    "start_time": "2022-08-09T15:00:02.396Z"
   },
   {
    "duration": 13,
    "start_time": "2022-08-09T15:00:02.417Z"
   },
   {
    "duration": 9,
    "start_time": "2022-08-09T15:00:02.432Z"
   },
   {
    "duration": 28,
    "start_time": "2022-08-09T15:00:02.443Z"
   },
   {
    "duration": 30,
    "start_time": "2022-08-09T15:00:02.473Z"
   },
   {
    "duration": 7,
    "start_time": "2022-08-09T15:00:02.505Z"
   },
   {
    "duration": 154,
    "start_time": "2022-08-09T15:00:02.513Z"
   },
   {
    "duration": 7,
    "start_time": "2022-08-09T15:00:02.669Z"
   },
   {
    "duration": 33,
    "start_time": "2022-08-09T15:00:02.678Z"
   },
   {
    "duration": 20,
    "start_time": "2022-08-09T15:00:02.713Z"
   },
   {
    "duration": 9,
    "start_time": "2022-08-09T15:00:02.735Z"
   },
   {
    "duration": 22,
    "start_time": "2022-08-09T15:00:02.746Z"
   },
   {
    "duration": 22,
    "start_time": "2022-08-09T15:00:02.769Z"
   },
   {
    "duration": 13,
    "start_time": "2022-08-09T15:00:02.793Z"
   },
   {
    "duration": 67,
    "start_time": "2022-08-09T15:00:02.807Z"
   },
   {
    "duration": 8,
    "start_time": "2022-08-09T15:00:02.876Z"
   },
   {
    "duration": 10,
    "start_time": "2022-08-09T15:00:02.886Z"
   },
   {
    "duration": 21,
    "start_time": "2022-08-09T15:00:02.898Z"
   },
   {
    "duration": 21,
    "start_time": "2022-08-09T15:00:02.921Z"
   },
   {
    "duration": 27,
    "start_time": "2022-08-09T15:00:02.944Z"
   },
   {
    "duration": 24,
    "start_time": "2022-08-09T15:00:02.972Z"
   },
   {
    "duration": 10,
    "start_time": "2022-08-09T15:00:03.001Z"
   },
   {
    "duration": 15,
    "start_time": "2022-08-09T15:00:03.013Z"
   },
   {
    "duration": 348,
    "start_time": "2022-08-09T15:00:03.030Z"
   },
   {
    "duration": 23,
    "start_time": "2022-08-09T15:00:03.380Z"
   },
   {
    "duration": 5,
    "start_time": "2022-08-09T15:00:03.404Z"
   },
   {
    "duration": 44,
    "start_time": "2022-08-09T15:00:03.411Z"
   },
   {
    "duration": 38,
    "start_time": "2022-08-09T15:00:03.457Z"
   },
   {
    "duration": 7,
    "start_time": "2022-08-09T15:00:03.496Z"
   },
   {
    "duration": 16,
    "start_time": "2022-08-09T15:00:03.504Z"
   },
   {
    "duration": 302,
    "start_time": "2022-08-09T15:00:03.522Z"
   },
   {
    "duration": 328,
    "start_time": "2022-08-09T15:00:03.826Z"
   },
   {
    "duration": 330,
    "start_time": "2022-08-09T15:00:04.155Z"
   },
   {
    "duration": 279,
    "start_time": "2022-08-09T15:00:04.492Z"
   },
   {
    "duration": 332,
    "start_time": "2022-08-09T15:00:04.773Z"
   },
   {
    "duration": 194,
    "start_time": "2022-08-09T15:00:05.107Z"
   },
   {
    "duration": 197,
    "start_time": "2022-08-09T15:00:05.303Z"
   },
   {
    "duration": 207,
    "start_time": "2022-08-09T15:00:05.502Z"
   },
   {
    "duration": 308,
    "start_time": "2022-08-09T15:00:05.711Z"
   },
   {
    "duration": 189,
    "start_time": "2022-08-09T15:00:06.021Z"
   },
   {
    "duration": 206,
    "start_time": "2022-08-09T15:00:06.212Z"
   },
   {
    "duration": 174,
    "start_time": "2022-08-09T15:00:06.419Z"
   },
   {
    "duration": 291,
    "start_time": "2022-08-09T15:00:06.595Z"
   },
   {
    "duration": 217,
    "start_time": "2022-08-09T15:00:06.891Z"
   },
   {
    "duration": 146,
    "start_time": "2022-08-09T15:00:07.110Z"
   },
   {
    "duration": 10,
    "start_time": "2022-08-09T15:00:07.258Z"
   },
   {
    "duration": 261,
    "start_time": "2022-08-09T15:00:07.270Z"
   },
   {
    "duration": 207,
    "start_time": "2022-08-09T15:00:07.533Z"
   },
   {
    "duration": 232,
    "start_time": "2022-08-09T15:00:07.743Z"
   },
   {
    "duration": 200,
    "start_time": "2022-08-09T15:00:07.978Z"
   },
   {
    "duration": 223,
    "start_time": "2022-08-09T15:00:08.180Z"
   },
   {
    "duration": 213,
    "start_time": "2022-08-09T15:00:08.405Z"
   },
   {
    "duration": 456,
    "start_time": "2022-08-09T15:00:08.620Z"
   },
   {
    "duration": 36,
    "start_time": "2022-08-09T15:00:09.079Z"
   },
   {
    "duration": 41,
    "start_time": "2022-08-09T15:00:09.117Z"
   },
   {
    "duration": 194,
    "start_time": "2022-08-09T15:00:09.159Z"
   },
   {
    "duration": 183,
    "start_time": "2022-08-09T15:00:22.164Z"
   },
   {
    "duration": 280,
    "start_time": "2022-08-09T15:00:26.324Z"
   },
   {
    "duration": 194,
    "start_time": "2022-08-09T15:00:43.964Z"
   },
   {
    "duration": 113,
    "start_time": "2022-08-09T15:00:49.164Z"
   },
   {
    "duration": 21,
    "start_time": "2022-08-09T15:01:01.645Z"
   },
   {
    "duration": 18,
    "start_time": "2022-08-09T15:01:09.341Z"
   },
   {
    "duration": 1377,
    "start_time": "2022-08-09T15:02:12.959Z"
   },
   {
    "duration": 17,
    "start_time": "2022-08-09T15:02:14.338Z"
   },
   {
    "duration": 2102,
    "start_time": "2022-08-09T15:02:14.357Z"
   },
   {
    "duration": 10,
    "start_time": "2022-08-09T15:02:16.461Z"
   },
   {
    "duration": 8,
    "start_time": "2022-08-09T15:02:16.473Z"
   },
   {
    "duration": 344,
    "start_time": "2022-08-09T15:02:16.483Z"
   },
   {
    "duration": 5,
    "start_time": "2022-08-09T15:02:16.830Z"
   },
   {
    "duration": 8,
    "start_time": "2022-08-09T15:02:16.837Z"
   },
   {
    "duration": 7,
    "start_time": "2022-08-09T15:02:16.848Z"
   },
   {
    "duration": 10,
    "start_time": "2022-08-09T15:02:16.857Z"
   },
   {
    "duration": 6,
    "start_time": "2022-08-09T15:02:16.891Z"
   },
   {
    "duration": 7,
    "start_time": "2022-08-09T15:02:16.899Z"
   },
   {
    "duration": 12,
    "start_time": "2022-08-09T15:02:16.908Z"
   },
   {
    "duration": 8,
    "start_time": "2022-08-09T15:02:16.923Z"
   },
   {
    "duration": 14,
    "start_time": "2022-08-09T15:02:16.932Z"
   },
   {
    "duration": 6,
    "start_time": "2022-08-09T15:02:16.948Z"
   },
   {
    "duration": 10,
    "start_time": "2022-08-09T15:02:16.956Z"
   },
   {
    "duration": 12,
    "start_time": "2022-08-09T15:02:16.993Z"
   },
   {
    "duration": 20,
    "start_time": "2022-08-09T15:02:17.006Z"
   },
   {
    "duration": 9,
    "start_time": "2022-08-09T15:02:17.027Z"
   },
   {
    "duration": 9,
    "start_time": "2022-08-09T15:02:17.038Z"
   },
   {
    "duration": 8,
    "start_time": "2022-08-09T15:02:17.049Z"
   },
   {
    "duration": 45,
    "start_time": "2022-08-09T15:02:17.059Z"
   },
   {
    "duration": 26,
    "start_time": "2022-08-09T15:02:17.106Z"
   },
   {
    "duration": 6,
    "start_time": "2022-08-09T15:02:17.134Z"
   },
   {
    "duration": 169,
    "start_time": "2022-08-09T15:02:17.142Z"
   },
   {
    "duration": 9,
    "start_time": "2022-08-09T15:02:17.312Z"
   },
   {
    "duration": 8,
    "start_time": "2022-08-09T15:02:17.322Z"
   },
   {
    "duration": 9,
    "start_time": "2022-08-09T15:02:17.332Z"
   },
   {
    "duration": 5,
    "start_time": "2022-08-09T15:02:17.343Z"
   },
   {
    "duration": 8,
    "start_time": "2022-08-09T15:02:17.350Z"
   },
   {
    "duration": 39,
    "start_time": "2022-08-09T15:02:17.360Z"
   },
   {
    "duration": 9,
    "start_time": "2022-08-09T15:02:17.401Z"
   },
   {
    "duration": 55,
    "start_time": "2022-08-09T15:02:17.412Z"
   },
   {
    "duration": 30,
    "start_time": "2022-08-09T15:02:17.469Z"
   },
   {
    "duration": 5,
    "start_time": "2022-08-09T15:02:17.501Z"
   },
   {
    "duration": 10,
    "start_time": "2022-08-09T15:02:17.508Z"
   },
   {
    "duration": 9,
    "start_time": "2022-08-09T15:02:17.520Z"
   },
   {
    "duration": 5,
    "start_time": "2022-08-09T15:02:17.531Z"
   },
   {
    "duration": 10,
    "start_time": "2022-08-09T15:02:17.537Z"
   },
   {
    "duration": 41,
    "start_time": "2022-08-09T15:02:17.551Z"
   },
   {
    "duration": 6,
    "start_time": "2022-08-09T15:02:17.593Z"
   },
   {
    "duration": 375,
    "start_time": "2022-08-09T15:02:17.601Z"
   },
   {
    "duration": 25,
    "start_time": "2022-08-09T15:02:17.978Z"
   },
   {
    "duration": 6,
    "start_time": "2022-08-09T15:02:18.005Z"
   },
   {
    "duration": 41,
    "start_time": "2022-08-09T15:02:18.012Z"
   },
   {
    "duration": 41,
    "start_time": "2022-08-09T15:02:18.055Z"
   },
   {
    "duration": 5,
    "start_time": "2022-08-09T15:02:18.098Z"
   },
   {
    "duration": 9,
    "start_time": "2022-08-09T15:02:18.105Z"
   },
   {
    "duration": 346,
    "start_time": "2022-08-09T15:02:18.115Z"
   },
   {
    "duration": 311,
    "start_time": "2022-08-09T15:02:18.462Z"
   },
   {
    "duration": 326,
    "start_time": "2022-08-09T15:02:18.774Z"
   },
   {
    "duration": 293,
    "start_time": "2022-08-09T15:02:19.101Z"
   },
   {
    "duration": 353,
    "start_time": "2022-08-09T15:02:19.396Z"
   },
   {
    "duration": 171,
    "start_time": "2022-08-09T15:02:19.751Z"
   },
   {
    "duration": 200,
    "start_time": "2022-08-09T15:02:19.923Z"
   },
   {
    "duration": 117,
    "start_time": "2022-08-09T15:02:20.125Z"
   },
   {
    "duration": 0,
    "start_time": "2022-08-09T15:02:20.243Z"
   },
   {
    "duration": 0,
    "start_time": "2022-08-09T15:02:20.245Z"
   },
   {
    "duration": 0,
    "start_time": "2022-08-09T15:02:20.246Z"
   },
   {
    "duration": 0,
    "start_time": "2022-08-09T15:02:20.247Z"
   },
   {
    "duration": 0,
    "start_time": "2022-08-09T15:02:20.248Z"
   },
   {
    "duration": 0,
    "start_time": "2022-08-09T15:02:20.249Z"
   },
   {
    "duration": 0,
    "start_time": "2022-08-09T15:02:20.250Z"
   },
   {
    "duration": 0,
    "start_time": "2022-08-09T15:02:20.251Z"
   },
   {
    "duration": 0,
    "start_time": "2022-08-09T15:02:20.252Z"
   },
   {
    "duration": 0,
    "start_time": "2022-08-09T15:02:20.253Z"
   },
   {
    "duration": 0,
    "start_time": "2022-08-09T15:02:20.254Z"
   },
   {
    "duration": 0,
    "start_time": "2022-08-09T15:02:20.255Z"
   },
   {
    "duration": 0,
    "start_time": "2022-08-09T15:02:20.256Z"
   },
   {
    "duration": 0,
    "start_time": "2022-08-09T15:02:20.257Z"
   },
   {
    "duration": 0,
    "start_time": "2022-08-09T15:02:20.258Z"
   },
   {
    "duration": 0,
    "start_time": "2022-08-09T15:02:20.259Z"
   },
   {
    "duration": 0,
    "start_time": "2022-08-09T15:02:20.292Z"
   },
   {
    "duration": 0,
    "start_time": "2022-08-09T15:02:20.294Z"
   },
   {
    "duration": 0,
    "start_time": "2022-08-09T15:02:20.295Z"
   },
   {
    "duration": 12,
    "start_time": "2022-08-09T15:02:38.591Z"
   },
   {
    "duration": 12,
    "start_time": "2022-08-09T15:02:45.063Z"
   },
   {
    "duration": 164,
    "start_time": "2022-08-09T15:02:55.567Z"
   },
   {
    "duration": 1375,
    "start_time": "2022-08-09T15:03:26.514Z"
   },
   {
    "duration": 18,
    "start_time": "2022-08-09T15:03:27.892Z"
   },
   {
    "duration": 2038,
    "start_time": "2022-08-09T15:03:27.913Z"
   },
   {
    "duration": 10,
    "start_time": "2022-08-09T15:03:29.954Z"
   },
   {
    "duration": 13,
    "start_time": "2022-08-09T15:03:29.966Z"
   },
   {
    "duration": 352,
    "start_time": "2022-08-09T15:03:29.981Z"
   },
   {
    "duration": 6,
    "start_time": "2022-08-09T15:03:30.335Z"
   },
   {
    "duration": 20,
    "start_time": "2022-08-09T15:03:30.343Z"
   },
   {
    "duration": 21,
    "start_time": "2022-08-09T15:03:30.365Z"
   },
   {
    "duration": 32,
    "start_time": "2022-08-09T15:03:30.390Z"
   },
   {
    "duration": 25,
    "start_time": "2022-08-09T15:03:30.423Z"
   },
   {
    "duration": 16,
    "start_time": "2022-08-09T15:03:30.450Z"
   },
   {
    "duration": 28,
    "start_time": "2022-08-09T15:03:30.468Z"
   },
   {
    "duration": 26,
    "start_time": "2022-08-09T15:03:30.498Z"
   },
   {
    "duration": 27,
    "start_time": "2022-08-09T15:03:30.525Z"
   },
   {
    "duration": 17,
    "start_time": "2022-08-09T15:03:30.554Z"
   },
   {
    "duration": 33,
    "start_time": "2022-08-09T15:03:30.573Z"
   },
   {
    "duration": 61,
    "start_time": "2022-08-09T15:03:30.608Z"
   },
   {
    "duration": 16,
    "start_time": "2022-08-09T15:03:30.670Z"
   },
   {
    "duration": 16,
    "start_time": "2022-08-09T15:03:30.688Z"
   },
   {
    "duration": 25,
    "start_time": "2022-08-09T15:03:30.706Z"
   },
   {
    "duration": 79,
    "start_time": "2022-08-09T15:03:30.733Z"
   },
   {
    "duration": 66,
    "start_time": "2022-08-09T15:03:30.814Z"
   },
   {
    "duration": 28,
    "start_time": "2022-08-09T15:03:30.882Z"
   },
   {
    "duration": 36,
    "start_time": "2022-08-09T15:03:30.912Z"
   },
   {
    "duration": 164,
    "start_time": "2022-08-09T15:03:30.951Z"
   },
   {
    "duration": 8,
    "start_time": "2022-08-09T15:03:31.116Z"
   },
   {
    "duration": 7,
    "start_time": "2022-08-09T15:03:31.128Z"
   },
   {
    "duration": 11,
    "start_time": "2022-08-09T15:03:31.136Z"
   },
   {
    "duration": 10,
    "start_time": "2022-08-09T15:03:31.149Z"
   },
   {
    "duration": 13,
    "start_time": "2022-08-09T15:03:31.161Z"
   },
   {
    "duration": 8,
    "start_time": "2022-08-09T15:03:31.191Z"
   },
   {
    "duration": 12,
    "start_time": "2022-08-09T15:03:31.201Z"
   },
   {
    "duration": 62,
    "start_time": "2022-08-09T15:03:31.215Z"
   },
   {
    "duration": 19,
    "start_time": "2022-08-09T15:03:31.280Z"
   },
   {
    "duration": 11,
    "start_time": "2022-08-09T15:03:31.301Z"
   },
   {
    "duration": 10,
    "start_time": "2022-08-09T15:03:31.314Z"
   },
   {
    "duration": 28,
    "start_time": "2022-08-09T15:03:31.326Z"
   },
   {
    "duration": 7,
    "start_time": "2022-08-09T15:03:31.356Z"
   },
   {
    "duration": 9,
    "start_time": "2022-08-09T15:03:31.364Z"
   },
   {
    "duration": 16,
    "start_time": "2022-08-09T15:03:31.375Z"
   },
   {
    "duration": 9,
    "start_time": "2022-08-09T15:03:31.393Z"
   },
   {
    "duration": 351,
    "start_time": "2022-08-09T15:03:31.403Z"
   },
   {
    "duration": 17,
    "start_time": "2022-08-09T15:03:31.755Z"
   },
   {
    "duration": 4,
    "start_time": "2022-08-09T15:03:31.774Z"
   },
   {
    "duration": 54,
    "start_time": "2022-08-09T15:03:31.793Z"
   },
   {
    "duration": 29,
    "start_time": "2022-08-09T15:03:31.850Z"
   },
   {
    "duration": 8,
    "start_time": "2022-08-09T15:03:31.892Z"
   },
   {
    "duration": 24,
    "start_time": "2022-08-09T15:03:31.902Z"
   },
   {
    "duration": 348,
    "start_time": "2022-08-09T15:03:31.928Z"
   },
   {
    "duration": 330,
    "start_time": "2022-08-09T15:03:32.278Z"
   },
   {
    "duration": 330,
    "start_time": "2022-08-09T15:03:32.611Z"
   },
   {
    "duration": 277,
    "start_time": "2022-08-09T15:03:32.943Z"
   },
   {
    "duration": 340,
    "start_time": "2022-08-09T15:03:33.222Z"
   },
   {
    "duration": 181,
    "start_time": "2022-08-09T15:03:33.563Z"
   },
   {
    "duration": 183,
    "start_time": "2022-08-09T15:03:33.746Z"
   },
   {
    "duration": 210,
    "start_time": "2022-08-09T15:03:33.931Z"
   },
   {
    "duration": 330,
    "start_time": "2022-08-09T15:03:34.143Z"
   },
   {
    "duration": 182,
    "start_time": "2022-08-09T15:03:34.475Z"
   },
   {
    "duration": 185,
    "start_time": "2022-08-09T15:03:34.659Z"
   },
   {
    "duration": 164,
    "start_time": "2022-08-09T15:03:34.846Z"
   },
   {
    "duration": 279,
    "start_time": "2022-08-09T15:03:35.012Z"
   },
   {
    "duration": 213,
    "start_time": "2022-08-09T15:03:35.293Z"
   },
   {
    "duration": 146,
    "start_time": "2022-08-09T15:03:35.508Z"
   },
   {
    "duration": 10,
    "start_time": "2022-08-09T15:03:35.656Z"
   },
   {
    "duration": 257,
    "start_time": "2022-08-09T15:03:35.668Z"
   },
   {
    "duration": 211,
    "start_time": "2022-08-09T15:03:35.927Z"
   },
   {
    "duration": 221,
    "start_time": "2022-08-09T15:03:36.140Z"
   },
   {
    "duration": 187,
    "start_time": "2022-08-09T15:03:36.363Z"
   },
   {
    "duration": 223,
    "start_time": "2022-08-09T15:03:36.552Z"
   },
   {
    "duration": 216,
    "start_time": "2022-08-09T15:03:36.777Z"
   },
   {
    "duration": 455,
    "start_time": "2022-08-09T15:03:36.995Z"
   },
   {
    "duration": 26,
    "start_time": "2022-08-09T15:03:37.452Z"
   },
   {
    "duration": 50,
    "start_time": "2022-08-09T15:03:37.479Z"
   },
   {
    "duration": 182,
    "start_time": "2022-08-09T15:03:37.531Z"
   },
   {
    "duration": 36,
    "start_time": "2022-08-09T15:05:38.539Z"
   },
   {
    "duration": 9,
    "start_time": "2022-08-09T15:05:54.797Z"
   },
   {
    "duration": 112,
    "start_time": "2022-08-09T15:06:28.334Z"
   },
   {
    "duration": 27,
    "start_time": "2022-08-09T15:06:33.590Z"
   },
   {
    "duration": 34,
    "start_time": "2022-08-09T15:06:50.318Z"
   },
   {
    "duration": 25,
    "start_time": "2022-08-09T15:06:58.406Z"
   },
   {
    "duration": 26,
    "start_time": "2022-08-09T15:07:33.743Z"
   },
   {
    "duration": 9,
    "start_time": "2022-08-09T15:07:35.398Z"
   },
   {
    "duration": 27,
    "start_time": "2022-08-09T15:07:39.023Z"
   },
   {
    "duration": 9,
    "start_time": "2022-08-09T15:07:40.046Z"
   },
   {
    "duration": 26,
    "start_time": "2022-08-09T15:08:02.280Z"
   },
   {
    "duration": 9,
    "start_time": "2022-08-09T15:08:10.256Z"
   },
   {
    "duration": 16,
    "start_time": "2022-08-09T15:11:24.334Z"
   },
   {
    "duration": 247,
    "start_time": "2022-08-09T15:12:01.717Z"
   },
   {
    "duration": 603,
    "start_time": "2022-08-09T15:12:46.791Z"
   },
   {
    "duration": 685,
    "start_time": "2022-08-09T15:13:08.974Z"
   },
   {
    "duration": 317,
    "start_time": "2022-08-09T15:14:16.632Z"
   },
   {
    "duration": 1441,
    "start_time": "2022-08-09T15:16:16.570Z"
   },
   {
    "duration": 16,
    "start_time": "2022-08-09T15:16:18.013Z"
   },
   {
    "duration": 2064,
    "start_time": "2022-08-09T15:16:18.031Z"
   },
   {
    "duration": 11,
    "start_time": "2022-08-09T15:16:20.098Z"
   },
   {
    "duration": 7,
    "start_time": "2022-08-09T15:16:20.112Z"
   },
   {
    "duration": 354,
    "start_time": "2022-08-09T15:16:20.121Z"
   },
   {
    "duration": 6,
    "start_time": "2022-08-09T15:16:20.476Z"
   },
   {
    "duration": 4,
    "start_time": "2022-08-09T15:16:20.492Z"
   },
   {
    "duration": 10,
    "start_time": "2022-08-09T15:16:20.498Z"
   },
   {
    "duration": 10,
    "start_time": "2022-08-09T15:16:20.510Z"
   },
   {
    "duration": 8,
    "start_time": "2022-08-09T15:16:20.521Z"
   },
   {
    "duration": 5,
    "start_time": "2022-08-09T15:16:20.530Z"
   },
   {
    "duration": 5,
    "start_time": "2022-08-09T15:16:20.537Z"
   },
   {
    "duration": 7,
    "start_time": "2022-08-09T15:16:20.545Z"
   },
   {
    "duration": 39,
    "start_time": "2022-08-09T15:16:20.554Z"
   },
   {
    "duration": 6,
    "start_time": "2022-08-09T15:16:20.594Z"
   },
   {
    "duration": 10,
    "start_time": "2022-08-09T15:16:20.601Z"
   },
   {
    "duration": 10,
    "start_time": "2022-08-09T15:16:20.612Z"
   },
   {
    "duration": 16,
    "start_time": "2022-08-09T15:16:20.623Z"
   },
   {
    "duration": 7,
    "start_time": "2022-08-09T15:16:20.641Z"
   },
   {
    "duration": 42,
    "start_time": "2022-08-09T15:16:20.650Z"
   },
   {
    "duration": 4,
    "start_time": "2022-08-09T15:16:20.694Z"
   },
   {
    "duration": 17,
    "start_time": "2022-08-09T15:16:20.700Z"
   },
   {
    "duration": 26,
    "start_time": "2022-08-09T15:16:20.719Z"
   },
   {
    "duration": 8,
    "start_time": "2022-08-09T15:16:20.746Z"
   },
   {
    "duration": 183,
    "start_time": "2022-08-09T15:16:20.756Z"
   },
   {
    "duration": 8,
    "start_time": "2022-08-09T15:16:20.940Z"
   },
   {
    "duration": 8,
    "start_time": "2022-08-09T15:16:20.949Z"
   },
   {
    "duration": 9,
    "start_time": "2022-08-09T15:16:20.959Z"
   },
   {
    "duration": 23,
    "start_time": "2022-08-09T15:16:20.970Z"
   },
   {
    "duration": 10,
    "start_time": "2022-08-09T15:16:20.995Z"
   },
   {
    "duration": 8,
    "start_time": "2022-08-09T15:16:21.006Z"
   },
   {
    "duration": 6,
    "start_time": "2022-08-09T15:16:21.016Z"
   },
   {
    "duration": 79,
    "start_time": "2022-08-09T15:16:21.024Z"
   },
   {
    "duration": 9,
    "start_time": "2022-08-09T15:16:21.104Z"
   },
   {
    "duration": 4,
    "start_time": "2022-08-09T15:16:21.115Z"
   },
   {
    "duration": 8,
    "start_time": "2022-08-09T15:16:21.121Z"
   },
   {
    "duration": 9,
    "start_time": "2022-08-09T15:16:21.131Z"
   },
   {
    "duration": 7,
    "start_time": "2022-08-09T15:16:21.142Z"
   },
   {
    "duration": 41,
    "start_time": "2022-08-09T15:16:21.151Z"
   },
   {
    "duration": 7,
    "start_time": "2022-08-09T15:16:21.198Z"
   },
   {
    "duration": 6,
    "start_time": "2022-08-09T15:16:21.207Z"
   },
   {
    "duration": 358,
    "start_time": "2022-08-09T15:16:21.215Z"
   },
   {
    "duration": 24,
    "start_time": "2022-08-09T15:16:21.575Z"
   },
   {
    "duration": 6,
    "start_time": "2022-08-09T15:16:21.601Z"
   },
   {
    "duration": 39,
    "start_time": "2022-08-09T15:16:21.609Z"
   },
   {
    "duration": 55,
    "start_time": "2022-08-09T15:16:21.650Z"
   },
   {
    "duration": 5,
    "start_time": "2022-08-09T15:16:21.708Z"
   },
   {
    "duration": 21,
    "start_time": "2022-08-09T15:16:21.715Z"
   },
   {
    "duration": 417,
    "start_time": "2022-08-09T15:16:21.739Z"
   },
   {
    "duration": 311,
    "start_time": "2022-08-09T15:16:22.158Z"
   },
   {
    "duration": 312,
    "start_time": "2022-08-09T15:16:22.471Z"
   },
   {
    "duration": 294,
    "start_time": "2022-08-09T15:16:22.791Z"
   },
   {
    "duration": 321,
    "start_time": "2022-08-09T15:16:23.091Z"
   },
   {
    "duration": 171,
    "start_time": "2022-08-09T15:16:23.413Z"
   },
   {
    "duration": 187,
    "start_time": "2022-08-09T15:16:23.585Z"
   },
   {
    "duration": 213,
    "start_time": "2022-08-09T15:16:23.773Z"
   },
   {
    "duration": 313,
    "start_time": "2022-08-09T15:16:23.987Z"
   },
   {
    "duration": 182,
    "start_time": "2022-08-09T15:16:24.302Z"
   },
   {
    "duration": 193,
    "start_time": "2022-08-09T15:16:24.486Z"
   },
   {
    "duration": 159,
    "start_time": "2022-08-09T15:16:24.681Z"
   },
   {
    "duration": 275,
    "start_time": "2022-08-09T15:16:24.842Z"
   },
   {
    "duration": 215,
    "start_time": "2022-08-09T15:16:25.119Z"
   },
   {
    "duration": 135,
    "start_time": "2022-08-09T15:16:25.336Z"
   },
   {
    "duration": 20,
    "start_time": "2022-08-09T15:16:25.473Z"
   },
   {
    "duration": 253,
    "start_time": "2022-08-09T15:16:25.494Z"
   },
   {
    "duration": 207,
    "start_time": "2022-08-09T15:16:25.749Z"
   },
   {
    "duration": 224,
    "start_time": "2022-08-09T15:16:25.958Z"
   },
   {
    "duration": 192,
    "start_time": "2022-08-09T15:16:26.183Z"
   },
   {
    "duration": 212,
    "start_time": "2022-08-09T15:16:26.376Z"
   },
   {
    "duration": 192,
    "start_time": "2022-08-09T15:16:26.591Z"
   },
   {
    "duration": 477,
    "start_time": "2022-08-09T15:16:26.785Z"
   },
   {
    "duration": 28,
    "start_time": "2022-08-09T15:16:27.264Z"
   },
   {
    "duration": 28,
    "start_time": "2022-08-09T15:16:27.293Z"
   },
   {
    "duration": 8,
    "start_time": "2022-08-09T15:16:27.323Z"
   },
   {
    "duration": 15,
    "start_time": "2022-08-09T15:16:27.333Z"
   },
   {
    "duration": 65,
    "start_time": "2022-08-09T15:16:27.350Z"
   },
   {
    "duration": 175,
    "start_time": "2022-08-09T15:16:27.417Z"
   },
   {
    "duration": 207,
    "start_time": "2022-08-09T15:18:13.437Z"
   },
   {
    "duration": 302,
    "start_time": "2022-08-09T15:18:18.219Z"
   },
   {
    "duration": 75,
    "start_time": "2022-08-09T15:18:33.844Z"
   },
   {
    "duration": 1354,
    "start_time": "2022-08-09T15:18:58.070Z"
   },
   {
    "duration": 17,
    "start_time": "2022-08-09T15:18:59.427Z"
   },
   {
    "duration": 2145,
    "start_time": "2022-08-09T15:18:59.446Z"
   },
   {
    "duration": 10,
    "start_time": "2022-08-09T15:19:01.593Z"
   },
   {
    "duration": 22,
    "start_time": "2022-08-09T15:19:01.606Z"
   },
   {
    "duration": 422,
    "start_time": "2022-08-09T15:19:01.630Z"
   },
   {
    "duration": 7,
    "start_time": "2022-08-09T15:19:02.054Z"
   },
   {
    "duration": 15,
    "start_time": "2022-08-09T15:19:02.063Z"
   },
   {
    "duration": 17,
    "start_time": "2022-08-09T15:19:02.080Z"
   },
   {
    "duration": 26,
    "start_time": "2022-08-09T15:19:02.100Z"
   },
   {
    "duration": 17,
    "start_time": "2022-08-09T15:19:02.128Z"
   },
   {
    "duration": 13,
    "start_time": "2022-08-09T15:19:02.147Z"
   },
   {
    "duration": 5,
    "start_time": "2022-08-09T15:19:02.162Z"
   },
   {
    "duration": 13,
    "start_time": "2022-08-09T15:19:02.172Z"
   },
   {
    "duration": 12,
    "start_time": "2022-08-09T15:19:02.187Z"
   },
   {
    "duration": 12,
    "start_time": "2022-08-09T15:19:02.201Z"
   },
   {
    "duration": 35,
    "start_time": "2022-08-09T15:19:02.215Z"
   },
   {
    "duration": 12,
    "start_time": "2022-08-09T15:19:02.252Z"
   },
   {
    "duration": 14,
    "start_time": "2022-08-09T15:19:02.266Z"
   },
   {
    "duration": 10,
    "start_time": "2022-08-09T15:19:02.282Z"
   },
   {
    "duration": 10,
    "start_time": "2022-08-09T15:19:02.294Z"
   },
   {
    "duration": 16,
    "start_time": "2022-08-09T15:19:02.306Z"
   },
   {
    "duration": 19,
    "start_time": "2022-08-09T15:19:02.324Z"
   },
   {
    "duration": 25,
    "start_time": "2022-08-09T15:19:02.346Z"
   },
   {
    "duration": 18,
    "start_time": "2022-08-09T15:19:02.373Z"
   },
   {
    "duration": 154,
    "start_time": "2022-08-09T15:19:02.393Z"
   },
   {
    "duration": 8,
    "start_time": "2022-08-09T15:19:02.549Z"
   },
   {
    "duration": 8,
    "start_time": "2022-08-09T15:19:02.558Z"
   },
   {
    "duration": 27,
    "start_time": "2022-08-09T15:19:02.568Z"
   },
   {
    "duration": 5,
    "start_time": "2022-08-09T15:19:02.597Z"
   },
   {
    "duration": 16,
    "start_time": "2022-08-09T15:19:02.604Z"
   },
   {
    "duration": 14,
    "start_time": "2022-08-09T15:19:02.623Z"
   },
   {
    "duration": 7,
    "start_time": "2022-08-09T15:19:02.639Z"
   },
   {
    "duration": 75,
    "start_time": "2022-08-09T15:19:02.647Z"
   },
   {
    "duration": 10,
    "start_time": "2022-08-09T15:19:02.724Z"
   },
   {
    "duration": 36,
    "start_time": "2022-08-09T15:19:02.735Z"
   },
   {
    "duration": 30,
    "start_time": "2022-08-09T15:19:02.773Z"
   },
   {
    "duration": 15,
    "start_time": "2022-08-09T15:19:02.805Z"
   },
   {
    "duration": 11,
    "start_time": "2022-08-09T15:19:02.822Z"
   },
   {
    "duration": 19,
    "start_time": "2022-08-09T15:19:02.834Z"
   },
   {
    "duration": 8,
    "start_time": "2022-08-09T15:19:02.859Z"
   },
   {
    "duration": 13,
    "start_time": "2022-08-09T15:19:02.869Z"
   },
   {
    "duration": 369,
    "start_time": "2022-08-09T15:19:02.885Z"
   },
   {
    "duration": 18,
    "start_time": "2022-08-09T15:19:03.255Z"
   },
   {
    "duration": 5,
    "start_time": "2022-08-09T15:19:03.275Z"
   },
   {
    "duration": 39,
    "start_time": "2022-08-09T15:19:03.292Z"
   },
   {
    "duration": 24,
    "start_time": "2022-08-09T15:19:03.333Z"
   },
   {
    "duration": 6,
    "start_time": "2022-08-09T15:19:03.359Z"
   },
   {
    "duration": 13,
    "start_time": "2022-08-09T15:19:03.393Z"
   },
   {
    "duration": 337,
    "start_time": "2022-08-09T15:19:03.408Z"
   },
   {
    "duration": 358,
    "start_time": "2022-08-09T15:19:03.747Z"
   },
   {
    "duration": 317,
    "start_time": "2022-08-09T15:19:04.107Z"
   },
   {
    "duration": 286,
    "start_time": "2022-08-09T15:19:04.425Z"
   },
   {
    "duration": 340,
    "start_time": "2022-08-09T15:19:04.713Z"
   },
   {
    "duration": 188,
    "start_time": "2022-08-09T15:19:05.055Z"
   },
   {
    "duration": 190,
    "start_time": "2022-08-09T15:19:05.245Z"
   },
   {
    "duration": 198,
    "start_time": "2022-08-09T15:19:05.436Z"
   },
   {
    "duration": 300,
    "start_time": "2022-08-09T15:19:05.636Z"
   },
   {
    "duration": 188,
    "start_time": "2022-08-09T15:19:05.938Z"
   },
   {
    "duration": 197,
    "start_time": "2022-08-09T15:19:06.127Z"
   },
   {
    "duration": 162,
    "start_time": "2022-08-09T15:19:06.325Z"
   },
   {
    "duration": 271,
    "start_time": "2022-08-09T15:19:06.491Z"
   },
   {
    "duration": 221,
    "start_time": "2022-08-09T15:19:06.764Z"
   },
   {
    "duration": 131,
    "start_time": "2022-08-09T15:19:06.991Z"
   },
   {
    "duration": 9,
    "start_time": "2022-08-09T15:19:07.124Z"
   },
   {
    "duration": 262,
    "start_time": "2022-08-09T15:19:07.135Z"
   },
   {
    "duration": 216,
    "start_time": "2022-08-09T15:19:07.398Z"
   },
   {
    "duration": 217,
    "start_time": "2022-08-09T15:19:07.616Z"
   },
   {
    "duration": 201,
    "start_time": "2022-08-09T15:19:07.835Z"
   },
   {
    "duration": 308,
    "start_time": "2022-08-09T15:19:08.038Z"
   },
   {
    "duration": 202,
    "start_time": "2022-08-09T15:19:08.347Z"
   },
   {
    "duration": 468,
    "start_time": "2022-08-09T15:19:08.551Z"
   },
   {
    "duration": 16,
    "start_time": "2022-08-09T15:19:09.021Z"
   },
   {
    "duration": 25,
    "start_time": "2022-08-09T15:19:09.039Z"
   },
   {
    "duration": 30,
    "start_time": "2022-08-09T15:19:09.066Z"
   },
   {
    "duration": 9,
    "start_time": "2022-08-09T15:19:09.098Z"
   },
   {
    "duration": 41,
    "start_time": "2022-08-09T15:19:09.109Z"
   },
   {
    "duration": 172,
    "start_time": "2022-08-09T15:19:09.152Z"
   },
   {
    "duration": 107,
    "start_time": "2022-08-09T15:20:18.904Z"
   },
   {
    "duration": 76,
    "start_time": "2022-08-09T15:21:42.234Z"
   },
   {
    "duration": 197,
    "start_time": "2022-08-09T15:21:45.321Z"
   },
   {
    "duration": 196,
    "start_time": "2022-08-09T15:23:58.228Z"
   },
   {
    "duration": 209,
    "start_time": "2022-08-09T15:24:33.814Z"
   },
   {
    "duration": 194,
    "start_time": "2022-08-09T15:24:43.230Z"
   },
   {
    "duration": 196,
    "start_time": "2022-08-09T15:24:58.789Z"
   },
   {
    "duration": 75,
    "start_time": "2022-08-09T15:25:47.448Z"
   },
   {
    "duration": 197,
    "start_time": "2022-08-09T15:25:50.575Z"
   },
   {
    "duration": 192,
    "start_time": "2022-08-09T15:25:57.177Z"
   },
   {
    "duration": 80,
    "start_time": "2022-08-09T15:26:15.784Z"
   },
   {
    "duration": 218,
    "start_time": "2022-08-09T15:26:18.081Z"
   },
   {
    "duration": 75,
    "start_time": "2022-08-09T15:26:37.216Z"
   },
   {
    "duration": 185,
    "start_time": "2022-08-09T15:26:39.777Z"
   },
   {
    "duration": 76,
    "start_time": "2022-08-09T15:27:00.715Z"
   },
   {
    "duration": 212,
    "start_time": "2022-08-09T15:27:03.058Z"
   },
   {
    "duration": 99,
    "start_time": "2022-08-09T15:27:35.523Z"
   },
   {
    "duration": 201,
    "start_time": "2022-08-09T15:27:37.890Z"
   },
   {
    "duration": 372,
    "start_time": "2022-08-09T15:28:08.548Z"
   },
   {
    "duration": 206,
    "start_time": "2022-08-09T15:28:28.091Z"
   },
   {
    "duration": 214,
    "start_time": "2022-08-09T15:28:36.691Z"
   },
   {
    "duration": 200,
    "start_time": "2022-08-09T15:28:47.004Z"
   },
   {
    "duration": 12,
    "start_time": "2022-08-09T15:37:15.104Z"
   },
   {
    "duration": 11,
    "start_time": "2022-08-09T15:37:29.370Z"
   },
   {
    "duration": 5,
    "start_time": "2022-08-09T15:37:37.898Z"
   },
   {
    "duration": 6,
    "start_time": "2022-08-09T15:37:44.273Z"
   },
   {
    "duration": 7,
    "start_time": "2022-08-09T15:38:52.947Z"
   },
   {
    "duration": 7,
    "start_time": "2022-08-09T15:39:11.548Z"
   },
   {
    "duration": 6,
    "start_time": "2022-08-09T15:39:24.796Z"
   },
   {
    "duration": 399,
    "start_time": "2022-08-09T15:39:41.332Z"
   },
   {
    "duration": 11,
    "start_time": "2022-08-09T15:40:08.533Z"
   },
   {
    "duration": 17,
    "start_time": "2022-08-09T15:43:04.153Z"
   },
   {
    "duration": 1390,
    "start_time": "2022-08-09T15:43:39.456Z"
   },
   {
    "duration": 16,
    "start_time": "2022-08-09T15:43:40.848Z"
   },
   {
    "duration": 2162,
    "start_time": "2022-08-09T15:43:40.865Z"
   },
   {
    "duration": 10,
    "start_time": "2022-08-09T15:43:43.030Z"
   },
   {
    "duration": 23,
    "start_time": "2022-08-09T15:43:43.042Z"
   },
   {
    "duration": 357,
    "start_time": "2022-08-09T15:43:43.067Z"
   },
   {
    "duration": 4,
    "start_time": "2022-08-09T15:43:43.426Z"
   },
   {
    "duration": 6,
    "start_time": "2022-08-09T15:43:43.432Z"
   },
   {
    "duration": 6,
    "start_time": "2022-08-09T15:43:43.440Z"
   },
   {
    "duration": 7,
    "start_time": "2022-08-09T15:43:43.448Z"
   },
   {
    "duration": 7,
    "start_time": "2022-08-09T15:43:43.457Z"
   },
   {
    "duration": 2,
    "start_time": "2022-08-09T15:43:43.492Z"
   },
   {
    "duration": 17,
    "start_time": "2022-08-09T15:43:43.495Z"
   },
   {
    "duration": 7,
    "start_time": "2022-08-09T15:43:43.514Z"
   },
   {
    "duration": 10,
    "start_time": "2022-08-09T15:43:43.523Z"
   },
   {
    "duration": 6,
    "start_time": "2022-08-09T15:43:43.534Z"
   },
   {
    "duration": 10,
    "start_time": "2022-08-09T15:43:43.541Z"
   },
   {
    "duration": 10,
    "start_time": "2022-08-09T15:43:43.553Z"
   },
   {
    "duration": 42,
    "start_time": "2022-08-09T15:43:43.564Z"
   },
   {
    "duration": 8,
    "start_time": "2022-08-09T15:43:43.607Z"
   },
   {
    "duration": 7,
    "start_time": "2022-08-09T15:43:43.617Z"
   },
   {
    "duration": 4,
    "start_time": "2022-08-09T15:43:43.626Z"
   },
   {
    "duration": 16,
    "start_time": "2022-08-09T15:43:43.631Z"
   },
   {
    "duration": 54,
    "start_time": "2022-08-09T15:43:43.649Z"
   },
   {
    "duration": 8,
    "start_time": "2022-08-09T15:43:43.704Z"
   },
   {
    "duration": 151,
    "start_time": "2022-08-09T15:43:43.713Z"
   },
   {
    "duration": 9,
    "start_time": "2022-08-09T15:43:43.866Z"
   },
   {
    "duration": 7,
    "start_time": "2022-08-09T15:43:43.894Z"
   },
   {
    "duration": 12,
    "start_time": "2022-08-09T15:43:43.903Z"
   },
   {
    "duration": 4,
    "start_time": "2022-08-09T15:43:43.917Z"
   },
   {
    "duration": 8,
    "start_time": "2022-08-09T15:43:43.923Z"
   },
   {
    "duration": 8,
    "start_time": "2022-08-09T15:43:43.932Z"
   },
   {
    "duration": 6,
    "start_time": "2022-08-09T15:43:43.941Z"
   },
   {
    "duration": 89,
    "start_time": "2022-08-09T15:43:43.949Z"
   },
   {
    "duration": 8,
    "start_time": "2022-08-09T15:43:44.040Z"
   },
   {
    "duration": 6,
    "start_time": "2022-08-09T15:43:44.049Z"
   },
   {
    "duration": 8,
    "start_time": "2022-08-09T15:43:44.057Z"
   },
   {
    "duration": 10,
    "start_time": "2022-08-09T15:43:44.091Z"
   },
   {
    "duration": 7,
    "start_time": "2022-08-09T15:43:44.103Z"
   },
   {
    "duration": 13,
    "start_time": "2022-08-09T15:43:44.112Z"
   },
   {
    "duration": 6,
    "start_time": "2022-08-09T15:43:44.127Z"
   },
   {
    "duration": 9,
    "start_time": "2022-08-09T15:43:44.135Z"
   },
   {
    "duration": 361,
    "start_time": "2022-08-09T15:43:44.146Z"
   },
   {
    "duration": 17,
    "start_time": "2022-08-09T15:43:44.509Z"
   },
   {
    "duration": 11,
    "start_time": "2022-08-09T15:43:44.528Z"
   },
   {
    "duration": 41,
    "start_time": "2022-08-09T15:43:44.541Z"
   },
   {
    "duration": 24,
    "start_time": "2022-08-09T15:43:44.592Z"
   },
   {
    "duration": 5,
    "start_time": "2022-08-09T15:43:44.618Z"
   },
   {
    "duration": 8,
    "start_time": "2022-08-09T15:43:44.625Z"
   },
   {
    "duration": 311,
    "start_time": "2022-08-09T15:43:44.635Z"
   },
   {
    "duration": 320,
    "start_time": "2022-08-09T15:43:44.948Z"
   },
   {
    "duration": 319,
    "start_time": "2022-08-09T15:43:45.270Z"
   },
   {
    "duration": 273,
    "start_time": "2022-08-09T15:43:45.591Z"
   },
   {
    "duration": 337,
    "start_time": "2022-08-09T15:43:45.865Z"
   },
   {
    "duration": 172,
    "start_time": "2022-08-09T15:43:46.204Z"
   },
   {
    "duration": 188,
    "start_time": "2022-08-09T15:43:46.378Z"
   },
   {
    "duration": 198,
    "start_time": "2022-08-09T15:43:46.567Z"
   },
   {
    "duration": 325,
    "start_time": "2022-08-09T15:43:46.767Z"
   },
   {
    "duration": 202,
    "start_time": "2022-08-09T15:43:47.094Z"
   },
   {
    "duration": 184,
    "start_time": "2022-08-09T15:43:47.297Z"
   },
   {
    "duration": 169,
    "start_time": "2022-08-09T15:43:47.483Z"
   },
   {
    "duration": 276,
    "start_time": "2022-08-09T15:43:47.654Z"
   },
   {
    "duration": 225,
    "start_time": "2022-08-09T15:43:47.932Z"
   },
   {
    "duration": 141,
    "start_time": "2022-08-09T15:43:48.160Z"
   },
   {
    "duration": 11,
    "start_time": "2022-08-09T15:43:48.303Z"
   },
   {
    "duration": 261,
    "start_time": "2022-08-09T15:43:48.316Z"
   },
   {
    "duration": 214,
    "start_time": "2022-08-09T15:43:48.579Z"
   },
   {
    "duration": 6,
    "start_time": "2022-08-09T15:43:48.795Z"
   },
   {
    "duration": 234,
    "start_time": "2022-08-09T15:43:48.803Z"
   },
   {
    "duration": 7,
    "start_time": "2022-08-09T15:43:49.039Z"
   },
   {
    "duration": 209,
    "start_time": "2022-08-09T15:43:49.047Z"
   },
   {
    "duration": 7,
    "start_time": "2022-08-09T15:43:49.258Z"
   },
   {
    "duration": 247,
    "start_time": "2022-08-09T15:43:49.267Z"
   },
   {
    "duration": 6,
    "start_time": "2022-08-09T15:43:49.516Z"
   },
   {
    "duration": 216,
    "start_time": "2022-08-09T15:43:49.524Z"
   },
   {
    "duration": 464,
    "start_time": "2022-08-09T15:43:49.742Z"
   },
   {
    "duration": 230,
    "start_time": "2022-08-09T15:43:50.208Z"
   },
   {
    "duration": 228,
    "start_time": "2022-08-09T15:43:50.440Z"
   },
   {
    "duration": 239,
    "start_time": "2022-08-09T15:43:50.670Z"
   },
   {
    "duration": 26,
    "start_time": "2022-08-09T15:43:50.910Z"
   },
   {
    "duration": 7,
    "start_time": "2022-08-09T15:43:50.938Z"
   },
   {
    "duration": 8,
    "start_time": "2022-08-09T15:43:50.951Z"
   },
   {
    "duration": 65,
    "start_time": "2022-08-09T15:43:50.961Z"
   },
   {
    "duration": 165,
    "start_time": "2022-08-09T15:43:51.027Z"
   },
   {
    "duration": 56,
    "start_time": "2022-08-09T17:23:14.198Z"
   },
   {
    "duration": 1491,
    "start_time": "2022-08-09T17:23:21.210Z"
   },
   {
    "duration": 17,
    "start_time": "2022-08-09T17:23:22.703Z"
   },
   {
    "duration": 2323,
    "start_time": "2022-08-09T17:23:22.722Z"
   },
   {
    "duration": 10,
    "start_time": "2022-08-09T17:23:25.047Z"
   },
   {
    "duration": 59,
    "start_time": "2022-08-09T17:23:25.060Z"
   },
   {
    "duration": 418,
    "start_time": "2022-08-09T17:23:25.121Z"
   },
   {
    "duration": 7,
    "start_time": "2022-08-09T17:23:25.541Z"
   },
   {
    "duration": 26,
    "start_time": "2022-08-09T17:23:25.550Z"
   },
   {
    "duration": 29,
    "start_time": "2022-08-09T17:23:25.581Z"
   },
   {
    "duration": 14,
    "start_time": "2022-08-09T17:23:25.612Z"
   },
   {
    "duration": 10,
    "start_time": "2022-08-09T17:23:25.628Z"
   },
   {
    "duration": 10,
    "start_time": "2022-08-09T17:23:25.640Z"
   },
   {
    "duration": 14,
    "start_time": "2022-08-09T17:23:25.652Z"
   },
   {
    "duration": 36,
    "start_time": "2022-08-09T17:23:25.670Z"
   },
   {
    "duration": 19,
    "start_time": "2022-08-09T17:23:25.708Z"
   },
   {
    "duration": 13,
    "start_time": "2022-08-09T17:23:25.729Z"
   },
   {
    "duration": 13,
    "start_time": "2022-08-09T17:23:25.745Z"
   },
   {
    "duration": 42,
    "start_time": "2022-08-09T17:23:25.761Z"
   },
   {
    "duration": 15,
    "start_time": "2022-08-09T17:23:25.805Z"
   },
   {
    "duration": 8,
    "start_time": "2022-08-09T17:23:25.822Z"
   },
   {
    "duration": 7,
    "start_time": "2022-08-09T17:23:25.832Z"
   },
   {
    "duration": 6,
    "start_time": "2022-08-09T17:23:25.841Z"
   },
   {
    "duration": 24,
    "start_time": "2022-08-09T17:23:25.849Z"
   },
   {
    "duration": 31,
    "start_time": "2022-08-09T17:23:25.887Z"
   },
   {
    "duration": 8,
    "start_time": "2022-08-09T17:23:25.919Z"
   },
   {
    "duration": 180,
    "start_time": "2022-08-09T17:23:25.928Z"
   },
   {
    "duration": 8,
    "start_time": "2022-08-09T17:23:26.110Z"
   },
   {
    "duration": 7,
    "start_time": "2022-08-09T17:23:26.120Z"
   },
   {
    "duration": 7,
    "start_time": "2022-08-09T17:23:26.130Z"
   },
   {
    "duration": 39,
    "start_time": "2022-08-09T17:23:26.139Z"
   },
   {
    "duration": 19,
    "start_time": "2022-08-09T17:23:26.179Z"
   },
   {
    "duration": 23,
    "start_time": "2022-08-09T17:23:26.200Z"
   },
   {
    "duration": 14,
    "start_time": "2022-08-09T17:23:26.225Z"
   },
   {
    "duration": 114,
    "start_time": "2022-08-09T17:23:26.241Z"
   },
   {
    "duration": 10,
    "start_time": "2022-08-09T17:23:26.356Z"
   },
   {
    "duration": 33,
    "start_time": "2022-08-09T17:23:26.367Z"
   },
   {
    "duration": 10,
    "start_time": "2022-08-09T17:23:26.402Z"
   },
   {
    "duration": 9,
    "start_time": "2022-08-09T17:23:26.414Z"
   },
   {
    "duration": 10,
    "start_time": "2022-08-09T17:23:26.425Z"
   },
   {
    "duration": 15,
    "start_time": "2022-08-09T17:23:26.437Z"
   },
   {
    "duration": 17,
    "start_time": "2022-08-09T17:23:26.457Z"
   },
   {
    "duration": 38,
    "start_time": "2022-08-09T17:23:26.483Z"
   },
   {
    "duration": 427,
    "start_time": "2022-08-09T17:23:26.524Z"
   },
   {
    "duration": 36,
    "start_time": "2022-08-09T17:23:26.953Z"
   },
   {
    "duration": 7,
    "start_time": "2022-08-09T17:23:26.996Z"
   },
   {
    "duration": 60,
    "start_time": "2022-08-09T17:23:27.005Z"
   },
   {
    "duration": 40,
    "start_time": "2022-08-09T17:23:27.066Z"
   },
   {
    "duration": 6,
    "start_time": "2022-08-09T17:23:27.108Z"
   },
   {
    "duration": 19,
    "start_time": "2022-08-09T17:23:27.116Z"
   },
   {
    "duration": 345,
    "start_time": "2022-08-09T17:23:27.137Z"
   },
   {
    "duration": 352,
    "start_time": "2022-08-09T17:23:27.484Z"
   },
   {
    "duration": 377,
    "start_time": "2022-08-09T17:23:27.838Z"
   },
   {
    "duration": 352,
    "start_time": "2022-08-09T17:23:28.217Z"
   },
   {
    "duration": 370,
    "start_time": "2022-08-09T17:23:28.581Z"
   },
   {
    "duration": 238,
    "start_time": "2022-08-09T17:23:28.953Z"
   },
   {
    "duration": 223,
    "start_time": "2022-08-09T17:23:29.206Z"
   },
   {
    "duration": 357,
    "start_time": "2022-08-09T17:23:29.430Z"
   },
   {
    "duration": 791,
    "start_time": "2022-08-09T17:23:29.792Z"
   },
   {
    "duration": 207,
    "start_time": "2022-08-09T17:23:30.586Z"
   },
   {
    "duration": 198,
    "start_time": "2022-08-09T17:23:30.797Z"
   },
   {
    "duration": 178,
    "start_time": "2022-08-09T17:23:30.996Z"
   },
   {
    "duration": 332,
    "start_time": "2022-08-09T17:23:31.178Z"
   },
   {
    "duration": 486,
    "start_time": "2022-08-09T17:23:31.512Z"
   },
   {
    "duration": 371,
    "start_time": "2022-08-09T17:23:31.999Z"
   },
   {
    "duration": 18,
    "start_time": "2022-08-09T17:23:32.372Z"
   },
   {
    "duration": 701,
    "start_time": "2022-08-09T17:23:32.392Z"
   },
   {
    "duration": 584,
    "start_time": "2022-08-09T17:23:33.095Z"
   },
   {
    "duration": 11,
    "start_time": "2022-08-09T17:23:33.686Z"
   },
   {
    "duration": 601,
    "start_time": "2022-08-09T17:23:33.705Z"
   },
   {
    "duration": 6,
    "start_time": "2022-08-09T17:23:34.309Z"
   },
   {
    "duration": 541,
    "start_time": "2022-08-09T17:23:34.377Z"
   },
   {
    "duration": 14,
    "start_time": "2022-08-09T17:23:34.968Z"
   },
   {
    "duration": 600,
    "start_time": "2022-08-09T17:23:34.984Z"
   },
   {
    "duration": 9,
    "start_time": "2022-08-09T17:23:35.586Z"
   },
   {
    "duration": 609,
    "start_time": "2022-08-09T17:23:35.597Z"
   },
   {
    "duration": 1365,
    "start_time": "2022-08-09T17:23:36.208Z"
   },
   {
    "duration": 450,
    "start_time": "2022-08-09T17:23:37.575Z"
   },
   {
    "duration": 266,
    "start_time": "2022-08-09T17:23:38.027Z"
   },
   {
    "duration": 236,
    "start_time": "2022-08-09T17:23:38.295Z"
   },
   {
    "duration": 59,
    "start_time": "2022-08-09T17:23:38.533Z"
   },
   {
    "duration": 10,
    "start_time": "2022-08-09T17:23:38.599Z"
   },
   {
    "duration": 13,
    "start_time": "2022-08-09T17:23:38.611Z"
   },
   {
    "duration": 53,
    "start_time": "2022-08-09T17:23:38.626Z"
   },
   {
    "duration": 193,
    "start_time": "2022-08-09T17:23:38.681Z"
   },
   {
    "duration": 20,
    "start_time": "2022-08-09T17:24:07.936Z"
   },
   {
    "duration": 177,
    "start_time": "2022-08-09T17:27:08.072Z"
   },
   {
    "duration": 144,
    "start_time": "2022-08-09T17:27:32.134Z"
   },
   {
    "duration": 1572,
    "start_time": "2022-08-09T22:12:39.611Z"
   },
   {
    "duration": 12,
    "start_time": "2022-08-09T22:12:41.185Z"
   },
   {
    "duration": 1705,
    "start_time": "2022-08-09T22:12:41.201Z"
   },
   {
    "duration": 9,
    "start_time": "2022-08-09T22:12:42.909Z"
   },
   {
    "duration": 4,
    "start_time": "2022-08-09T22:12:42.919Z"
   },
   {
    "duration": 281,
    "start_time": "2022-08-09T22:12:42.924Z"
   },
   {
    "duration": 4,
    "start_time": "2022-08-09T22:12:43.206Z"
   },
   {
    "duration": 7,
    "start_time": "2022-08-09T22:12:43.211Z"
   },
   {
    "duration": 8,
    "start_time": "2022-08-09T22:12:43.219Z"
   },
   {
    "duration": 8,
    "start_time": "2022-08-09T22:12:43.228Z"
   },
   {
    "duration": 7,
    "start_time": "2022-08-09T22:12:43.237Z"
   },
   {
    "duration": 3,
    "start_time": "2022-08-09T22:12:43.245Z"
   },
   {
    "duration": 4,
    "start_time": "2022-08-09T22:12:43.250Z"
   },
   {
    "duration": 8,
    "start_time": "2022-08-09T22:12:43.255Z"
   },
   {
    "duration": 32,
    "start_time": "2022-08-09T22:12:43.264Z"
   },
   {
    "duration": 5,
    "start_time": "2022-08-09T22:12:43.298Z"
   },
   {
    "duration": 12,
    "start_time": "2022-08-09T22:12:43.305Z"
   },
   {
    "duration": 10,
    "start_time": "2022-08-09T22:12:43.318Z"
   },
   {
    "duration": 13,
    "start_time": "2022-08-09T22:12:43.330Z"
   },
   {
    "duration": 6,
    "start_time": "2022-08-09T22:12:43.345Z"
   },
   {
    "duration": 37,
    "start_time": "2022-08-09T22:12:43.353Z"
   },
   {
    "duration": 5,
    "start_time": "2022-08-09T22:12:43.391Z"
   },
   {
    "duration": 16,
    "start_time": "2022-08-09T22:12:43.398Z"
   },
   {
    "duration": 22,
    "start_time": "2022-08-09T22:12:43.416Z"
   },
   {
    "duration": 6,
    "start_time": "2022-08-09T22:12:43.440Z"
   },
   {
    "duration": 144,
    "start_time": "2022-08-09T22:12:43.448Z"
   },
   {
    "duration": 6,
    "start_time": "2022-08-09T22:12:43.594Z"
   },
   {
    "duration": 6,
    "start_time": "2022-08-09T22:12:43.602Z"
   },
   {
    "duration": 6,
    "start_time": "2022-08-09T22:12:43.610Z"
   },
   {
    "duration": 5,
    "start_time": "2022-08-09T22:12:43.618Z"
   },
   {
    "duration": 6,
    "start_time": "2022-08-09T22:12:43.625Z"
   },
   {
    "duration": 7,
    "start_time": "2022-08-09T22:12:43.632Z"
   },
   {
    "duration": 47,
    "start_time": "2022-08-09T22:12:43.640Z"
   },
   {
    "duration": 47,
    "start_time": "2022-08-09T22:12:43.689Z"
   },
   {
    "duration": 6,
    "start_time": "2022-08-09T22:12:43.738Z"
   },
   {
    "duration": 4,
    "start_time": "2022-08-09T22:12:43.746Z"
   },
   {
    "duration": 8,
    "start_time": "2022-08-09T22:12:43.751Z"
   },
   {
    "duration": 132,
    "start_time": "2022-08-09T22:12:43.760Z"
   },
   {
    "duration": 93,
    "start_time": "2022-08-09T22:12:43.894Z"
   },
   {
    "duration": 6,
    "start_time": "2022-08-09T22:12:43.991Z"
   },
   {
    "duration": 8,
    "start_time": "2022-08-09T22:12:43.999Z"
   },
   {
    "duration": 6,
    "start_time": "2022-08-09T22:12:44.008Z"
   },
   {
    "duration": 9,
    "start_time": "2022-08-09T22:12:44.016Z"
   },
   {
    "duration": 11,
    "start_time": "2022-08-09T22:12:44.027Z"
   },
   {
    "duration": 311,
    "start_time": "2022-08-09T22:12:44.040Z"
   },
   {
    "duration": 15,
    "start_time": "2022-08-09T22:12:44.353Z"
   },
   {
    "duration": 4,
    "start_time": "2022-08-09T22:12:44.369Z"
   },
   {
    "duration": 32,
    "start_time": "2022-08-09T22:12:44.386Z"
   },
   {
    "duration": 19,
    "start_time": "2022-08-09T22:12:44.419Z"
   },
   {
    "duration": 4,
    "start_time": "2022-08-09T22:12:44.440Z"
   },
   {
    "duration": 14,
    "start_time": "2022-08-09T22:12:44.446Z"
   },
   {
    "duration": 264,
    "start_time": "2022-08-09T22:12:44.461Z"
   },
   {
    "duration": 267,
    "start_time": "2022-08-09T22:12:44.727Z"
   },
   {
    "duration": 272,
    "start_time": "2022-08-09T22:12:44.996Z"
   },
   {
    "duration": 236,
    "start_time": "2022-08-09T22:12:45.269Z"
   },
   {
    "duration": 294,
    "start_time": "2022-08-09T22:12:45.507Z"
   },
   {
    "duration": 148,
    "start_time": "2022-08-09T22:12:45.802Z"
   },
   {
    "duration": 162,
    "start_time": "2022-08-09T22:12:45.952Z"
   },
   {
    "duration": 197,
    "start_time": "2022-08-09T22:12:46.116Z"
   },
   {
    "duration": 202,
    "start_time": "2022-08-09T22:12:46.316Z"
   },
   {
    "duration": 266,
    "start_time": "2022-08-09T22:12:46.520Z"
   },
   {
    "duration": 152,
    "start_time": "2022-08-09T22:12:46.788Z"
   },
   {
    "duration": 164,
    "start_time": "2022-08-09T22:12:46.941Z"
   },
   {
    "duration": 218,
    "start_time": "2022-08-09T22:12:47.107Z"
   },
   {
    "duration": 136,
    "start_time": "2022-08-09T22:12:47.327Z"
   },
   {
    "duration": 191,
    "start_time": "2022-08-09T22:12:47.465Z"
   },
   {
    "duration": 113,
    "start_time": "2022-08-09T22:12:47.658Z"
   },
   {
    "duration": 17,
    "start_time": "2022-08-09T22:12:47.773Z"
   },
   {
    "duration": 211,
    "start_time": "2022-08-09T22:12:47.792Z"
   },
   {
    "duration": 170,
    "start_time": "2022-08-09T22:12:48.005Z"
   },
   {
    "duration": 11,
    "start_time": "2022-08-09T22:12:48.176Z"
   },
   {
    "duration": 187,
    "start_time": "2022-08-09T22:12:48.189Z"
   },
   {
    "duration": 11,
    "start_time": "2022-08-09T22:12:48.377Z"
   },
   {
    "duration": 158,
    "start_time": "2022-08-09T22:12:48.389Z"
   },
   {
    "duration": 4,
    "start_time": "2022-08-09T22:12:48.549Z"
   },
   {
    "duration": 191,
    "start_time": "2022-08-09T22:12:48.555Z"
   },
   {
    "duration": 5,
    "start_time": "2022-08-09T22:12:48.747Z"
   },
   {
    "duration": 179,
    "start_time": "2022-08-09T22:12:48.753Z"
   },
   {
    "duration": 385,
    "start_time": "2022-08-09T22:12:48.934Z"
   },
   {
    "duration": 185,
    "start_time": "2022-08-09T22:12:49.321Z"
   },
   {
    "duration": 178,
    "start_time": "2022-08-09T22:12:49.507Z"
   },
   {
    "duration": 179,
    "start_time": "2022-08-09T22:12:49.686Z"
   },
   {
    "duration": 29,
    "start_time": "2022-08-09T22:12:49.867Z"
   },
   {
    "duration": 7,
    "start_time": "2022-08-09T22:12:49.897Z"
   },
   {
    "duration": 8,
    "start_time": "2022-08-09T22:12:49.905Z"
   },
   {
    "duration": 35,
    "start_time": "2022-08-09T22:12:49.915Z"
   },
   {
    "duration": 165,
    "start_time": "2022-08-09T22:12:49.951Z"
   },
   {
    "duration": 119,
    "start_time": "2022-08-09T22:13:07.815Z"
   },
   {
    "duration": 14,
    "start_time": "2022-08-09T22:13:25.000Z"
   },
   {
    "duration": 10,
    "start_time": "2022-08-09T22:14:33.720Z"
   },
   {
    "duration": 110,
    "start_time": "2022-08-09T22:14:40.485Z"
   },
   {
    "duration": 7,
    "start_time": "2022-08-09T22:14:57.570Z"
   },
   {
    "duration": 104,
    "start_time": "2022-08-09T22:15:05.065Z"
   },
   {
    "duration": 15,
    "start_time": "2022-08-09T22:24:01.994Z"
   },
   {
    "duration": 8288,
    "start_time": "2022-08-09T22:24:11.589Z"
   },
   {
    "duration": 0,
    "start_time": "2022-08-09T22:24:19.879Z"
   },
   {
    "duration": 8422,
    "start_time": "2022-08-09T22:24:41.139Z"
   },
   {
    "duration": 369,
    "start_time": "2022-08-09T22:24:49.562Z"
   },
   {
    "duration": 1235,
    "start_time": "2022-08-09T22:26:54.789Z"
   },
   {
    "duration": 15,
    "start_time": "2022-08-09T22:26:56.027Z"
   },
   {
    "duration": 1850,
    "start_time": "2022-08-09T22:26:56.044Z"
   },
   {
    "duration": 9,
    "start_time": "2022-08-09T22:26:57.897Z"
   },
   {
    "duration": 4,
    "start_time": "2022-08-09T22:26:57.907Z"
   },
   {
    "duration": 310,
    "start_time": "2022-08-09T22:26:57.912Z"
   },
   {
    "duration": 4,
    "start_time": "2022-08-09T22:26:58.224Z"
   },
   {
    "duration": 8,
    "start_time": "2022-08-09T22:26:58.229Z"
   },
   {
    "duration": 6,
    "start_time": "2022-08-09T22:26:58.239Z"
   },
   {
    "duration": 8,
    "start_time": "2022-08-09T22:26:58.247Z"
   },
   {
    "duration": 6,
    "start_time": "2022-08-09T22:26:58.256Z"
   },
   {
    "duration": 24,
    "start_time": "2022-08-09T22:26:58.263Z"
   },
   {
    "duration": 5,
    "start_time": "2022-08-09T22:26:58.288Z"
   },
   {
    "duration": 6,
    "start_time": "2022-08-09T22:26:58.294Z"
   },
   {
    "duration": 9,
    "start_time": "2022-08-09T22:26:58.301Z"
   },
   {
    "duration": 4,
    "start_time": "2022-08-09T22:26:58.311Z"
   },
   {
    "duration": 7,
    "start_time": "2022-08-09T22:26:58.317Z"
   },
   {
    "duration": 10,
    "start_time": "2022-08-09T22:26:58.326Z"
   },
   {
    "duration": 15,
    "start_time": "2022-08-09T22:26:58.337Z"
   },
   {
    "duration": 32,
    "start_time": "2022-08-09T22:26:58.354Z"
   },
   {
    "duration": 8,
    "start_time": "2022-08-09T22:26:58.388Z"
   },
   {
    "duration": 12,
    "start_time": "2022-08-09T22:26:58.398Z"
   },
   {
    "duration": 28,
    "start_time": "2022-08-09T22:26:58.411Z"
   },
   {
    "duration": 21,
    "start_time": "2022-08-09T22:26:58.441Z"
   },
   {
    "duration": 9,
    "start_time": "2022-08-09T22:26:58.463Z"
   },
   {
    "duration": 125,
    "start_time": "2022-08-09T22:26:58.474Z"
   },
   {
    "duration": 7,
    "start_time": "2022-08-09T22:26:58.600Z"
   },
   {
    "duration": 18,
    "start_time": "2022-08-09T22:26:58.611Z"
   },
   {
    "duration": 15,
    "start_time": "2022-08-09T22:26:58.630Z"
   },
   {
    "duration": 15,
    "start_time": "2022-08-09T22:26:58.647Z"
   },
   {
    "duration": 11,
    "start_time": "2022-08-09T22:26:58.664Z"
   },
   {
    "duration": 15,
    "start_time": "2022-08-09T22:26:58.677Z"
   },
   {
    "duration": 13,
    "start_time": "2022-08-09T22:26:58.693Z"
   },
   {
    "duration": 57,
    "start_time": "2022-08-09T22:26:58.707Z"
   },
   {
    "duration": 7,
    "start_time": "2022-08-09T22:26:58.766Z"
   },
   {
    "duration": 17,
    "start_time": "2022-08-09T22:26:58.775Z"
   },
   {
    "duration": 15,
    "start_time": "2022-08-09T22:26:58.793Z"
   },
   {
    "duration": 129,
    "start_time": "2022-08-09T22:26:58.809Z"
   },
   {
    "duration": 91,
    "start_time": "2022-08-09T22:26:58.940Z"
   },
   {
    "duration": 8,
    "start_time": "2022-08-09T22:26:59.032Z"
   },
   {
    "duration": 7,
    "start_time": "2022-08-09T22:26:59.041Z"
   },
   {
    "duration": 9,
    "start_time": "2022-08-09T22:26:59.049Z"
   },
   {
    "duration": 9,
    "start_time": "2022-08-09T22:26:59.059Z"
   },
   {
    "duration": 18,
    "start_time": "2022-08-09T22:26:59.069Z"
   },
   {
    "duration": 319,
    "start_time": "2022-08-09T22:26:59.088Z"
   },
   {
    "duration": 14,
    "start_time": "2022-08-09T22:26:59.409Z"
   },
   {
    "duration": 4,
    "start_time": "2022-08-09T22:26:59.425Z"
   },
   {
    "duration": 40,
    "start_time": "2022-08-09T22:26:59.431Z"
   },
   {
    "duration": 33,
    "start_time": "2022-08-09T22:26:59.472Z"
   },
   {
    "duration": 5,
    "start_time": "2022-08-09T22:26:59.506Z"
   },
   {
    "duration": 21,
    "start_time": "2022-08-09T22:26:59.512Z"
   },
   {
    "duration": 261,
    "start_time": "2022-08-09T22:26:59.534Z"
   },
   {
    "duration": 268,
    "start_time": "2022-08-09T22:26:59.796Z"
   },
   {
    "duration": 281,
    "start_time": "2022-08-09T22:27:00.066Z"
   },
   {
    "duration": 241,
    "start_time": "2022-08-09T22:27:00.349Z"
   },
   {
    "duration": 283,
    "start_time": "2022-08-09T22:27:00.592Z"
   },
   {
    "duration": 158,
    "start_time": "2022-08-09T22:27:00.876Z"
   },
   {
    "duration": 172,
    "start_time": "2022-08-09T22:27:01.036Z"
   },
   {
    "duration": 191,
    "start_time": "2022-08-09T22:27:01.209Z"
   },
   {
    "duration": 301,
    "start_time": "2022-08-09T22:27:01.401Z"
   },
   {
    "duration": 185,
    "start_time": "2022-08-09T22:27:01.704Z"
   },
   {
    "duration": 176,
    "start_time": "2022-08-09T22:27:01.890Z"
   },
   {
    "duration": 140,
    "start_time": "2022-08-09T22:27:02.068Z"
   },
   {
    "duration": 250,
    "start_time": "2022-08-09T22:27:02.209Z"
   },
   {
    "duration": 232,
    "start_time": "2022-08-09T22:27:02.461Z"
   },
   {
    "duration": 234,
    "start_time": "2022-08-09T22:27:02.694Z"
   },
   {
    "duration": 63,
    "start_time": "2022-08-09T22:27:02.930Z"
   },
   {
    "duration": 439,
    "start_time": "2022-08-09T22:27:02.995Z"
   },
   {
    "duration": 208,
    "start_time": "2022-08-09T22:27:03.436Z"
   },
   {
    "duration": 5,
    "start_time": "2022-08-09T22:27:03.646Z"
   },
   {
    "duration": 434,
    "start_time": "2022-08-09T22:27:03.652Z"
   },
   {
    "duration": 5,
    "start_time": "2022-08-09T22:27:04.089Z"
   },
   {
    "duration": 330,
    "start_time": "2022-08-09T22:27:04.095Z"
   },
   {
    "duration": 5,
    "start_time": "2022-08-09T22:27:04.427Z"
   },
   {
    "duration": 403,
    "start_time": "2022-08-09T22:27:04.486Z"
   },
   {
    "duration": 5,
    "start_time": "2022-08-09T22:27:04.890Z"
   },
   {
    "duration": 395,
    "start_time": "2022-08-09T22:27:04.897Z"
   },
   {
    "duration": 494,
    "start_time": "2022-08-09T22:27:05.293Z"
   },
   {
    "duration": 200,
    "start_time": "2022-08-09T22:27:05.788Z"
   },
   {
    "duration": 206,
    "start_time": "2022-08-09T22:27:05.989Z"
   },
   {
    "duration": 259,
    "start_time": "2022-08-09T22:27:06.197Z"
   },
   {
    "duration": 36,
    "start_time": "2022-08-09T22:27:06.461Z"
   },
   {
    "duration": 7,
    "start_time": "2022-08-09T22:27:06.499Z"
   },
   {
    "duration": 13,
    "start_time": "2022-08-09T22:27:06.507Z"
   },
   {
    "duration": 38,
    "start_time": "2022-08-09T22:27:06.521Z"
   },
   {
    "duration": 327,
    "start_time": "2022-08-09T22:27:06.562Z"
   },
   {
    "duration": 8554,
    "start_time": "2022-08-09T22:27:06.890Z"
   },
   {
    "duration": 387,
    "start_time": "2022-08-09T22:27:15.446Z"
   },
   {
    "duration": 41,
    "start_time": "2022-08-10T07:00:19.442Z"
   },
   {
    "duration": 1558,
    "start_time": "2022-08-10T07:00:25.817Z"
   },
   {
    "duration": 15,
    "start_time": "2022-08-10T07:00:27.377Z"
   },
   {
    "duration": 1714,
    "start_time": "2022-08-10T07:00:27.393Z"
   },
   {
    "duration": 9,
    "start_time": "2022-08-10T07:00:29.108Z"
   },
   {
    "duration": 6,
    "start_time": "2022-08-10T07:00:29.119Z"
   },
   {
    "duration": 298,
    "start_time": "2022-08-10T07:00:29.126Z"
   },
   {
    "duration": 5,
    "start_time": "2022-08-10T07:00:29.426Z"
   },
   {
    "duration": 8,
    "start_time": "2022-08-10T07:00:29.432Z"
   },
   {
    "duration": 7,
    "start_time": "2022-08-10T07:00:29.441Z"
   },
   {
    "duration": 8,
    "start_time": "2022-08-10T07:00:29.449Z"
   },
   {
    "duration": 8,
    "start_time": "2022-08-10T07:00:29.459Z"
   },
   {
    "duration": 8,
    "start_time": "2022-08-10T07:00:29.468Z"
   },
   {
    "duration": 8,
    "start_time": "2022-08-10T07:00:29.477Z"
   },
   {
    "duration": 15,
    "start_time": "2022-08-10T07:00:29.499Z"
   },
   {
    "duration": 4,
    "start_time": "2022-08-10T07:00:29.516Z"
   },
   {
    "duration": 32,
    "start_time": "2022-08-10T07:00:29.522Z"
   },
   {
    "duration": 10,
    "start_time": "2022-08-10T07:00:29.556Z"
   },
   {
    "duration": 9,
    "start_time": "2022-08-10T07:00:29.568Z"
   },
   {
    "duration": 9,
    "start_time": "2022-08-10T07:00:29.578Z"
   },
   {
    "duration": 21,
    "start_time": "2022-08-10T07:00:29.589Z"
   },
   {
    "duration": 7,
    "start_time": "2022-08-10T07:00:29.611Z"
   },
   {
    "duration": 7,
    "start_time": "2022-08-10T07:00:29.619Z"
   },
   {
    "duration": 4,
    "start_time": "2022-08-10T07:00:29.628Z"
   },
   {
    "duration": 15,
    "start_time": "2022-08-10T07:00:29.633Z"
   },
   {
    "duration": 19,
    "start_time": "2022-08-10T07:00:29.649Z"
   },
   {
    "duration": 30,
    "start_time": "2022-08-10T07:00:29.670Z"
   },
   {
    "duration": 130,
    "start_time": "2022-08-10T07:00:29.702Z"
   },
   {
    "duration": 7,
    "start_time": "2022-08-10T07:00:29.833Z"
   },
   {
    "duration": 9,
    "start_time": "2022-08-10T07:00:29.841Z"
   },
   {
    "duration": 8,
    "start_time": "2022-08-10T07:00:29.851Z"
   },
   {
    "duration": 5,
    "start_time": "2022-08-10T07:00:29.861Z"
   },
   {
    "duration": 6,
    "start_time": "2022-08-10T07:00:29.867Z"
   },
   {
    "duration": 25,
    "start_time": "2022-08-10T07:00:29.875Z"
   },
   {
    "duration": 14,
    "start_time": "2022-08-10T07:00:29.902Z"
   },
   {
    "duration": 52,
    "start_time": "2022-08-10T07:00:29.917Z"
   },
   {
    "duration": 8,
    "start_time": "2022-08-10T07:00:29.971Z"
   },
   {
    "duration": 8,
    "start_time": "2022-08-10T07:00:29.980Z"
   },
   {
    "duration": 14,
    "start_time": "2022-08-10T07:00:29.990Z"
   },
   {
    "duration": 119,
    "start_time": "2022-08-10T07:00:30.006Z"
   },
   {
    "duration": 90,
    "start_time": "2022-08-10T07:00:30.127Z"
   },
   {
    "duration": 7,
    "start_time": "2022-08-10T07:00:30.223Z"
   },
   {
    "duration": 9,
    "start_time": "2022-08-10T07:00:30.231Z"
   },
   {
    "duration": 8,
    "start_time": "2022-08-10T07:00:30.242Z"
   },
   {
    "duration": 17,
    "start_time": "2022-08-10T07:00:30.251Z"
   },
   {
    "duration": 10,
    "start_time": "2022-08-10T07:00:30.269Z"
   },
   {
    "duration": 289,
    "start_time": "2022-08-10T07:00:30.280Z"
   },
   {
    "duration": 15,
    "start_time": "2022-08-10T07:00:30.571Z"
   },
   {
    "duration": 12,
    "start_time": "2022-08-10T07:00:30.588Z"
   },
   {
    "duration": 52,
    "start_time": "2022-08-10T07:00:30.602Z"
   },
   {
    "duration": 25,
    "start_time": "2022-08-10T07:00:30.655Z"
   },
   {
    "duration": 9,
    "start_time": "2022-08-10T07:00:30.682Z"
   },
   {
    "duration": 23,
    "start_time": "2022-08-10T07:00:30.692Z"
   },
   {
    "duration": 292,
    "start_time": "2022-08-10T07:00:30.717Z"
   },
   {
    "duration": 256,
    "start_time": "2022-08-10T07:00:31.011Z"
   },
   {
    "duration": 293,
    "start_time": "2022-08-10T07:00:31.269Z"
   },
   {
    "duration": 253,
    "start_time": "2022-08-10T07:00:31.564Z"
   },
   {
    "duration": 282,
    "start_time": "2022-08-10T07:00:31.818Z"
   },
   {
    "duration": 142,
    "start_time": "2022-08-10T07:00:32.101Z"
   },
   {
    "duration": 163,
    "start_time": "2022-08-10T07:00:32.245Z"
   },
   {
    "duration": 171,
    "start_time": "2022-08-10T07:00:32.409Z"
   },
   {
    "duration": 276,
    "start_time": "2022-08-10T07:00:32.582Z"
   },
   {
    "duration": 157,
    "start_time": "2022-08-10T07:00:32.859Z"
   },
   {
    "duration": 161,
    "start_time": "2022-08-10T07:00:33.018Z"
   },
   {
    "duration": 138,
    "start_time": "2022-08-10T07:00:33.181Z"
   },
   {
    "duration": 247,
    "start_time": "2022-08-10T07:00:33.321Z"
   },
   {
    "duration": 179,
    "start_time": "2022-08-10T07:00:33.570Z"
   },
   {
    "duration": 124,
    "start_time": "2022-08-10T07:00:33.751Z"
   },
   {
    "duration": 10,
    "start_time": "2022-08-10T07:00:33.877Z"
   },
   {
    "duration": 249,
    "start_time": "2022-08-10T07:00:33.888Z"
   },
   {
    "duration": 188,
    "start_time": "2022-08-10T07:00:34.139Z"
   },
   {
    "duration": 5,
    "start_time": "2022-08-10T07:00:34.328Z"
   },
   {
    "duration": 210,
    "start_time": "2022-08-10T07:00:34.334Z"
   },
   {
    "duration": 5,
    "start_time": "2022-08-10T07:00:34.545Z"
   },
   {
    "duration": 181,
    "start_time": "2022-08-10T07:00:34.552Z"
   },
   {
    "duration": 6,
    "start_time": "2022-08-10T07:00:34.735Z"
   },
   {
    "duration": 213,
    "start_time": "2022-08-10T07:00:34.743Z"
   },
   {
    "duration": 6,
    "start_time": "2022-08-10T07:00:34.958Z"
   },
   {
    "duration": 185,
    "start_time": "2022-08-10T07:00:34.965Z"
   },
   {
    "duration": 391,
    "start_time": "2022-08-10T07:00:35.152Z"
   },
   {
    "duration": 181,
    "start_time": "2022-08-10T07:00:35.545Z"
   },
   {
    "duration": 181,
    "start_time": "2022-08-10T07:00:35.728Z"
   },
   {
    "duration": 184,
    "start_time": "2022-08-10T07:00:35.911Z"
   },
   {
    "duration": 23,
    "start_time": "2022-08-10T07:00:36.096Z"
   },
   {
    "duration": 7,
    "start_time": "2022-08-10T07:00:36.120Z"
   },
   {
    "duration": 13,
    "start_time": "2022-08-10T07:00:36.128Z"
   },
   {
    "duration": 35,
    "start_time": "2022-08-10T07:00:36.143Z"
   },
   {
    "duration": 147,
    "start_time": "2022-08-10T07:00:36.179Z"
   },
   {
    "duration": 7902,
    "start_time": "2022-08-10T07:00:36.328Z"
   },
   {
    "duration": 370,
    "start_time": "2022-08-10T07:00:44.232Z"
   },
   {
    "duration": 15,
    "start_time": "2022-08-10T07:01:01.240Z"
   },
   {
    "duration": 12,
    "start_time": "2022-08-10T07:04:41.811Z"
   },
   {
    "duration": 13,
    "start_time": "2022-08-10T07:04:56.411Z"
   },
   {
    "duration": 17,
    "start_time": "2022-08-10T07:05:40.919Z"
   },
   {
    "duration": 1262,
    "start_time": "2022-08-10T07:06:51.684Z"
   },
   {
    "duration": 15,
    "start_time": "2022-08-10T07:06:52.948Z"
   },
   {
    "duration": 1777,
    "start_time": "2022-08-10T07:06:52.965Z"
   },
   {
    "duration": 11,
    "start_time": "2022-08-10T07:06:54.745Z"
   },
   {
    "duration": 4,
    "start_time": "2022-08-10T07:06:54.758Z"
   },
   {
    "duration": 339,
    "start_time": "2022-08-10T07:06:54.764Z"
   },
   {
    "duration": 5,
    "start_time": "2022-08-10T07:06:55.105Z"
   },
   {
    "duration": 6,
    "start_time": "2022-08-10T07:06:55.111Z"
   },
   {
    "duration": 7,
    "start_time": "2022-08-10T07:06:55.119Z"
   },
   {
    "duration": 6,
    "start_time": "2022-08-10T07:06:55.129Z"
   },
   {
    "duration": 11,
    "start_time": "2022-08-10T07:06:55.136Z"
   },
   {
    "duration": 14,
    "start_time": "2022-08-10T07:06:55.149Z"
   },
   {
    "duration": 10,
    "start_time": "2022-08-10T07:06:55.164Z"
   },
   {
    "duration": 28,
    "start_time": "2022-08-10T07:06:55.176Z"
   },
   {
    "duration": 5,
    "start_time": "2022-08-10T07:06:55.206Z"
   },
   {
    "duration": 17,
    "start_time": "2022-08-10T07:06:55.213Z"
   },
   {
    "duration": 8,
    "start_time": "2022-08-10T07:06:55.232Z"
   },
   {
    "duration": 4,
    "start_time": "2022-08-10T07:06:55.242Z"
   },
   {
    "duration": 8,
    "start_time": "2022-08-10T07:06:55.248Z"
   },
   {
    "duration": 44,
    "start_time": "2022-08-10T07:06:55.258Z"
   },
   {
    "duration": 21,
    "start_time": "2022-08-10T07:06:55.304Z"
   },
   {
    "duration": 13,
    "start_time": "2022-08-10T07:06:55.327Z"
   },
   {
    "duration": 18,
    "start_time": "2022-08-10T07:06:55.342Z"
   },
   {
    "duration": 103,
    "start_time": "2022-08-10T07:06:55.361Z"
   },
   {
    "duration": 0,
    "start_time": "2022-08-10T07:06:55.468Z"
   },
   {
    "duration": 0,
    "start_time": "2022-08-10T07:06:55.470Z"
   },
   {
    "duration": 0,
    "start_time": "2022-08-10T07:06:55.471Z"
   },
   {
    "duration": 0,
    "start_time": "2022-08-10T07:06:55.472Z"
   },
   {
    "duration": 0,
    "start_time": "2022-08-10T07:06:55.473Z"
   },
   {
    "duration": 0,
    "start_time": "2022-08-10T07:06:55.474Z"
   },
   {
    "duration": 0,
    "start_time": "2022-08-10T07:06:55.475Z"
   },
   {
    "duration": 0,
    "start_time": "2022-08-10T07:06:55.476Z"
   },
   {
    "duration": 0,
    "start_time": "2022-08-10T07:06:55.477Z"
   },
   {
    "duration": 0,
    "start_time": "2022-08-10T07:06:55.478Z"
   },
   {
    "duration": 0,
    "start_time": "2022-08-10T07:06:55.479Z"
   },
   {
    "duration": 0,
    "start_time": "2022-08-10T07:06:55.500Z"
   },
   {
    "duration": 0,
    "start_time": "2022-08-10T07:06:55.501Z"
   },
   {
    "duration": 0,
    "start_time": "2022-08-10T07:06:55.502Z"
   },
   {
    "duration": 0,
    "start_time": "2022-08-10T07:06:55.503Z"
   },
   {
    "duration": 0,
    "start_time": "2022-08-10T07:06:55.505Z"
   },
   {
    "duration": 0,
    "start_time": "2022-08-10T07:06:55.506Z"
   },
   {
    "duration": 0,
    "start_time": "2022-08-10T07:06:55.507Z"
   },
   {
    "duration": 0,
    "start_time": "2022-08-10T07:06:55.507Z"
   },
   {
    "duration": 0,
    "start_time": "2022-08-10T07:06:55.509Z"
   },
   {
    "duration": 0,
    "start_time": "2022-08-10T07:06:55.510Z"
   },
   {
    "duration": 1,
    "start_time": "2022-08-10T07:06:55.510Z"
   },
   {
    "duration": 0,
    "start_time": "2022-08-10T07:06:55.511Z"
   },
   {
    "duration": 0,
    "start_time": "2022-08-10T07:06:55.513Z"
   },
   {
    "duration": 0,
    "start_time": "2022-08-10T07:06:55.514Z"
   },
   {
    "duration": 0,
    "start_time": "2022-08-10T07:06:55.515Z"
   },
   {
    "duration": 0,
    "start_time": "2022-08-10T07:06:55.516Z"
   },
   {
    "duration": 0,
    "start_time": "2022-08-10T07:06:55.517Z"
   },
   {
    "duration": 0,
    "start_time": "2022-08-10T07:06:55.518Z"
   },
   {
    "duration": 0,
    "start_time": "2022-08-10T07:06:55.519Z"
   },
   {
    "duration": 0,
    "start_time": "2022-08-10T07:06:55.520Z"
   },
   {
    "duration": 0,
    "start_time": "2022-08-10T07:06:55.520Z"
   },
   {
    "duration": 0,
    "start_time": "2022-08-10T07:06:55.521Z"
   },
   {
    "duration": 0,
    "start_time": "2022-08-10T07:06:55.522Z"
   },
   {
    "duration": 0,
    "start_time": "2022-08-10T07:06:55.523Z"
   },
   {
    "duration": 0,
    "start_time": "2022-08-10T07:06:55.524Z"
   },
   {
    "duration": 0,
    "start_time": "2022-08-10T07:06:55.525Z"
   },
   {
    "duration": 0,
    "start_time": "2022-08-10T07:06:55.526Z"
   },
   {
    "duration": 0,
    "start_time": "2022-08-10T07:06:55.527Z"
   },
   {
    "duration": 0,
    "start_time": "2022-08-10T07:06:55.528Z"
   },
   {
    "duration": 0,
    "start_time": "2022-08-10T07:06:55.529Z"
   },
   {
    "duration": 0,
    "start_time": "2022-08-10T07:06:55.530Z"
   },
   {
    "duration": 0,
    "start_time": "2022-08-10T07:06:55.531Z"
   },
   {
    "duration": 0,
    "start_time": "2022-08-10T07:06:55.532Z"
   },
   {
    "duration": 0,
    "start_time": "2022-08-10T07:06:55.533Z"
   },
   {
    "duration": 0,
    "start_time": "2022-08-10T07:06:55.534Z"
   },
   {
    "duration": 1,
    "start_time": "2022-08-10T07:06:55.535Z"
   },
   {
    "duration": 0,
    "start_time": "2022-08-10T07:06:55.600Z"
   },
   {
    "duration": 0,
    "start_time": "2022-08-10T07:06:55.601Z"
   },
   {
    "duration": 0,
    "start_time": "2022-08-10T07:06:55.602Z"
   },
   {
    "duration": 0,
    "start_time": "2022-08-10T07:06:55.603Z"
   },
   {
    "duration": 1,
    "start_time": "2022-08-10T07:06:55.603Z"
   },
   {
    "duration": 0,
    "start_time": "2022-08-10T07:06:55.604Z"
   },
   {
    "duration": 0,
    "start_time": "2022-08-10T07:06:55.605Z"
   },
   {
    "duration": 0,
    "start_time": "2022-08-10T07:06:55.606Z"
   },
   {
    "duration": 0,
    "start_time": "2022-08-10T07:06:55.608Z"
   },
   {
    "duration": 0,
    "start_time": "2022-08-10T07:06:55.609Z"
   },
   {
    "duration": 0,
    "start_time": "2022-08-10T07:06:55.610Z"
   },
   {
    "duration": 0,
    "start_time": "2022-08-10T07:06:55.611Z"
   },
   {
    "duration": 0,
    "start_time": "2022-08-10T07:06:55.611Z"
   },
   {
    "duration": 0,
    "start_time": "2022-08-10T07:06:55.613Z"
   },
   {
    "duration": 0,
    "start_time": "2022-08-10T07:06:55.614Z"
   },
   {
    "duration": 0,
    "start_time": "2022-08-10T07:06:55.615Z"
   },
   {
    "duration": 0,
    "start_time": "2022-08-10T07:06:55.616Z"
   },
   {
    "duration": 0,
    "start_time": "2022-08-10T07:06:55.617Z"
   },
   {
    "duration": 0,
    "start_time": "2022-08-10T07:06:55.618Z"
   },
   {
    "duration": 0,
    "start_time": "2022-08-10T07:06:55.619Z"
   },
   {
    "duration": 14,
    "start_time": "2022-08-10T07:08:08.330Z"
   },
   {
    "duration": 6,
    "start_time": "2022-08-10T07:08:34.083Z"
   },
   {
    "duration": 18,
    "start_time": "2022-08-10T07:08:35.739Z"
   },
   {
    "duration": 5,
    "start_time": "2022-08-10T07:10:59.278Z"
   },
   {
    "duration": 13,
    "start_time": "2022-08-10T07:11:01.352Z"
   },
   {
    "duration": 4,
    "start_time": "2022-08-10T07:11:54.032Z"
   },
   {
    "duration": 14,
    "start_time": "2022-08-10T07:11:55.248Z"
   },
   {
    "duration": 4,
    "start_time": "2022-08-10T07:12:02.073Z"
   },
   {
    "duration": 13,
    "start_time": "2022-08-10T07:12:03.111Z"
   },
   {
    "duration": 5,
    "start_time": "2022-08-10T07:12:06.536Z"
   },
   {
    "duration": 13,
    "start_time": "2022-08-10T07:12:07.409Z"
   },
   {
    "duration": 13,
    "start_time": "2022-08-10T07:12:12.121Z"
   },
   {
    "duration": 1217,
    "start_time": "2022-08-10T07:12:20.179Z"
   },
   {
    "duration": 13,
    "start_time": "2022-08-10T07:12:21.398Z"
   },
   {
    "duration": 1763,
    "start_time": "2022-08-10T07:12:21.412Z"
   },
   {
    "duration": 9,
    "start_time": "2022-08-10T07:12:23.177Z"
   },
   {
    "duration": 5,
    "start_time": "2022-08-10T07:12:23.189Z"
   },
   {
    "duration": 316,
    "start_time": "2022-08-10T07:12:23.196Z"
   },
   {
    "duration": 5,
    "start_time": "2022-08-10T07:12:23.514Z"
   },
   {
    "duration": 26,
    "start_time": "2022-08-10T07:12:23.521Z"
   },
   {
    "duration": 34,
    "start_time": "2022-08-10T07:12:23.549Z"
   },
   {
    "duration": 29,
    "start_time": "2022-08-10T07:12:23.585Z"
   },
   {
    "duration": 32,
    "start_time": "2022-08-10T07:12:23.616Z"
   },
   {
    "duration": 27,
    "start_time": "2022-08-10T07:12:23.650Z"
   },
   {
    "duration": 42,
    "start_time": "2022-08-10T07:12:23.679Z"
   },
   {
    "duration": 35,
    "start_time": "2022-08-10T07:12:23.725Z"
   },
   {
    "duration": 28,
    "start_time": "2022-08-10T07:12:23.762Z"
   },
   {
    "duration": 28,
    "start_time": "2022-08-10T07:12:23.792Z"
   },
   {
    "duration": 19,
    "start_time": "2022-08-10T07:12:23.821Z"
   },
   {
    "duration": 19,
    "start_time": "2022-08-10T07:12:23.842Z"
   },
   {
    "duration": 48,
    "start_time": "2022-08-10T07:12:23.863Z"
   },
   {
    "duration": 32,
    "start_time": "2022-08-10T07:12:23.913Z"
   },
   {
    "duration": 27,
    "start_time": "2022-08-10T07:12:23.947Z"
   },
   {
    "duration": 32,
    "start_time": "2022-08-10T07:12:23.976Z"
   },
   {
    "duration": 18,
    "start_time": "2022-08-10T07:12:24.010Z"
   },
   {
    "duration": 126,
    "start_time": "2022-08-10T07:12:24.029Z"
   },
   {
    "duration": 0,
    "start_time": "2022-08-10T07:12:24.159Z"
   },
   {
    "duration": 0,
    "start_time": "2022-08-10T07:12:24.159Z"
   },
   {
    "duration": 0,
    "start_time": "2022-08-10T07:12:24.161Z"
   },
   {
    "duration": 0,
    "start_time": "2022-08-10T07:12:24.162Z"
   },
   {
    "duration": 0,
    "start_time": "2022-08-10T07:12:24.163Z"
   },
   {
    "duration": 0,
    "start_time": "2022-08-10T07:12:24.164Z"
   },
   {
    "duration": 0,
    "start_time": "2022-08-10T07:12:24.166Z"
   },
   {
    "duration": 0,
    "start_time": "2022-08-10T07:12:24.167Z"
   },
   {
    "duration": 0,
    "start_time": "2022-08-10T07:12:24.168Z"
   },
   {
    "duration": 0,
    "start_time": "2022-08-10T07:12:24.170Z"
   },
   {
    "duration": 0,
    "start_time": "2022-08-10T07:12:24.171Z"
   },
   {
    "duration": 1,
    "start_time": "2022-08-10T07:12:24.172Z"
   },
   {
    "duration": 0,
    "start_time": "2022-08-10T07:12:24.200Z"
   },
   {
    "duration": 0,
    "start_time": "2022-08-10T07:12:24.201Z"
   },
   {
    "duration": 0,
    "start_time": "2022-08-10T07:12:24.202Z"
   },
   {
    "duration": 0,
    "start_time": "2022-08-10T07:12:24.203Z"
   },
   {
    "duration": 0,
    "start_time": "2022-08-10T07:12:24.204Z"
   },
   {
    "duration": 0,
    "start_time": "2022-08-10T07:12:24.205Z"
   },
   {
    "duration": 0,
    "start_time": "2022-08-10T07:12:24.206Z"
   },
   {
    "duration": 0,
    "start_time": "2022-08-10T07:12:24.207Z"
   },
   {
    "duration": 0,
    "start_time": "2022-08-10T07:12:24.208Z"
   },
   {
    "duration": 0,
    "start_time": "2022-08-10T07:12:24.209Z"
   },
   {
    "duration": 0,
    "start_time": "2022-08-10T07:12:24.210Z"
   },
   {
    "duration": 0,
    "start_time": "2022-08-10T07:12:24.211Z"
   },
   {
    "duration": 0,
    "start_time": "2022-08-10T07:12:24.212Z"
   },
   {
    "duration": 0,
    "start_time": "2022-08-10T07:12:24.213Z"
   },
   {
    "duration": 0,
    "start_time": "2022-08-10T07:12:24.214Z"
   },
   {
    "duration": 0,
    "start_time": "2022-08-10T07:12:24.215Z"
   },
   {
    "duration": 0,
    "start_time": "2022-08-10T07:12:24.216Z"
   },
   {
    "duration": 0,
    "start_time": "2022-08-10T07:12:24.217Z"
   },
   {
    "duration": 0,
    "start_time": "2022-08-10T07:12:24.218Z"
   },
   {
    "duration": 0,
    "start_time": "2022-08-10T07:12:24.219Z"
   },
   {
    "duration": 0,
    "start_time": "2022-08-10T07:12:24.220Z"
   },
   {
    "duration": 0,
    "start_time": "2022-08-10T07:12:24.221Z"
   },
   {
    "duration": 0,
    "start_time": "2022-08-10T07:12:24.222Z"
   },
   {
    "duration": 0,
    "start_time": "2022-08-10T07:12:24.223Z"
   },
   {
    "duration": 0,
    "start_time": "2022-08-10T07:12:24.224Z"
   },
   {
    "duration": 0,
    "start_time": "2022-08-10T07:12:24.225Z"
   },
   {
    "duration": 0,
    "start_time": "2022-08-10T07:12:24.226Z"
   },
   {
    "duration": 0,
    "start_time": "2022-08-10T07:12:24.228Z"
   },
   {
    "duration": 0,
    "start_time": "2022-08-10T07:12:24.228Z"
   },
   {
    "duration": 0,
    "start_time": "2022-08-10T07:12:24.229Z"
   },
   {
    "duration": 0,
    "start_time": "2022-08-10T07:12:24.231Z"
   },
   {
    "duration": 0,
    "start_time": "2022-08-10T07:12:24.231Z"
   },
   {
    "duration": 0,
    "start_time": "2022-08-10T07:12:24.232Z"
   },
   {
    "duration": 0,
    "start_time": "2022-08-10T07:12:24.234Z"
   },
   {
    "duration": 0,
    "start_time": "2022-08-10T07:12:24.235Z"
   },
   {
    "duration": 0,
    "start_time": "2022-08-10T07:12:24.300Z"
   },
   {
    "duration": 0,
    "start_time": "2022-08-10T07:12:24.301Z"
   },
   {
    "duration": 0,
    "start_time": "2022-08-10T07:12:24.303Z"
   },
   {
    "duration": 0,
    "start_time": "2022-08-10T07:12:24.304Z"
   },
   {
    "duration": 0,
    "start_time": "2022-08-10T07:12:24.305Z"
   },
   {
    "duration": 0,
    "start_time": "2022-08-10T07:12:24.306Z"
   },
   {
    "duration": 0,
    "start_time": "2022-08-10T07:12:24.307Z"
   },
   {
    "duration": 0,
    "start_time": "2022-08-10T07:12:24.308Z"
   },
   {
    "duration": 0,
    "start_time": "2022-08-10T07:12:24.309Z"
   },
   {
    "duration": 0,
    "start_time": "2022-08-10T07:12:24.309Z"
   },
   {
    "duration": 0,
    "start_time": "2022-08-10T07:12:24.310Z"
   },
   {
    "duration": 0,
    "start_time": "2022-08-10T07:12:24.311Z"
   },
   {
    "duration": 0,
    "start_time": "2022-08-10T07:12:24.312Z"
   },
   {
    "duration": 0,
    "start_time": "2022-08-10T07:12:24.313Z"
   },
   {
    "duration": 0,
    "start_time": "2022-08-10T07:12:24.314Z"
   },
   {
    "duration": 0,
    "start_time": "2022-08-10T07:12:24.315Z"
   },
   {
    "duration": 0,
    "start_time": "2022-08-10T07:12:24.315Z"
   },
   {
    "duration": 0,
    "start_time": "2022-08-10T07:12:24.316Z"
   },
   {
    "duration": 0,
    "start_time": "2022-08-10T07:12:24.317Z"
   },
   {
    "duration": 0,
    "start_time": "2022-08-10T07:12:24.318Z"
   },
   {
    "duration": 11,
    "start_time": "2022-08-10T07:14:08.288Z"
   },
   {
    "duration": 10,
    "start_time": "2022-08-10T07:14:25.705Z"
   },
   {
    "duration": 6,
    "start_time": "2022-08-10T07:14:31.913Z"
   },
   {
    "duration": 8,
    "start_time": "2022-08-10T07:16:29.307Z"
   },
   {
    "duration": 13,
    "start_time": "2022-08-10T07:16:30.186Z"
   },
   {
    "duration": 9,
    "start_time": "2022-08-10T07:16:50.331Z"
   },
   {
    "duration": 14,
    "start_time": "2022-08-10T07:16:51.420Z"
   },
   {
    "duration": 1261,
    "start_time": "2022-08-10T07:16:57.543Z"
   },
   {
    "duration": 14,
    "start_time": "2022-08-10T07:16:58.806Z"
   },
   {
    "duration": 1744,
    "start_time": "2022-08-10T07:16:58.822Z"
   },
   {
    "duration": 9,
    "start_time": "2022-08-10T07:17:00.568Z"
   },
   {
    "duration": 24,
    "start_time": "2022-08-10T07:17:00.579Z"
   },
   {
    "duration": 345,
    "start_time": "2022-08-10T07:17:00.604Z"
   },
   {
    "duration": 4,
    "start_time": "2022-08-10T07:17:00.951Z"
   },
   {
    "duration": 23,
    "start_time": "2022-08-10T07:17:00.956Z"
   },
   {
    "duration": 10,
    "start_time": "2022-08-10T07:17:00.981Z"
   },
   {
    "duration": 14,
    "start_time": "2022-08-10T07:17:00.992Z"
   },
   {
    "duration": 14,
    "start_time": "2022-08-10T07:17:01.007Z"
   },
   {
    "duration": 29,
    "start_time": "2022-08-10T07:17:01.022Z"
   },
   {
    "duration": 46,
    "start_time": "2022-08-10T07:17:01.052Z"
   },
   {
    "duration": 44,
    "start_time": "2022-08-10T07:17:01.101Z"
   },
   {
    "duration": 16,
    "start_time": "2022-08-10T07:17:01.147Z"
   },
   {
    "duration": 33,
    "start_time": "2022-08-10T07:17:01.164Z"
   },
   {
    "duration": 30,
    "start_time": "2022-08-10T07:17:01.199Z"
   },
   {
    "duration": 32,
    "start_time": "2022-08-10T07:17:01.232Z"
   },
   {
    "duration": 60,
    "start_time": "2022-08-10T07:17:01.267Z"
   },
   {
    "duration": 40,
    "start_time": "2022-08-10T07:17:01.329Z"
   },
   {
    "duration": 57,
    "start_time": "2022-08-10T07:17:01.370Z"
   },
   {
    "duration": 22,
    "start_time": "2022-08-10T07:17:01.430Z"
   },
   {
    "duration": 84,
    "start_time": "2022-08-10T07:17:01.454Z"
   },
   {
    "duration": 48,
    "start_time": "2022-08-10T07:17:01.540Z"
   },
   {
    "duration": 60,
    "start_time": "2022-08-10T07:17:01.591Z"
   },
   {
    "duration": 60,
    "start_time": "2022-08-10T07:17:01.653Z"
   },
   {
    "duration": 42,
    "start_time": "2022-08-10T07:17:01.714Z"
   },
   {
    "duration": 173,
    "start_time": "2022-08-10T07:17:01.757Z"
   },
   {
    "duration": 123,
    "start_time": "2022-08-10T07:17:01.931Z"
   },
   {
    "duration": 32,
    "start_time": "2022-08-10T07:17:02.055Z"
   },
   {
    "duration": 52,
    "start_time": "2022-08-10T07:17:02.088Z"
   },
   {
    "duration": 41,
    "start_time": "2022-08-10T07:17:02.141Z"
   },
   {
    "duration": 48,
    "start_time": "2022-08-10T07:17:02.184Z"
   },
   {
    "duration": 32,
    "start_time": "2022-08-10T07:17:02.234Z"
   },
   {
    "duration": 32,
    "start_time": "2022-08-10T07:17:02.268Z"
   },
   {
    "duration": 95,
    "start_time": "2022-08-10T07:17:02.302Z"
   },
   {
    "duration": 7,
    "start_time": "2022-08-10T07:17:02.399Z"
   },
   {
    "duration": 95,
    "start_time": "2022-08-10T07:17:02.408Z"
   },
   {
    "duration": 53,
    "start_time": "2022-08-10T07:17:02.505Z"
   },
   {
    "duration": 31,
    "start_time": "2022-08-10T07:17:02.560Z"
   },
   {
    "duration": 102,
    "start_time": "2022-08-10T07:17:02.596Z"
   },
   {
    "duration": 87,
    "start_time": "2022-08-10T07:17:02.700Z"
   },
   {
    "duration": 7,
    "start_time": "2022-08-10T07:17:02.799Z"
   },
   {
    "duration": 24,
    "start_time": "2022-08-10T07:17:02.808Z"
   },
   {
    "duration": 17,
    "start_time": "2022-08-10T07:17:02.834Z"
   },
   {
    "duration": 17,
    "start_time": "2022-08-10T07:17:02.852Z"
   },
   {
    "duration": 33,
    "start_time": "2022-08-10T07:17:02.871Z"
   },
   {
    "duration": 10,
    "start_time": "2022-08-10T07:17:02.906Z"
   },
   {
    "duration": 17,
    "start_time": "2022-08-10T07:17:02.918Z"
   },
   {
    "duration": 6,
    "start_time": "2022-08-10T07:17:02.937Z"
   },
   {
    "duration": 32,
    "start_time": "2022-08-10T07:17:02.944Z"
   },
   {
    "duration": 25,
    "start_time": "2022-08-10T07:17:02.977Z"
   },
   {
    "duration": 25,
    "start_time": "2022-08-10T07:17:03.003Z"
   },
   {
    "duration": 12,
    "start_time": "2022-08-10T07:17:03.029Z"
   },
   {
    "duration": 269,
    "start_time": "2022-08-10T07:17:03.042Z"
   },
   {
    "duration": 255,
    "start_time": "2022-08-10T07:17:03.313Z"
   },
   {
    "duration": 287,
    "start_time": "2022-08-10T07:17:03.569Z"
   },
   {
    "duration": 184,
    "start_time": "2022-08-10T07:17:03.858Z"
   },
   {
    "duration": 276,
    "start_time": "2022-08-10T07:17:04.044Z"
   },
   {
    "duration": 233,
    "start_time": "2022-08-10T07:17:04.321Z"
   },
   {
    "duration": 152,
    "start_time": "2022-08-10T07:17:04.555Z"
   },
   {
    "duration": 187,
    "start_time": "2022-08-10T07:17:04.709Z"
   },
   {
    "duration": 262,
    "start_time": "2022-08-10T07:17:04.900Z"
   },
   {
    "duration": 161,
    "start_time": "2022-08-10T07:17:05.164Z"
   },
   {
    "duration": 161,
    "start_time": "2022-08-10T07:17:05.327Z"
   },
   {
    "duration": 137,
    "start_time": "2022-08-10T07:17:05.489Z"
   },
   {
    "duration": 137,
    "start_time": "2022-08-10T07:17:05.627Z"
   },
   {
    "duration": 159,
    "start_time": "2022-08-10T07:17:05.765Z"
   },
   {
    "duration": 89,
    "start_time": "2022-08-10T07:17:05.925Z"
   },
   {
    "duration": 7,
    "start_time": "2022-08-10T07:17:06.016Z"
   },
   {
    "duration": 331,
    "start_time": "2022-08-10T07:17:06.024Z"
   },
   {
    "duration": 151,
    "start_time": "2022-08-10T07:17:06.357Z"
   },
   {
    "duration": 4,
    "start_time": "2022-08-10T07:17:06.510Z"
   },
   {
    "duration": 137,
    "start_time": "2022-08-10T07:17:06.516Z"
   },
   {
    "duration": 4,
    "start_time": "2022-08-10T07:17:06.655Z"
   },
   {
    "duration": 151,
    "start_time": "2022-08-10T07:17:06.661Z"
   },
   {
    "duration": 5,
    "start_time": "2022-08-10T07:17:06.813Z"
   },
   {
    "duration": 140,
    "start_time": "2022-08-10T07:17:06.820Z"
   },
   {
    "duration": 6,
    "start_time": "2022-08-10T07:17:06.962Z"
   },
   {
    "duration": 126,
    "start_time": "2022-08-10T07:17:06.970Z"
   },
   {
    "duration": 240,
    "start_time": "2022-08-10T07:17:07.098Z"
   },
   {
    "duration": 131,
    "start_time": "2022-08-10T07:17:07.340Z"
   },
   {
    "duration": 143,
    "start_time": "2022-08-10T07:17:07.473Z"
   },
   {
    "duration": 238,
    "start_time": "2022-08-10T07:17:07.617Z"
   },
   {
    "duration": 19,
    "start_time": "2022-08-10T07:17:07.857Z"
   },
   {
    "duration": 16,
    "start_time": "2022-08-10T07:17:07.877Z"
   },
   {
    "duration": 26,
    "start_time": "2022-08-10T07:17:07.900Z"
   },
   {
    "duration": 34,
    "start_time": "2022-08-10T07:17:07.928Z"
   },
   {
    "duration": 166,
    "start_time": "2022-08-10T07:17:07.964Z"
   },
   {
    "duration": 2158,
    "start_time": "2022-08-10T07:17:08.132Z"
   },
   {
    "duration": 322,
    "start_time": "2022-08-10T07:17:10.292Z"
   },
   {
    "duration": 20,
    "start_time": "2022-08-10T07:20:55.109Z"
   },
   {
    "duration": 18,
    "start_time": "2022-08-10T07:20:57.973Z"
   },
   {
    "duration": 5,
    "start_time": "2022-08-10T07:21:27.870Z"
   },
   {
    "duration": 11,
    "start_time": "2022-08-10T07:21:28.726Z"
   },
   {
    "duration": 5,
    "start_time": "2022-08-10T07:22:19.137Z"
   },
   {
    "duration": 13,
    "start_time": "2022-08-10T07:22:20.271Z"
   },
   {
    "duration": 12,
    "start_time": "2022-08-10T07:22:58.272Z"
   },
   {
    "duration": 5,
    "start_time": "2022-08-10T07:23:01.448Z"
   },
   {
    "duration": 11,
    "start_time": "2022-08-10T07:23:02.545Z"
   },
   {
    "duration": 1194,
    "start_time": "2022-08-10T07:23:08.306Z"
   },
   {
    "duration": 13,
    "start_time": "2022-08-10T07:23:09.502Z"
   },
   {
    "duration": 1705,
    "start_time": "2022-08-10T07:23:09.517Z"
   },
   {
    "duration": 8,
    "start_time": "2022-08-10T07:23:11.225Z"
   },
   {
    "duration": 4,
    "start_time": "2022-08-10T07:23:11.234Z"
   },
   {
    "duration": 333,
    "start_time": "2022-08-10T07:23:11.239Z"
   },
   {
    "duration": 5,
    "start_time": "2022-08-10T07:23:11.574Z"
   },
   {
    "duration": 26,
    "start_time": "2022-08-10T07:23:11.581Z"
   },
   {
    "duration": 11,
    "start_time": "2022-08-10T07:23:11.609Z"
   },
   {
    "duration": 8,
    "start_time": "2022-08-10T07:23:11.623Z"
   },
   {
    "duration": 8,
    "start_time": "2022-08-10T07:23:11.633Z"
   },
   {
    "duration": 11,
    "start_time": "2022-08-10T07:23:11.643Z"
   },
   {
    "duration": 5,
    "start_time": "2022-08-10T07:23:11.655Z"
   },
   {
    "duration": 18,
    "start_time": "2022-08-10T07:23:11.661Z"
   },
   {
    "duration": 5,
    "start_time": "2022-08-10T07:23:11.680Z"
   },
   {
    "duration": 15,
    "start_time": "2022-08-10T07:23:11.686Z"
   },
   {
    "duration": 8,
    "start_time": "2022-08-10T07:23:11.703Z"
   },
   {
    "duration": 5,
    "start_time": "2022-08-10T07:23:11.713Z"
   },
   {
    "duration": 8,
    "start_time": "2022-08-10T07:23:11.719Z"
   },
   {
    "duration": 8,
    "start_time": "2022-08-10T07:23:11.729Z"
   },
   {
    "duration": 14,
    "start_time": "2022-08-10T07:23:11.738Z"
   },
   {
    "duration": 7,
    "start_time": "2022-08-10T07:23:11.753Z"
   },
   {
    "duration": 8,
    "start_time": "2022-08-10T07:23:11.799Z"
   },
   {
    "duration": 106,
    "start_time": "2022-08-10T07:23:11.809Z"
   },
   {
    "duration": 0,
    "start_time": "2022-08-10T07:23:11.918Z"
   },
   {
    "duration": 0,
    "start_time": "2022-08-10T07:23:11.920Z"
   },
   {
    "duration": 0,
    "start_time": "2022-08-10T07:23:11.921Z"
   },
   {
    "duration": 0,
    "start_time": "2022-08-10T07:23:11.922Z"
   },
   {
    "duration": 0,
    "start_time": "2022-08-10T07:23:11.923Z"
   },
   {
    "duration": 0,
    "start_time": "2022-08-10T07:23:11.923Z"
   },
   {
    "duration": 0,
    "start_time": "2022-08-10T07:23:11.924Z"
   },
   {
    "duration": 0,
    "start_time": "2022-08-10T07:23:11.925Z"
   },
   {
    "duration": 0,
    "start_time": "2022-08-10T07:23:11.926Z"
   },
   {
    "duration": 0,
    "start_time": "2022-08-10T07:23:11.927Z"
   },
   {
    "duration": 0,
    "start_time": "2022-08-10T07:23:11.928Z"
   },
   {
    "duration": 0,
    "start_time": "2022-08-10T07:23:11.929Z"
   },
   {
    "duration": 0,
    "start_time": "2022-08-10T07:23:11.930Z"
   },
   {
    "duration": 0,
    "start_time": "2022-08-10T07:23:11.931Z"
   },
   {
    "duration": 0,
    "start_time": "2022-08-10T07:23:11.932Z"
   },
   {
    "duration": 0,
    "start_time": "2022-08-10T07:23:11.933Z"
   },
   {
    "duration": 0,
    "start_time": "2022-08-10T07:23:11.934Z"
   },
   {
    "duration": 0,
    "start_time": "2022-08-10T07:23:11.934Z"
   },
   {
    "duration": 0,
    "start_time": "2022-08-10T07:23:11.935Z"
   },
   {
    "duration": 0,
    "start_time": "2022-08-10T07:23:11.936Z"
   },
   {
    "duration": 0,
    "start_time": "2022-08-10T07:23:11.937Z"
   },
   {
    "duration": 0,
    "start_time": "2022-08-10T07:23:11.938Z"
   },
   {
    "duration": 0,
    "start_time": "2022-08-10T07:23:11.939Z"
   },
   {
    "duration": 0,
    "start_time": "2022-08-10T07:23:11.940Z"
   },
   {
    "duration": 0,
    "start_time": "2022-08-10T07:23:11.941Z"
   },
   {
    "duration": 0,
    "start_time": "2022-08-10T07:23:11.942Z"
   },
   {
    "duration": 0,
    "start_time": "2022-08-10T07:23:11.943Z"
   },
   {
    "duration": 0,
    "start_time": "2022-08-10T07:23:11.944Z"
   },
   {
    "duration": 0,
    "start_time": "2022-08-10T07:23:11.945Z"
   },
   {
    "duration": 0,
    "start_time": "2022-08-10T07:23:11.946Z"
   },
   {
    "duration": 0,
    "start_time": "2022-08-10T07:23:11.947Z"
   },
   {
    "duration": 0,
    "start_time": "2022-08-10T07:23:12.000Z"
   },
   {
    "duration": 0,
    "start_time": "2022-08-10T07:23:12.001Z"
   },
   {
    "duration": 0,
    "start_time": "2022-08-10T07:23:12.002Z"
   },
   {
    "duration": 0,
    "start_time": "2022-08-10T07:23:12.003Z"
   },
   {
    "duration": 0,
    "start_time": "2022-08-10T07:23:12.004Z"
   },
   {
    "duration": 0,
    "start_time": "2022-08-10T07:23:12.005Z"
   },
   {
    "duration": 0,
    "start_time": "2022-08-10T07:23:12.006Z"
   },
   {
    "duration": 0,
    "start_time": "2022-08-10T07:23:12.007Z"
   },
   {
    "duration": 0,
    "start_time": "2022-08-10T07:23:12.008Z"
   },
   {
    "duration": 0,
    "start_time": "2022-08-10T07:23:12.009Z"
   },
   {
    "duration": 0,
    "start_time": "2022-08-10T07:23:12.010Z"
   },
   {
    "duration": 0,
    "start_time": "2022-08-10T07:23:12.010Z"
   },
   {
    "duration": 0,
    "start_time": "2022-08-10T07:23:12.011Z"
   },
   {
    "duration": 0,
    "start_time": "2022-08-10T07:23:12.012Z"
   },
   {
    "duration": 1,
    "start_time": "2022-08-10T07:23:12.012Z"
   },
   {
    "duration": 0,
    "start_time": "2022-08-10T07:23:12.013Z"
   },
   {
    "duration": 0,
    "start_time": "2022-08-10T07:23:12.014Z"
   },
   {
    "duration": 0,
    "start_time": "2022-08-10T07:23:12.015Z"
   },
   {
    "duration": 0,
    "start_time": "2022-08-10T07:23:12.016Z"
   },
   {
    "duration": 0,
    "start_time": "2022-08-10T07:23:12.017Z"
   },
   {
    "duration": 0,
    "start_time": "2022-08-10T07:23:12.018Z"
   },
   {
    "duration": 0,
    "start_time": "2022-08-10T07:23:12.019Z"
   },
   {
    "duration": 1,
    "start_time": "2022-08-10T07:23:12.019Z"
   },
   {
    "duration": 0,
    "start_time": "2022-08-10T07:23:12.021Z"
   },
   {
    "duration": 0,
    "start_time": "2022-08-10T07:23:12.021Z"
   },
   {
    "duration": 0,
    "start_time": "2022-08-10T07:23:12.022Z"
   },
   {
    "duration": 0,
    "start_time": "2022-08-10T07:23:12.023Z"
   },
   {
    "duration": 0,
    "start_time": "2022-08-10T07:23:12.024Z"
   },
   {
    "duration": 0,
    "start_time": "2022-08-10T07:23:12.025Z"
   },
   {
    "duration": 0,
    "start_time": "2022-08-10T07:23:12.025Z"
   },
   {
    "duration": 1,
    "start_time": "2022-08-10T07:23:12.026Z"
   },
   {
    "duration": 0,
    "start_time": "2022-08-10T07:23:12.027Z"
   },
   {
    "duration": 0,
    "start_time": "2022-08-10T07:23:12.028Z"
   },
   {
    "duration": 0,
    "start_time": "2022-08-10T07:23:12.029Z"
   },
   {
    "duration": 0,
    "start_time": "2022-08-10T07:23:12.030Z"
   },
   {
    "duration": 0,
    "start_time": "2022-08-10T07:23:12.031Z"
   },
   {
    "duration": 9,
    "start_time": "2022-08-10T07:28:45.249Z"
   },
   {
    "duration": 19,
    "start_time": "2022-08-10T07:28:46.337Z"
   },
   {
    "duration": 13,
    "start_time": "2022-08-10T07:28:49.977Z"
   },
   {
    "duration": 9,
    "start_time": "2022-08-10T07:28:51.211Z"
   },
   {
    "duration": 15,
    "start_time": "2022-08-10T07:28:52.218Z"
   },
   {
    "duration": 1246,
    "start_time": "2022-08-10T07:28:59.812Z"
   },
   {
    "duration": 13,
    "start_time": "2022-08-10T07:29:01.060Z"
   },
   {
    "duration": 1900,
    "start_time": "2022-08-10T07:29:01.075Z"
   },
   {
    "duration": 10,
    "start_time": "2022-08-10T07:29:02.976Z"
   },
   {
    "duration": 4,
    "start_time": "2022-08-10T07:29:02.988Z"
   },
   {
    "duration": 320,
    "start_time": "2022-08-10T07:29:02.994Z"
   },
   {
    "duration": 4,
    "start_time": "2022-08-10T07:29:03.316Z"
   },
   {
    "duration": 11,
    "start_time": "2022-08-10T07:29:03.321Z"
   },
   {
    "duration": 8,
    "start_time": "2022-08-10T07:29:03.334Z"
   },
   {
    "duration": 15,
    "start_time": "2022-08-10T07:29:03.343Z"
   },
   {
    "duration": 10,
    "start_time": "2022-08-10T07:29:03.359Z"
   },
   {
    "duration": 8,
    "start_time": "2022-08-10T07:29:03.370Z"
   },
   {
    "duration": 8,
    "start_time": "2022-08-10T07:29:03.379Z"
   },
   {
    "duration": 18,
    "start_time": "2022-08-10T07:29:03.391Z"
   },
   {
    "duration": 8,
    "start_time": "2022-08-10T07:29:03.411Z"
   },
   {
    "duration": 17,
    "start_time": "2022-08-10T07:29:03.421Z"
   },
   {
    "duration": 10,
    "start_time": "2022-08-10T07:29:03.440Z"
   },
   {
    "duration": 5,
    "start_time": "2022-08-10T07:29:03.452Z"
   },
   {
    "duration": 11,
    "start_time": "2022-08-10T07:29:03.458Z"
   },
   {
    "duration": 35,
    "start_time": "2022-08-10T07:29:03.471Z"
   },
   {
    "duration": 17,
    "start_time": "2022-08-10T07:29:03.507Z"
   },
   {
    "duration": 10,
    "start_time": "2022-08-10T07:29:03.526Z"
   },
   {
    "duration": 18,
    "start_time": "2022-08-10T07:29:03.537Z"
   },
   {
    "duration": 7,
    "start_time": "2022-08-10T07:29:03.556Z"
   },
   {
    "duration": 55,
    "start_time": "2022-08-10T07:29:03.564Z"
   },
   {
    "duration": 19,
    "start_time": "2022-08-10T07:29:03.621Z"
   },
   {
    "duration": 5,
    "start_time": "2022-08-10T07:29:03.642Z"
   },
   {
    "duration": 142,
    "start_time": "2022-08-10T07:29:03.649Z"
   },
   {
    "duration": 13,
    "start_time": "2022-08-10T07:29:03.792Z"
   },
   {
    "duration": 44,
    "start_time": "2022-08-10T07:29:03.808Z"
   },
   {
    "duration": 12,
    "start_time": "2022-08-10T07:29:03.854Z"
   },
   {
    "duration": 14,
    "start_time": "2022-08-10T07:29:03.868Z"
   },
   {
    "duration": 30,
    "start_time": "2022-08-10T07:29:03.884Z"
   },
   {
    "duration": 11,
    "start_time": "2022-08-10T07:29:03.916Z"
   },
   {
    "duration": 18,
    "start_time": "2022-08-10T07:29:03.929Z"
   },
   {
    "duration": 113,
    "start_time": "2022-08-10T07:29:03.949Z"
   },
   {
    "duration": 9,
    "start_time": "2022-08-10T07:29:04.063Z"
   },
   {
    "duration": 8,
    "start_time": "2022-08-10T07:29:04.074Z"
   },
   {
    "duration": 3,
    "start_time": "2022-08-10T07:29:04.083Z"
   },
   {
    "duration": 27,
    "start_time": "2022-08-10T07:29:04.088Z"
   },
   {
    "duration": 110,
    "start_time": "2022-08-10T07:29:04.119Z"
   },
   {
    "duration": 91,
    "start_time": "2022-08-10T07:29:04.231Z"
   },
   {
    "duration": 6,
    "start_time": "2022-08-10T07:29:04.324Z"
   },
   {
    "duration": 7,
    "start_time": "2022-08-10T07:29:04.332Z"
   },
   {
    "duration": 6,
    "start_time": "2022-08-10T07:29:04.340Z"
   },
   {
    "duration": 8,
    "start_time": "2022-08-10T07:29:04.347Z"
   },
   {
    "duration": 5,
    "start_time": "2022-08-10T07:29:04.357Z"
   },
   {
    "duration": 9,
    "start_time": "2022-08-10T07:29:04.364Z"
   },
   {
    "duration": 12,
    "start_time": "2022-08-10T07:29:04.374Z"
   },
   {
    "duration": 8,
    "start_time": "2022-08-10T07:29:04.410Z"
   },
   {
    "duration": 29,
    "start_time": "2022-08-10T07:29:04.420Z"
   },
   {
    "duration": 16,
    "start_time": "2022-08-10T07:29:04.450Z"
   },
   {
    "duration": 10,
    "start_time": "2022-08-10T07:29:04.467Z"
   },
   {
    "duration": 6,
    "start_time": "2022-08-10T07:29:04.479Z"
   },
   {
    "duration": 276,
    "start_time": "2022-08-10T07:29:04.486Z"
   },
   {
    "duration": 272,
    "start_time": "2022-08-10T07:29:04.763Z"
   },
   {
    "duration": 291,
    "start_time": "2022-08-10T07:29:05.037Z"
   },
   {
    "duration": 159,
    "start_time": "2022-08-10T07:29:05.329Z"
   },
   {
    "duration": 289,
    "start_time": "2022-08-10T07:29:05.489Z"
   },
   {
    "duration": 261,
    "start_time": "2022-08-10T07:29:05.780Z"
   },
   {
    "duration": 175,
    "start_time": "2022-08-10T07:29:06.042Z"
   },
   {
    "duration": 170,
    "start_time": "2022-08-10T07:29:06.219Z"
   },
   {
    "duration": 279,
    "start_time": "2022-08-10T07:29:06.390Z"
   },
   {
    "duration": 162,
    "start_time": "2022-08-10T07:29:06.671Z"
   },
   {
    "duration": 182,
    "start_time": "2022-08-10T07:29:06.834Z"
   },
   {
    "duration": 137,
    "start_time": "2022-08-10T07:29:07.019Z"
   },
   {
    "duration": 158,
    "start_time": "2022-08-10T07:29:07.158Z"
   },
   {
    "duration": 165,
    "start_time": "2022-08-10T07:29:07.318Z"
   },
   {
    "duration": 94,
    "start_time": "2022-08-10T07:29:07.484Z"
   },
   {
    "duration": 8,
    "start_time": "2022-08-10T07:29:07.579Z"
   },
   {
    "duration": 329,
    "start_time": "2022-08-10T07:29:07.588Z"
   },
   {
    "duration": 141,
    "start_time": "2022-08-10T07:29:07.918Z"
   },
   {
    "duration": 5,
    "start_time": "2022-08-10T07:29:08.060Z"
   },
   {
    "duration": 142,
    "start_time": "2022-08-10T07:29:08.066Z"
   },
   {
    "duration": 7,
    "start_time": "2022-08-10T07:29:08.214Z"
   },
   {
    "duration": 149,
    "start_time": "2022-08-10T07:29:08.222Z"
   },
   {
    "duration": 4,
    "start_time": "2022-08-10T07:29:08.373Z"
   },
   {
    "duration": 141,
    "start_time": "2022-08-10T07:29:08.379Z"
   },
   {
    "duration": 4,
    "start_time": "2022-08-10T07:29:08.522Z"
   },
   {
    "duration": 118,
    "start_time": "2022-08-10T07:29:08.528Z"
   },
   {
    "duration": 283,
    "start_time": "2022-08-10T07:29:08.648Z"
   },
   {
    "duration": 146,
    "start_time": "2022-08-10T07:29:08.933Z"
   },
   {
    "duration": 141,
    "start_time": "2022-08-10T07:29:09.080Z"
   },
   {
    "duration": 241,
    "start_time": "2022-08-10T07:29:09.222Z"
   },
   {
    "duration": 19,
    "start_time": "2022-08-10T07:29:09.464Z"
   },
   {
    "duration": 32,
    "start_time": "2022-08-10T07:29:09.484Z"
   },
   {
    "duration": 23,
    "start_time": "2022-08-10T07:29:09.517Z"
   },
   {
    "duration": 39,
    "start_time": "2022-08-10T07:29:09.541Z"
   },
   {
    "duration": 154,
    "start_time": "2022-08-10T07:29:09.582Z"
   },
   {
    "duration": 2247,
    "start_time": "2022-08-10T07:29:09.737Z"
   },
   {
    "duration": 327,
    "start_time": "2022-08-10T07:29:11.985Z"
   },
   {
    "duration": 24,
    "start_time": "2022-08-10T07:31:26.026Z"
   },
   {
    "duration": 23,
    "start_time": "2022-08-10T07:31:27.834Z"
   },
   {
    "duration": 1232,
    "start_time": "2022-08-10T07:31:40.694Z"
   },
   {
    "duration": 15,
    "start_time": "2022-08-10T07:31:41.928Z"
   },
   {
    "duration": 1642,
    "start_time": "2022-08-10T07:31:41.944Z"
   },
   {
    "duration": 9,
    "start_time": "2022-08-10T07:31:43.588Z"
   },
   {
    "duration": 6,
    "start_time": "2022-08-10T07:31:43.598Z"
   },
   {
    "duration": 308,
    "start_time": "2022-08-10T07:31:43.605Z"
   },
   {
    "duration": 6,
    "start_time": "2022-08-10T07:31:43.915Z"
   },
   {
    "duration": 13,
    "start_time": "2022-08-10T07:31:43.923Z"
   },
   {
    "duration": 8,
    "start_time": "2022-08-10T07:31:43.937Z"
   },
   {
    "duration": 14,
    "start_time": "2022-08-10T07:31:43.947Z"
   },
   {
    "duration": 39,
    "start_time": "2022-08-10T07:31:43.963Z"
   },
   {
    "duration": 34,
    "start_time": "2022-08-10T07:31:44.004Z"
   },
   {
    "duration": 31,
    "start_time": "2022-08-10T07:31:44.040Z"
   },
   {
    "duration": 24,
    "start_time": "2022-08-10T07:31:44.073Z"
   },
   {
    "duration": 24,
    "start_time": "2022-08-10T07:31:44.099Z"
   },
   {
    "duration": 26,
    "start_time": "2022-08-10T07:31:44.125Z"
   },
   {
    "duration": 31,
    "start_time": "2022-08-10T07:31:44.153Z"
   },
   {
    "duration": 22,
    "start_time": "2022-08-10T07:31:44.185Z"
   },
   {
    "duration": 20,
    "start_time": "2022-08-10T07:31:44.208Z"
   },
   {
    "duration": 26,
    "start_time": "2022-08-10T07:31:44.230Z"
   },
   {
    "duration": 14,
    "start_time": "2022-08-10T07:31:44.257Z"
   },
   {
    "duration": 17,
    "start_time": "2022-08-10T07:31:44.273Z"
   },
   {
    "duration": 29,
    "start_time": "2022-08-10T07:31:44.292Z"
   },
   {
    "duration": 21,
    "start_time": "2022-08-10T07:31:44.322Z"
   },
   {
    "duration": 31,
    "start_time": "2022-08-10T07:31:44.344Z"
   },
   {
    "duration": 23,
    "start_time": "2022-08-10T07:31:44.376Z"
   },
   {
    "duration": 17,
    "start_time": "2022-08-10T07:31:44.401Z"
   },
   {
    "duration": 128,
    "start_time": "2022-08-10T07:31:44.422Z"
   },
   {
    "duration": 6,
    "start_time": "2022-08-10T07:31:44.552Z"
   },
   {
    "duration": 22,
    "start_time": "2022-08-10T07:31:44.559Z"
   },
   {
    "duration": 20,
    "start_time": "2022-08-10T07:31:44.583Z"
   },
   {
    "duration": 26,
    "start_time": "2022-08-10T07:31:44.605Z"
   },
   {
    "duration": 19,
    "start_time": "2022-08-10T07:31:44.633Z"
   },
   {
    "duration": 30,
    "start_time": "2022-08-10T07:31:44.653Z"
   },
   {
    "duration": 25,
    "start_time": "2022-08-10T07:31:44.684Z"
   },
   {
    "duration": 62,
    "start_time": "2022-08-10T07:31:44.711Z"
   },
   {
    "duration": 7,
    "start_time": "2022-08-10T07:31:44.774Z"
   },
   {
    "duration": 30,
    "start_time": "2022-08-10T07:31:44.783Z"
   },
   {
    "duration": 10,
    "start_time": "2022-08-10T07:31:44.814Z"
   },
   {
    "duration": 56,
    "start_time": "2022-08-10T07:31:44.826Z"
   },
   {
    "duration": 106,
    "start_time": "2022-08-10T07:31:44.884Z"
   },
   {
    "duration": 100,
    "start_time": "2022-08-10T07:31:44.992Z"
   },
   {
    "duration": 13,
    "start_time": "2022-08-10T07:31:45.093Z"
   },
   {
    "duration": 32,
    "start_time": "2022-08-10T07:31:45.108Z"
   },
   {
    "duration": 23,
    "start_time": "2022-08-10T07:31:45.142Z"
   },
   {
    "duration": 36,
    "start_time": "2022-08-10T07:31:45.166Z"
   },
   {
    "duration": 33,
    "start_time": "2022-08-10T07:31:45.203Z"
   },
   {
    "duration": 302,
    "start_time": "2022-08-10T07:31:45.237Z"
   },
   {
    "duration": 14,
    "start_time": "2022-08-10T07:31:45.540Z"
   },
   {
    "duration": 20,
    "start_time": "2022-08-10T07:31:45.555Z"
   },
   {
    "duration": 46,
    "start_time": "2022-08-10T07:31:45.576Z"
   },
   {
    "duration": 18,
    "start_time": "2022-08-10T07:31:45.624Z"
   },
   {
    "duration": 16,
    "start_time": "2022-08-10T07:31:45.644Z"
   },
   {
    "duration": 21,
    "start_time": "2022-08-10T07:31:45.661Z"
   },
   {
    "duration": 256,
    "start_time": "2022-08-10T07:31:45.683Z"
   },
   {
    "duration": 252,
    "start_time": "2022-08-10T07:31:45.941Z"
   },
   {
    "duration": 253,
    "start_time": "2022-08-10T07:31:46.195Z"
   },
   {
    "duration": 238,
    "start_time": "2022-08-10T07:31:46.450Z"
   },
   {
    "duration": 259,
    "start_time": "2022-08-10T07:31:46.689Z"
   },
   {
    "duration": 146,
    "start_time": "2022-08-10T07:31:46.949Z"
   },
   {
    "duration": 146,
    "start_time": "2022-08-10T07:31:47.097Z"
   },
   {
    "duration": 164,
    "start_time": "2022-08-10T07:31:47.244Z"
   },
   {
    "duration": 260,
    "start_time": "2022-08-10T07:31:47.409Z"
   },
   {
    "duration": 173,
    "start_time": "2022-08-10T07:31:47.671Z"
   },
   {
    "duration": 161,
    "start_time": "2022-08-10T07:31:47.846Z"
   },
   {
    "duration": 159,
    "start_time": "2022-08-10T07:31:48.008Z"
   },
   {
    "duration": 241,
    "start_time": "2022-08-10T07:31:48.169Z"
   },
   {
    "duration": 178,
    "start_time": "2022-08-10T07:31:48.412Z"
   },
   {
    "duration": 113,
    "start_time": "2022-08-10T07:31:48.592Z"
   },
   {
    "duration": 9,
    "start_time": "2022-08-10T07:31:48.707Z"
   },
   {
    "duration": 231,
    "start_time": "2022-08-10T07:31:48.717Z"
   },
   {
    "duration": 189,
    "start_time": "2022-08-10T07:31:48.950Z"
   },
   {
    "duration": 6,
    "start_time": "2022-08-10T07:31:49.141Z"
   },
   {
    "duration": 188,
    "start_time": "2022-08-10T07:31:49.148Z"
   },
   {
    "duration": 6,
    "start_time": "2022-08-10T07:31:49.338Z"
   },
   {
    "duration": 158,
    "start_time": "2022-08-10T07:31:49.345Z"
   },
   {
    "duration": 4,
    "start_time": "2022-08-10T07:31:49.505Z"
   },
   {
    "duration": 179,
    "start_time": "2022-08-10T07:31:49.511Z"
   },
   {
    "duration": 8,
    "start_time": "2022-08-10T07:31:49.692Z"
   },
   {
    "duration": 163,
    "start_time": "2022-08-10T07:31:49.701Z"
   },
   {
    "duration": 392,
    "start_time": "2022-08-10T07:31:49.866Z"
   },
   {
    "duration": 180,
    "start_time": "2022-08-10T07:31:50.263Z"
   },
   {
    "duration": 168,
    "start_time": "2022-08-10T07:31:50.445Z"
   },
   {
    "duration": 173,
    "start_time": "2022-08-10T07:31:50.615Z"
   },
   {
    "duration": 29,
    "start_time": "2022-08-10T07:31:50.790Z"
   },
   {
    "duration": 12,
    "start_time": "2022-08-10T07:31:50.820Z"
   },
   {
    "duration": 14,
    "start_time": "2022-08-10T07:31:50.834Z"
   },
   {
    "duration": 57,
    "start_time": "2022-08-10T07:31:50.850Z"
   },
   {
    "duration": 130,
    "start_time": "2022-08-10T07:31:50.909Z"
   },
   {
    "duration": 7584,
    "start_time": "2022-08-10T07:31:51.040Z"
   },
   {
    "duration": 353,
    "start_time": "2022-08-10T07:31:58.626Z"
   },
   {
    "duration": 27,
    "start_time": "2022-08-10T07:32:47.571Z"
   },
   {
    "duration": 23,
    "start_time": "2022-08-10T07:32:48.675Z"
   },
   {
    "duration": 1173,
    "start_time": "2022-08-10T07:33:06.801Z"
   },
   {
    "duration": 13,
    "start_time": "2022-08-10T07:33:07.975Z"
   },
   {
    "duration": 1689,
    "start_time": "2022-08-10T07:33:07.990Z"
   },
   {
    "duration": 9,
    "start_time": "2022-08-10T07:33:09.681Z"
   },
   {
    "duration": 8,
    "start_time": "2022-08-10T07:33:09.692Z"
   },
   {
    "duration": 329,
    "start_time": "2022-08-10T07:33:09.702Z"
   },
   {
    "duration": 5,
    "start_time": "2022-08-10T07:33:10.033Z"
   },
   {
    "duration": 12,
    "start_time": "2022-08-10T07:33:10.040Z"
   },
   {
    "duration": 10,
    "start_time": "2022-08-10T07:33:10.053Z"
   },
   {
    "duration": 11,
    "start_time": "2022-08-10T07:33:10.065Z"
   },
   {
    "duration": 16,
    "start_time": "2022-08-10T07:33:10.078Z"
   },
   {
    "duration": 6,
    "start_time": "2022-08-10T07:33:10.096Z"
   },
   {
    "duration": 6,
    "start_time": "2022-08-10T07:33:10.105Z"
   },
   {
    "duration": 27,
    "start_time": "2022-08-10T07:33:10.113Z"
   },
   {
    "duration": 8,
    "start_time": "2022-08-10T07:33:10.142Z"
   },
   {
    "duration": 18,
    "start_time": "2022-08-10T07:33:10.152Z"
   },
   {
    "duration": 29,
    "start_time": "2022-08-10T07:33:10.172Z"
   },
   {
    "duration": 5,
    "start_time": "2022-08-10T07:33:10.203Z"
   },
   {
    "duration": 14,
    "start_time": "2022-08-10T07:33:10.210Z"
   },
   {
    "duration": 10,
    "start_time": "2022-08-10T07:33:10.225Z"
   },
   {
    "duration": 19,
    "start_time": "2022-08-10T07:33:10.236Z"
   },
   {
    "duration": 9,
    "start_time": "2022-08-10T07:33:10.257Z"
   },
   {
    "duration": 34,
    "start_time": "2022-08-10T07:33:10.268Z"
   },
   {
    "duration": 6,
    "start_time": "2022-08-10T07:33:10.304Z"
   },
   {
    "duration": 20,
    "start_time": "2022-08-10T07:33:10.312Z"
   },
   {
    "duration": 27,
    "start_time": "2022-08-10T07:33:10.335Z"
   },
   {
    "duration": 7,
    "start_time": "2022-08-10T07:33:10.363Z"
   },
   {
    "duration": 143,
    "start_time": "2022-08-10T07:33:10.375Z"
   },
   {
    "duration": 6,
    "start_time": "2022-08-10T07:33:10.519Z"
   },
   {
    "duration": 7,
    "start_time": "2022-08-10T07:33:10.527Z"
   },
   {
    "duration": 7,
    "start_time": "2022-08-10T07:33:10.535Z"
   },
   {
    "duration": 5,
    "start_time": "2022-08-10T07:33:10.543Z"
   },
   {
    "duration": 7,
    "start_time": "2022-08-10T07:33:10.550Z"
   },
   {
    "duration": 8,
    "start_time": "2022-08-10T07:33:10.558Z"
   },
   {
    "duration": 5,
    "start_time": "2022-08-10T07:33:10.567Z"
   },
   {
    "duration": 70,
    "start_time": "2022-08-10T07:33:10.573Z"
   },
   {
    "duration": 7,
    "start_time": "2022-08-10T07:33:10.644Z"
   },
   {
    "duration": 4,
    "start_time": "2022-08-10T07:33:10.653Z"
   },
   {
    "duration": 4,
    "start_time": "2022-08-10T07:33:10.659Z"
   },
   {
    "duration": 44,
    "start_time": "2022-08-10T07:33:10.664Z"
   },
   {
    "duration": 102,
    "start_time": "2022-08-10T07:33:10.709Z"
   },
   {
    "duration": 89,
    "start_time": "2022-08-10T07:33:10.812Z"
   },
   {
    "duration": 6,
    "start_time": "2022-08-10T07:33:10.902Z"
   },
   {
    "duration": 7,
    "start_time": "2022-08-10T07:33:10.910Z"
   },
   {
    "duration": 5,
    "start_time": "2022-08-10T07:33:10.919Z"
   },
   {
    "duration": 9,
    "start_time": "2022-08-10T07:33:10.925Z"
   },
   {
    "duration": 6,
    "start_time": "2022-08-10T07:33:10.936Z"
   },
   {
    "duration": 8,
    "start_time": "2022-08-10T07:33:10.944Z"
   },
   {
    "duration": 15,
    "start_time": "2022-08-10T07:33:10.953Z"
   },
   {
    "duration": 8,
    "start_time": "2022-08-10T07:33:10.969Z"
   },
   {
    "duration": 37,
    "start_time": "2022-08-10T07:33:10.978Z"
   },
   {
    "duration": 18,
    "start_time": "2022-08-10T07:33:11.016Z"
   },
   {
    "duration": 4,
    "start_time": "2022-08-10T07:33:11.036Z"
   },
   {
    "duration": 9,
    "start_time": "2022-08-10T07:33:11.041Z"
   },
   {
    "duration": 272,
    "start_time": "2022-08-10T07:33:11.051Z"
   },
   {
    "duration": 294,
    "start_time": "2022-08-10T07:33:11.325Z"
   },
   {
    "duration": 271,
    "start_time": "2022-08-10T07:33:11.621Z"
   },
   {
    "duration": 153,
    "start_time": "2022-08-10T07:33:11.894Z"
   },
   {
    "duration": 347,
    "start_time": "2022-08-10T07:33:12.049Z"
   },
   {
    "duration": 140,
    "start_time": "2022-08-10T07:33:12.399Z"
   },
   {
    "duration": 137,
    "start_time": "2022-08-10T07:33:12.541Z"
   },
   {
    "duration": 157,
    "start_time": "2022-08-10T07:33:12.680Z"
   },
   {
    "duration": 264,
    "start_time": "2022-08-10T07:33:12.838Z"
   },
   {
    "duration": 147,
    "start_time": "2022-08-10T07:33:13.104Z"
   },
   {
    "duration": 162,
    "start_time": "2022-08-10T07:33:13.253Z"
   },
   {
    "duration": 133,
    "start_time": "2022-08-10T07:33:13.417Z"
   },
   {
    "duration": 139,
    "start_time": "2022-08-10T07:33:13.551Z"
   },
   {
    "duration": 162,
    "start_time": "2022-08-10T07:33:13.691Z"
   },
   {
    "duration": 205,
    "start_time": "2022-08-10T07:33:13.854Z"
   },
   {
    "duration": 8,
    "start_time": "2022-08-10T07:33:14.061Z"
   },
   {
    "duration": 215,
    "start_time": "2022-08-10T07:33:14.071Z"
   },
   {
    "duration": 145,
    "start_time": "2022-08-10T07:33:14.288Z"
   },
   {
    "duration": 4,
    "start_time": "2022-08-10T07:33:14.434Z"
   },
   {
    "duration": 129,
    "start_time": "2022-08-10T07:33:14.440Z"
   },
   {
    "duration": 5,
    "start_time": "2022-08-10T07:33:14.570Z"
   },
   {
    "duration": 166,
    "start_time": "2022-08-10T07:33:14.576Z"
   },
   {
    "duration": 5,
    "start_time": "2022-08-10T07:33:14.744Z"
   },
   {
    "duration": 136,
    "start_time": "2022-08-10T07:33:14.750Z"
   },
   {
    "duration": 5,
    "start_time": "2022-08-10T07:33:14.887Z"
   },
   {
    "duration": 107,
    "start_time": "2022-08-10T07:33:14.899Z"
   },
   {
    "duration": 249,
    "start_time": "2022-08-10T07:33:15.007Z"
   },
   {
    "duration": 131,
    "start_time": "2022-08-10T07:33:15.260Z"
   },
   {
    "duration": 222,
    "start_time": "2022-08-10T07:33:15.393Z"
   },
   {
    "duration": 146,
    "start_time": "2022-08-10T07:33:15.617Z"
   },
   {
    "duration": 19,
    "start_time": "2022-08-10T07:33:15.765Z"
   },
   {
    "duration": 7,
    "start_time": "2022-08-10T07:33:15.799Z"
   },
   {
    "duration": 33,
    "start_time": "2022-08-10T07:33:15.807Z"
   },
   {
    "duration": 42,
    "start_time": "2022-08-10T07:33:15.842Z"
   },
   {
    "duration": 147,
    "start_time": "2022-08-10T07:33:15.885Z"
   },
   {
    "duration": 2123,
    "start_time": "2022-08-10T07:33:16.034Z"
   },
   {
    "duration": 417,
    "start_time": "2022-08-10T07:33:18.159Z"
   },
   {
    "duration": 19,
    "start_time": "2022-08-10T07:34:14.000Z"
   },
   {
    "duration": 1171,
    "start_time": "2022-08-10T07:34:20.119Z"
   },
   {
    "duration": 13,
    "start_time": "2022-08-10T07:34:21.292Z"
   },
   {
    "duration": 1792,
    "start_time": "2022-08-10T07:34:21.306Z"
   },
   {
    "duration": 9,
    "start_time": "2022-08-10T07:34:23.101Z"
   },
   {
    "duration": 4,
    "start_time": "2022-08-10T07:34:23.113Z"
   },
   {
    "duration": 315,
    "start_time": "2022-08-10T07:34:23.118Z"
   },
   {
    "duration": 6,
    "start_time": "2022-08-10T07:34:23.435Z"
   },
   {
    "duration": 6,
    "start_time": "2022-08-10T07:34:23.442Z"
   },
   {
    "duration": 8,
    "start_time": "2022-08-10T07:34:23.449Z"
   },
   {
    "duration": 7,
    "start_time": "2022-08-10T07:34:23.458Z"
   },
   {
    "duration": 9,
    "start_time": "2022-08-10T07:34:23.467Z"
   },
   {
    "duration": 24,
    "start_time": "2022-08-10T07:34:23.477Z"
   },
   {
    "duration": 5,
    "start_time": "2022-08-10T07:34:23.503Z"
   },
   {
    "duration": 14,
    "start_time": "2022-08-10T07:34:23.511Z"
   },
   {
    "duration": 7,
    "start_time": "2022-08-10T07:34:23.527Z"
   },
   {
    "duration": 13,
    "start_time": "2022-08-10T07:34:23.536Z"
   },
   {
    "duration": 9,
    "start_time": "2022-08-10T07:34:23.550Z"
   },
   {
    "duration": 5,
    "start_time": "2022-08-10T07:34:23.560Z"
   },
   {
    "duration": 10,
    "start_time": "2022-08-10T07:34:23.599Z"
   },
   {
    "duration": 9,
    "start_time": "2022-08-10T07:34:23.611Z"
   },
   {
    "duration": 13,
    "start_time": "2022-08-10T07:34:23.621Z"
   },
   {
    "duration": 7,
    "start_time": "2022-08-10T07:34:23.635Z"
   },
   {
    "duration": 8,
    "start_time": "2022-08-10T07:34:23.643Z"
   },
   {
    "duration": 4,
    "start_time": "2022-08-10T07:34:23.652Z"
   },
   {
    "duration": 49,
    "start_time": "2022-08-10T07:34:23.658Z"
   },
   {
    "duration": 20,
    "start_time": "2022-08-10T07:34:23.709Z"
   },
   {
    "duration": 6,
    "start_time": "2022-08-10T07:34:23.730Z"
   },
   {
    "duration": 142,
    "start_time": "2022-08-10T07:34:23.738Z"
   },
   {
    "duration": 7,
    "start_time": "2022-08-10T07:34:23.881Z"
   },
   {
    "duration": 15,
    "start_time": "2022-08-10T07:34:23.889Z"
   },
   {
    "duration": 9,
    "start_time": "2022-08-10T07:34:23.906Z"
   },
   {
    "duration": 5,
    "start_time": "2022-08-10T07:34:23.916Z"
   },
   {
    "duration": 9,
    "start_time": "2022-08-10T07:34:23.923Z"
   },
   {
    "duration": 15,
    "start_time": "2022-08-10T07:34:23.933Z"
   },
   {
    "duration": 8,
    "start_time": "2022-08-10T07:34:23.950Z"
   },
   {
    "duration": 68,
    "start_time": "2022-08-10T07:34:23.959Z"
   },
   {
    "duration": 7,
    "start_time": "2022-08-10T07:34:24.028Z"
   },
   {
    "duration": 10,
    "start_time": "2022-08-10T07:34:24.036Z"
   },
   {
    "duration": 21,
    "start_time": "2022-08-10T07:34:24.047Z"
   },
   {
    "duration": 32,
    "start_time": "2022-08-10T07:34:24.069Z"
   },
   {
    "duration": 104,
    "start_time": "2022-08-10T07:34:24.105Z"
   },
   {
    "duration": 93,
    "start_time": "2022-08-10T07:34:24.210Z"
   },
   {
    "duration": 7,
    "start_time": "2022-08-10T07:34:24.305Z"
   },
   {
    "duration": 10,
    "start_time": "2022-08-10T07:34:24.313Z"
   },
   {
    "duration": 7,
    "start_time": "2022-08-10T07:34:24.324Z"
   },
   {
    "duration": 9,
    "start_time": "2022-08-10T07:34:24.333Z"
   },
   {
    "duration": 9,
    "start_time": "2022-08-10T07:34:24.343Z"
   },
   {
    "duration": 294,
    "start_time": "2022-08-10T07:34:24.353Z"
   },
   {
    "duration": 15,
    "start_time": "2022-08-10T07:34:24.649Z"
   },
   {
    "duration": 10,
    "start_time": "2022-08-10T07:34:24.665Z"
   },
   {
    "duration": 45,
    "start_time": "2022-08-10T07:34:24.676Z"
   },
   {
    "duration": 19,
    "start_time": "2022-08-10T07:34:24.722Z"
   },
   {
    "duration": 14,
    "start_time": "2022-08-10T07:34:24.742Z"
   },
   {
    "duration": 12,
    "start_time": "2022-08-10T07:34:24.758Z"
   },
   {
    "duration": 253,
    "start_time": "2022-08-10T07:34:24.772Z"
   },
   {
    "duration": 268,
    "start_time": "2022-08-10T07:34:25.027Z"
   },
   {
    "duration": 269,
    "start_time": "2022-08-10T07:34:25.297Z"
   },
   {
    "duration": 250,
    "start_time": "2022-08-10T07:34:25.567Z"
   },
   {
    "duration": 274,
    "start_time": "2022-08-10T07:34:25.819Z"
   },
   {
    "duration": 137,
    "start_time": "2022-08-10T07:34:26.095Z"
   },
   {
    "duration": 141,
    "start_time": "2022-08-10T07:34:26.234Z"
   },
   {
    "duration": 164,
    "start_time": "2022-08-10T07:34:26.377Z"
   },
   {
    "duration": 246,
    "start_time": "2022-08-10T07:34:26.542Z"
   },
   {
    "duration": 147,
    "start_time": "2022-08-10T07:34:26.790Z"
   },
   {
    "duration": 162,
    "start_time": "2022-08-10T07:34:26.938Z"
   },
   {
    "duration": 149,
    "start_time": "2022-08-10T07:34:27.101Z"
   },
   {
    "duration": 239,
    "start_time": "2022-08-10T07:34:27.251Z"
   },
   {
    "duration": 179,
    "start_time": "2022-08-10T07:34:27.492Z"
   },
   {
    "duration": 119,
    "start_time": "2022-08-10T07:34:27.673Z"
   },
   {
    "duration": 13,
    "start_time": "2022-08-10T07:34:27.794Z"
   },
   {
    "duration": 221,
    "start_time": "2022-08-10T07:34:27.809Z"
   },
   {
    "duration": 180,
    "start_time": "2022-08-10T07:34:28.032Z"
   },
   {
    "duration": 6,
    "start_time": "2022-08-10T07:34:28.214Z"
   },
   {
    "duration": 186,
    "start_time": "2022-08-10T07:34:28.222Z"
   },
   {
    "duration": 5,
    "start_time": "2022-08-10T07:34:28.410Z"
   },
   {
    "duration": 161,
    "start_time": "2022-08-10T07:34:28.416Z"
   },
   {
    "duration": 6,
    "start_time": "2022-08-10T07:34:28.579Z"
   },
   {
    "duration": 179,
    "start_time": "2022-08-10T07:34:28.586Z"
   },
   {
    "duration": 6,
    "start_time": "2022-08-10T07:34:28.766Z"
   },
   {
    "duration": 175,
    "start_time": "2022-08-10T07:34:28.774Z"
   },
   {
    "duration": 403,
    "start_time": "2022-08-10T07:34:28.950Z"
   },
   {
    "duration": 181,
    "start_time": "2022-08-10T07:34:29.354Z"
   },
   {
    "duration": 169,
    "start_time": "2022-08-10T07:34:29.536Z"
   },
   {
    "duration": 178,
    "start_time": "2022-08-10T07:34:29.706Z"
   },
   {
    "duration": 31,
    "start_time": "2022-08-10T07:34:29.885Z"
   },
   {
    "duration": 7,
    "start_time": "2022-08-10T07:34:29.918Z"
   },
   {
    "duration": 15,
    "start_time": "2022-08-10T07:34:29.926Z"
   },
   {
    "duration": 36,
    "start_time": "2022-08-10T07:34:29.943Z"
   },
   {
    "duration": 165,
    "start_time": "2022-08-10T07:34:29.980Z"
   },
   {
    "duration": 7742,
    "start_time": "2022-08-10T07:34:30.147Z"
   },
   {
    "duration": 370,
    "start_time": "2022-08-10T07:34:37.891Z"
   },
   {
    "duration": 5,
    "start_time": "2022-08-10T07:35:12.760Z"
   },
   {
    "duration": 10,
    "start_time": "2022-08-10T07:36:00.457Z"
   },
   {
    "duration": 13,
    "start_time": "2022-08-10T07:36:02.219Z"
   },
   {
    "duration": 4,
    "start_time": "2022-08-10T07:36:11.088Z"
   },
   {
    "duration": 29,
    "start_time": "2022-08-10T07:36:15.520Z"
   },
   {
    "duration": 1232,
    "start_time": "2022-08-10T07:36:33.175Z"
   },
   {
    "duration": 12,
    "start_time": "2022-08-10T07:36:34.409Z"
   },
   {
    "duration": 1708,
    "start_time": "2022-08-10T07:36:34.422Z"
   },
   {
    "duration": 8,
    "start_time": "2022-08-10T07:36:36.132Z"
   },
   {
    "duration": 3,
    "start_time": "2022-08-10T07:36:36.142Z"
   },
   {
    "duration": 303,
    "start_time": "2022-08-10T07:36:36.146Z"
   },
   {
    "duration": 4,
    "start_time": "2022-08-10T07:36:36.451Z"
   },
   {
    "duration": 15,
    "start_time": "2022-08-10T07:36:36.456Z"
   },
   {
    "duration": 6,
    "start_time": "2022-08-10T07:36:36.472Z"
   },
   {
    "duration": 6,
    "start_time": "2022-08-10T07:36:36.481Z"
   },
   {
    "duration": 4,
    "start_time": "2022-08-10T07:36:36.500Z"
   },
   {
    "duration": 4,
    "start_time": "2022-08-10T07:36:36.505Z"
   },
   {
    "duration": 6,
    "start_time": "2022-08-10T07:36:36.510Z"
   },
   {
    "duration": 18,
    "start_time": "2022-08-10T07:36:36.517Z"
   },
   {
    "duration": 6,
    "start_time": "2022-08-10T07:36:36.536Z"
   },
   {
    "duration": 16,
    "start_time": "2022-08-10T07:36:36.543Z"
   },
   {
    "duration": 9,
    "start_time": "2022-08-10T07:36:36.560Z"
   },
   {
    "duration": 8,
    "start_time": "2022-08-10T07:36:36.570Z"
   },
   {
    "duration": 27,
    "start_time": "2022-08-10T07:36:36.579Z"
   },
   {
    "duration": 32,
    "start_time": "2022-08-10T07:36:36.607Z"
   },
   {
    "duration": 13,
    "start_time": "2022-08-10T07:36:36.640Z"
   },
   {
    "duration": 7,
    "start_time": "2022-08-10T07:36:36.654Z"
   },
   {
    "duration": 9,
    "start_time": "2022-08-10T07:36:36.662Z"
   },
   {
    "duration": 6,
    "start_time": "2022-08-10T07:36:36.672Z"
   },
   {
    "duration": 14,
    "start_time": "2022-08-10T07:36:36.679Z"
   },
   {
    "duration": 20,
    "start_time": "2022-08-10T07:36:36.700Z"
   },
   {
    "duration": 5,
    "start_time": "2022-08-10T07:36:36.722Z"
   },
   {
    "duration": 147,
    "start_time": "2022-08-10T07:36:36.731Z"
   },
   {
    "duration": 7,
    "start_time": "2022-08-10T07:36:36.879Z"
   },
   {
    "duration": 14,
    "start_time": "2022-08-10T07:36:36.887Z"
   },
   {
    "duration": 5,
    "start_time": "2022-08-10T07:36:36.902Z"
   },
   {
    "duration": 8,
    "start_time": "2022-08-10T07:36:36.908Z"
   },
   {
    "duration": 7,
    "start_time": "2022-08-10T07:36:36.917Z"
   },
   {
    "duration": 6,
    "start_time": "2022-08-10T07:36:36.926Z"
   },
   {
    "duration": 5,
    "start_time": "2022-08-10T07:36:36.933Z"
   },
   {
    "duration": 75,
    "start_time": "2022-08-10T07:36:36.939Z"
   },
   {
    "duration": 11,
    "start_time": "2022-08-10T07:36:37.016Z"
   },
   {
    "duration": 4,
    "start_time": "2022-08-10T07:36:37.028Z"
   },
   {
    "duration": 5,
    "start_time": "2022-08-10T07:36:37.034Z"
   },
   {
    "duration": 30,
    "start_time": "2022-08-10T07:36:37.041Z"
   },
   {
    "duration": 4,
    "start_time": "2022-08-10T07:36:37.072Z"
   },
   {
    "duration": 127,
    "start_time": "2022-08-10T07:36:37.078Z"
   },
   {
    "duration": 84,
    "start_time": "2022-08-10T07:36:37.206Z"
   },
   {
    "duration": 7,
    "start_time": "2022-08-10T07:36:37.299Z"
   },
   {
    "duration": 13,
    "start_time": "2022-08-10T07:36:37.307Z"
   },
   {
    "duration": 9,
    "start_time": "2022-08-10T07:36:37.322Z"
   },
   {
    "duration": 7,
    "start_time": "2022-08-10T07:36:37.333Z"
   },
   {
    "duration": 5,
    "start_time": "2022-08-10T07:36:37.342Z"
   },
   {
    "duration": 296,
    "start_time": "2022-08-10T07:36:37.349Z"
   },
   {
    "duration": 14,
    "start_time": "2022-08-10T07:36:37.647Z"
   },
   {
    "duration": 4,
    "start_time": "2022-08-10T07:36:37.662Z"
   },
   {
    "duration": 49,
    "start_time": "2022-08-10T07:36:37.668Z"
   },
   {
    "duration": 19,
    "start_time": "2022-08-10T07:36:37.719Z"
   },
   {
    "duration": 14,
    "start_time": "2022-08-10T07:36:37.740Z"
   },
   {
    "duration": 14,
    "start_time": "2022-08-10T07:36:37.755Z"
   },
   {
    "duration": 260,
    "start_time": "2022-08-10T07:36:37.770Z"
   },
   {
    "duration": 262,
    "start_time": "2022-08-10T07:36:38.031Z"
   },
   {
    "duration": 256,
    "start_time": "2022-08-10T07:36:38.294Z"
   },
   {
    "duration": 233,
    "start_time": "2022-08-10T07:36:38.551Z"
   },
   {
    "duration": 291,
    "start_time": "2022-08-10T07:36:38.786Z"
   },
   {
    "duration": 146,
    "start_time": "2022-08-10T07:36:39.078Z"
   },
   {
    "duration": 152,
    "start_time": "2022-08-10T07:36:39.226Z"
   },
   {
    "duration": 166,
    "start_time": "2022-08-10T07:36:39.380Z"
   },
   {
    "duration": 262,
    "start_time": "2022-08-10T07:36:39.548Z"
   },
   {
    "duration": 152,
    "start_time": "2022-08-10T07:36:39.811Z"
   },
   {
    "duration": 173,
    "start_time": "2022-08-10T07:36:39.964Z"
   },
   {
    "duration": 155,
    "start_time": "2022-08-10T07:36:40.138Z"
   },
   {
    "duration": 228,
    "start_time": "2022-08-10T07:36:40.299Z"
   },
   {
    "duration": 166,
    "start_time": "2022-08-10T07:36:40.528Z"
   },
   {
    "duration": 108,
    "start_time": "2022-08-10T07:36:40.695Z"
   },
   {
    "duration": 9,
    "start_time": "2022-08-10T07:36:40.805Z"
   },
   {
    "duration": 237,
    "start_time": "2022-08-10T07:36:40.816Z"
   },
   {
    "duration": 172,
    "start_time": "2022-08-10T07:36:41.055Z"
   },
   {
    "duration": 6,
    "start_time": "2022-08-10T07:36:41.228Z"
   },
   {
    "duration": 205,
    "start_time": "2022-08-10T07:36:41.235Z"
   },
   {
    "duration": 7,
    "start_time": "2022-08-10T07:36:41.442Z"
   },
   {
    "duration": 225,
    "start_time": "2022-08-10T07:36:41.451Z"
   },
   {
    "duration": 5,
    "start_time": "2022-08-10T07:36:41.677Z"
   },
   {
    "duration": 197,
    "start_time": "2022-08-10T07:36:41.683Z"
   },
   {
    "duration": 5,
    "start_time": "2022-08-10T07:36:41.881Z"
   },
   {
    "duration": 175,
    "start_time": "2022-08-10T07:36:41.887Z"
   },
   {
    "duration": 384,
    "start_time": "2022-08-10T07:36:42.067Z"
   },
   {
    "duration": 178,
    "start_time": "2022-08-10T07:36:42.452Z"
   },
   {
    "duration": 177,
    "start_time": "2022-08-10T07:36:42.631Z"
   },
   {
    "duration": 173,
    "start_time": "2022-08-10T07:36:42.809Z"
   },
   {
    "duration": 31,
    "start_time": "2022-08-10T07:36:42.984Z"
   },
   {
    "duration": 6,
    "start_time": "2022-08-10T07:36:43.017Z"
   },
   {
    "duration": 10,
    "start_time": "2022-08-10T07:36:43.024Z"
   },
   {
    "duration": 34,
    "start_time": "2022-08-10T07:36:43.036Z"
   },
   {
    "duration": 142,
    "start_time": "2022-08-10T07:36:43.071Z"
   },
   {
    "duration": 7743,
    "start_time": "2022-08-10T07:36:43.215Z"
   },
   {
    "duration": 361,
    "start_time": "2022-08-10T07:36:50.959Z"
   },
   {
    "duration": 16,
    "start_time": "2022-08-10T07:39:24.288Z"
   },
   {
    "duration": 19,
    "start_time": "2022-08-10T07:39:54.119Z"
   },
   {
    "duration": 10,
    "start_time": "2022-08-10T07:40:58.368Z"
   },
   {
    "duration": 19,
    "start_time": "2022-08-10T07:41:04.895Z"
   },
   {
    "duration": 13,
    "start_time": "2022-08-10T07:41:41.090Z"
   },
   {
    "duration": 12,
    "start_time": "2022-08-10T07:41:43.105Z"
   },
   {
    "duration": 17,
    "start_time": "2022-08-10T07:41:49.859Z"
   },
   {
    "duration": 12,
    "start_time": "2022-08-10T07:42:04.210Z"
   },
   {
    "duration": 17,
    "start_time": "2022-08-10T07:42:18.731Z"
   },
   {
    "duration": 21,
    "start_time": "2022-08-10T07:42:21.427Z"
   },
   {
    "duration": 1141,
    "start_time": "2022-08-10T07:42:55.546Z"
   },
   {
    "duration": 12,
    "start_time": "2022-08-10T07:42:56.689Z"
   },
   {
    "duration": 1736,
    "start_time": "2022-08-10T07:42:56.702Z"
   },
   {
    "duration": 8,
    "start_time": "2022-08-10T07:42:58.440Z"
   },
   {
    "duration": 6,
    "start_time": "2022-08-10T07:42:58.450Z"
   },
   {
    "duration": 423,
    "start_time": "2022-08-10T07:42:58.457Z"
   },
   {
    "duration": 18,
    "start_time": "2022-08-10T07:42:58.882Z"
   },
   {
    "duration": 4,
    "start_time": "2022-08-10T07:42:58.901Z"
   },
   {
    "duration": 7,
    "start_time": "2022-08-10T07:42:58.906Z"
   },
   {
    "duration": 11,
    "start_time": "2022-08-10T07:42:58.914Z"
   },
   {
    "duration": 13,
    "start_time": "2022-08-10T07:42:58.927Z"
   },
   {
    "duration": 4,
    "start_time": "2022-08-10T07:42:58.941Z"
   },
   {
    "duration": 6,
    "start_time": "2022-08-10T07:42:58.946Z"
   },
   {
    "duration": 13,
    "start_time": "2022-08-10T07:42:58.955Z"
   },
   {
    "duration": 6,
    "start_time": "2022-08-10T07:42:58.970Z"
   },
   {
    "duration": 29,
    "start_time": "2022-08-10T07:42:58.977Z"
   },
   {
    "duration": 9,
    "start_time": "2022-08-10T07:42:59.007Z"
   },
   {
    "duration": 4,
    "start_time": "2022-08-10T07:42:59.018Z"
   },
   {
    "duration": 12,
    "start_time": "2022-08-10T07:42:59.023Z"
   },
   {
    "duration": 8,
    "start_time": "2022-08-10T07:42:59.036Z"
   },
   {
    "duration": 12,
    "start_time": "2022-08-10T07:42:59.045Z"
   },
   {
    "duration": 6,
    "start_time": "2022-08-10T07:42:59.058Z"
   },
   {
    "duration": 6,
    "start_time": "2022-08-10T07:42:59.099Z"
   },
   {
    "duration": 4,
    "start_time": "2022-08-10T07:42:59.106Z"
   },
   {
    "duration": 15,
    "start_time": "2022-08-10T07:42:59.111Z"
   },
   {
    "duration": 18,
    "start_time": "2022-08-10T07:42:59.127Z"
   },
   {
    "duration": 6,
    "start_time": "2022-08-10T07:42:59.146Z"
   },
   {
    "duration": 141,
    "start_time": "2022-08-10T07:42:59.153Z"
   },
   {
    "duration": 8,
    "start_time": "2022-08-10T07:42:59.295Z"
   },
   {
    "duration": 7,
    "start_time": "2022-08-10T07:42:59.304Z"
   },
   {
    "duration": 6,
    "start_time": "2022-08-10T07:42:59.313Z"
   },
   {
    "duration": 4,
    "start_time": "2022-08-10T07:42:59.320Z"
   },
   {
    "duration": 6,
    "start_time": "2022-08-10T07:42:59.325Z"
   },
   {
    "duration": 6,
    "start_time": "2022-08-10T07:42:59.332Z"
   },
   {
    "duration": 5,
    "start_time": "2022-08-10T07:42:59.340Z"
   },
   {
    "duration": 8,
    "start_time": "2022-08-10T07:42:59.346Z"
   },
   {
    "duration": 84,
    "start_time": "2022-08-10T07:42:59.356Z"
   },
   {
    "duration": 10,
    "start_time": "2022-08-10T07:42:59.441Z"
   },
   {
    "duration": 11,
    "start_time": "2022-08-10T07:42:59.452Z"
   },
   {
    "duration": 7,
    "start_time": "2022-08-10T07:42:59.465Z"
   },
   {
    "duration": 3,
    "start_time": "2022-08-10T07:42:59.476Z"
   },
   {
    "duration": 28,
    "start_time": "2022-08-10T07:42:59.500Z"
   },
   {
    "duration": 4,
    "start_time": "2022-08-10T07:42:59.530Z"
   },
   {
    "duration": 116,
    "start_time": "2022-08-10T07:42:59.536Z"
   },
   {
    "duration": 90,
    "start_time": "2022-08-10T07:42:59.653Z"
   },
   {
    "duration": 16,
    "start_time": "2022-08-10T07:42:59.744Z"
   },
   {
    "duration": 6,
    "start_time": "2022-08-10T07:42:59.761Z"
   },
   {
    "duration": 7,
    "start_time": "2022-08-10T07:42:59.768Z"
   },
   {
    "duration": 25,
    "start_time": "2022-08-10T07:42:59.776Z"
   },
   {
    "duration": 5,
    "start_time": "2022-08-10T07:42:59.802Z"
   },
   {
    "duration": 5,
    "start_time": "2022-08-10T07:42:59.808Z"
   },
   {
    "duration": 304,
    "start_time": "2022-08-10T07:42:59.815Z"
   },
   {
    "duration": 15,
    "start_time": "2022-08-10T07:43:00.121Z"
   },
   {
    "duration": 6,
    "start_time": "2022-08-10T07:43:00.137Z"
   },
   {
    "duration": 41,
    "start_time": "2022-08-10T07:43:00.144Z"
   },
   {
    "duration": 31,
    "start_time": "2022-08-10T07:43:00.186Z"
   },
   {
    "duration": 5,
    "start_time": "2022-08-10T07:43:00.219Z"
   },
   {
    "duration": 12,
    "start_time": "2022-08-10T07:43:00.225Z"
   },
   {
    "duration": 243,
    "start_time": "2022-08-10T07:43:00.239Z"
   },
   {
    "duration": 281,
    "start_time": "2022-08-10T07:43:00.483Z"
   },
   {
    "duration": 288,
    "start_time": "2022-08-10T07:43:00.766Z"
   },
   {
    "duration": 264,
    "start_time": "2022-08-10T07:43:01.056Z"
   },
   {
    "duration": 335,
    "start_time": "2022-08-10T07:43:01.321Z"
   },
   {
    "duration": 171,
    "start_time": "2022-08-10T07:43:01.658Z"
   },
   {
    "duration": 154,
    "start_time": "2022-08-10T07:43:01.831Z"
   },
   {
    "duration": 164,
    "start_time": "2022-08-10T07:43:01.987Z"
   },
   {
    "duration": 245,
    "start_time": "2022-08-10T07:43:02.153Z"
   },
   {
    "duration": 148,
    "start_time": "2022-08-10T07:43:02.400Z"
   },
   {
    "duration": 157,
    "start_time": "2022-08-10T07:43:02.550Z"
   },
   {
    "duration": 149,
    "start_time": "2022-08-10T07:43:02.709Z"
   },
   {
    "duration": 260,
    "start_time": "2022-08-10T07:43:02.860Z"
   },
   {
    "duration": 183,
    "start_time": "2022-08-10T07:43:03.122Z"
   },
   {
    "duration": 117,
    "start_time": "2022-08-10T07:43:03.306Z"
   },
   {
    "duration": 9,
    "start_time": "2022-08-10T07:43:03.425Z"
   },
   {
    "duration": 221,
    "start_time": "2022-08-10T07:43:03.436Z"
   },
   {
    "duration": 194,
    "start_time": "2022-08-10T07:43:03.658Z"
   },
   {
    "duration": 6,
    "start_time": "2022-08-10T07:43:03.854Z"
   },
   {
    "duration": 218,
    "start_time": "2022-08-10T07:43:03.861Z"
   },
   {
    "duration": 5,
    "start_time": "2022-08-10T07:43:04.081Z"
   },
   {
    "duration": 216,
    "start_time": "2022-08-10T07:43:04.087Z"
   },
   {
    "duration": 6,
    "start_time": "2022-08-10T07:43:04.304Z"
   },
   {
    "duration": 221,
    "start_time": "2022-08-10T07:43:04.311Z"
   },
   {
    "duration": 7,
    "start_time": "2022-08-10T07:43:04.535Z"
   },
   {
    "duration": 212,
    "start_time": "2022-08-10T07:43:04.543Z"
   },
   {
    "duration": 432,
    "start_time": "2022-08-10T07:43:04.757Z"
   },
   {
    "duration": 186,
    "start_time": "2022-08-10T07:43:05.190Z"
   },
   {
    "duration": 181,
    "start_time": "2022-08-10T07:43:05.378Z"
   },
   {
    "duration": 187,
    "start_time": "2022-08-10T07:43:05.561Z"
   },
   {
    "duration": 23,
    "start_time": "2022-08-10T07:43:05.749Z"
   },
   {
    "duration": 6,
    "start_time": "2022-08-10T07:43:05.773Z"
   },
   {
    "duration": 21,
    "start_time": "2022-08-10T07:43:05.781Z"
   },
   {
    "duration": 41,
    "start_time": "2022-08-10T07:43:05.803Z"
   },
   {
    "duration": 155,
    "start_time": "2022-08-10T07:43:05.846Z"
   },
   {
    "duration": 8272,
    "start_time": "2022-08-10T07:43:06.003Z"
   },
   {
    "duration": 361,
    "start_time": "2022-08-10T07:43:14.276Z"
   },
   {
    "duration": 122,
    "start_time": "2022-08-10T07:52:06.290Z"
   },
   {
    "duration": 90,
    "start_time": "2022-08-10T07:52:52.083Z"
   },
   {
    "duration": 8,
    "start_time": "2022-08-10T07:53:19.539Z"
   },
   {
    "duration": 10,
    "start_time": "2022-08-10T07:53:22.603Z"
   },
   {
    "duration": 9,
    "start_time": "2022-08-10T07:53:29.395Z"
   },
   {
    "duration": 10,
    "start_time": "2022-08-10T07:53:40.220Z"
   },
   {
    "duration": 10,
    "start_time": "2022-08-10T07:53:54.020Z"
   },
   {
    "duration": 9,
    "start_time": "2022-08-10T07:53:56.548Z"
   },
   {
    "duration": 11,
    "start_time": "2022-08-10T07:54:08.876Z"
   },
   {
    "duration": 10,
    "start_time": "2022-08-10T07:55:02.934Z"
   },
   {
    "duration": 9,
    "start_time": "2022-08-10T07:55:06.853Z"
   },
   {
    "duration": 1229,
    "start_time": "2022-08-10T07:55:27.901Z"
   },
   {
    "duration": 15,
    "start_time": "2022-08-10T07:55:29.132Z"
   },
   {
    "duration": 1726,
    "start_time": "2022-08-10T07:55:29.149Z"
   },
   {
    "duration": 9,
    "start_time": "2022-08-10T07:55:30.877Z"
   },
   {
    "duration": 42,
    "start_time": "2022-08-10T07:55:30.888Z"
   },
   {
    "duration": 343,
    "start_time": "2022-08-10T07:55:30.932Z"
   },
   {
    "duration": 4,
    "start_time": "2022-08-10T07:55:31.276Z"
   },
   {
    "duration": 16,
    "start_time": "2022-08-10T07:55:31.282Z"
   },
   {
    "duration": 23,
    "start_time": "2022-08-10T07:55:31.300Z"
   },
   {
    "duration": 14,
    "start_time": "2022-08-10T07:55:31.325Z"
   },
   {
    "duration": 18,
    "start_time": "2022-08-10T07:55:31.340Z"
   },
   {
    "duration": 12,
    "start_time": "2022-08-10T07:55:31.360Z"
   },
   {
    "duration": 34,
    "start_time": "2022-08-10T07:55:31.374Z"
   },
   {
    "duration": 30,
    "start_time": "2022-08-10T07:55:31.411Z"
   },
   {
    "duration": 26,
    "start_time": "2022-08-10T07:55:31.443Z"
   },
   {
    "duration": 43,
    "start_time": "2022-08-10T07:55:31.471Z"
   },
   {
    "duration": 13,
    "start_time": "2022-08-10T07:55:31.517Z"
   },
   {
    "duration": 16,
    "start_time": "2022-08-10T07:55:31.532Z"
   },
   {
    "duration": 13,
    "start_time": "2022-08-10T07:55:31.551Z"
   },
   {
    "duration": 15,
    "start_time": "2022-08-10T07:55:31.566Z"
   },
   {
    "duration": 34,
    "start_time": "2022-08-10T07:55:31.583Z"
   },
   {
    "duration": 10,
    "start_time": "2022-08-10T07:55:31.619Z"
   },
   {
    "duration": 14,
    "start_time": "2022-08-10T07:55:31.631Z"
   },
   {
    "duration": 19,
    "start_time": "2022-08-10T07:55:31.646Z"
   },
   {
    "duration": 15,
    "start_time": "2022-08-10T07:55:31.667Z"
   },
   {
    "duration": 19,
    "start_time": "2022-08-10T07:55:31.684Z"
   },
   {
    "duration": 6,
    "start_time": "2022-08-10T07:55:31.704Z"
   },
   {
    "duration": 136,
    "start_time": "2022-08-10T07:55:31.711Z"
   },
   {
    "duration": 7,
    "start_time": "2022-08-10T07:55:31.848Z"
   },
   {
    "duration": 18,
    "start_time": "2022-08-10T07:55:31.856Z"
   },
   {
    "duration": 46,
    "start_time": "2022-08-10T07:55:31.876Z"
   },
   {
    "duration": 14,
    "start_time": "2022-08-10T07:55:31.924Z"
   },
   {
    "duration": 20,
    "start_time": "2022-08-10T07:55:31.939Z"
   },
   {
    "duration": 31,
    "start_time": "2022-08-10T07:55:31.961Z"
   },
   {
    "duration": 15,
    "start_time": "2022-08-10T07:55:31.994Z"
   },
   {
    "duration": 21,
    "start_time": "2022-08-10T07:55:32.011Z"
   },
   {
    "duration": 58,
    "start_time": "2022-08-10T07:55:32.033Z"
   },
   {
    "duration": 11,
    "start_time": "2022-08-10T07:55:32.092Z"
   },
   {
    "duration": 30,
    "start_time": "2022-08-10T07:55:32.105Z"
   },
   {
    "duration": 7,
    "start_time": "2022-08-10T07:55:32.137Z"
   },
   {
    "duration": 8,
    "start_time": "2022-08-10T07:55:32.149Z"
   },
   {
    "duration": 48,
    "start_time": "2022-08-10T07:55:32.158Z"
   },
   {
    "duration": 14,
    "start_time": "2022-08-10T07:55:32.208Z"
   },
   {
    "duration": 146,
    "start_time": "2022-08-10T07:55:32.224Z"
   },
   {
    "duration": 101,
    "start_time": "2022-08-10T07:55:32.372Z"
   },
   {
    "duration": 27,
    "start_time": "2022-08-10T07:55:32.474Z"
   },
   {
    "duration": 7,
    "start_time": "2022-08-10T07:55:32.503Z"
   },
   {
    "duration": 9,
    "start_time": "2022-08-10T07:55:32.512Z"
   },
   {
    "duration": 18,
    "start_time": "2022-08-10T07:55:32.523Z"
   },
   {
    "duration": 17,
    "start_time": "2022-08-10T07:55:32.542Z"
   },
   {
    "duration": 69,
    "start_time": "2022-08-10T07:55:32.561Z"
   },
   {
    "duration": 345,
    "start_time": "2022-08-10T07:55:32.632Z"
   },
   {
    "duration": 23,
    "start_time": "2022-08-10T07:55:32.978Z"
   },
   {
    "duration": 15,
    "start_time": "2022-08-10T07:55:33.003Z"
   },
   {
    "duration": 49,
    "start_time": "2022-08-10T07:55:33.019Z"
   },
   {
    "duration": 22,
    "start_time": "2022-08-10T07:55:33.069Z"
   },
   {
    "duration": 10,
    "start_time": "2022-08-10T07:55:33.093Z"
   },
   {
    "duration": 11,
    "start_time": "2022-08-10T07:55:33.104Z"
   },
   {
    "duration": 326,
    "start_time": "2022-08-10T07:55:33.117Z"
   },
   {
    "duration": 285,
    "start_time": "2022-08-10T07:55:33.445Z"
   },
   {
    "duration": 296,
    "start_time": "2022-08-10T07:55:33.732Z"
   },
   {
    "duration": 274,
    "start_time": "2022-08-10T07:55:34.031Z"
   },
   {
    "duration": 283,
    "start_time": "2022-08-10T07:55:34.307Z"
   },
   {
    "duration": 142,
    "start_time": "2022-08-10T07:55:34.592Z"
   },
   {
    "duration": 155,
    "start_time": "2022-08-10T07:55:34.736Z"
   },
   {
    "duration": 149,
    "start_time": "2022-08-10T07:55:34.893Z"
   },
   {
    "duration": 179,
    "start_time": "2022-08-10T07:55:35.044Z"
   },
   {
    "duration": 264,
    "start_time": "2022-08-10T07:55:35.225Z"
   },
   {
    "duration": 158,
    "start_time": "2022-08-10T07:55:35.491Z"
   },
   {
    "duration": 173,
    "start_time": "2022-08-10T07:55:35.650Z"
   },
   {
    "duration": 263,
    "start_time": "2022-08-10T07:55:35.825Z"
   },
   {
    "duration": 139,
    "start_time": "2022-08-10T07:55:36.090Z"
   },
   {
    "duration": 188,
    "start_time": "2022-08-10T07:55:36.230Z"
   },
   {
    "duration": 117,
    "start_time": "2022-08-10T07:55:36.420Z"
   },
   {
    "duration": 9,
    "start_time": "2022-08-10T07:55:36.539Z"
   },
   {
    "duration": 214,
    "start_time": "2022-08-10T07:55:36.549Z"
   },
   {
    "duration": 177,
    "start_time": "2022-08-10T07:55:36.764Z"
   },
   {
    "duration": 5,
    "start_time": "2022-08-10T07:55:36.943Z"
   },
   {
    "duration": 204,
    "start_time": "2022-08-10T07:55:36.949Z"
   },
   {
    "duration": 5,
    "start_time": "2022-08-10T07:55:37.155Z"
   },
   {
    "duration": 181,
    "start_time": "2022-08-10T07:55:37.162Z"
   },
   {
    "duration": 5,
    "start_time": "2022-08-10T07:55:37.345Z"
   },
   {
    "duration": 195,
    "start_time": "2022-08-10T07:55:37.351Z"
   },
   {
    "duration": 5,
    "start_time": "2022-08-10T07:55:37.548Z"
   },
   {
    "duration": 181,
    "start_time": "2022-08-10T07:55:37.554Z"
   },
   {
    "duration": 414,
    "start_time": "2022-08-10T07:55:37.737Z"
   },
   {
    "duration": 191,
    "start_time": "2022-08-10T07:55:38.153Z"
   },
   {
    "duration": 185,
    "start_time": "2022-08-10T07:55:38.346Z"
   },
   {
    "duration": 184,
    "start_time": "2022-08-10T07:55:38.533Z"
   },
   {
    "duration": 23,
    "start_time": "2022-08-10T07:55:38.719Z"
   },
   {
    "duration": 27,
    "start_time": "2022-08-10T07:55:38.743Z"
   },
   {
    "duration": 62,
    "start_time": "2022-08-10T07:55:38.771Z"
   },
   {
    "duration": 101,
    "start_time": "2022-08-10T07:55:38.834Z"
   },
   {
    "duration": 151,
    "start_time": "2022-08-10T07:55:38.937Z"
   },
   {
    "duration": 7975,
    "start_time": "2022-08-10T07:55:39.089Z"
   },
   {
    "duration": 377,
    "start_time": "2022-08-10T07:55:47.066Z"
   },
   {
    "duration": 678,
    "start_time": "2022-08-10T07:56:15.899Z"
   },
   {
    "duration": 126,
    "start_time": "2022-08-10T07:56:24.261Z"
   },
   {
    "duration": 141,
    "start_time": "2022-08-10T07:56:47.011Z"
   },
   {
    "duration": 148,
    "start_time": "2022-08-10T07:57:34.733Z"
   },
   {
    "duration": 116,
    "start_time": "2022-08-10T07:57:49.402Z"
   },
   {
    "duration": 120,
    "start_time": "2022-08-10T08:01:10.587Z"
   },
   {
    "duration": 248,
    "start_time": "2022-08-10T08:02:49.438Z"
   },
   {
    "duration": 108,
    "start_time": "2022-08-10T08:03:14.951Z"
   },
   {
    "duration": 167,
    "start_time": "2022-08-10T08:03:22.925Z"
   },
   {
    "duration": 194,
    "start_time": "2022-08-10T08:03:33.758Z"
   },
   {
    "duration": 189,
    "start_time": "2022-08-10T08:14:28.127Z"
   },
   {
    "duration": 188,
    "start_time": "2022-08-10T08:15:43.456Z"
   },
   {
    "duration": 133,
    "start_time": "2022-08-10T08:17:18.283Z"
   },
   {
    "duration": 224,
    "start_time": "2022-08-10T08:17:37.949Z"
   },
   {
    "duration": 131,
    "start_time": "2022-08-10T08:17:45.523Z"
   },
   {
    "duration": 169,
    "start_time": "2022-08-10T08:19:11.287Z"
   },
   {
    "duration": 174,
    "start_time": "2022-08-10T08:19:19.838Z"
   },
   {
    "duration": 121,
    "start_time": "2022-08-10T08:20:26.437Z"
   },
   {
    "duration": 13,
    "start_time": "2022-08-10T08:22:50.630Z"
   },
   {
    "duration": 11,
    "start_time": "2022-08-10T08:23:01.044Z"
   },
   {
    "duration": 124,
    "start_time": "2022-08-10T08:23:07.128Z"
   },
   {
    "duration": 116,
    "start_time": "2022-08-10T08:23:11.774Z"
   },
   {
    "duration": 170,
    "start_time": "2022-08-10T08:24:30.546Z"
   },
   {
    "duration": 208,
    "start_time": "2022-08-10T08:24:53.839Z"
   },
   {
    "duration": 60,
    "start_time": "2022-08-10T08:26:25.051Z"
   },
   {
    "duration": 164,
    "start_time": "2022-08-10T08:26:32.514Z"
   },
   {
    "duration": 155,
    "start_time": "2022-08-10T08:26:45.291Z"
   },
   {
    "duration": 174,
    "start_time": "2022-08-10T08:26:54.172Z"
   },
   {
    "duration": 288,
    "start_time": "2022-08-10T08:26:59.456Z"
   },
   {
    "duration": 167,
    "start_time": "2022-08-10T08:27:12.460Z"
   },
   {
    "duration": 162,
    "start_time": "2022-08-10T08:27:16.636Z"
   },
   {
    "duration": 170,
    "start_time": "2022-08-10T08:27:23.276Z"
   },
   {
    "duration": 156,
    "start_time": "2022-08-10T08:27:27.013Z"
   },
   {
    "duration": 151,
    "start_time": "2022-08-10T08:28:14.597Z"
   },
   {
    "duration": 153,
    "start_time": "2022-08-10T08:28:18.212Z"
   },
   {
    "duration": 166,
    "start_time": "2022-08-10T08:28:21.942Z"
   },
   {
    "duration": 173,
    "start_time": "2022-08-10T08:28:26.885Z"
   },
   {
    "duration": 169,
    "start_time": "2022-08-10T08:28:30.895Z"
   },
   {
    "duration": 160,
    "start_time": "2022-08-10T08:28:35.734Z"
   },
   {
    "duration": 22770,
    "start_time": "2022-08-10T08:29:45.430Z"
   },
   {
    "duration": 1244,
    "start_time": "2022-08-10T08:30:27.691Z"
   },
   {
    "duration": 13,
    "start_time": "2022-08-10T08:30:28.937Z"
   },
   {
    "duration": 1728,
    "start_time": "2022-08-10T08:30:28.951Z"
   },
   {
    "duration": 11,
    "start_time": "2022-08-10T08:30:30.681Z"
   },
   {
    "duration": 46,
    "start_time": "2022-08-10T08:30:30.694Z"
   },
   {
    "duration": 395,
    "start_time": "2022-08-10T08:30:30.742Z"
   },
   {
    "duration": 5,
    "start_time": "2022-08-10T08:30:31.138Z"
   },
   {
    "duration": 46,
    "start_time": "2022-08-10T08:30:31.144Z"
   },
   {
    "duration": 54,
    "start_time": "2022-08-10T08:30:31.192Z"
   },
   {
    "duration": 64,
    "start_time": "2022-08-10T08:30:31.248Z"
   },
   {
    "duration": 41,
    "start_time": "2022-08-10T08:30:31.313Z"
   },
   {
    "duration": 19,
    "start_time": "2022-08-10T08:30:31.356Z"
   },
   {
    "duration": 15,
    "start_time": "2022-08-10T08:30:31.377Z"
   },
   {
    "duration": 34,
    "start_time": "2022-08-10T08:30:31.394Z"
   },
   {
    "duration": 20,
    "start_time": "2022-08-10T08:30:31.430Z"
   },
   {
    "duration": 71,
    "start_time": "2022-08-10T08:30:31.452Z"
   },
   {
    "duration": 28,
    "start_time": "2022-08-10T08:30:31.525Z"
   },
   {
    "duration": 23,
    "start_time": "2022-08-10T08:30:31.555Z"
   },
   {
    "duration": 45,
    "start_time": "2022-08-10T08:30:31.580Z"
   },
   {
    "duration": 15,
    "start_time": "2022-08-10T08:30:31.626Z"
   },
   {
    "duration": 37,
    "start_time": "2022-08-10T08:30:31.643Z"
   },
   {
    "duration": 64,
    "start_time": "2022-08-10T08:30:31.681Z"
   },
   {
    "duration": 39,
    "start_time": "2022-08-10T08:30:31.746Z"
   },
   {
    "duration": 58,
    "start_time": "2022-08-10T08:30:31.787Z"
   },
   {
    "duration": 37,
    "start_time": "2022-08-10T08:30:31.847Z"
   },
   {
    "duration": 34,
    "start_time": "2022-08-10T08:30:31.886Z"
   },
   {
    "duration": 6,
    "start_time": "2022-08-10T08:30:31.922Z"
   },
   {
    "duration": 136,
    "start_time": "2022-08-10T08:30:31.930Z"
   },
   {
    "duration": 7,
    "start_time": "2022-08-10T08:30:32.067Z"
   },
   {
    "duration": 69,
    "start_time": "2022-08-10T08:30:32.076Z"
   },
   {
    "duration": 32,
    "start_time": "2022-08-10T08:30:32.146Z"
   },
   {
    "duration": 36,
    "start_time": "2022-08-10T08:30:32.180Z"
   },
   {
    "duration": 41,
    "start_time": "2022-08-10T08:30:32.218Z"
   },
   {
    "duration": 31,
    "start_time": "2022-08-10T08:30:32.261Z"
   },
   {
    "duration": 40,
    "start_time": "2022-08-10T08:30:32.293Z"
   },
   {
    "duration": 26,
    "start_time": "2022-08-10T08:30:32.334Z"
   },
   {
    "duration": 83,
    "start_time": "2022-08-10T08:30:32.362Z"
   },
   {
    "duration": 12,
    "start_time": "2022-08-10T08:30:32.447Z"
   },
   {
    "duration": 24,
    "start_time": "2022-08-10T08:30:32.461Z"
   },
   {
    "duration": 16,
    "start_time": "2022-08-10T08:30:32.487Z"
   },
   {
    "duration": 47,
    "start_time": "2022-08-10T08:30:32.508Z"
   },
   {
    "duration": 54,
    "start_time": "2022-08-10T08:30:32.556Z"
   },
   {
    "duration": 24,
    "start_time": "2022-08-10T08:30:32.612Z"
   },
   {
    "duration": 130,
    "start_time": "2022-08-10T08:30:32.638Z"
   },
   {
    "duration": 94,
    "start_time": "2022-08-10T08:30:32.769Z"
   },
   {
    "duration": 16,
    "start_time": "2022-08-10T08:30:32.865Z"
   },
   {
    "duration": 18,
    "start_time": "2022-08-10T08:30:32.883Z"
   },
   {
    "duration": 9,
    "start_time": "2022-08-10T08:30:32.903Z"
   },
   {
    "duration": 17,
    "start_time": "2022-08-10T08:30:32.914Z"
   },
   {
    "duration": 11,
    "start_time": "2022-08-10T08:30:32.933Z"
   },
   {
    "duration": 26,
    "start_time": "2022-08-10T08:30:32.945Z"
   },
   {
    "duration": 314,
    "start_time": "2022-08-10T08:30:32.973Z"
   },
   {
    "duration": 19,
    "start_time": "2022-08-10T08:30:33.289Z"
   },
   {
    "duration": 6,
    "start_time": "2022-08-10T08:30:33.310Z"
   },
   {
    "duration": 39,
    "start_time": "2022-08-10T08:30:33.317Z"
   },
   {
    "duration": 23,
    "start_time": "2022-08-10T08:30:33.357Z"
   },
   {
    "duration": 6,
    "start_time": "2022-08-10T08:30:33.400Z"
   },
   {
    "duration": 9,
    "start_time": "2022-08-10T08:30:33.407Z"
   },
   {
    "duration": 272,
    "start_time": "2022-08-10T08:30:33.417Z"
   },
   {
    "duration": 293,
    "start_time": "2022-08-10T08:30:33.691Z"
   },
   {
    "duration": 278,
    "start_time": "2022-08-10T08:30:33.985Z"
   },
   {
    "duration": 256,
    "start_time": "2022-08-10T08:30:34.264Z"
   },
   {
    "duration": 290,
    "start_time": "2022-08-10T08:30:34.521Z"
   },
   {
    "duration": 153,
    "start_time": "2022-08-10T08:30:34.812Z"
   },
   {
    "duration": 163,
    "start_time": "2022-08-10T08:30:34.967Z"
   },
   {
    "duration": 118,
    "start_time": "2022-08-10T08:30:35.132Z"
   },
   {
    "duration": 175,
    "start_time": "2022-08-10T08:30:35.252Z"
   },
   {
    "duration": 260,
    "start_time": "2022-08-10T08:30:35.428Z"
   },
   {
    "duration": 160,
    "start_time": "2022-08-10T08:30:35.690Z"
   },
   {
    "duration": 162,
    "start_time": "2022-08-10T08:30:35.852Z"
   },
   {
    "duration": 259,
    "start_time": "2022-08-10T08:30:36.016Z"
   },
   {
    "duration": 145,
    "start_time": "2022-08-10T08:30:36.277Z"
   },
   {
    "duration": 177,
    "start_time": "2022-08-10T08:30:36.424Z"
   },
   {
    "duration": 117,
    "start_time": "2022-08-10T08:30:36.603Z"
   },
   {
    "duration": 9,
    "start_time": "2022-08-10T08:30:36.722Z"
   },
   {
    "duration": 224,
    "start_time": "2022-08-10T08:30:36.733Z"
   },
   {
    "duration": 195,
    "start_time": "2022-08-10T08:30:36.959Z"
   },
   {
    "duration": 6,
    "start_time": "2022-08-10T08:30:37.156Z"
   },
   {
    "duration": 236,
    "start_time": "2022-08-10T08:30:37.164Z"
   },
   {
    "duration": 5,
    "start_time": "2022-08-10T08:30:37.401Z"
   },
   {
    "duration": 199,
    "start_time": "2022-08-10T08:30:37.408Z"
   },
   {
    "duration": 6,
    "start_time": "2022-08-10T08:30:37.609Z"
   },
   {
    "duration": 224,
    "start_time": "2022-08-10T08:30:37.616Z"
   },
   {
    "duration": 5,
    "start_time": "2022-08-10T08:30:37.842Z"
   },
   {
    "duration": 152,
    "start_time": "2022-08-10T08:30:37.848Z"
   },
   {
    "duration": 238,
    "start_time": "2022-08-10T08:30:38.001Z"
   },
   {
    "duration": 163,
    "start_time": "2022-08-10T08:30:38.242Z"
   },
   {
    "duration": 138,
    "start_time": "2022-08-10T08:30:38.407Z"
   },
   {
    "duration": 23,
    "start_time": "2022-08-10T08:30:38.547Z"
   },
   {
    "duration": 15,
    "start_time": "2022-08-10T08:30:38.572Z"
   },
   {
    "duration": 31,
    "start_time": "2022-08-10T08:30:38.599Z"
   },
   {
    "duration": 71,
    "start_time": "2022-08-10T08:30:38.632Z"
   },
   {
    "duration": 149,
    "start_time": "2022-08-10T08:30:38.706Z"
   },
   {
    "duration": 8071,
    "start_time": "2022-08-10T08:30:38.856Z"
   },
   {
    "duration": 374,
    "start_time": "2022-08-10T08:30:46.929Z"
   },
   {
    "duration": 60,
    "start_time": "2022-08-10T08:33:46.162Z"
   },
   {
    "duration": 206,
    "start_time": "2022-08-10T08:33:53.986Z"
   },
   {
    "duration": 54,
    "start_time": "2022-08-10T08:34:01.035Z"
   },
   {
    "duration": 55,
    "start_time": "2022-08-10T08:34:20.027Z"
   },
   {
    "duration": 199,
    "start_time": "2022-08-10T08:34:23.674Z"
   },
   {
    "duration": 54,
    "start_time": "2022-08-10T08:34:36.587Z"
   },
   {
    "duration": 170,
    "start_time": "2022-08-10T08:34:44.546Z"
   },
   {
    "duration": 689,
    "start_time": "2022-08-10T08:35:19.421Z"
   },
   {
    "duration": 191,
    "start_time": "2022-08-10T08:35:41.733Z"
   },
   {
    "duration": 156,
    "start_time": "2022-08-10T08:35:50.533Z"
   },
   {
    "duration": 2031,
    "start_time": "2022-08-10T09:34:12.829Z"
   },
   {
    "duration": 16,
    "start_time": "2022-08-10T09:34:14.908Z"
   },
   {
    "duration": 4020,
    "start_time": "2022-08-10T09:34:14.926Z"
   },
   {
    "duration": 10,
    "start_time": "2022-08-10T09:34:18.948Z"
   },
   {
    "duration": 53,
    "start_time": "2022-08-10T09:34:18.959Z"
   },
   {
    "duration": 634,
    "start_time": "2022-08-10T09:34:19.013Z"
   },
   {
    "duration": 62,
    "start_time": "2022-08-10T09:34:19.649Z"
   },
   {
    "duration": 25,
    "start_time": "2022-08-10T09:34:19.712Z"
   },
   {
    "duration": 15,
    "start_time": "2022-08-10T09:34:19.738Z"
   },
   {
    "duration": 56,
    "start_time": "2022-08-10T09:34:19.755Z"
   },
   {
    "duration": 5,
    "start_time": "2022-08-10T09:34:19.812Z"
   },
   {
    "duration": 6,
    "start_time": "2022-08-10T09:34:19.818Z"
   },
   {
    "duration": 6,
    "start_time": "2022-08-10T09:34:19.826Z"
   },
   {
    "duration": 78,
    "start_time": "2022-08-10T09:34:19.833Z"
   },
   {
    "duration": 7,
    "start_time": "2022-08-10T09:34:19.912Z"
   },
   {
    "duration": 32,
    "start_time": "2022-08-10T09:34:19.921Z"
   },
   {
    "duration": 58,
    "start_time": "2022-08-10T09:34:19.954Z"
   },
   {
    "duration": 5,
    "start_time": "2022-08-10T09:34:20.014Z"
   },
   {
    "duration": 15,
    "start_time": "2022-08-10T09:34:20.022Z"
   },
   {
    "duration": 71,
    "start_time": "2022-08-10T09:34:20.039Z"
   },
   {
    "duration": 14,
    "start_time": "2022-08-10T09:34:20.112Z"
   },
   {
    "duration": 8,
    "start_time": "2022-08-10T09:34:20.128Z"
   },
   {
    "duration": 14,
    "start_time": "2022-08-10T09:34:20.137Z"
   },
   {
    "duration": 58,
    "start_time": "2022-08-10T09:34:20.153Z"
   },
   {
    "duration": 24,
    "start_time": "2022-08-10T09:34:20.213Z"
   },
   {
    "duration": 78,
    "start_time": "2022-08-10T09:34:20.239Z"
   },
   {
    "duration": 7,
    "start_time": "2022-08-10T09:34:20.319Z"
   },
   {
    "duration": 279,
    "start_time": "2022-08-10T09:34:20.330Z"
   },
   {
    "duration": 7,
    "start_time": "2022-08-10T09:34:20.611Z"
   },
   {
    "duration": 9,
    "start_time": "2022-08-10T09:34:20.620Z"
   },
   {
    "duration": 8,
    "start_time": "2022-08-10T09:34:20.630Z"
   },
   {
    "duration": 5,
    "start_time": "2022-08-10T09:34:20.640Z"
   },
   {
    "duration": 66,
    "start_time": "2022-08-10T09:34:20.646Z"
   },
   {
    "duration": 7,
    "start_time": "2022-08-10T09:34:20.714Z"
   },
   {
    "duration": 13,
    "start_time": "2022-08-10T09:34:20.722Z"
   },
   {
    "duration": 10,
    "start_time": "2022-08-10T09:34:20.737Z"
   },
   {
    "duration": 173,
    "start_time": "2022-08-10T09:34:20.748Z"
   },
   {
    "duration": 11,
    "start_time": "2022-08-10T09:34:20.922Z"
   },
   {
    "duration": 80,
    "start_time": "2022-08-10T09:34:20.934Z"
   },
   {
    "duration": 10,
    "start_time": "2022-08-10T09:34:21.016Z"
   },
   {
    "duration": 4,
    "start_time": "2022-08-10T09:34:21.028Z"
   },
   {
    "duration": 81,
    "start_time": "2022-08-10T09:34:21.034Z"
   },
   {
    "duration": 4,
    "start_time": "2022-08-10T09:34:21.117Z"
   },
   {
    "duration": 216,
    "start_time": "2022-08-10T09:34:21.122Z"
   },
   {
    "duration": 198,
    "start_time": "2022-08-10T09:34:21.339Z"
   },
   {
    "duration": 72,
    "start_time": "2022-08-10T09:34:21.539Z"
   },
   {
    "duration": 7,
    "start_time": "2022-08-10T09:34:21.613Z"
   },
   {
    "duration": 14,
    "start_time": "2022-08-10T09:34:21.622Z"
   },
   {
    "duration": 10,
    "start_time": "2022-08-10T09:34:21.638Z"
   },
   {
    "duration": 6,
    "start_time": "2022-08-10T09:34:21.709Z"
   },
   {
    "duration": 13,
    "start_time": "2022-08-10T09:34:21.717Z"
   },
   {
    "duration": 790,
    "start_time": "2022-08-10T09:34:21.733Z"
   },
   {
    "duration": 15,
    "start_time": "2022-08-10T09:34:22.525Z"
   },
   {
    "duration": 5,
    "start_time": "2022-08-10T09:34:22.542Z"
   },
   {
    "duration": 98,
    "start_time": "2022-08-10T09:34:22.548Z"
   },
   {
    "duration": 77,
    "start_time": "2022-08-10T09:34:22.648Z"
   },
   {
    "duration": 5,
    "start_time": "2022-08-10T09:34:22.727Z"
   },
   {
    "duration": 12,
    "start_time": "2022-08-10T09:34:22.733Z"
   },
   {
    "duration": 572,
    "start_time": "2022-08-10T09:34:22.746Z"
   },
   {
    "duration": 636,
    "start_time": "2022-08-10T09:34:23.321Z"
   },
   {
    "duration": 531,
    "start_time": "2022-08-10T09:34:24.008Z"
   },
   {
    "duration": 505,
    "start_time": "2022-08-10T09:34:24.540Z"
   },
   {
    "duration": 589,
    "start_time": "2022-08-10T09:34:25.047Z"
   },
   {
    "duration": 378,
    "start_time": "2022-08-10T09:34:25.638Z"
   },
   {
    "duration": 309,
    "start_time": "2022-08-10T09:34:26.018Z"
   },
   {
    "duration": 222,
    "start_time": "2022-08-10T09:34:26.329Z"
   },
   {
    "duration": 398,
    "start_time": "2022-08-10T09:34:26.553Z"
   },
   {
    "duration": 630,
    "start_time": "2022-08-10T09:34:27.008Z"
   },
   {
    "duration": 372,
    "start_time": "2022-08-10T09:34:27.640Z"
   },
   {
    "duration": 317,
    "start_time": "2022-08-10T09:34:28.014Z"
   },
   {
    "duration": 520,
    "start_time": "2022-08-10T09:34:28.333Z"
   },
   {
    "duration": 362,
    "start_time": "2022-08-10T09:34:28.855Z"
   },
   {
    "duration": 401,
    "start_time": "2022-08-10T09:34:29.219Z"
   },
   {
    "duration": 220,
    "start_time": "2022-08-10T09:34:29.622Z"
   },
   {
    "duration": 9,
    "start_time": "2022-08-10T09:34:29.844Z"
   },
   {
    "duration": 440,
    "start_time": "2022-08-10T09:34:29.908Z"
   },
   {
    "duration": 226,
    "start_time": "2022-08-10T09:34:30.350Z"
   },
   {
    "duration": 4,
    "start_time": "2022-08-10T09:34:30.578Z"
   },
   {
    "duration": 229,
    "start_time": "2022-08-10T09:34:30.585Z"
   },
   {
    "duration": 5,
    "start_time": "2022-08-10T09:34:30.816Z"
   },
   {
    "duration": 201,
    "start_time": "2022-08-10T09:34:30.822Z"
   },
   {
    "duration": 6,
    "start_time": "2022-08-10T09:34:31.029Z"
   },
   {
    "duration": 218,
    "start_time": "2022-08-10T09:34:31.037Z"
   },
   {
    "duration": 6,
    "start_time": "2022-08-10T09:34:31.256Z"
   },
   {
    "duration": 137,
    "start_time": "2022-08-10T09:34:31.263Z"
   },
   {
    "duration": 240,
    "start_time": "2022-08-10T09:34:31.401Z"
   },
   {
    "duration": 166,
    "start_time": "2022-08-10T09:34:31.643Z"
   },
   {
    "duration": 133,
    "start_time": "2022-08-10T09:34:31.810Z"
   },
   {
    "duration": 24,
    "start_time": "2022-08-10T09:34:31.944Z"
   },
   {
    "duration": 6,
    "start_time": "2022-08-10T09:34:31.970Z"
   },
   {
    "duration": 13,
    "start_time": "2022-08-10T09:34:31.978Z"
   },
   {
    "duration": 53,
    "start_time": "2022-08-10T09:34:31.992Z"
   },
   {
    "duration": 169,
    "start_time": "2022-08-10T09:34:32.046Z"
   },
   {
    "duration": 8199,
    "start_time": "2022-08-10T09:34:32.217Z"
   },
   {
    "duration": 382,
    "start_time": "2022-08-10T09:34:40.418Z"
   },
   {
    "duration": 18,
    "start_time": "2022-08-10T09:37:43.118Z"
   },
   {
    "duration": 14,
    "start_time": "2022-08-10T09:39:47.879Z"
   },
   {
    "duration": 158,
    "start_time": "2022-08-10T10:09:27.301Z"
   },
   {
    "duration": 18,
    "start_time": "2022-08-10T10:13:43.116Z"
   },
   {
    "duration": 1195,
    "start_time": "2022-08-10T10:14:40.856Z"
   },
   {
    "duration": 14,
    "start_time": "2022-08-10T10:14:42.053Z"
   },
   {
    "duration": 2482,
    "start_time": "2022-08-10T10:14:42.068Z"
   },
   {
    "duration": 9,
    "start_time": "2022-08-10T10:14:44.552Z"
   },
   {
    "duration": 46,
    "start_time": "2022-08-10T10:14:44.563Z"
   },
   {
    "duration": 527,
    "start_time": "2022-08-10T10:14:44.611Z"
   },
   {
    "duration": 5,
    "start_time": "2022-08-10T10:14:45.140Z"
   },
   {
    "duration": 7,
    "start_time": "2022-08-10T10:14:45.147Z"
   },
   {
    "duration": 8,
    "start_time": "2022-08-10T10:14:45.155Z"
   },
   {
    "duration": 7,
    "start_time": "2022-08-10T10:14:45.165Z"
   },
   {
    "duration": 23,
    "start_time": "2022-08-10T10:14:45.174Z"
   },
   {
    "duration": 9,
    "start_time": "2022-08-10T10:14:45.199Z"
   },
   {
    "duration": 5,
    "start_time": "2022-08-10T10:14:45.209Z"
   },
   {
    "duration": 24,
    "start_time": "2022-08-10T10:14:45.215Z"
   },
   {
    "duration": 8,
    "start_time": "2022-08-10T10:14:45.240Z"
   },
   {
    "duration": 16,
    "start_time": "2022-08-10T10:14:45.249Z"
   },
   {
    "duration": 9,
    "start_time": "2022-08-10T10:14:45.266Z"
   },
   {
    "duration": 4,
    "start_time": "2022-08-10T10:14:45.277Z"
   },
   {
    "duration": 28,
    "start_time": "2022-08-10T10:14:45.282Z"
   },
   {
    "duration": 13,
    "start_time": "2022-08-10T10:14:45.311Z"
   },
   {
    "duration": 13,
    "start_time": "2022-08-10T10:14:45.326Z"
   },
   {
    "duration": 7,
    "start_time": "2022-08-10T10:14:45.340Z"
   },
   {
    "duration": 10,
    "start_time": "2022-08-10T10:14:45.349Z"
   },
   {
    "duration": 5,
    "start_time": "2022-08-10T10:14:45.361Z"
   },
   {
    "duration": 42,
    "start_time": "2022-08-10T10:14:45.367Z"
   },
   {
    "duration": 20,
    "start_time": "2022-08-10T10:14:45.410Z"
   },
   {
    "duration": 6,
    "start_time": "2022-08-10T10:14:45.432Z"
   },
   {
    "duration": 149,
    "start_time": "2022-08-10T10:14:45.441Z"
   },
   {
    "duration": 9,
    "start_time": "2022-08-10T10:14:45.591Z"
   },
   {
    "duration": 7,
    "start_time": "2022-08-10T10:14:45.609Z"
   },
   {
    "duration": 10,
    "start_time": "2022-08-10T10:14:45.618Z"
   },
   {
    "duration": 11,
    "start_time": "2022-08-10T10:14:45.630Z"
   },
   {
    "duration": 8,
    "start_time": "2022-08-10T10:14:45.642Z"
   },
   {
    "duration": 11,
    "start_time": "2022-08-10T10:14:45.651Z"
   },
   {
    "duration": 5,
    "start_time": "2022-08-10T10:14:45.664Z"
   },
   {
    "duration": 22,
    "start_time": "2022-08-10T10:14:45.670Z"
   },
   {
    "duration": 63,
    "start_time": "2022-08-10T10:14:45.693Z"
   },
   {
    "duration": 9,
    "start_time": "2022-08-10T10:14:45.758Z"
   },
   {
    "duration": 10,
    "start_time": "2022-08-10T10:14:45.768Z"
   },
   {
    "duration": 4,
    "start_time": "2022-08-10T10:14:45.779Z"
   },
   {
    "duration": 25,
    "start_time": "2022-08-10T10:14:45.785Z"
   },
   {
    "duration": 31,
    "start_time": "2022-08-10T10:14:45.811Z"
   },
   {
    "duration": 3,
    "start_time": "2022-08-10T10:14:45.844Z"
   },
   {
    "duration": 135,
    "start_time": "2022-08-10T10:14:45.849Z"
   },
   {
    "duration": 106,
    "start_time": "2022-08-10T10:14:45.985Z"
   },
   {
    "duration": 24,
    "start_time": "2022-08-10T10:14:46.092Z"
   },
   {
    "duration": 7,
    "start_time": "2022-08-10T10:14:46.118Z"
   },
   {
    "duration": 15,
    "start_time": "2022-08-10T10:14:46.126Z"
   },
   {
    "duration": 5,
    "start_time": "2022-08-10T10:14:46.143Z"
   },
   {
    "duration": 14,
    "start_time": "2022-08-10T10:14:46.149Z"
   },
   {
    "duration": 7,
    "start_time": "2022-08-10T10:14:46.164Z"
   },
   {
    "duration": 5,
    "start_time": "2022-08-10T10:14:46.172Z"
   },
   {
    "duration": 335,
    "start_time": "2022-08-10T10:14:46.179Z"
   },
   {
    "duration": 23,
    "start_time": "2022-08-10T10:14:46.516Z"
   },
   {
    "duration": 5,
    "start_time": "2022-08-10T10:14:46.541Z"
   },
   {
    "duration": 40,
    "start_time": "2022-08-10T10:14:46.548Z"
   },
   {
    "duration": 31,
    "start_time": "2022-08-10T10:14:46.590Z"
   },
   {
    "duration": 5,
    "start_time": "2022-08-10T10:14:46.622Z"
   },
   {
    "duration": 9,
    "start_time": "2022-08-10T10:14:46.629Z"
   },
   {
    "duration": 422,
    "start_time": "2022-08-10T10:14:46.640Z"
   },
   {
    "duration": 338,
    "start_time": "2022-08-10T10:14:47.064Z"
   },
   {
    "duration": 301,
    "start_time": "2022-08-10T10:14:47.408Z"
   },
   {
    "duration": 243,
    "start_time": "2022-08-10T10:14:47.711Z"
   },
   {
    "duration": 288,
    "start_time": "2022-08-10T10:14:47.955Z"
   },
   {
    "duration": 143,
    "start_time": "2022-08-10T10:14:48.245Z"
   },
   {
    "duration": 160,
    "start_time": "2022-08-10T10:14:48.390Z"
   },
   {
    "duration": 123,
    "start_time": "2022-08-10T10:14:48.551Z"
   },
   {
    "duration": 113,
    "start_time": "2022-08-10T10:14:48.676Z"
   },
   {
    "duration": 174,
    "start_time": "2022-08-10T10:14:48.790Z"
   },
   {
    "duration": 258,
    "start_time": "2022-08-10T10:14:48.965Z"
   },
   {
    "duration": 153,
    "start_time": "2022-08-10T10:14:49.225Z"
   },
   {
    "duration": 242,
    "start_time": "2022-08-10T10:14:49.379Z"
   },
   {
    "duration": 159,
    "start_time": "2022-08-10T10:14:49.623Z"
   },
   {
    "duration": 149,
    "start_time": "2022-08-10T10:14:49.783Z"
   },
   {
    "duration": 190,
    "start_time": "2022-08-10T10:14:49.933Z"
   },
   {
    "duration": 117,
    "start_time": "2022-08-10T10:14:50.124Z"
   },
   {
    "duration": 9,
    "start_time": "2022-08-10T10:14:50.243Z"
   },
   {
    "duration": 240,
    "start_time": "2022-08-10T10:14:50.253Z"
   },
   {
    "duration": 185,
    "start_time": "2022-08-10T10:14:50.495Z"
   },
   {
    "duration": 6,
    "start_time": "2022-08-10T10:14:50.682Z"
   },
   {
    "duration": 208,
    "start_time": "2022-08-10T10:14:50.690Z"
   },
   {
    "duration": 6,
    "start_time": "2022-08-10T10:14:50.912Z"
   },
   {
    "duration": 181,
    "start_time": "2022-08-10T10:14:50.920Z"
   },
   {
    "duration": 9,
    "start_time": "2022-08-10T10:14:51.102Z"
   },
   {
    "duration": 176,
    "start_time": "2022-08-10T10:14:51.113Z"
   },
   {
    "duration": 5,
    "start_time": "2022-08-10T10:14:51.293Z"
   },
   {
    "duration": 226,
    "start_time": "2022-08-10T10:14:51.300Z"
   },
   {
    "duration": 141,
    "start_time": "2022-08-10T10:14:51.528Z"
   },
   {
    "duration": 162,
    "start_time": "2022-08-10T10:14:51.671Z"
   },
   {
    "duration": 131,
    "start_time": "2022-08-10T10:14:51.834Z"
   },
   {
    "duration": 25,
    "start_time": "2022-08-10T10:14:51.967Z"
   },
   {
    "duration": 22,
    "start_time": "2022-08-10T10:14:51.993Z"
   },
   {
    "duration": 14,
    "start_time": "2022-08-10T10:14:52.016Z"
   },
   {
    "duration": 43,
    "start_time": "2022-08-10T10:14:52.032Z"
   },
   {
    "duration": 142,
    "start_time": "2022-08-10T10:14:52.076Z"
   },
   {
    "duration": 8135,
    "start_time": "2022-08-10T10:14:52.220Z"
   },
   {
    "duration": 402,
    "start_time": "2022-08-10T10:15:00.357Z"
   },
   {
    "duration": 54,
    "start_time": "2022-08-11T07:15:12.424Z"
   },
   {
    "duration": 1747,
    "start_time": "2022-08-11T07:15:18.367Z"
   },
   {
    "duration": 15,
    "start_time": "2022-08-11T07:15:20.116Z"
   },
   {
    "duration": 1934,
    "start_time": "2022-08-11T07:15:20.132Z"
   },
   {
    "duration": 10,
    "start_time": "2022-08-11T07:15:22.068Z"
   },
   {
    "duration": 4,
    "start_time": "2022-08-11T07:15:22.079Z"
   },
   {
    "duration": 331,
    "start_time": "2022-08-11T07:15:22.085Z"
   },
   {
    "duration": 5,
    "start_time": "2022-08-11T07:15:22.418Z"
   },
   {
    "duration": 7,
    "start_time": "2022-08-11T07:15:22.424Z"
   },
   {
    "duration": 8,
    "start_time": "2022-08-11T07:15:22.432Z"
   },
   {
    "duration": 9,
    "start_time": "2022-08-11T07:15:22.443Z"
   },
   {
    "duration": 7,
    "start_time": "2022-08-11T07:15:22.454Z"
   },
   {
    "duration": 6,
    "start_time": "2022-08-11T07:15:22.462Z"
   },
   {
    "duration": 10,
    "start_time": "2022-08-11T07:15:22.491Z"
   },
   {
    "duration": 22,
    "start_time": "2022-08-11T07:15:22.502Z"
   },
   {
    "duration": 8,
    "start_time": "2022-08-11T07:15:22.525Z"
   },
   {
    "duration": 19,
    "start_time": "2022-08-11T07:15:22.534Z"
   },
   {
    "duration": 14,
    "start_time": "2022-08-11T07:15:22.554Z"
   },
   {
    "duration": 6,
    "start_time": "2022-08-11T07:15:22.570Z"
   },
   {
    "duration": 20,
    "start_time": "2022-08-11T07:15:22.587Z"
   },
   {
    "duration": 35,
    "start_time": "2022-08-11T07:15:22.610Z"
   },
   {
    "duration": 20,
    "start_time": "2022-08-11T07:15:22.647Z"
   },
   {
    "duration": 55,
    "start_time": "2022-08-11T07:15:22.669Z"
   },
   {
    "duration": 31,
    "start_time": "2022-08-11T07:15:22.725Z"
   },
   {
    "duration": 18,
    "start_time": "2022-08-11T07:15:22.758Z"
   },
   {
    "duration": 42,
    "start_time": "2022-08-11T07:15:22.778Z"
   },
   {
    "duration": 29,
    "start_time": "2022-08-11T07:15:22.822Z"
   },
   {
    "duration": 9,
    "start_time": "2022-08-11T07:15:22.852Z"
   },
   {
    "duration": 143,
    "start_time": "2022-08-11T07:15:22.866Z"
   },
   {
    "duration": 7,
    "start_time": "2022-08-11T07:15:23.010Z"
   },
   {
    "duration": 8,
    "start_time": "2022-08-11T07:15:23.019Z"
   },
   {
    "duration": 9,
    "start_time": "2022-08-11T07:15:23.029Z"
   },
   {
    "duration": 5,
    "start_time": "2022-08-11T07:15:23.040Z"
   },
   {
    "duration": 9,
    "start_time": "2022-08-11T07:15:23.047Z"
   },
   {
    "duration": 35,
    "start_time": "2022-08-11T07:15:23.058Z"
   },
   {
    "duration": 7,
    "start_time": "2022-08-11T07:15:23.098Z"
   },
   {
    "duration": 15,
    "start_time": "2022-08-11T07:15:23.107Z"
   },
   {
    "duration": 50,
    "start_time": "2022-08-11T07:15:23.123Z"
   },
   {
    "duration": 23,
    "start_time": "2022-08-11T07:15:23.174Z"
   },
   {
    "duration": 11,
    "start_time": "2022-08-11T07:15:23.200Z"
   },
   {
    "duration": 4,
    "start_time": "2022-08-11T07:15:23.213Z"
   },
   {
    "duration": 5,
    "start_time": "2022-08-11T07:15:23.219Z"
   },
   {
    "duration": 33,
    "start_time": "2022-08-11T07:15:23.225Z"
   },
   {
    "duration": 5,
    "start_time": "2022-08-11T07:15:23.260Z"
   },
   {
    "duration": 136,
    "start_time": "2022-08-11T07:15:23.267Z"
   },
   {
    "duration": 97,
    "start_time": "2022-08-11T07:15:23.405Z"
   },
   {
    "duration": 17,
    "start_time": "2022-08-11T07:15:23.504Z"
   },
   {
    "duration": 30,
    "start_time": "2022-08-11T07:15:23.523Z"
   },
   {
    "duration": 29,
    "start_time": "2022-08-11T07:15:23.555Z"
   },
   {
    "duration": 22,
    "start_time": "2022-08-11T07:15:23.586Z"
   },
   {
    "duration": 29,
    "start_time": "2022-08-11T07:15:23.609Z"
   },
   {
    "duration": 20,
    "start_time": "2022-08-11T07:15:23.640Z"
   },
   {
    "duration": 36,
    "start_time": "2022-08-11T07:15:23.662Z"
   },
   {
    "duration": 336,
    "start_time": "2022-08-11T07:15:23.700Z"
   },
   {
    "duration": 16,
    "start_time": "2022-08-11T07:15:24.038Z"
   },
   {
    "duration": 50,
    "start_time": "2022-08-11T07:15:24.055Z"
   },
   {
    "duration": 58,
    "start_time": "2022-08-11T07:15:24.106Z"
   },
   {
    "duration": 21,
    "start_time": "2022-08-11T07:15:24.165Z"
   },
   {
    "duration": 15,
    "start_time": "2022-08-11T07:15:24.191Z"
   },
   {
    "duration": 24,
    "start_time": "2022-08-11T07:15:24.207Z"
   },
   {
    "duration": 322,
    "start_time": "2022-08-11T07:15:24.232Z"
   },
   {
    "duration": 287,
    "start_time": "2022-08-11T07:15:24.555Z"
   },
   {
    "duration": 283,
    "start_time": "2022-08-11T07:15:24.843Z"
   },
   {
    "duration": 246,
    "start_time": "2022-08-11T07:15:25.128Z"
   },
   {
    "duration": 350,
    "start_time": "2022-08-11T07:15:25.376Z"
   },
   {
    "duration": 170,
    "start_time": "2022-08-11T07:15:25.727Z"
   },
   {
    "duration": 189,
    "start_time": "2022-08-11T07:15:25.899Z"
   },
   {
    "duration": 145,
    "start_time": "2022-08-11T07:15:26.100Z"
   },
   {
    "duration": 162,
    "start_time": "2022-08-11T07:15:26.247Z"
   },
   {
    "duration": 219,
    "start_time": "2022-08-11T07:15:26.411Z"
   },
   {
    "duration": 294,
    "start_time": "2022-08-11T07:15:26.633Z"
   },
   {
    "duration": 170,
    "start_time": "2022-08-11T07:15:26.929Z"
   },
   {
    "duration": 242,
    "start_time": "2022-08-11T07:15:27.101Z"
   },
   {
    "duration": 186,
    "start_time": "2022-08-11T07:15:27.345Z"
   },
   {
    "duration": 174,
    "start_time": "2022-08-11T07:15:27.533Z"
   },
   {
    "duration": 212,
    "start_time": "2022-08-11T07:15:27.709Z"
   },
   {
    "duration": 135,
    "start_time": "2022-08-11T07:15:27.922Z"
   },
   {
    "duration": 9,
    "start_time": "2022-08-11T07:15:28.058Z"
   },
   {
    "duration": 251,
    "start_time": "2022-08-11T07:15:28.069Z"
   },
   {
    "duration": 219,
    "start_time": "2022-08-11T07:15:28.322Z"
   },
   {
    "duration": 6,
    "start_time": "2022-08-11T07:15:28.544Z"
   },
   {
    "duration": 242,
    "start_time": "2022-08-11T07:15:28.552Z"
   },
   {
    "duration": 6,
    "start_time": "2022-08-11T07:15:28.803Z"
   },
   {
    "duration": 212,
    "start_time": "2022-08-11T07:15:28.810Z"
   },
   {
    "duration": 5,
    "start_time": "2022-08-11T07:15:29.025Z"
   },
   {
    "duration": 174,
    "start_time": "2022-08-11T07:15:29.032Z"
   },
   {
    "duration": 5,
    "start_time": "2022-08-11T07:15:29.208Z"
   },
   {
    "duration": 213,
    "start_time": "2022-08-11T07:15:29.215Z"
   },
   {
    "duration": 184,
    "start_time": "2022-08-11T07:15:29.430Z"
   },
   {
    "duration": 190,
    "start_time": "2022-08-11T07:15:29.616Z"
   },
   {
    "duration": 142,
    "start_time": "2022-08-11T07:15:29.808Z"
   },
   {
    "duration": 25,
    "start_time": "2022-08-11T07:15:29.952Z"
   },
   {
    "duration": 16,
    "start_time": "2022-08-11T07:15:29.989Z"
   },
   {
    "duration": 26,
    "start_time": "2022-08-11T07:15:30.008Z"
   },
   {
    "duration": 48,
    "start_time": "2022-08-11T07:15:30.036Z"
   },
   {
    "duration": 151,
    "start_time": "2022-08-11T07:15:30.086Z"
   },
   {
    "duration": 9166,
    "start_time": "2022-08-11T07:15:30.239Z"
   },
   {
    "duration": 413,
    "start_time": "2022-08-11T07:15:39.407Z"
   }
  ],
  "kernelspec": {
   "display_name": "Python 3 (ipykernel)",
   "language": "python",
   "name": "python3"
  },
  "language_info": {
   "codemirror_mode": {
    "name": "ipython",
    "version": 3
   },
   "file_extension": ".py",
   "mimetype": "text/x-python",
   "name": "python",
   "nbconvert_exporter": "python",
   "pygments_lexer": "ipython3",
   "version": "3.9.7"
  },
  "toc": {
   "base_numbering": 1,
   "nav_menu": {},
   "number_sections": true,
   "sideBar": true,
   "skip_h1_title": true,
   "title_cell": "Table of Contents",
   "title_sidebar": "Contents",
   "toc_cell": false,
   "toc_position": {
    "height": "478px",
    "left": "301px",
    "top": "111.136px",
    "width": "165px"
   },
   "toc_section_display": true,
   "toc_window_display": true
  }
 },
 "nbformat": 4,
 "nbformat_minor": 2
}
